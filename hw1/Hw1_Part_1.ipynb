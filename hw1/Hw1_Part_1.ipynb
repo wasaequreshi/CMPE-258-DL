{
  "nbformat": 4,
  "nbformat_minor": 0,
  "metadata": {
    "colab": {
      "name": "Hw1_Part_1.ipynb",
      "provenance": [],
      "collapsed_sections": []
    },
    "kernelspec": {
      "name": "python3",
      "display_name": "Python 3"
    },
    "accelerator": "GPU",
    "widgets": {
      "application/vnd.jupyter.widget-state+json": {
        "e3508a5f46ec400f92b4632afe43f7a6": {
          "model_module": "@jupyter-widgets/controls",
          "model_name": "FileUploadModel",
          "state": {
            "_view_name": "FileUploadView",
            "_counter": 2,
            "style": "IPY_MODEL_30a9b152417141a0b3fca5f48601d75a",
            "_dom_classes": [],
            "description": "Upload",
            "multiple": false,
            "_model_name": "FileUploadModel",
            "data": [
              null
            ],
            "button_style": "",
            "_view_module": "@jupyter-widgets/controls",
            "_model_module_version": "1.5.0",
            "accept": "",
            "_view_count": null,
            "disabled": false,
            "_view_module_version": "1.5.0",
            "error": "",
            "description_tooltip": null,
            "metadata": [
              {
                "name": "dog-puppy-on-garden-royalty-free-image-1586966191.jpg",
                "type": "image/jpeg",
                "size": 80864,
                "lastModified": 1612488430503
              }
            ],
            "_model_module": "@jupyter-widgets/controls",
            "layout": "IPY_MODEL_ac326fc8b798477ab8802acecbd082a4",
            "icon": "upload"
          }
        },
        "30a9b152417141a0b3fca5f48601d75a": {
          "model_module": "@jupyter-widgets/controls",
          "model_name": "ButtonStyleModel",
          "state": {
            "_view_name": "StyleView",
            "_model_name": "ButtonStyleModel",
            "_view_module": "@jupyter-widgets/base",
            "_model_module_version": "1.5.0",
            "_view_count": null,
            "button_color": null,
            "font_weight": "",
            "_view_module_version": "1.2.0",
            "_model_module": "@jupyter-widgets/controls"
          }
        },
        "ac326fc8b798477ab8802acecbd082a4": {
          "model_module": "@jupyter-widgets/base",
          "model_name": "LayoutModel",
          "state": {
            "_view_name": "LayoutView",
            "grid_template_rows": null,
            "right": null,
            "justify_content": null,
            "_view_module": "@jupyter-widgets/base",
            "overflow": null,
            "_model_module_version": "1.2.0",
            "_view_count": null,
            "flex_flow": null,
            "width": null,
            "min_width": null,
            "border": null,
            "align_items": null,
            "bottom": null,
            "_model_module": "@jupyter-widgets/base",
            "top": null,
            "grid_column": null,
            "overflow_y": null,
            "overflow_x": null,
            "grid_auto_flow": null,
            "grid_area": null,
            "grid_template_columns": null,
            "flex": null,
            "_model_name": "LayoutModel",
            "justify_items": null,
            "grid_row": null,
            "max_height": null,
            "align_content": null,
            "visibility": null,
            "align_self": null,
            "height": null,
            "min_height": null,
            "padding": null,
            "grid_auto_rows": null,
            "grid_gap": null,
            "max_width": null,
            "order": null,
            "_view_module_version": "1.2.0",
            "grid_template_areas": null,
            "object_position": null,
            "object_fit": null,
            "grid_auto_columns": null,
            "margin": null,
            "display": null,
            "left": null
          }
        },
        "0911707136314751b519190b9dc1a425": {
          "model_module": "@jupyter-widgets/controls",
          "model_name": "FileUploadModel",
          "state": {
            "_view_name": "FileUploadView",
            "_counter": 1,
            "style": "IPY_MODEL_17505bec04524074ae8166fb48cabec4",
            "_dom_classes": [],
            "description": "Upload",
            "multiple": false,
            "_model_name": "FileUploadModel",
            "data": [
              null
            ],
            "button_style": "",
            "_view_module": "@jupyter-widgets/controls",
            "_model_module_version": "1.5.0",
            "accept": "",
            "_view_count": null,
            "disabled": false,
            "_view_module_version": "1.5.0",
            "error": "",
            "description_tooltip": null,
            "metadata": [
              {
                "name": "dog-puppy-on-garden-royalty-free-image-1586966191.jpg",
                "type": "image/jpeg",
                "size": 80864,
                "lastModified": 1612488430503
              }
            ],
            "_model_module": "@jupyter-widgets/controls",
            "layout": "IPY_MODEL_4429691b63a346fb890d8d050f0d4478",
            "icon": "upload"
          }
        },
        "17505bec04524074ae8166fb48cabec4": {
          "model_module": "@jupyter-widgets/controls",
          "model_name": "ButtonStyleModel",
          "state": {
            "_view_name": "StyleView",
            "_model_name": "ButtonStyleModel",
            "_view_module": "@jupyter-widgets/base",
            "_model_module_version": "1.5.0",
            "_view_count": null,
            "button_color": null,
            "font_weight": "",
            "_view_module_version": "1.2.0",
            "_model_module": "@jupyter-widgets/controls"
          }
        },
        "4429691b63a346fb890d8d050f0d4478": {
          "model_module": "@jupyter-widgets/base",
          "model_name": "LayoutModel",
          "state": {
            "_view_name": "LayoutView",
            "grid_template_rows": null,
            "right": null,
            "justify_content": null,
            "_view_module": "@jupyter-widgets/base",
            "overflow": null,
            "_model_module_version": "1.2.0",
            "_view_count": null,
            "flex_flow": null,
            "width": null,
            "min_width": null,
            "border": null,
            "align_items": null,
            "bottom": null,
            "_model_module": "@jupyter-widgets/base",
            "top": null,
            "grid_column": null,
            "overflow_y": null,
            "overflow_x": null,
            "grid_auto_flow": null,
            "grid_area": null,
            "grid_template_columns": null,
            "flex": null,
            "_model_name": "LayoutModel",
            "justify_items": null,
            "grid_row": null,
            "max_height": null,
            "align_content": null,
            "visibility": null,
            "align_self": null,
            "height": null,
            "min_height": null,
            "padding": null,
            "grid_auto_rows": null,
            "grid_gap": null,
            "max_width": null,
            "order": null,
            "_view_module_version": "1.2.0",
            "grid_template_areas": null,
            "object_position": null,
            "object_fit": null,
            "grid_auto_columns": null,
            "margin": null,
            "display": null,
            "left": null
          }
        }
      }
    }
  },
  "cells": [
    {
      "cell_type": "markdown",
      "metadata": {
        "id": "hMGmgkHqzGZk"
      },
      "source": [
        "# Installing fastbook"
      ]
    },
    {
      "cell_type": "code",
      "metadata": {
        "id": "39bvT-Yeyr_f",
        "colab": {
          "base_uri": "https://localhost:8080/"
        },
        "outputId": "56f0448d-4feb-4f8d-d009-2b25752d9bdf"
      },
      "source": [
        "!pip install -Uqq fastbook\n",
        "import fastbook\n",
        "fastbook.setup_book()"
      ],
      "execution_count": null,
      "outputs": [
        {
          "output_type": "stream",
          "text": [
            "\u001b[K     |████████████████████████████████| 727kB 19.0MB/s \n",
            "\u001b[K     |████████████████████████████████| 194kB 51.2MB/s \n",
            "\u001b[K     |████████████████████████████████| 51kB 8.6MB/s \n",
            "\u001b[K     |████████████████████████████████| 1.2MB 56.0MB/s \n",
            "\u001b[K     |████████████████████████████████| 61kB 9.4MB/s \n",
            "\u001b[?25hMounted at /content/gdrive\n"
          ],
          "name": "stdout"
        }
      ]
    },
    {
      "cell_type": "markdown",
      "metadata": {
        "id": "r0kcqPE8k4Cb"
      },
      "source": [
        "#Introductory Notes\n",
        "\n",
        "\n",
        "Deep learning has been used to solve many problems such as\n",
        "* Natural Language Processing (NLP). This is particularly used in speech recognition (converting speech to text), summerizing documents (curious how this is done), classifying documents, etc.\n",
        "* Computer Vision. This is good for detecting recognizing text in images, face recognition, autonomous driving etc.\n",
        "* Medicine. Finding anomolies in radiology images. \n",
        "* Biology. Protien work that has traditionally been difficult to do (AlphaFold)\n",
        "* Image generation. Colorizing black and white photos, removing noise. I recently saw a generator of human faces that were not actual people. \n",
        "* Recommendation systems. Product recommendations based on what you like\n",
        "* Playing games. In the realm of reinforcement learning I suppose with no human intervention.\n",
        "* Robotics. Think Boston Dynamics\n",
        "* Much more\n",
        "\n",
        "Essentially this idea has been floating around since the 1940's. Essentially trying to mimic a real neutron. However back in the day, due to limited computing resources and data, it wasn't possible. This changed as we advanced in computing.\n",
        "\n",
        "The two authors gave some information about themselves an how to learn deep learning. Reviewed some of the tools for the fastai book such as PyTorch and Jupyter. I will be using Google Collab since they provide a GPU for free to run the models."
      ]
    },
    {
      "cell_type": "markdown",
      "metadata": {
        "id": "ORoqJX8xJs9T"
      },
      "source": [
        "# Image Classification"
      ]
    },
    {
      "cell_type": "code",
      "metadata": {
        "colab": {
          "base_uri": "https://localhost:8080/",
          "height": 210
        },
        "id": "PIVpjsefJvR_",
        "outputId": "32eaa584-44bd-4add-e869-8ac09cf221f7"
      },
      "source": [
        "\n",
        "# Imports computer vision models\n",
        "from fastai.vision.all import *\n",
        "# This is an Oxford dataset of cats and dogs, 37 different breeds\n",
        "print(\"Downloading images\")\n",
        "path = untar_data(URLs.PETS)/'images'\n",
        "\n",
        "# Method for identifying if image is a dog\n",
        "def is_dog(x): return x[0].islower()\n",
        "\n",
        "print(\"Loading images\")\n",
        "# Dataloader for images, similar to how pandas/arrays are used to load in csv files/data\n",
        "# Used to describe the dataset to fastai\n",
        "dls = ImageDataLoaders.from_name_func(\n",
        "    path, get_image_files(path), valid_pct=0.2, seed=42,\n",
        "    label_func=is_dog, item_tfms=Resize(224))\n",
        "# item_tfms is essentially applying a transformer to the data while training. In this case resizing the images.\n",
        "# valid_pct tells the model to hold out 20% of the data and not use it for training\n",
        "# seed is good to ensure that the same validation dataset is chosen. This will ensure that if changes are made to the model, the result is due to these changes and not in the data \n",
        "# passed in\n",
        "\n",
        "# Creates a Convolutional Neural Network\n",
        "# resenet is one of the many architectures or model of a CNN to use\n",
        "# error_rate will tell you how many it classifies incorrectly\n",
        "print(\"Creating CNN Learner\")\n",
        "learn = cnn_learner(dls, resnet34, metrics=error_rate)\n",
        "\n",
        "# Fitting the model\n",
        "# Fine tune used since this is a pre trained model\n",
        "print(\"Fine tuning\")\n",
        "learn.fine_tune(1)"
      ],
      "execution_count": null,
      "outputs": [
        {
          "output_type": "stream",
          "text": [
            "Downloading images\n",
            "Loading images\n",
            "Creating CNN Learner\n",
            "Fine tuning\n"
          ],
          "name": "stdout"
        },
        {
          "output_type": "display_data",
          "data": {
            "text/html": [
              "<table border=\"1\" class=\"dataframe\">\n",
              "  <thead>\n",
              "    <tr style=\"text-align: left;\">\n",
              "      <th>epoch</th>\n",
              "      <th>train_loss</th>\n",
              "      <th>valid_loss</th>\n",
              "      <th>error_rate</th>\n",
              "      <th>time</th>\n",
              "    </tr>\n",
              "  </thead>\n",
              "  <tbody>\n",
              "    <tr>\n",
              "      <td>0</td>\n",
              "      <td>0.132949</td>\n",
              "      <td>0.025500</td>\n",
              "      <td>0.006089</td>\n",
              "      <td>00:50</td>\n",
              "    </tr>\n",
              "  </tbody>\n",
              "</table>"
            ],
            "text/plain": [
              "<IPython.core.display.HTML object>"
            ]
          },
          "metadata": {
            "tags": []
          }
        },
        {
          "output_type": "display_data",
          "data": {
            "text/html": [
              "<table border=\"1\" class=\"dataframe\">\n",
              "  <thead>\n",
              "    <tr style=\"text-align: left;\">\n",
              "      <th>epoch</th>\n",
              "      <th>train_loss</th>\n",
              "      <th>valid_loss</th>\n",
              "      <th>error_rate</th>\n",
              "      <th>time</th>\n",
              "    </tr>\n",
              "  </thead>\n",
              "  <tbody>\n",
              "    <tr>\n",
              "      <td>0</td>\n",
              "      <td>0.052985</td>\n",
              "      <td>0.010604</td>\n",
              "      <td>0.004736</td>\n",
              "      <td>00:57</td>\n",
              "    </tr>\n",
              "  </tbody>\n",
              "</table>"
            ],
            "text/plain": [
              "<IPython.core.display.HTML object>"
            ]
          },
          "metadata": {
            "tags": []
          }
        }
      ]
    },
    {
      "cell_type": "markdown",
      "metadata": {
        "id": "Eheerl4vwmA8"
      },
      "source": [
        "Error rate is super low, telling us that it is a good model at telling you if it is a picture of a cat or not."
      ]
    },
    {
      "cell_type": "code",
      "metadata": {
        "colab": {
          "base_uri": "https://localhost:8080/",
          "height": 48,
          "referenced_widgets": [
            "e3508a5f46ec400f92b4632afe43f7a6",
            "30a9b152417141a0b3fca5f48601d75a",
            "ac326fc8b798477ab8802acecbd082a4"
          ]
        },
        "id": "3TBzosunxh-l",
        "outputId": "744e7fa0-220f-444e-8794-efafdc711f51"
      },
      "source": [
        "# Testing with my own image:\n",
        "import ipywidgets as widgets\n",
        "#hide_output\n",
        "uploader = widgets.FileUpload()\n",
        "uploader\n",
        "\n",
        "#hide \n",
        "# For the book, we can't actually click an upload button, so we fake it (Only added if needed later for submission)\n",
        "# uploader = SimpleNamespace(data = ['images/chapter1_cat_example.jpg'])"
      ],
      "execution_count": null,
      "outputs": [
        {
          "output_type": "display_data",
          "data": {
            "application/vnd.jupyter.widget-view+json": {
              "model_id": "e3508a5f46ec400f92b4632afe43f7a6",
              "version_minor": 0,
              "version_major": 2
            },
            "text/plain": [
              "FileUpload(value={}, description='Upload')"
            ]
          },
          "metadata": {
            "tags": []
          }
        }
      ]
    },
    {
      "cell_type": "code",
      "metadata": {
        "colab": {
          "base_uri": "https://localhost:8080/",
          "height": 52
        },
        "id": "qFfjRSpKxvZm",
        "outputId": "9d4c1871-2ae0-4383-9f20-a1fa3bff1b8a"
      },
      "source": [
        "img = PILImage.create(uploader.data[0])\n",
        "is_dog,_,probs = learn.predict(img)\n",
        "print(f\"Is this a dog?: {is_dog}.\")\n",
        "print(f\"Probability it's a dog: {probs[1].item():.6f}\")"
      ],
      "execution_count": null,
      "outputs": [
        {
          "output_type": "display_data",
          "data": {
            "text/html": [
              ""
            ],
            "text/plain": [
              "<IPython.core.display.HTML object>"
            ]
          },
          "metadata": {
            "tags": []
          }
        },
        {
          "output_type": "stream",
          "text": [
            "Is this a dog?: True.\n",
            "Probability it's a dog: 0.999947\n"
          ],
          "name": "stdout"
        }
      ]
    },
    {
      "cell_type": "markdown",
      "metadata": {
        "id": "vBrcj3KwzjYY"
      },
      "source": [
        "# What is Machine Learning"
      ]
    },
    {
      "cell_type": "markdown",
      "metadata": {
        "id": "USvQ_8ZyzpEF"
      },
      "source": [
        "Instead of telling the program step by step on how to do a certain task, we allow the program to learn itself. \n",
        "\n",
        "Now you pass weights and inputs together. Weights will help the program figure out how important a certain feature is in order to solve the problem at hand.\n",
        "\n",
        "The actual performance is measured by seeing how accurate the program is at solving the problem. You can also set two models against each other to figure this out as well.\n",
        "\n",
        "Weights automatically adjusted. No need for any intervention."
      ]
    },
    {
      "cell_type": "markdown",
      "metadata": {
        "id": "QIWG34MMQIIs"
      },
      "source": [
        "What is NN?"
      ]
    },
    {
      "cell_type": "markdown",
      "metadata": {
        "id": "Wiog3nMaQIUS"
      },
      "source": [
        "Sometimes creating the model isn't straightforward. For example in image recognition.\n",
        "\n",
        "NN is essentially a function that can solve any problems just by varying the weights. \n",
        "\n",
        "In addition to creating a model, it can test with varying weights to find the best model and weights to solve a problem.\n",
        "\n",
        "Stochastic Gradient Descent used to find best weights \n",
        "\n",
        "Other notes: \n",
        "\n",
        "Each layer is a building block for the program to understand the task at hand. The higher the layer, the bigger the picture it can see.\n",
        "\n",
        "Wow so you can convert anything into an image and feed it to NN to figure out the best model to solve the problem. The sound -> image was very cool.\n",
        "\n",
        "Keeping this for later:\n",
        "asciidoc\n",
        "\n",
        "\n",
        "|Label | The data that we're trying to predict, such as \"dog\" or \"cat\"\n",
        "\n",
        "|Architecture | The _template_ of the model that we're trying to fit; the actual mathematical function that we're passing the input data and parameters to\n",
        "\n",
        "|Model | The combination of the architecture with a particular set of parameters\n",
        "\n",
        "|Parameters | The values in the model that change what task it can do, and are updated through model training\n",
        "\n",
        "|Fit | Update the parameters of the model such that the predictions of the model using the input data match the target labels\n",
        "\n",
        "|Train | A synonym for _fit_\n",
        "\n",
        "|Pretrained model | A model that has already been trained, generally using a \n",
        "large dataset, and will be fine-tuned\n",
        "\n",
        "|Fine-tune | Update a pretrained model for a different task\n",
        "\n",
        "|Epoch | One complete pass through the input data\n",
        "\n",
        "|Loss | A measure of how good the model is, chosen to drive training via SGD\n",
        "\n",
        "|Metric | A measurement of how good the model is, using the validation set, chosen for human consumption\n",
        "\n",
        "|Validation set | A set of data held out from training, used only for measuring how good the model is\n",
        "\n",
        "|Training set | The data used for fitting the model; does not include any data from the validation set\n",
        "\n",
        "|Overfitting | Training a model in such a way that it _remembers_ specific features of the input data, rather than generalizing well to data not seen during training\n",
        "\n",
        "|CNN | Convolutional neural network; a type of neural network that works particularly well for computer vision tasks\n"
      ]
    },
    {
      "cell_type": "markdown",
      "metadata": {
        "id": "jlWxVnHBoiqQ"
      },
      "source": [
        "# Segmentation\n",
        "\n",
        "Here we will try to do segmentation detect particular items in an image. Particular objects will be color coded the same."
      ]
    },
    {
      "cell_type": "code",
      "metadata": {
        "colab": {
          "base_uri": "https://localhost:8080/",
          "height": 348
        },
        "id": "eFbv5KXtpxSf",
        "outputId": "b4b37e6d-8ffc-4c17-a074-c4fc621790bd"
      },
      "source": [
        "# Similar to before, the dataset\n",
        "path = untar_data(URLs.CAMVID_TINY)\n",
        "\n",
        "#This time picking the segmentation to describe the dataset\n",
        "dls = SegmentationDataLoaders.from_label_func(\n",
        "    path, bs=8, fnames = get_image_files(path/\"images\"),\n",
        "    label_func = lambda o: path/'labels'/f'{o.stem}_P{o.suffix}',\n",
        "    codes = np.loadtxt(path/'codes.txt', dtype=str)\n",
        ")\n",
        "\n",
        "# This must be the type of model we need, resnet34 is the architecture we will use (34 layers)\n",
        "learn = unet_learner(dls, resnet34)\n",
        "\n",
        "#Training (Fitting) the data on our dataset on the pre-trained model\n",
        "learn.fine_tune(8)"
      ],
      "execution_count": null,
      "outputs": [
        {
          "output_type": "display_data",
          "data": {
            "text/html": [
              "<table border=\"1\" class=\"dataframe\">\n",
              "  <thead>\n",
              "    <tr style=\"text-align: left;\">\n",
              "      <th>epoch</th>\n",
              "      <th>train_loss</th>\n",
              "      <th>valid_loss</th>\n",
              "      <th>time</th>\n",
              "    </tr>\n",
              "  </thead>\n",
              "  <tbody>\n",
              "    <tr>\n",
              "      <td>0</td>\n",
              "      <td>3.068245</td>\n",
              "      <td>2.349619</td>\n",
              "      <td>00:01</td>\n",
              "    </tr>\n",
              "  </tbody>\n",
              "</table>"
            ],
            "text/plain": [
              "<IPython.core.display.HTML object>"
            ]
          },
          "metadata": {
            "tags": []
          }
        },
        {
          "output_type": "display_data",
          "data": {
            "text/html": [
              "<table border=\"1\" class=\"dataframe\">\n",
              "  <thead>\n",
              "    <tr style=\"text-align: left;\">\n",
              "      <th>epoch</th>\n",
              "      <th>train_loss</th>\n",
              "      <th>valid_loss</th>\n",
              "      <th>time</th>\n",
              "    </tr>\n",
              "  </thead>\n",
              "  <tbody>\n",
              "    <tr>\n",
              "      <td>0</td>\n",
              "      <td>1.895169</td>\n",
              "      <td>1.611429</td>\n",
              "      <td>00:01</td>\n",
              "    </tr>\n",
              "    <tr>\n",
              "      <td>1</td>\n",
              "      <td>1.650338</td>\n",
              "      <td>1.262958</td>\n",
              "      <td>00:01</td>\n",
              "    </tr>\n",
              "    <tr>\n",
              "      <td>2</td>\n",
              "      <td>1.538637</td>\n",
              "      <td>1.138407</td>\n",
              "      <td>00:01</td>\n",
              "    </tr>\n",
              "    <tr>\n",
              "      <td>3</td>\n",
              "      <td>1.383793</td>\n",
              "      <td>0.912954</td>\n",
              "      <td>00:01</td>\n",
              "    </tr>\n",
              "    <tr>\n",
              "      <td>4</td>\n",
              "      <td>1.233523</td>\n",
              "      <td>0.851478</td>\n",
              "      <td>00:01</td>\n",
              "    </tr>\n",
              "    <tr>\n",
              "      <td>5</td>\n",
              "      <td>1.108955</td>\n",
              "      <td>0.751607</td>\n",
              "      <td>00:01</td>\n",
              "    </tr>\n",
              "    <tr>\n",
              "      <td>6</td>\n",
              "      <td>1.009763</td>\n",
              "      <td>0.706963</td>\n",
              "      <td>00:01</td>\n",
              "    </tr>\n",
              "    <tr>\n",
              "      <td>7</td>\n",
              "      <td>0.932459</td>\n",
              "      <td>0.703386</td>\n",
              "      <td>00:01</td>\n",
              "    </tr>\n",
              "  </tbody>\n",
              "</table>"
            ],
            "text/plain": [
              "<IPython.core.display.HTML object>"
            ]
          },
          "metadata": {
            "tags": []
          }
        }
      ]
    },
    {
      "cell_type": "code",
      "metadata": {
        "colab": {
          "base_uri": "https://localhost:8080/",
          "height": 491
        },
        "id": "uOai9CXGrpKg",
        "outputId": "e66bd462-c27f-4f04-8cdb-4c32700b259a"
      },
      "source": [
        "# This is actually really cool...\n",
        "learn.show_results(max_n=6, figsize=(7,8))"
      ],
      "execution_count": null,
      "outputs": [
        {
          "output_type": "display_data",
          "data": {
            "text/html": [
              ""
            ],
            "text/plain": [
              "<IPython.core.display.HTML object>"
            ]
          },
          "metadata": {
            "tags": []
          }
        },
        {
          "output_type": "display_data",
          "data": {
            "image/png": "[encoded data removed]",
            "text/plain": [
              "<Figure size 504x576 with 4 Axes>"
            ]
          },
          "metadata": {
            "tags": [],
            "needs_background": "light"
          }
        }
      ]
    },
    {
      "cell_type": "code",
      "metadata": {
        "colab": {
          "base_uri": "https://localhost:8080/",
          "height": 48,
          "referenced_widgets": [
            "0911707136314751b519190b9dc1a425",
            "17505bec04524074ae8166fb48cabec4",
            "4429691b63a346fb890d8d050f0d4478"
          ]
        },
        "id": "z5HgBztw7oxJ",
        "outputId": "9eaa5ecf-cd16-45e0-95c2-ddfc5b9f23ff"
      },
      "source": [
        "# Testing with my own image:\n",
        "import ipywidgets as widgets\n",
        "#hide_output\n",
        "uploader = widgets.FileUpload()\n",
        "uploader\n"
      ],
      "execution_count": null,
      "outputs": [
        {
          "output_type": "display_data",
          "data": {
            "application/vnd.jupyter.widget-view+json": {
              "model_id": "0911707136314751b519190b9dc1a425",
              "version_minor": 0,
              "version_major": 2
            },
            "text/plain": [
              "FileUpload(value={}, description='Upload')"
            ]
          },
          "metadata": {
            "tags": []
          }
        }
      ]
    },
    {
      "cell_type": "code",
      "metadata": {
        "colab": {
          "base_uri": "https://localhost:8080/",
          "height": 272
        },
        "id": "rG3fkDmh70M9",
        "outputId": "4cee3757-08f0-4c13-b9a4-c004e5a5bd7e"
      },
      "source": [
        "#hide \n",
        "# For the book, we can't actually click an upload button, so we fake it (Only added if needed later for submission)\n",
        "# uploader = SimpleNamespace(data = ['images/chapter1_cat_example.jpg'])\n",
        "# This is on the puppy picture i picked earlier\n",
        "img = PILImage.create(uploader.data[0])\n",
        "prediction = learn.predict(img)\n",
        "prediction[0].show(figsize=(8,8))"
      ],
      "execution_count": null,
      "outputs": [
        {
          "output_type": "display_data",
          "data": {
            "text/html": [
              ""
            ],
            "text/plain": [
              "<IPython.core.display.HTML object>"
            ]
          },
          "metadata": {
            "tags": []
          }
        },
        {
          "output_type": "execute_result",
          "data": {
            "text/plain": [
              "<matplotlib.axes._subplots.AxesSubplot at 0x7fb2a11a2c50>"
            ]
          },
          "metadata": {
            "tags": []
          },
          "execution_count": 23
        },
        {
          "output_type": "display_data",
          "data": {
            "image/png": "[encoded data removed]",
            "text/plain": [
              "<Figure size 576x576 with 1 Axes>"
            ]
          },
          "metadata": {
            "tags": [],
            "needs_background": "light"
          }
        }
      ]
    },
    {
      "cell_type": "markdown",
      "metadata": {
        "id": "-4ws-WARr-pm"
      },
      "source": [
        "# Sentiment Analysis\n",
        "\n",
        "With Deep Learning we can now generate text, label words, analyze text, translate text. \n",
        "\n",
        "The following is for seeing the sentiment of a movie review (Apparently this is better than what we had before)"
      ]
    },
    {
      "cell_type": "code",
      "metadata": {
        "colab": {
          "base_uri": "https://localhost:8080/",
          "height": 228
        },
        "id": "WBFEaPIksBjd",
        "outputId": "711e25b6-8d00-4b23-e456-36b5bf151466"
      },
      "source": [
        "# from fastai.text.all import *\n",
        "\n",
        "# dls = TextDataLoaders.from_folder(untar_data(URLs.IMDB), valid='test')\n",
        "# learn = text_classifier_learner(dls, AWD_LSTM, drop_mult=0.5, metrics=accuracy)\n",
        "# learn.fine_tune(4, 1e-2)\n",
        "\n",
        "# In case the above fails, run this:\n",
        "from fastai.text.all import *\n",
        "\n",
        "dls = TextDataLoaders.from_folder(untar_data(URLs.IMDB), valid='test', bs=32)\n",
        "learn = text_classifier_learner(dls, AWD_LSTM, drop_mult=0.5, metrics=accuracy)\n",
        "learn.fine_tune(4, 1e-2)"
      ],
      "execution_count": null,
      "outputs": [
        {
          "output_type": "display_data",
          "data": {
            "text/html": [
              "<table border=\"1\" class=\"dataframe\">\n",
              "  <thead>\n",
              "    <tr style=\"text-align: left;\">\n",
              "      <th>epoch</th>\n",
              "      <th>train_loss</th>\n",
              "      <th>valid_loss</th>\n",
              "      <th>accuracy</th>\n",
              "      <th>time</th>\n",
              "    </tr>\n",
              "  </thead>\n",
              "  <tbody>\n",
              "    <tr>\n",
              "      <td>0</td>\n",
              "      <td>0.476043</td>\n",
              "      <td>0.419202</td>\n",
              "      <td>0.812000</td>\n",
              "      <td>04:29</td>\n",
              "    </tr>\n",
              "  </tbody>\n",
              "</table>"
            ],
            "text/plain": [
              "<IPython.core.display.HTML object>"
            ]
          },
          "metadata": {
            "tags": []
          }
        },
        {
          "output_type": "display_data",
          "data": {
            "text/html": [
              "<table border=\"1\" class=\"dataframe\">\n",
              "  <thead>\n",
              "    <tr style=\"text-align: left;\">\n",
              "      <th>epoch</th>\n",
              "      <th>train_loss</th>\n",
              "      <th>valid_loss</th>\n",
              "      <th>accuracy</th>\n",
              "      <th>time</th>\n",
              "    </tr>\n",
              "  </thead>\n",
              "  <tbody>\n",
              "    <tr>\n",
              "      <td>0</td>\n",
              "      <td>0.303962</td>\n",
              "      <td>0.271438</td>\n",
              "      <td>0.889240</td>\n",
              "      <td>08:44</td>\n",
              "    </tr>\n",
              "    <tr>\n",
              "      <td>1</td>\n",
              "      <td>0.253532</td>\n",
              "      <td>0.247790</td>\n",
              "      <td>0.896120</td>\n",
              "      <td>08:44</td>\n",
              "    </tr>\n",
              "    <tr>\n",
              "      <td>2</td>\n",
              "      <td>0.189699</td>\n",
              "      <td>0.184464</td>\n",
              "      <td>0.928480</td>\n",
              "      <td>08:43</td>\n",
              "    </tr>\n",
              "    <tr>\n",
              "      <td>3</td>\n",
              "      <td>0.135308</td>\n",
              "      <td>0.191668</td>\n",
              "      <td>0.929800</td>\n",
              "      <td>08:44</td>\n",
              "    </tr>\n",
              "  </tbody>\n",
              "</table>"
            ],
            "text/plain": [
              "<IPython.core.display.HTML object>"
            ]
          },
          "metadata": {
            "tags": []
          }
        }
      ]
    },
    {
      "cell_type": "code",
      "metadata": {
        "colab": {
          "base_uri": "https://localhost:8080/",
          "height": 34
        },
        "id": "QmXRilZnt7wT",
        "outputId": "962baac9-7410-4150-bc39-87362f05c027"
      },
      "source": [
        "learn.predict(\"The plot was exposed very early in the movie. But overall it was alright.\")\n"
      ],
      "execution_count": null,
      "outputs": [
        {
          "output_type": "display_data",
          "data": {
            "text/html": [
              ""
            ],
            "text/plain": [
              "<IPython.core.display.HTML object>"
            ]
          },
          "metadata": {
            "tags": []
          }
        },
        {
          "output_type": "execute_result",
          "data": {
            "text/plain": [
              "('pos', tensor(1), tensor([0.0025, 0.9975]))"
            ]
          },
          "metadata": {
            "tags": []
          },
          "execution_count": 10
        }
      ]
    },
    {
      "cell_type": "code",
      "metadata": {
        "colab": {
          "base_uri": "https://localhost:8080/",
          "height": 145
        },
        "id": "MMymTX5SvQc-",
        "outputId": "fa27d6df-3a8b-479e-85dc-4920adeca757"
      },
      "source": [
        "# If you want to see documentation of a method\n",
        "doc(learn.predict)"
      ],
      "execution_count": null,
      "outputs": [
        {
          "output_type": "display_data",
          "data": {
            "text/html": [
              "<h4 id=\"Learner.predict\" class=\"doc_header\"><code>Learner.predict</code><a href=\"https://github.com/fastai/fastai/tree/master/fastai/learner.py#L254\" class=\"source_link\" style=\"float:right\">[source]</a></h4><blockquote><p><code>Learner.predict</code>(<strong><code>item</code></strong>, <strong><code>rm_type_tfms</code></strong>=<em><code>None</code></em>, <strong><code>with_input</code></strong>=<em><code>False</code></em>)</p>\n",
              "</blockquote>\n",
              "<p>Prediction on <code>item</code>, fully decoded, loss function decoded and probabilities</p>\n",
              "<p><a href=\"https://docs.fast.ai/learner#Learner.predict\" target=\"_blank\" rel=\"noreferrer noopener\">Show in docs</a></p>\n"
            ],
            "text/plain": [
              "<IPython.core.display.HTML object>"
            ]
          },
          "metadata": {
            "tags": []
          }
        }
      ]
    },
    {
      "cell_type": "markdown",
      "metadata": {
        "id": "sGjT4h4Hvz4y"
      },
      "source": [
        "# Tabular Learning\n",
        "\n",
        "This will be predicting if the person is a high earner based on background"
      ]
    },
    {
      "cell_type": "code",
      "metadata": {
        "id": "FmQi1S0XwAge"
      },
      "source": [
        "from fastai.tabular.all import *\n",
        "path = untar_data(URLs.ADULT_SAMPLE)\n",
        "\n",
        "dls = TabularDataLoaders.from_csv(path/'adult.csv', path=path, y_names=\"salary\",\n",
        "    cat_names = ['workclass', 'education', 'marital-status', 'occupation',\n",
        "                 'relationship', 'race'],\n",
        "    cont_names = ['age', 'fnlwgt', 'education-num'],\n",
        "    procs = [Categorify, FillMissing, Normalize])\n",
        "\n",
        "learn = tabular_learner(dls, metrics=accuracy)"
      ],
      "execution_count": null,
      "outputs": []
    },
    {
      "cell_type": "markdown",
      "metadata": {
        "id": "9oxQlNcTxMIA"
      },
      "source": [
        "This uses a hybrid of models (naive bayes and decision tree)\n",
        "\n",
        "This is so cool. Essentially in ML we could have just used this to create a accurate models for some of the basic questions. \n",
        "\n",
        "Question would be, why use ML when we can just DL?"
      ]
    },
    {
      "cell_type": "code",
      "metadata": {
        "colab": {
          "base_uri": "https://localhost:8080/",
          "height": 141
        },
        "id": "fXOnjYfY-Fxf",
        "outputId": "8004afc3-16bf-4725-f2b3-1bb4fb60de8b"
      },
      "source": [
        "import pandas as pd \n",
        "# initialize list of lists \n",
        "data = [['private', 'Assoc-acdm', 'Married-civ-spouse','#na#','wife', 'white', 49.0, 101320.001685, 12.0]] \n",
        "  \n",
        "# Create the pandas DataFrame \n",
        "df = pd.DataFrame(data, columns = ['workclass', 'education', 'marital-status', 'occupation', 'relationship', 'race', 'age','fnlwgt','education-num']) \n",
        "learn.predict(df.iloc[0]) # returns row, class, probability"
      ],
      "execution_count": null,
      "outputs": [
        {
          "output_type": "display_data",
          "data": {
            "text/html": [
              ""
            ],
            "text/plain": [
              "<IPython.core.display.HTML object>"
            ]
          },
          "metadata": {
            "tags": []
          }
        },
        {
          "output_type": "execute_result",
          "data": {
            "text/plain": [
              "(   workclass  education  marital-status  occupation  relationship  race  \\\n",
              " 0        0.0        8.0             3.0         0.0           0.0   0.0   \n",
              " \n",
              "    education-num_na       age    fnlwgt  education-num  salary  \n",
              " 0               1.0  0.765284 -0.834294       0.750814     0.0  ,\n",
              " tensor(0),\n",
              " tensor([0.5164, 0.4836]))"
            ]
          },
          "metadata": {
            "tags": []
          },
          "execution_count": 30
        }
      ]
    },
    {
      "cell_type": "markdown",
      "metadata": {
        "id": "trHuc5zqxXnA"
      },
      "source": [
        "# Ranking\n",
        "\n",
        "In this example we will recommend other products/movies a person might like."
      ]
    },
    {
      "cell_type": "code",
      "metadata": {
        "colab": {
          "base_uri": "https://localhost:8080/",
          "height": 408
        },
        "id": "z1AFUDd_1dUx",
        "outputId": "606f1df6-0405-4258-b7ec-97746bebb5a0"
      },
      "source": [
        "\n",
        "from fastai.collab import *\n",
        "path = untar_data(URLs.ML_SAMPLE)\n",
        "dls = CollabDataLoaders.from_csv(path/'ratings.csv')\n",
        "learn = collab_learner(dls, y_range=(0.5,5.5))\n",
        "learn.fine_tune(10)"
      ],
      "execution_count": null,
      "outputs": [
        {
          "output_type": "display_data",
          "data": {
            "text/html": [
              ""
            ],
            "text/plain": [
              "<IPython.core.display.HTML object>"
            ]
          },
          "metadata": {
            "tags": []
          }
        },
        {
          "output_type": "display_data",
          "data": {
            "text/html": [
              "<table border=\"1\" class=\"dataframe\">\n",
              "  <thead>\n",
              "    <tr style=\"text-align: left;\">\n",
              "      <th>epoch</th>\n",
              "      <th>train_loss</th>\n",
              "      <th>valid_loss</th>\n",
              "      <th>time</th>\n",
              "    </tr>\n",
              "  </thead>\n",
              "  <tbody>\n",
              "    <tr>\n",
              "      <td>0</td>\n",
              "      <td>1.517481</td>\n",
              "      <td>1.350460</td>\n",
              "      <td>00:00</td>\n",
              "    </tr>\n",
              "  </tbody>\n",
              "</table>"
            ],
            "text/plain": [
              "<IPython.core.display.HTML object>"
            ]
          },
          "metadata": {
            "tags": []
          }
        },
        {
          "output_type": "display_data",
          "data": {
            "text/html": [
              "<table border=\"1\" class=\"dataframe\">\n",
              "  <thead>\n",
              "    <tr style=\"text-align: left;\">\n",
              "      <th>epoch</th>\n",
              "      <th>train_loss</th>\n",
              "      <th>valid_loss</th>\n",
              "      <th>time</th>\n",
              "    </tr>\n",
              "  </thead>\n",
              "  <tbody>\n",
              "    <tr>\n",
              "      <td>0</td>\n",
              "      <td>1.373524</td>\n",
              "      <td>1.293540</td>\n",
              "      <td>00:00</td>\n",
              "    </tr>\n",
              "    <tr>\n",
              "      <td>1</td>\n",
              "      <td>1.265881</td>\n",
              "      <td>1.119738</td>\n",
              "      <td>00:00</td>\n",
              "    </tr>\n",
              "    <tr>\n",
              "      <td>2</td>\n",
              "      <td>1.012118</td>\n",
              "      <td>0.842350</td>\n",
              "      <td>00:00</td>\n",
              "    </tr>\n",
              "    <tr>\n",
              "      <td>3</td>\n",
              "      <td>0.795233</td>\n",
              "      <td>0.728702</td>\n",
              "      <td>00:00</td>\n",
              "    </tr>\n",
              "    <tr>\n",
              "      <td>4</td>\n",
              "      <td>0.685389</td>\n",
              "      <td>0.706379</td>\n",
              "      <td>00:00</td>\n",
              "    </tr>\n",
              "    <tr>\n",
              "      <td>5</td>\n",
              "      <td>0.643124</td>\n",
              "      <td>0.702567</td>\n",
              "      <td>00:00</td>\n",
              "    </tr>\n",
              "    <tr>\n",
              "      <td>6</td>\n",
              "      <td>0.618091</td>\n",
              "      <td>0.699107</td>\n",
              "      <td>00:00</td>\n",
              "    </tr>\n",
              "    <tr>\n",
              "      <td>7</td>\n",
              "      <td>0.614206</td>\n",
              "      <td>0.698171</td>\n",
              "      <td>00:00</td>\n",
              "    </tr>\n",
              "    <tr>\n",
              "      <td>8</td>\n",
              "      <td>0.612519</td>\n",
              "      <td>0.697549</td>\n",
              "      <td>00:00</td>\n",
              "    </tr>\n",
              "    <tr>\n",
              "      <td>9</td>\n",
              "      <td>0.603898</td>\n",
              "      <td>0.697471</td>\n",
              "      <td>00:00</td>\n",
              "    </tr>\n",
              "  </tbody>\n",
              "</table>"
            ],
            "text/plain": [
              "<IPython.core.display.HTML object>"
            ]
          },
          "metadata": {
            "tags": []
          }
        }
      ]
    },
    {
      "cell_type": "code",
      "metadata": {
        "colab": {
          "base_uri": "https://localhost:8080/",
          "height": 317
        },
        "id": "RraORuXG1fi3",
        "outputId": "0ba6baab-9afa-4f8f-a71f-79d1f599f220"
      },
      "source": [
        "learn.show_results()"
      ],
      "execution_count": null,
      "outputs": [
        {
          "output_type": "display_data",
          "data": {
            "text/html": [
              ""
            ],
            "text/plain": [
              "<IPython.core.display.HTML object>"
            ]
          },
          "metadata": {
            "tags": []
          }
        },
        {
          "output_type": "display_data",
          "data": {
            "text/html": [
              "<table border=\"1\" class=\"dataframe\">\n",
              "  <thead>\n",
              "    <tr style=\"text-align: right;\">\n",
              "      <th></th>\n",
              "      <th>userId</th>\n",
              "      <th>movieId</th>\n",
              "      <th>rating</th>\n",
              "      <th>rating_pred</th>\n",
              "    </tr>\n",
              "  </thead>\n",
              "  <tbody>\n",
              "    <tr>\n",
              "      <th>0</th>\n",
              "      <td>39.0</td>\n",
              "      <td>49.0</td>\n",
              "      <td>3.5</td>\n",
              "      <td>4.031785</td>\n",
              "    </tr>\n",
              "    <tr>\n",
              "      <th>1</th>\n",
              "      <td>83.0</td>\n",
              "      <td>100.0</td>\n",
              "      <td>4.0</td>\n",
              "      <td>4.076054</td>\n",
              "    </tr>\n",
              "    <tr>\n",
              "      <th>2</th>\n",
              "      <td>19.0</td>\n",
              "      <td>94.0</td>\n",
              "      <td>4.5</td>\n",
              "      <td>3.656266</td>\n",
              "    </tr>\n",
              "    <tr>\n",
              "      <th>3</th>\n",
              "      <td>53.0</td>\n",
              "      <td>69.0</td>\n",
              "      <td>4.5</td>\n",
              "      <td>4.564094</td>\n",
              "    </tr>\n",
              "    <tr>\n",
              "      <th>4</th>\n",
              "      <td>3.0</td>\n",
              "      <td>12.0</td>\n",
              "      <td>3.0</td>\n",
              "      <td>3.000511</td>\n",
              "    </tr>\n",
              "    <tr>\n",
              "      <th>5</th>\n",
              "      <td>86.0</td>\n",
              "      <td>50.0</td>\n",
              "      <td>3.5</td>\n",
              "      <td>3.716930</td>\n",
              "    </tr>\n",
              "    <tr>\n",
              "      <th>6</th>\n",
              "      <td>34.0</td>\n",
              "      <td>23.0</td>\n",
              "      <td>3.0</td>\n",
              "      <td>3.332168</td>\n",
              "    </tr>\n",
              "    <tr>\n",
              "      <th>7</th>\n",
              "      <td>62.0</td>\n",
              "      <td>6.0</td>\n",
              "      <td>2.5</td>\n",
              "      <td>4.107617</td>\n",
              "    </tr>\n",
              "    <tr>\n",
              "      <th>8</th>\n",
              "      <td>48.0</td>\n",
              "      <td>73.0</td>\n",
              "      <td>4.0</td>\n",
              "      <td>4.111451</td>\n",
              "    </tr>\n",
              "  </tbody>\n",
              "</table>"
            ],
            "text/plain": [
              "<IPython.core.display.HTML object>"
            ]
          },
          "metadata": {
            "tags": []
          }
        }
      ]
    }
  ]
}