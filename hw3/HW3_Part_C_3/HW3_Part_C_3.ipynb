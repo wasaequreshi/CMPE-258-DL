{
  "nbformat": 4,
  "nbformat_minor": 0,
  "metadata": {
    "colab": {
      "name": "HW3 - Part C.3",
      "provenance": []
    },
    "kernelspec": {
      "name": "python3",
      "display_name": "Python 3"
    }
  },
  "cells": [
    {
      "cell_type": "code",
      "metadata": {
        "id": "I6gjbeakvhxt"
      },
      "source": [
        "import numpy as np\n",
        "def generate_non_linear_three_input_two_output(number_of_rows, dimensions, weights_0, bias_0, weights_1, bias_1):\n",
        "\n",
        "  n = number_of_rows\n",
        "  d = dimensions\n",
        "\n",
        "  # Generate numbers between -1.0 and 1.0, n rows and 3 columns\n",
        "  x = np.random.uniform(-1, 1, (n, d))\n",
        "\n",
        "  # Showing 20 of them\n",
        "  # print(x[:10])\n",
        "\n",
        "  # y = w * x + b\n",
        "  # y = (w_0 * x_0) + (w_1 * x_1) + (w_2 * x_2)\n",
        "\n",
        "  # Randomly assigning weights\n",
        "  weights_true_0 = np.array([weights_0]).T\n",
        "\n",
        "  # print(weights_true)\n",
        "\n",
        "  bias_true_0 = np.array(bias_0)\n",
        "  # print(bias_true)\n",
        "\n",
        "  # print(x.shape, weights_true.shape, bias_true.shape)\n",
        "\n",
        "  # Matmult with data and wieghts, adding bias_true as well.\n",
        "  y_true_0 = ((x ** 2) @ weights_true_0) + (x @ weights_true_0) + bias_true_0\n",
        "  # print(y_true[:10])\n",
        "\n",
        "  print (f'x: {x.shape}, weights: {weights_true_0.shape}, bias: {bias_true_0.shape}, y: {y_true_0.shape}')\n",
        "\n",
        "  # Randomly assigning weights\n",
        "  weights_true_1 = np.array([weights_1]).T\n",
        "\n",
        "  # print(weights_true)\n",
        "\n",
        "  bias_true_1 = np.array(bias_1)\n",
        "  # print(bias_true)\n",
        "\n",
        "  # print(x.shape, weights_true.shape, bias_true.shape)\n",
        "\n",
        "  # Matmult with data and wieghts, adding bias_true as well.\n",
        "  y_true_1 = ((x ** 2) @ weights_true_1) + (x @ weights_true_1) + bias_true_1\n",
        "  # print(y_true[:10])\n",
        "\n",
        "  print (f'x: {x.shape}, weights: {weights_true_1.shape}, bias: {bias_true_1.shape}, y: {y_true_1.shape}')\n",
        "\n",
        "  return { \"input\" : x, \"weights_true_0\" : weights_true_0, \"bias_true_0\" : bias_true_0, \"y_true_0\" : y_true_0, \"weights_true_1\" : weights_true_1, \"bias_true_1\" : bias_true_1, \"y_true_1\" : y_true_1}"
      ],
      "execution_count": null,
      "outputs": []
    },
    {
      "cell_type": "code",
      "metadata": {
        "colab": {
          "base_uri": "https://localhost:8080/"
        },
        "id": "h8bKBRzHvoMd",
        "outputId": "f637f04f-e9b5-4912-ce97-5857c65b167f"
      },
      "source": [
        "three_input_two_output_func = generate_non_linear_three_input_two_output(200, 3, [3, -2, 1], [.2], [2, -1, 3], [.4])"
      ],
      "execution_count": null,
      "outputs": [
        {
          "output_type": "stream",
          "text": [
            "x: (200, 3), weights: (3, 1), bias: (1,), y: (200, 1)\n",
            "x: (200, 3), weights: (3, 1), bias: (1,), y: (200, 1)\n"
          ],
          "name": "stdout"
        }
      ]
    },
    {
      "cell_type": "code",
      "metadata": {
        "colab": {
          "base_uri": "https://localhost:8080/"
        },
        "id": "ri-hpenewK44",
        "outputId": "e9e73bfe-3691-4d66-d9fe-fe0ca72bca45"
      },
      "source": [
        "from tensorflow import keras\n",
        "from tensorflow.keras import layers\n",
        "from tensorflow.keras import optimizers\n",
        "import tensorflow as tf\n",
        "\n",
        "inputs = keras.Input(shape=(3,))\n",
        "l1 = layers.Dense(10, activation='relu', name='dense_1')(inputs)\n",
        "outputs = layers.Dense(2, name='regression')(l1)\n",
        "\n",
        "model = keras.Model(inputs=inputs, outputs=outputs)\n",
        "print(model.summary())\n",
        "model.compile(loss='mse', optimizer=optimizers.SGD(0.1))\n",
        "\n",
        "\n",
        "\n",
        "x = tf.convert_to_tensor(three_input_two_output_func['input'])\n",
        "y_true = [tf.convert_to_tensor(three_input_two_output_func['y_true_0']), tf.convert_to_tensor(three_input_two_output_func['y_true_1'])]\n",
        "\n",
        "model.fit(x, y_true, epochs=10)\n",
        "\n",
        "y_pred = model.predict(x)\n"
      ],
      "execution_count": null,
      "outputs": [
        {
          "output_type": "stream",
          "text": [
            "Model: \"model_4\"\n",
            "_________________________________________________________________\n",
            "Layer (type)                 Output Shape              Param #   \n",
            "=================================================================\n",
            "input_5 (InputLayer)         [(None, 3)]               0         \n",
            "_________________________________________________________________\n",
            "dense_1 (Dense)              (None, 10)                40        \n",
            "_________________________________________________________________\n",
            "regression (Dense)           (None, 2)                 22        \n",
            "=================================================================\n",
            "Total params: 62\n",
            "Trainable params: 62\n",
            "Non-trainable params: 0\n",
            "_________________________________________________________________\n",
            "None\n",
            "Epoch 1/10\n",
            "7/7 [==============================] - 0s 2ms/step - loss: 5.2781\n",
            "Epoch 2/10\n",
            "7/7 [==============================] - 0s 2ms/step - loss: 2.4809\n",
            "Epoch 3/10\n",
            "7/7 [==============================] - 0s 2ms/step - loss: 1.2899\n",
            "Epoch 4/10\n",
            "7/7 [==============================] - 0s 2ms/step - loss: 0.9258\n",
            "Epoch 5/10\n",
            "7/7 [==============================] - 0s 2ms/step - loss: 0.7246\n",
            "Epoch 6/10\n",
            "7/7 [==============================] - 0s 2ms/step - loss: 0.5935\n",
            "Epoch 7/10\n",
            "7/7 [==============================] - 0s 2ms/step - loss: 0.4366\n",
            "Epoch 8/10\n",
            "7/7 [==============================] - 0s 2ms/step - loss: 0.3151\n",
            "Epoch 9/10\n",
            "7/7 [==============================] - 0s 2ms/step - loss: 0.2962\n",
            "Epoch 10/10\n",
            "7/7 [==============================] - 0s 2ms/step - loss: 0.2649\n"
          ],
          "name": "stdout"
        }
      ]
    }
  ]
}