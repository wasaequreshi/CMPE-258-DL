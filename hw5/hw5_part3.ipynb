{
  "nbformat": 4,
  "nbformat_minor": 0,
  "metadata": {
    "colab": {
      "name": "hw5_part3.ipynb",
      "provenance": []
    },
    "kernelspec": {
      "name": "python3",
      "display_name": "Python 3"
    },
    "language_info": {
      "name": "python"
    },
    "accelerator": "GPU",
    "widgets": {
      "application/vnd.jupyter.widget-state+json": {
        "2bd17ec55c4a4cb191b1e09938340786": {
          "model_module": "@jupyter-widgets/controls",
          "model_name": "HBoxModel",
          "state": {
            "_view_name": "HBoxView",
            "_dom_classes": [],
            "_model_name": "HBoxModel",
            "_view_module": "@jupyter-widgets/controls",
            "_model_module_version": "1.5.0",
            "_view_count": null,
            "_view_module_version": "1.5.0",
            "box_style": "",
            "layout": "IPY_MODEL_42289423071d4e1594e58da8a524edde",
            "_model_module": "@jupyter-widgets/controls",
            "children": [
              "IPY_MODEL_a82b4864283a4f3a815802bd05434c77",
              "IPY_MODEL_49b9a3c83b054aabb59440c9d65f27f3"
            ]
          }
        },
        "42289423071d4e1594e58da8a524edde": {
          "model_module": "@jupyter-widgets/base",
          "model_name": "LayoutModel",
          "state": {
            "_view_name": "LayoutView",
            "grid_template_rows": null,
            "right": null,
            "justify_content": null,
            "_view_module": "@jupyter-widgets/base",
            "overflow": null,
            "_model_module_version": "1.2.0",
            "_view_count": null,
            "flex_flow": null,
            "width": null,
            "min_width": null,
            "border": null,
            "align_items": null,
            "bottom": null,
            "_model_module": "@jupyter-widgets/base",
            "top": null,
            "grid_column": null,
            "overflow_y": null,
            "overflow_x": null,
            "grid_auto_flow": null,
            "grid_area": null,
            "grid_template_columns": null,
            "flex": null,
            "_model_name": "LayoutModel",
            "justify_items": null,
            "grid_row": null,
            "max_height": null,
            "align_content": null,
            "visibility": null,
            "align_self": null,
            "height": null,
            "min_height": null,
            "padding": null,
            "grid_auto_rows": null,
            "grid_gap": null,
            "max_width": null,
            "order": null,
            "_view_module_version": "1.2.0",
            "grid_template_areas": null,
            "object_position": null,
            "object_fit": null,
            "grid_auto_columns": null,
            "margin": null,
            "display": null,
            "left": null
          }
        },
        "a82b4864283a4f3a815802bd05434c77": {
          "model_module": "@jupyter-widgets/controls",
          "model_name": "FloatProgressModel",
          "state": {
            "_view_name": "ProgressView",
            "style": "IPY_MODEL_d47a491da0cd4c4a829a571b6c318bdd",
            "_dom_classes": [],
            "description": "100%",
            "_model_name": "FloatProgressModel",
            "bar_style": "success",
            "max": 10,
            "_view_module": "@jupyter-widgets/controls",
            "_model_module_version": "1.5.0",
            "value": 10,
            "_view_count": null,
            "_view_module_version": "1.5.0",
            "orientation": "horizontal",
            "min": 0,
            "description_tooltip": null,
            "_model_module": "@jupyter-widgets/controls",
            "layout": "IPY_MODEL_90318057c4e04a7f80deb28cda042eb4"
          }
        },
        "49b9a3c83b054aabb59440c9d65f27f3": {
          "model_module": "@jupyter-widgets/controls",
          "model_name": "HTMLModel",
          "state": {
            "_view_name": "HTMLView",
            "style": "IPY_MODEL_fd6ca08a5b2a427dbdc374c068b10e98",
            "_dom_classes": [],
            "description": "",
            "_model_name": "HTMLModel",
            "placeholder": "​",
            "_view_module": "@jupyter-widgets/controls",
            "_model_module_version": "1.5.0",
            "value": " 10/10 [01:00&lt;00:00,  6.02s/it]",
            "_view_count": null,
            "_view_module_version": "1.5.0",
            "description_tooltip": null,
            "_model_module": "@jupyter-widgets/controls",
            "layout": "IPY_MODEL_9173721cf0464e289a1974145693d423"
          }
        },
        "d47a491da0cd4c4a829a571b6c318bdd": {
          "model_module": "@jupyter-widgets/controls",
          "model_name": "ProgressStyleModel",
          "state": {
            "_view_name": "StyleView",
            "_model_name": "ProgressStyleModel",
            "description_width": "initial",
            "_view_module": "@jupyter-widgets/base",
            "_model_module_version": "1.5.0",
            "_view_count": null,
            "_view_module_version": "1.2.0",
            "bar_color": null,
            "_model_module": "@jupyter-widgets/controls"
          }
        },
        "90318057c4e04a7f80deb28cda042eb4": {
          "model_module": "@jupyter-widgets/base",
          "model_name": "LayoutModel",
          "state": {
            "_view_name": "LayoutView",
            "grid_template_rows": null,
            "right": null,
            "justify_content": null,
            "_view_module": "@jupyter-widgets/base",
            "overflow": null,
            "_model_module_version": "1.2.0",
            "_view_count": null,
            "flex_flow": null,
            "width": null,
            "min_width": null,
            "border": null,
            "align_items": null,
            "bottom": null,
            "_model_module": "@jupyter-widgets/base",
            "top": null,
            "grid_column": null,
            "overflow_y": null,
            "overflow_x": null,
            "grid_auto_flow": null,
            "grid_area": null,
            "grid_template_columns": null,
            "flex": null,
            "_model_name": "LayoutModel",
            "justify_items": null,
            "grid_row": null,
            "max_height": null,
            "align_content": null,
            "visibility": null,
            "align_self": null,
            "height": null,
            "min_height": null,
            "padding": null,
            "grid_auto_rows": null,
            "grid_gap": null,
            "max_width": null,
            "order": null,
            "_view_module_version": "1.2.0",
            "grid_template_areas": null,
            "object_position": null,
            "object_fit": null,
            "grid_auto_columns": null,
            "margin": null,
            "display": null,
            "left": null
          }
        },
        "fd6ca08a5b2a427dbdc374c068b10e98": {
          "model_module": "@jupyter-widgets/controls",
          "model_name": "DescriptionStyleModel",
          "state": {
            "_view_name": "StyleView",
            "_model_name": "DescriptionStyleModel",
            "description_width": "",
            "_view_module": "@jupyter-widgets/base",
            "_model_module_version": "1.5.0",
            "_view_count": null,
            "_view_module_version": "1.2.0",
            "_model_module": "@jupyter-widgets/controls"
          }
        },
        "9173721cf0464e289a1974145693d423": {
          "model_module": "@jupyter-widgets/base",
          "model_name": "LayoutModel",
          "state": {
            "_view_name": "LayoutView",
            "grid_template_rows": null,
            "right": null,
            "justify_content": null,
            "_view_module": "@jupyter-widgets/base",
            "overflow": null,
            "_model_module_version": "1.2.0",
            "_view_count": null,
            "flex_flow": null,
            "width": null,
            "min_width": null,
            "border": null,
            "align_items": null,
            "bottom": null,
            "_model_module": "@jupyter-widgets/base",
            "top": null,
            "grid_column": null,
            "overflow_y": null,
            "overflow_x": null,
            "grid_auto_flow": null,
            "grid_area": null,
            "grid_template_columns": null,
            "flex": null,
            "_model_name": "LayoutModel",
            "justify_items": null,
            "grid_row": null,
            "max_height": null,
            "align_content": null,
            "visibility": null,
            "align_self": null,
            "height": null,
            "min_height": null,
            "padding": null,
            "grid_auto_rows": null,
            "grid_gap": null,
            "max_width": null,
            "order": null,
            "_view_module_version": "1.2.0",
            "grid_template_areas": null,
            "object_position": null,
            "object_fit": null,
            "grid_auto_columns": null,
            "margin": null,
            "display": null,
            "left": null
          }
        },
        "480ba96c7ef643268260804c5f073288": {
          "model_module": "@jupyter-widgets/controls",
          "model_name": "HBoxModel",
          "state": {
            "_view_name": "HBoxView",
            "_dom_classes": [],
            "_model_name": "HBoxModel",
            "_view_module": "@jupyter-widgets/controls",
            "_model_module_version": "1.5.0",
            "_view_count": null,
            "_view_module_version": "1.5.0",
            "box_style": "",
            "layout": "IPY_MODEL_28746706665046ed9e342eae0d8f3fdd",
            "_model_module": "@jupyter-widgets/controls",
            "children": [
              "IPY_MODEL_52dfaec34abb4cbab1eb2d1a8945d80f",
              "IPY_MODEL_a8fb695a886b4546b2152dd4c11ec7a4"
            ]
          }
        },
        "28746706665046ed9e342eae0d8f3fdd": {
          "model_module": "@jupyter-widgets/base",
          "model_name": "LayoutModel",
          "state": {
            "_view_name": "LayoutView",
            "grid_template_rows": null,
            "right": null,
            "justify_content": null,
            "_view_module": "@jupyter-widgets/base",
            "overflow": null,
            "_model_module_version": "1.2.0",
            "_view_count": null,
            "flex_flow": null,
            "width": null,
            "min_width": null,
            "border": null,
            "align_items": null,
            "bottom": null,
            "_model_module": "@jupyter-widgets/base",
            "top": null,
            "grid_column": null,
            "overflow_y": null,
            "overflow_x": null,
            "grid_auto_flow": null,
            "grid_area": null,
            "grid_template_columns": null,
            "flex": null,
            "_model_name": "LayoutModel",
            "justify_items": null,
            "grid_row": null,
            "max_height": null,
            "align_content": null,
            "visibility": null,
            "align_self": null,
            "height": null,
            "min_height": null,
            "padding": null,
            "grid_auto_rows": null,
            "grid_gap": null,
            "max_width": null,
            "order": null,
            "_view_module_version": "1.2.0",
            "grid_template_areas": null,
            "object_position": null,
            "object_fit": null,
            "grid_auto_columns": null,
            "margin": null,
            "display": null,
            "left": null
          }
        },
        "52dfaec34abb4cbab1eb2d1a8945d80f": {
          "model_module": "@jupyter-widgets/controls",
          "model_name": "FloatProgressModel",
          "state": {
            "_view_name": "ProgressView",
            "style": "IPY_MODEL_e76d984aa75f40978a1b09359fd31f02",
            "_dom_classes": [],
            "description": "Epoch 0: 100%",
            "_model_name": "FloatProgressModel",
            "bar_style": "",
            "max": 625,
            "_view_module": "@jupyter-widgets/controls",
            "_model_module_version": "1.5.0",
            "value": 625,
            "_view_count": null,
            "_view_module_version": "1.5.0",
            "orientation": "horizontal",
            "min": 0,
            "description_tooltip": null,
            "_model_module": "@jupyter-widgets/controls",
            "layout": "IPY_MODEL_d6e97db882eb4adfacda7399728794b9"
          }
        },
        "a8fb695a886b4546b2152dd4c11ec7a4": {
          "model_module": "@jupyter-widgets/controls",
          "model_name": "HTMLModel",
          "state": {
            "_view_name": "HTMLView",
            "style": "IPY_MODEL_792473c2f31047e89ad16b58cfeb0624",
            "_dom_classes": [],
            "description": "",
            "_model_name": "HTMLModel",
            "placeholder": "​",
            "_view_module": "@jupyter-widgets/controls",
            "_model_module_version": "1.5.0",
            "value": " 625/625 [00:05&lt;00:00, 120.65it/s, loss=0.132]",
            "_view_count": null,
            "_view_module_version": "1.5.0",
            "description_tooltip": null,
            "_model_module": "@jupyter-widgets/controls",
            "layout": "IPY_MODEL_3099669c15e84c63bfa4f29f1adf51b6"
          }
        },
        "e76d984aa75f40978a1b09359fd31f02": {
          "model_module": "@jupyter-widgets/controls",
          "model_name": "ProgressStyleModel",
          "state": {
            "_view_name": "StyleView",
            "_model_name": "ProgressStyleModel",
            "description_width": "initial",
            "_view_module": "@jupyter-widgets/base",
            "_model_module_version": "1.5.0",
            "_view_count": null,
            "_view_module_version": "1.2.0",
            "bar_color": null,
            "_model_module": "@jupyter-widgets/controls"
          }
        },
        "d6e97db882eb4adfacda7399728794b9": {
          "model_module": "@jupyter-widgets/base",
          "model_name": "LayoutModel",
          "state": {
            "_view_name": "LayoutView",
            "grid_template_rows": null,
            "right": null,
            "justify_content": null,
            "_view_module": "@jupyter-widgets/base",
            "overflow": null,
            "_model_module_version": "1.2.0",
            "_view_count": null,
            "flex_flow": null,
            "width": null,
            "min_width": null,
            "border": null,
            "align_items": null,
            "bottom": null,
            "_model_module": "@jupyter-widgets/base",
            "top": null,
            "grid_column": null,
            "overflow_y": null,
            "overflow_x": null,
            "grid_auto_flow": null,
            "grid_area": null,
            "grid_template_columns": null,
            "flex": null,
            "_model_name": "LayoutModel",
            "justify_items": null,
            "grid_row": null,
            "max_height": null,
            "align_content": null,
            "visibility": null,
            "align_self": null,
            "height": null,
            "min_height": null,
            "padding": null,
            "grid_auto_rows": null,
            "grid_gap": null,
            "max_width": null,
            "order": null,
            "_view_module_version": "1.2.0",
            "grid_template_areas": null,
            "object_position": null,
            "object_fit": null,
            "grid_auto_columns": null,
            "margin": null,
            "display": null,
            "left": null
          }
        },
        "792473c2f31047e89ad16b58cfeb0624": {
          "model_module": "@jupyter-widgets/controls",
          "model_name": "DescriptionStyleModel",
          "state": {
            "_view_name": "StyleView",
            "_model_name": "DescriptionStyleModel",
            "description_width": "",
            "_view_module": "@jupyter-widgets/base",
            "_model_module_version": "1.5.0",
            "_view_count": null,
            "_view_module_version": "1.2.0",
            "_model_module": "@jupyter-widgets/controls"
          }
        },
        "3099669c15e84c63bfa4f29f1adf51b6": {
          "model_module": "@jupyter-widgets/base",
          "model_name": "LayoutModel",
          "state": {
            "_view_name": "LayoutView",
            "grid_template_rows": null,
            "right": null,
            "justify_content": null,
            "_view_module": "@jupyter-widgets/base",
            "overflow": null,
            "_model_module_version": "1.2.0",
            "_view_count": null,
            "flex_flow": null,
            "width": null,
            "min_width": null,
            "border": null,
            "align_items": null,
            "bottom": null,
            "_model_module": "@jupyter-widgets/base",
            "top": null,
            "grid_column": null,
            "overflow_y": null,
            "overflow_x": null,
            "grid_auto_flow": null,
            "grid_area": null,
            "grid_template_columns": null,
            "flex": null,
            "_model_name": "LayoutModel",
            "justify_items": null,
            "grid_row": null,
            "max_height": null,
            "align_content": null,
            "visibility": null,
            "align_self": null,
            "height": null,
            "min_height": null,
            "padding": null,
            "grid_auto_rows": null,
            "grid_gap": null,
            "max_width": null,
            "order": null,
            "_view_module_version": "1.2.0",
            "grid_template_areas": null,
            "object_position": null,
            "object_fit": null,
            "grid_auto_columns": null,
            "margin": null,
            "display": null,
            "left": null
          }
        },
        "bc1f3b47eb844b639f9a0c2678ba1d9d": {
          "model_module": "@jupyter-widgets/controls",
          "model_name": "HBoxModel",
          "state": {
            "_view_name": "HBoxView",
            "_dom_classes": [],
            "_model_name": "HBoxModel",
            "_view_module": "@jupyter-widgets/controls",
            "_model_module_version": "1.5.0",
            "_view_count": null,
            "_view_module_version": "1.5.0",
            "box_style": "",
            "layout": "IPY_MODEL_69aa35e6f8fc48598cf24f13c1abf323",
            "_model_module": "@jupyter-widgets/controls",
            "children": [
              "IPY_MODEL_92c2d2ed4f6743baa07f3eb863dc1b2c",
              "IPY_MODEL_f33ed49d227143c88d10f79bb0f640b6"
            ]
          }
        },
        "69aa35e6f8fc48598cf24f13c1abf323": {
          "model_module": "@jupyter-widgets/base",
          "model_name": "LayoutModel",
          "state": {
            "_view_name": "LayoutView",
            "grid_template_rows": null,
            "right": null,
            "justify_content": null,
            "_view_module": "@jupyter-widgets/base",
            "overflow": null,
            "_model_module_version": "1.2.0",
            "_view_count": null,
            "flex_flow": null,
            "width": null,
            "min_width": null,
            "border": null,
            "align_items": null,
            "bottom": null,
            "_model_module": "@jupyter-widgets/base",
            "top": null,
            "grid_column": null,
            "overflow_y": null,
            "overflow_x": null,
            "grid_auto_flow": null,
            "grid_area": null,
            "grid_template_columns": null,
            "flex": null,
            "_model_name": "LayoutModel",
            "justify_items": null,
            "grid_row": null,
            "max_height": null,
            "align_content": null,
            "visibility": null,
            "align_self": null,
            "height": null,
            "min_height": null,
            "padding": null,
            "grid_auto_rows": null,
            "grid_gap": null,
            "max_width": null,
            "order": null,
            "_view_module_version": "1.2.0",
            "grid_template_areas": null,
            "object_position": null,
            "object_fit": null,
            "grid_auto_columns": null,
            "margin": null,
            "display": null,
            "left": null
          }
        },
        "92c2d2ed4f6743baa07f3eb863dc1b2c": {
          "model_module": "@jupyter-widgets/controls",
          "model_name": "FloatProgressModel",
          "state": {
            "_view_name": "ProgressView",
            "style": "IPY_MODEL_32dff5f1f20845a8bb381079fd26f5ed",
            "_dom_classes": [],
            "description": "100%",
            "_model_name": "FloatProgressModel",
            "bar_style": "",
            "max": 157,
            "_view_module": "@jupyter-widgets/controls",
            "_model_module_version": "1.5.0",
            "value": 157,
            "_view_count": null,
            "_view_module_version": "1.5.0",
            "orientation": "horizontal",
            "min": 0,
            "description_tooltip": null,
            "_model_module": "@jupyter-widgets/controls",
            "layout": "IPY_MODEL_c6aafb3040f84c4f99528936f277d75b"
          }
        },
        "f33ed49d227143c88d10f79bb0f640b6": {
          "model_module": "@jupyter-widgets/controls",
          "model_name": "HTMLModel",
          "state": {
            "_view_name": "HTMLView",
            "style": "IPY_MODEL_6e239a12e3764ae8b1663781e28ca332",
            "_dom_classes": [],
            "description": "",
            "_model_name": "HTMLModel",
            "placeholder": "​",
            "_view_module": "@jupyter-widgets/controls",
            "_model_module_version": "1.5.0",
            "value": " 157/157 [00:00&lt;00:00, 335.71it/s]",
            "_view_count": null,
            "_view_module_version": "1.5.0",
            "description_tooltip": null,
            "_model_module": "@jupyter-widgets/controls",
            "layout": "IPY_MODEL_2d68e79343bc410db8c206414b2f28da"
          }
        },
        "32dff5f1f20845a8bb381079fd26f5ed": {
          "model_module": "@jupyter-widgets/controls",
          "model_name": "ProgressStyleModel",
          "state": {
            "_view_name": "StyleView",
            "_model_name": "ProgressStyleModel",
            "description_width": "initial",
            "_view_module": "@jupyter-widgets/base",
            "_model_module_version": "1.5.0",
            "_view_count": null,
            "_view_module_version": "1.2.0",
            "bar_color": null,
            "_model_module": "@jupyter-widgets/controls"
          }
        },
        "c6aafb3040f84c4f99528936f277d75b": {
          "model_module": "@jupyter-widgets/base",
          "model_name": "LayoutModel",
          "state": {
            "_view_name": "LayoutView",
            "grid_template_rows": null,
            "right": null,
            "justify_content": null,
            "_view_module": "@jupyter-widgets/base",
            "overflow": null,
            "_model_module_version": "1.2.0",
            "_view_count": null,
            "flex_flow": null,
            "width": null,
            "min_width": null,
            "border": null,
            "align_items": null,
            "bottom": null,
            "_model_module": "@jupyter-widgets/base",
            "top": null,
            "grid_column": null,
            "overflow_y": null,
            "overflow_x": null,
            "grid_auto_flow": null,
            "grid_area": null,
            "grid_template_columns": null,
            "flex": null,
            "_model_name": "LayoutModel",
            "justify_items": null,
            "grid_row": null,
            "max_height": null,
            "align_content": null,
            "visibility": null,
            "align_self": null,
            "height": null,
            "min_height": null,
            "padding": null,
            "grid_auto_rows": null,
            "grid_gap": null,
            "max_width": null,
            "order": null,
            "_view_module_version": "1.2.0",
            "grid_template_areas": null,
            "object_position": null,
            "object_fit": null,
            "grid_auto_columns": null,
            "margin": null,
            "display": null,
            "left": null
          }
        },
        "6e239a12e3764ae8b1663781e28ca332": {
          "model_module": "@jupyter-widgets/controls",
          "model_name": "DescriptionStyleModel",
          "state": {
            "_view_name": "StyleView",
            "_model_name": "DescriptionStyleModel",
            "description_width": "",
            "_view_module": "@jupyter-widgets/base",
            "_model_module_version": "1.5.0",
            "_view_count": null,
            "_view_module_version": "1.2.0",
            "_model_module": "@jupyter-widgets/controls"
          }
        },
        "2d68e79343bc410db8c206414b2f28da": {
          "model_module": "@jupyter-widgets/base",
          "model_name": "LayoutModel",
          "state": {
            "_view_name": "LayoutView",
            "grid_template_rows": null,
            "right": null,
            "justify_content": null,
            "_view_module": "@jupyter-widgets/base",
            "overflow": null,
            "_model_module_version": "1.2.0",
            "_view_count": null,
            "flex_flow": null,
            "width": null,
            "min_width": null,
            "border": null,
            "align_items": null,
            "bottom": null,
            "_model_module": "@jupyter-widgets/base",
            "top": null,
            "grid_column": null,
            "overflow_y": null,
            "overflow_x": null,
            "grid_auto_flow": null,
            "grid_area": null,
            "grid_template_columns": null,
            "flex": null,
            "_model_name": "LayoutModel",
            "justify_items": null,
            "grid_row": null,
            "max_height": null,
            "align_content": null,
            "visibility": null,
            "align_self": null,
            "height": null,
            "min_height": null,
            "padding": null,
            "grid_auto_rows": null,
            "grid_gap": null,
            "max_width": null,
            "order": null,
            "_view_module_version": "1.2.0",
            "grid_template_areas": null,
            "object_position": null,
            "object_fit": null,
            "grid_auto_columns": null,
            "margin": null,
            "display": null,
            "left": null
          }
        },
        "3c211615cff84a5ebb6ac8c0a348bbaa": {
          "model_module": "@jupyter-widgets/controls",
          "model_name": "HBoxModel",
          "state": {
            "_view_name": "HBoxView",
            "_dom_classes": [],
            "_model_name": "HBoxModel",
            "_view_module": "@jupyter-widgets/controls",
            "_model_module_version": "1.5.0",
            "_view_count": null,
            "_view_module_version": "1.5.0",
            "box_style": "",
            "layout": "IPY_MODEL_0fbcebfd54714e368df0dd5f941ec75c",
            "_model_module": "@jupyter-widgets/controls",
            "children": [
              "IPY_MODEL_133753806fe949eb8e95edc2df7897e7",
              "IPY_MODEL_91032175797a4df48e5dea036f00056d"
            ]
          }
        },
        "0fbcebfd54714e368df0dd5f941ec75c": {
          "model_module": "@jupyter-widgets/base",
          "model_name": "LayoutModel",
          "state": {
            "_view_name": "LayoutView",
            "grid_template_rows": null,
            "right": null,
            "justify_content": null,
            "_view_module": "@jupyter-widgets/base",
            "overflow": null,
            "_model_module_version": "1.2.0",
            "_view_count": null,
            "flex_flow": null,
            "width": null,
            "min_width": null,
            "border": null,
            "align_items": null,
            "bottom": null,
            "_model_module": "@jupyter-widgets/base",
            "top": null,
            "grid_column": null,
            "overflow_y": null,
            "overflow_x": null,
            "grid_auto_flow": null,
            "grid_area": null,
            "grid_template_columns": null,
            "flex": null,
            "_model_name": "LayoutModel",
            "justify_items": null,
            "grid_row": null,
            "max_height": null,
            "align_content": null,
            "visibility": null,
            "align_self": null,
            "height": null,
            "min_height": null,
            "padding": null,
            "grid_auto_rows": null,
            "grid_gap": null,
            "max_width": null,
            "order": null,
            "_view_module_version": "1.2.0",
            "grid_template_areas": null,
            "object_position": null,
            "object_fit": null,
            "grid_auto_columns": null,
            "margin": null,
            "display": null,
            "left": null
          }
        },
        "133753806fe949eb8e95edc2df7897e7": {
          "model_module": "@jupyter-widgets/controls",
          "model_name": "FloatProgressModel",
          "state": {
            "_view_name": "ProgressView",
            "style": "IPY_MODEL_85f828a8826b461c9c281679a45326ff",
            "_dom_classes": [],
            "description": "Epoch 1: 100%",
            "_model_name": "FloatProgressModel",
            "bar_style": "",
            "max": 625,
            "_view_module": "@jupyter-widgets/controls",
            "_model_module_version": "1.5.0",
            "value": 625,
            "_view_count": null,
            "_view_module_version": "1.5.0",
            "orientation": "horizontal",
            "min": 0,
            "description_tooltip": null,
            "_model_module": "@jupyter-widgets/controls",
            "layout": "IPY_MODEL_ae5030f752dc47418aa35b53f1c63631"
          }
        },
        "91032175797a4df48e5dea036f00056d": {
          "model_module": "@jupyter-widgets/controls",
          "model_name": "HTMLModel",
          "state": {
            "_view_name": "HTMLView",
            "style": "IPY_MODEL_fbd2653ccc4340b9a52d5120b60e353d",
            "_dom_classes": [],
            "description": "",
            "_model_name": "HTMLModel",
            "placeholder": "​",
            "_view_module": "@jupyter-widgets/controls",
            "_model_module_version": "1.5.0",
            "value": " 625/625 [00:05&lt;00:00, 115.85it/s, loss=0.112]",
            "_view_count": null,
            "_view_module_version": "1.5.0",
            "description_tooltip": null,
            "_model_module": "@jupyter-widgets/controls",
            "layout": "IPY_MODEL_dd35a5a87da04636a5eccf6329bf9ed9"
          }
        },
        "85f828a8826b461c9c281679a45326ff": {
          "model_module": "@jupyter-widgets/controls",
          "model_name": "ProgressStyleModel",
          "state": {
            "_view_name": "StyleView",
            "_model_name": "ProgressStyleModel",
            "description_width": "initial",
            "_view_module": "@jupyter-widgets/base",
            "_model_module_version": "1.5.0",
            "_view_count": null,
            "_view_module_version": "1.2.0",
            "bar_color": null,
            "_model_module": "@jupyter-widgets/controls"
          }
        },
        "ae5030f752dc47418aa35b53f1c63631": {
          "model_module": "@jupyter-widgets/base",
          "model_name": "LayoutModel",
          "state": {
            "_view_name": "LayoutView",
            "grid_template_rows": null,
            "right": null,
            "justify_content": null,
            "_view_module": "@jupyter-widgets/base",
            "overflow": null,
            "_model_module_version": "1.2.0",
            "_view_count": null,
            "flex_flow": null,
            "width": null,
            "min_width": null,
            "border": null,
            "align_items": null,
            "bottom": null,
            "_model_module": "@jupyter-widgets/base",
            "top": null,
            "grid_column": null,
            "overflow_y": null,
            "overflow_x": null,
            "grid_auto_flow": null,
            "grid_area": null,
            "grid_template_columns": null,
            "flex": null,
            "_model_name": "LayoutModel",
            "justify_items": null,
            "grid_row": null,
            "max_height": null,
            "align_content": null,
            "visibility": null,
            "align_self": null,
            "height": null,
            "min_height": null,
            "padding": null,
            "grid_auto_rows": null,
            "grid_gap": null,
            "max_width": null,
            "order": null,
            "_view_module_version": "1.2.0",
            "grid_template_areas": null,
            "object_position": null,
            "object_fit": null,
            "grid_auto_columns": null,
            "margin": null,
            "display": null,
            "left": null
          }
        },
        "fbd2653ccc4340b9a52d5120b60e353d": {
          "model_module": "@jupyter-widgets/controls",
          "model_name": "DescriptionStyleModel",
          "state": {
            "_view_name": "StyleView",
            "_model_name": "DescriptionStyleModel",
            "description_width": "",
            "_view_module": "@jupyter-widgets/base",
            "_model_module_version": "1.5.0",
            "_view_count": null,
            "_view_module_version": "1.2.0",
            "_model_module": "@jupyter-widgets/controls"
          }
        },
        "dd35a5a87da04636a5eccf6329bf9ed9": {
          "model_module": "@jupyter-widgets/base",
          "model_name": "LayoutModel",
          "state": {
            "_view_name": "LayoutView",
            "grid_template_rows": null,
            "right": null,
            "justify_content": null,
            "_view_module": "@jupyter-widgets/base",
            "overflow": null,
            "_model_module_version": "1.2.0",
            "_view_count": null,
            "flex_flow": null,
            "width": null,
            "min_width": null,
            "border": null,
            "align_items": null,
            "bottom": null,
            "_model_module": "@jupyter-widgets/base",
            "top": null,
            "grid_column": null,
            "overflow_y": null,
            "overflow_x": null,
            "grid_auto_flow": null,
            "grid_area": null,
            "grid_template_columns": null,
            "flex": null,
            "_model_name": "LayoutModel",
            "justify_items": null,
            "grid_row": null,
            "max_height": null,
            "align_content": null,
            "visibility": null,
            "align_self": null,
            "height": null,
            "min_height": null,
            "padding": null,
            "grid_auto_rows": null,
            "grid_gap": null,
            "max_width": null,
            "order": null,
            "_view_module_version": "1.2.0",
            "grid_template_areas": null,
            "object_position": null,
            "object_fit": null,
            "grid_auto_columns": null,
            "margin": null,
            "display": null,
            "left": null
          }
        },
        "517ea6aad8984b87af56f7ebacd10675": {
          "model_module": "@jupyter-widgets/controls",
          "model_name": "HBoxModel",
          "state": {
            "_view_name": "HBoxView",
            "_dom_classes": [],
            "_model_name": "HBoxModel",
            "_view_module": "@jupyter-widgets/controls",
            "_model_module_version": "1.5.0",
            "_view_count": null,
            "_view_module_version": "1.5.0",
            "box_style": "",
            "layout": "IPY_MODEL_3fabed6c599e4614b9a21a9283051ecf",
            "_model_module": "@jupyter-widgets/controls",
            "children": [
              "IPY_MODEL_70e32fa867914efe99f0f829370b60c1",
              "IPY_MODEL_48ce3bcf09b74cf4b44385ef4d8a8956"
            ]
          }
        },
        "3fabed6c599e4614b9a21a9283051ecf": {
          "model_module": "@jupyter-widgets/base",
          "model_name": "LayoutModel",
          "state": {
            "_view_name": "LayoutView",
            "grid_template_rows": null,
            "right": null,
            "justify_content": null,
            "_view_module": "@jupyter-widgets/base",
            "overflow": null,
            "_model_module_version": "1.2.0",
            "_view_count": null,
            "flex_flow": null,
            "width": null,
            "min_width": null,
            "border": null,
            "align_items": null,
            "bottom": null,
            "_model_module": "@jupyter-widgets/base",
            "top": null,
            "grid_column": null,
            "overflow_y": null,
            "overflow_x": null,
            "grid_auto_flow": null,
            "grid_area": null,
            "grid_template_columns": null,
            "flex": null,
            "_model_name": "LayoutModel",
            "justify_items": null,
            "grid_row": null,
            "max_height": null,
            "align_content": null,
            "visibility": null,
            "align_self": null,
            "height": null,
            "min_height": null,
            "padding": null,
            "grid_auto_rows": null,
            "grid_gap": null,
            "max_width": null,
            "order": null,
            "_view_module_version": "1.2.0",
            "grid_template_areas": null,
            "object_position": null,
            "object_fit": null,
            "grid_auto_columns": null,
            "margin": null,
            "display": null,
            "left": null
          }
        },
        "70e32fa867914efe99f0f829370b60c1": {
          "model_module": "@jupyter-widgets/controls",
          "model_name": "FloatProgressModel",
          "state": {
            "_view_name": "ProgressView",
            "style": "IPY_MODEL_c20c4ee00a6a437c81338523cff7e188",
            "_dom_classes": [],
            "description": "100%",
            "_model_name": "FloatProgressModel",
            "bar_style": "",
            "max": 157,
            "_view_module": "@jupyter-widgets/controls",
            "_model_module_version": "1.5.0",
            "value": 157,
            "_view_count": null,
            "_view_module_version": "1.5.0",
            "orientation": "horizontal",
            "min": 0,
            "description_tooltip": null,
            "_model_module": "@jupyter-widgets/controls",
            "layout": "IPY_MODEL_1945f18add8d4c81ad1b08d932112db2"
          }
        },
        "48ce3bcf09b74cf4b44385ef4d8a8956": {
          "model_module": "@jupyter-widgets/controls",
          "model_name": "HTMLModel",
          "state": {
            "_view_name": "HTMLView",
            "style": "IPY_MODEL_2e927f4d421442abba4086ac5dadb04e",
            "_dom_classes": [],
            "description": "",
            "_model_name": "HTMLModel",
            "placeholder": "​",
            "_view_module": "@jupyter-widgets/controls",
            "_model_module_version": "1.5.0",
            "value": " 157/157 [00:00&lt;00:00, 333.22it/s]",
            "_view_count": null,
            "_view_module_version": "1.5.0",
            "description_tooltip": null,
            "_model_module": "@jupyter-widgets/controls",
            "layout": "IPY_MODEL_790d999189ae4154bd1dfb2fd7c1891c"
          }
        },
        "c20c4ee00a6a437c81338523cff7e188": {
          "model_module": "@jupyter-widgets/controls",
          "model_name": "ProgressStyleModel",
          "state": {
            "_view_name": "StyleView",
            "_model_name": "ProgressStyleModel",
            "description_width": "initial",
            "_view_module": "@jupyter-widgets/base",
            "_model_module_version": "1.5.0",
            "_view_count": null,
            "_view_module_version": "1.2.0",
            "bar_color": null,
            "_model_module": "@jupyter-widgets/controls"
          }
        },
        "1945f18add8d4c81ad1b08d932112db2": {
          "model_module": "@jupyter-widgets/base",
          "model_name": "LayoutModel",
          "state": {
            "_view_name": "LayoutView",
            "grid_template_rows": null,
            "right": null,
            "justify_content": null,
            "_view_module": "@jupyter-widgets/base",
            "overflow": null,
            "_model_module_version": "1.2.0",
            "_view_count": null,
            "flex_flow": null,
            "width": null,
            "min_width": null,
            "border": null,
            "align_items": null,
            "bottom": null,
            "_model_module": "@jupyter-widgets/base",
            "top": null,
            "grid_column": null,
            "overflow_y": null,
            "overflow_x": null,
            "grid_auto_flow": null,
            "grid_area": null,
            "grid_template_columns": null,
            "flex": null,
            "_model_name": "LayoutModel",
            "justify_items": null,
            "grid_row": null,
            "max_height": null,
            "align_content": null,
            "visibility": null,
            "align_self": null,
            "height": null,
            "min_height": null,
            "padding": null,
            "grid_auto_rows": null,
            "grid_gap": null,
            "max_width": null,
            "order": null,
            "_view_module_version": "1.2.0",
            "grid_template_areas": null,
            "object_position": null,
            "object_fit": null,
            "grid_auto_columns": null,
            "margin": null,
            "display": null,
            "left": null
          }
        },
        "2e927f4d421442abba4086ac5dadb04e": {
          "model_module": "@jupyter-widgets/controls",
          "model_name": "DescriptionStyleModel",
          "state": {
            "_view_name": "StyleView",
            "_model_name": "DescriptionStyleModel",
            "description_width": "",
            "_view_module": "@jupyter-widgets/base",
            "_model_module_version": "1.5.0",
            "_view_count": null,
            "_view_module_version": "1.2.0",
            "_model_module": "@jupyter-widgets/controls"
          }
        },
        "790d999189ae4154bd1dfb2fd7c1891c": {
          "model_module": "@jupyter-widgets/base",
          "model_name": "LayoutModel",
          "state": {
            "_view_name": "LayoutView",
            "grid_template_rows": null,
            "right": null,
            "justify_content": null,
            "_view_module": "@jupyter-widgets/base",
            "overflow": null,
            "_model_module_version": "1.2.0",
            "_view_count": null,
            "flex_flow": null,
            "width": null,
            "min_width": null,
            "border": null,
            "align_items": null,
            "bottom": null,
            "_model_module": "@jupyter-widgets/base",
            "top": null,
            "grid_column": null,
            "overflow_y": null,
            "overflow_x": null,
            "grid_auto_flow": null,
            "grid_area": null,
            "grid_template_columns": null,
            "flex": null,
            "_model_name": "LayoutModel",
            "justify_items": null,
            "grid_row": null,
            "max_height": null,
            "align_content": null,
            "visibility": null,
            "align_self": null,
            "height": null,
            "min_height": null,
            "padding": null,
            "grid_auto_rows": null,
            "grid_gap": null,
            "max_width": null,
            "order": null,
            "_view_module_version": "1.2.0",
            "grid_template_areas": null,
            "object_position": null,
            "object_fit": null,
            "grid_auto_columns": null,
            "margin": null,
            "display": null,
            "left": null
          }
        },
        "d5cc04e5aa2d43389cb33ae179e78259": {
          "model_module": "@jupyter-widgets/controls",
          "model_name": "HBoxModel",
          "state": {
            "_view_name": "HBoxView",
            "_dom_classes": [],
            "_model_name": "HBoxModel",
            "_view_module": "@jupyter-widgets/controls",
            "_model_module_version": "1.5.0",
            "_view_count": null,
            "_view_module_version": "1.5.0",
            "box_style": "",
            "layout": "IPY_MODEL_7f015c53aad14ede968a75aca0b64927",
            "_model_module": "@jupyter-widgets/controls",
            "children": [
              "IPY_MODEL_c832f356729c471da967b4558b3546eb",
              "IPY_MODEL_49c0357e1a054bd48e14377a80f45352"
            ]
          }
        },
        "7f015c53aad14ede968a75aca0b64927": {
          "model_module": "@jupyter-widgets/base",
          "model_name": "LayoutModel",
          "state": {
            "_view_name": "LayoutView",
            "grid_template_rows": null,
            "right": null,
            "justify_content": null,
            "_view_module": "@jupyter-widgets/base",
            "overflow": null,
            "_model_module_version": "1.2.0",
            "_view_count": null,
            "flex_flow": null,
            "width": null,
            "min_width": null,
            "border": null,
            "align_items": null,
            "bottom": null,
            "_model_module": "@jupyter-widgets/base",
            "top": null,
            "grid_column": null,
            "overflow_y": null,
            "overflow_x": null,
            "grid_auto_flow": null,
            "grid_area": null,
            "grid_template_columns": null,
            "flex": null,
            "_model_name": "LayoutModel",
            "justify_items": null,
            "grid_row": null,
            "max_height": null,
            "align_content": null,
            "visibility": null,
            "align_self": null,
            "height": null,
            "min_height": null,
            "padding": null,
            "grid_auto_rows": null,
            "grid_gap": null,
            "max_width": null,
            "order": null,
            "_view_module_version": "1.2.0",
            "grid_template_areas": null,
            "object_position": null,
            "object_fit": null,
            "grid_auto_columns": null,
            "margin": null,
            "display": null,
            "left": null
          }
        },
        "c832f356729c471da967b4558b3546eb": {
          "model_module": "@jupyter-widgets/controls",
          "model_name": "FloatProgressModel",
          "state": {
            "_view_name": "ProgressView",
            "style": "IPY_MODEL_4f72aa3acee44bf583da45eba5955f0e",
            "_dom_classes": [],
            "description": "Epoch 2: 100%",
            "_model_name": "FloatProgressModel",
            "bar_style": "",
            "max": 625,
            "_view_module": "@jupyter-widgets/controls",
            "_model_module_version": "1.5.0",
            "value": 625,
            "_view_count": null,
            "_view_module_version": "1.5.0",
            "orientation": "horizontal",
            "min": 0,
            "description_tooltip": null,
            "_model_module": "@jupyter-widgets/controls",
            "layout": "IPY_MODEL_8efb17418cf64c8da9a5cdaaf0decda5"
          }
        },
        "49c0357e1a054bd48e14377a80f45352": {
          "model_module": "@jupyter-widgets/controls",
          "model_name": "HTMLModel",
          "state": {
            "_view_name": "HTMLView",
            "style": "IPY_MODEL_cf9eddf66c814932a0c96d1fb26b632d",
            "_dom_classes": [],
            "description": "",
            "_model_name": "HTMLModel",
            "placeholder": "​",
            "_view_module": "@jupyter-widgets/controls",
            "_model_module_version": "1.5.0",
            "value": " 625/625 [00:05&lt;00:00, 115.94it/s, loss=0.152]",
            "_view_count": null,
            "_view_module_version": "1.5.0",
            "description_tooltip": null,
            "_model_module": "@jupyter-widgets/controls",
            "layout": "IPY_MODEL_fa5af1a806ed4f4d91a2c202623a770d"
          }
        },
        "4f72aa3acee44bf583da45eba5955f0e": {
          "model_module": "@jupyter-widgets/controls",
          "model_name": "ProgressStyleModel",
          "state": {
            "_view_name": "StyleView",
            "_model_name": "ProgressStyleModel",
            "description_width": "initial",
            "_view_module": "@jupyter-widgets/base",
            "_model_module_version": "1.5.0",
            "_view_count": null,
            "_view_module_version": "1.2.0",
            "bar_color": null,
            "_model_module": "@jupyter-widgets/controls"
          }
        },
        "8efb17418cf64c8da9a5cdaaf0decda5": {
          "model_module": "@jupyter-widgets/base",
          "model_name": "LayoutModel",
          "state": {
            "_view_name": "LayoutView",
            "grid_template_rows": null,
            "right": null,
            "justify_content": null,
            "_view_module": "@jupyter-widgets/base",
            "overflow": null,
            "_model_module_version": "1.2.0",
            "_view_count": null,
            "flex_flow": null,
            "width": null,
            "min_width": null,
            "border": null,
            "align_items": null,
            "bottom": null,
            "_model_module": "@jupyter-widgets/base",
            "top": null,
            "grid_column": null,
            "overflow_y": null,
            "overflow_x": null,
            "grid_auto_flow": null,
            "grid_area": null,
            "grid_template_columns": null,
            "flex": null,
            "_model_name": "LayoutModel",
            "justify_items": null,
            "grid_row": null,
            "max_height": null,
            "align_content": null,
            "visibility": null,
            "align_self": null,
            "height": null,
            "min_height": null,
            "padding": null,
            "grid_auto_rows": null,
            "grid_gap": null,
            "max_width": null,
            "order": null,
            "_view_module_version": "1.2.0",
            "grid_template_areas": null,
            "object_position": null,
            "object_fit": null,
            "grid_auto_columns": null,
            "margin": null,
            "display": null,
            "left": null
          }
        },
        "cf9eddf66c814932a0c96d1fb26b632d": {
          "model_module": "@jupyter-widgets/controls",
          "model_name": "DescriptionStyleModel",
          "state": {
            "_view_name": "StyleView",
            "_model_name": "DescriptionStyleModel",
            "description_width": "",
            "_view_module": "@jupyter-widgets/base",
            "_model_module_version": "1.5.0",
            "_view_count": null,
            "_view_module_version": "1.2.0",
            "_model_module": "@jupyter-widgets/controls"
          }
        },
        "fa5af1a806ed4f4d91a2c202623a770d": {
          "model_module": "@jupyter-widgets/base",
          "model_name": "LayoutModel",
          "state": {
            "_view_name": "LayoutView",
            "grid_template_rows": null,
            "right": null,
            "justify_content": null,
            "_view_module": "@jupyter-widgets/base",
            "overflow": null,
            "_model_module_version": "1.2.0",
            "_view_count": null,
            "flex_flow": null,
            "width": null,
            "min_width": null,
            "border": null,
            "align_items": null,
            "bottom": null,
            "_model_module": "@jupyter-widgets/base",
            "top": null,
            "grid_column": null,
            "overflow_y": null,
            "overflow_x": null,
            "grid_auto_flow": null,
            "grid_area": null,
            "grid_template_columns": null,
            "flex": null,
            "_model_name": "LayoutModel",
            "justify_items": null,
            "grid_row": null,
            "max_height": null,
            "align_content": null,
            "visibility": null,
            "align_self": null,
            "height": null,
            "min_height": null,
            "padding": null,
            "grid_auto_rows": null,
            "grid_gap": null,
            "max_width": null,
            "order": null,
            "_view_module_version": "1.2.0",
            "grid_template_areas": null,
            "object_position": null,
            "object_fit": null,
            "grid_auto_columns": null,
            "margin": null,
            "display": null,
            "left": null
          }
        },
        "c5cb5560a0bf44d4b2963dc90a303762": {
          "model_module": "@jupyter-widgets/controls",
          "model_name": "HBoxModel",
          "state": {
            "_view_name": "HBoxView",
            "_dom_classes": [],
            "_model_name": "HBoxModel",
            "_view_module": "@jupyter-widgets/controls",
            "_model_module_version": "1.5.0",
            "_view_count": null,
            "_view_module_version": "1.5.0",
            "box_style": "",
            "layout": "IPY_MODEL_7bce96ad6b3b493695b64115c48dbf7f",
            "_model_module": "@jupyter-widgets/controls",
            "children": [
              "IPY_MODEL_ff30c9a552c740a9916af5129b32f9db",
              "IPY_MODEL_72ad6b46d0fa414b904ab1e5ce642e07"
            ]
          }
        },
        "7bce96ad6b3b493695b64115c48dbf7f": {
          "model_module": "@jupyter-widgets/base",
          "model_name": "LayoutModel",
          "state": {
            "_view_name": "LayoutView",
            "grid_template_rows": null,
            "right": null,
            "justify_content": null,
            "_view_module": "@jupyter-widgets/base",
            "overflow": null,
            "_model_module_version": "1.2.0",
            "_view_count": null,
            "flex_flow": null,
            "width": null,
            "min_width": null,
            "border": null,
            "align_items": null,
            "bottom": null,
            "_model_module": "@jupyter-widgets/base",
            "top": null,
            "grid_column": null,
            "overflow_y": null,
            "overflow_x": null,
            "grid_auto_flow": null,
            "grid_area": null,
            "grid_template_columns": null,
            "flex": null,
            "_model_name": "LayoutModel",
            "justify_items": null,
            "grid_row": null,
            "max_height": null,
            "align_content": null,
            "visibility": null,
            "align_self": null,
            "height": null,
            "min_height": null,
            "padding": null,
            "grid_auto_rows": null,
            "grid_gap": null,
            "max_width": null,
            "order": null,
            "_view_module_version": "1.2.0",
            "grid_template_areas": null,
            "object_position": null,
            "object_fit": null,
            "grid_auto_columns": null,
            "margin": null,
            "display": null,
            "left": null
          }
        },
        "ff30c9a552c740a9916af5129b32f9db": {
          "model_module": "@jupyter-widgets/controls",
          "model_name": "FloatProgressModel",
          "state": {
            "_view_name": "ProgressView",
            "style": "IPY_MODEL_21cd736ade5b43cab1e7531da4512b23",
            "_dom_classes": [],
            "description": "100%",
            "_model_name": "FloatProgressModel",
            "bar_style": "",
            "max": 157,
            "_view_module": "@jupyter-widgets/controls",
            "_model_module_version": "1.5.0",
            "value": 157,
            "_view_count": null,
            "_view_module_version": "1.5.0",
            "orientation": "horizontal",
            "min": 0,
            "description_tooltip": null,
            "_model_module": "@jupyter-widgets/controls",
            "layout": "IPY_MODEL_c6a402eec377483eb697942a39a413a7"
          }
        },
        "72ad6b46d0fa414b904ab1e5ce642e07": {
          "model_module": "@jupyter-widgets/controls",
          "model_name": "HTMLModel",
          "state": {
            "_view_name": "HTMLView",
            "style": "IPY_MODEL_3c6aee4e24ee4ab78588dc963f50195d",
            "_dom_classes": [],
            "description": "",
            "_model_name": "HTMLModel",
            "placeholder": "​",
            "_view_module": "@jupyter-widgets/controls",
            "_model_module_version": "1.5.0",
            "value": " 157/157 [00:00&lt;00:00, 327.81it/s]",
            "_view_count": null,
            "_view_module_version": "1.5.0",
            "description_tooltip": null,
            "_model_module": "@jupyter-widgets/controls",
            "layout": "IPY_MODEL_b493641e70e04bfe896311b738e1b9b6"
          }
        },
        "21cd736ade5b43cab1e7531da4512b23": {
          "model_module": "@jupyter-widgets/controls",
          "model_name": "ProgressStyleModel",
          "state": {
            "_view_name": "StyleView",
            "_model_name": "ProgressStyleModel",
            "description_width": "initial",
            "_view_module": "@jupyter-widgets/base",
            "_model_module_version": "1.5.0",
            "_view_count": null,
            "_view_module_version": "1.2.0",
            "bar_color": null,
            "_model_module": "@jupyter-widgets/controls"
          }
        },
        "c6a402eec377483eb697942a39a413a7": {
          "model_module": "@jupyter-widgets/base",
          "model_name": "LayoutModel",
          "state": {
            "_view_name": "LayoutView",
            "grid_template_rows": null,
            "right": null,
            "justify_content": null,
            "_view_module": "@jupyter-widgets/base",
            "overflow": null,
            "_model_module_version": "1.2.0",
            "_view_count": null,
            "flex_flow": null,
            "width": null,
            "min_width": null,
            "border": null,
            "align_items": null,
            "bottom": null,
            "_model_module": "@jupyter-widgets/base",
            "top": null,
            "grid_column": null,
            "overflow_y": null,
            "overflow_x": null,
            "grid_auto_flow": null,
            "grid_area": null,
            "grid_template_columns": null,
            "flex": null,
            "_model_name": "LayoutModel",
            "justify_items": null,
            "grid_row": null,
            "max_height": null,
            "align_content": null,
            "visibility": null,
            "align_self": null,
            "height": null,
            "min_height": null,
            "padding": null,
            "grid_auto_rows": null,
            "grid_gap": null,
            "max_width": null,
            "order": null,
            "_view_module_version": "1.2.0",
            "grid_template_areas": null,
            "object_position": null,
            "object_fit": null,
            "grid_auto_columns": null,
            "margin": null,
            "display": null,
            "left": null
          }
        },
        "3c6aee4e24ee4ab78588dc963f50195d": {
          "model_module": "@jupyter-widgets/controls",
          "model_name": "DescriptionStyleModel",
          "state": {
            "_view_name": "StyleView",
            "_model_name": "DescriptionStyleModel",
            "description_width": "",
            "_view_module": "@jupyter-widgets/base",
            "_model_module_version": "1.5.0",
            "_view_count": null,
            "_view_module_version": "1.2.0",
            "_model_module": "@jupyter-widgets/controls"
          }
        },
        "b493641e70e04bfe896311b738e1b9b6": {
          "model_module": "@jupyter-widgets/base",
          "model_name": "LayoutModel",
          "state": {
            "_view_name": "LayoutView",
            "grid_template_rows": null,
            "right": null,
            "justify_content": null,
            "_view_module": "@jupyter-widgets/base",
            "overflow": null,
            "_model_module_version": "1.2.0",
            "_view_count": null,
            "flex_flow": null,
            "width": null,
            "min_width": null,
            "border": null,
            "align_items": null,
            "bottom": null,
            "_model_module": "@jupyter-widgets/base",
            "top": null,
            "grid_column": null,
            "overflow_y": null,
            "overflow_x": null,
            "grid_auto_flow": null,
            "grid_area": null,
            "grid_template_columns": null,
            "flex": null,
            "_model_name": "LayoutModel",
            "justify_items": null,
            "grid_row": null,
            "max_height": null,
            "align_content": null,
            "visibility": null,
            "align_self": null,
            "height": null,
            "min_height": null,
            "padding": null,
            "grid_auto_rows": null,
            "grid_gap": null,
            "max_width": null,
            "order": null,
            "_view_module_version": "1.2.0",
            "grid_template_areas": null,
            "object_position": null,
            "object_fit": null,
            "grid_auto_columns": null,
            "margin": null,
            "display": null,
            "left": null
          }
        },
        "b659c5ca761e40bcbc8d55c0bc1532fb": {
          "model_module": "@jupyter-widgets/controls",
          "model_name": "HBoxModel",
          "state": {
            "_view_name": "HBoxView",
            "_dom_classes": [],
            "_model_name": "HBoxModel",
            "_view_module": "@jupyter-widgets/controls",
            "_model_module_version": "1.5.0",
            "_view_count": null,
            "_view_module_version": "1.5.0",
            "box_style": "",
            "layout": "IPY_MODEL_1d7ae85e8844482e83a84b3a225f0ee9",
            "_model_module": "@jupyter-widgets/controls",
            "children": [
              "IPY_MODEL_ed1ccad28af44a4c9c0da08cb1d2a3b0",
              "IPY_MODEL_d1d47b4363074a3a9740b3a9fbeab2e1"
            ]
          }
        },
        "1d7ae85e8844482e83a84b3a225f0ee9": {
          "model_module": "@jupyter-widgets/base",
          "model_name": "LayoutModel",
          "state": {
            "_view_name": "LayoutView",
            "grid_template_rows": null,
            "right": null,
            "justify_content": null,
            "_view_module": "@jupyter-widgets/base",
            "overflow": null,
            "_model_module_version": "1.2.0",
            "_view_count": null,
            "flex_flow": null,
            "width": null,
            "min_width": null,
            "border": null,
            "align_items": null,
            "bottom": null,
            "_model_module": "@jupyter-widgets/base",
            "top": null,
            "grid_column": null,
            "overflow_y": null,
            "overflow_x": null,
            "grid_auto_flow": null,
            "grid_area": null,
            "grid_template_columns": null,
            "flex": null,
            "_model_name": "LayoutModel",
            "justify_items": null,
            "grid_row": null,
            "max_height": null,
            "align_content": null,
            "visibility": null,
            "align_self": null,
            "height": null,
            "min_height": null,
            "padding": null,
            "grid_auto_rows": null,
            "grid_gap": null,
            "max_width": null,
            "order": null,
            "_view_module_version": "1.2.0",
            "grid_template_areas": null,
            "object_position": null,
            "object_fit": null,
            "grid_auto_columns": null,
            "margin": null,
            "display": null,
            "left": null
          }
        },
        "ed1ccad28af44a4c9c0da08cb1d2a3b0": {
          "model_module": "@jupyter-widgets/controls",
          "model_name": "FloatProgressModel",
          "state": {
            "_view_name": "ProgressView",
            "style": "IPY_MODEL_5427e8b002b04cb5b5678be1e4221adc",
            "_dom_classes": [],
            "description": "Epoch 3: 100%",
            "_model_name": "FloatProgressModel",
            "bar_style": "",
            "max": 625,
            "_view_module": "@jupyter-widgets/controls",
            "_model_module_version": "1.5.0",
            "value": 625,
            "_view_count": null,
            "_view_module_version": "1.5.0",
            "orientation": "horizontal",
            "min": 0,
            "description_tooltip": null,
            "_model_module": "@jupyter-widgets/controls",
            "layout": "IPY_MODEL_8417449ecf164843bb6ad2ba44f75244"
          }
        },
        "d1d47b4363074a3a9740b3a9fbeab2e1": {
          "model_module": "@jupyter-widgets/controls",
          "model_name": "HTMLModel",
          "state": {
            "_view_name": "HTMLView",
            "style": "IPY_MODEL_70cf2dbc20b54887a7a51cff60008b60",
            "_dom_classes": [],
            "description": "",
            "_model_name": "HTMLModel",
            "placeholder": "​",
            "_view_module": "@jupyter-widgets/controls",
            "_model_module_version": "1.5.0",
            "value": " 625/625 [00:05&lt;00:00, 115.23it/s, loss=0.0862]",
            "_view_count": null,
            "_view_module_version": "1.5.0",
            "description_tooltip": null,
            "_model_module": "@jupyter-widgets/controls",
            "layout": "IPY_MODEL_a7f2b1bfbeca400bafa4c0a0f326cdd4"
          }
        },
        "5427e8b002b04cb5b5678be1e4221adc": {
          "model_module": "@jupyter-widgets/controls",
          "model_name": "ProgressStyleModel",
          "state": {
            "_view_name": "StyleView",
            "_model_name": "ProgressStyleModel",
            "description_width": "initial",
            "_view_module": "@jupyter-widgets/base",
            "_model_module_version": "1.5.0",
            "_view_count": null,
            "_view_module_version": "1.2.0",
            "bar_color": null,
            "_model_module": "@jupyter-widgets/controls"
          }
        },
        "8417449ecf164843bb6ad2ba44f75244": {
          "model_module": "@jupyter-widgets/base",
          "model_name": "LayoutModel",
          "state": {
            "_view_name": "LayoutView",
            "grid_template_rows": null,
            "right": null,
            "justify_content": null,
            "_view_module": "@jupyter-widgets/base",
            "overflow": null,
            "_model_module_version": "1.2.0",
            "_view_count": null,
            "flex_flow": null,
            "width": null,
            "min_width": null,
            "border": null,
            "align_items": null,
            "bottom": null,
            "_model_module": "@jupyter-widgets/base",
            "top": null,
            "grid_column": null,
            "overflow_y": null,
            "overflow_x": null,
            "grid_auto_flow": null,
            "grid_area": null,
            "grid_template_columns": null,
            "flex": null,
            "_model_name": "LayoutModel",
            "justify_items": null,
            "grid_row": null,
            "max_height": null,
            "align_content": null,
            "visibility": null,
            "align_self": null,
            "height": null,
            "min_height": null,
            "padding": null,
            "grid_auto_rows": null,
            "grid_gap": null,
            "max_width": null,
            "order": null,
            "_view_module_version": "1.2.0",
            "grid_template_areas": null,
            "object_position": null,
            "object_fit": null,
            "grid_auto_columns": null,
            "margin": null,
            "display": null,
            "left": null
          }
        },
        "70cf2dbc20b54887a7a51cff60008b60": {
          "model_module": "@jupyter-widgets/controls",
          "model_name": "DescriptionStyleModel",
          "state": {
            "_view_name": "StyleView",
            "_model_name": "DescriptionStyleModel",
            "description_width": "",
            "_view_module": "@jupyter-widgets/base",
            "_model_module_version": "1.5.0",
            "_view_count": null,
            "_view_module_version": "1.2.0",
            "_model_module": "@jupyter-widgets/controls"
          }
        },
        "a7f2b1bfbeca400bafa4c0a0f326cdd4": {
          "model_module": "@jupyter-widgets/base",
          "model_name": "LayoutModel",
          "state": {
            "_view_name": "LayoutView",
            "grid_template_rows": null,
            "right": null,
            "justify_content": null,
            "_view_module": "@jupyter-widgets/base",
            "overflow": null,
            "_model_module_version": "1.2.0",
            "_view_count": null,
            "flex_flow": null,
            "width": null,
            "min_width": null,
            "border": null,
            "align_items": null,
            "bottom": null,
            "_model_module": "@jupyter-widgets/base",
            "top": null,
            "grid_column": null,
            "overflow_y": null,
            "overflow_x": null,
            "grid_auto_flow": null,
            "grid_area": null,
            "grid_template_columns": null,
            "flex": null,
            "_model_name": "LayoutModel",
            "justify_items": null,
            "grid_row": null,
            "max_height": null,
            "align_content": null,
            "visibility": null,
            "align_self": null,
            "height": null,
            "min_height": null,
            "padding": null,
            "grid_auto_rows": null,
            "grid_gap": null,
            "max_width": null,
            "order": null,
            "_view_module_version": "1.2.0",
            "grid_template_areas": null,
            "object_position": null,
            "object_fit": null,
            "grid_auto_columns": null,
            "margin": null,
            "display": null,
            "left": null
          }
        },
        "0133b298ff3e4c45b2f93f37b1bed568": {
          "model_module": "@jupyter-widgets/controls",
          "model_name": "HBoxModel",
          "state": {
            "_view_name": "HBoxView",
            "_dom_classes": [],
            "_model_name": "HBoxModel",
            "_view_module": "@jupyter-widgets/controls",
            "_model_module_version": "1.5.0",
            "_view_count": null,
            "_view_module_version": "1.5.0",
            "box_style": "",
            "layout": "IPY_MODEL_c40e0762a67c417881fb13dfd65fcbbb",
            "_model_module": "@jupyter-widgets/controls",
            "children": [
              "IPY_MODEL_429956eab6924c1ab939009960fb9d6b",
              "IPY_MODEL_58ca2368ea4f412a89f0ca234e2fc67e"
            ]
          }
        },
        "c40e0762a67c417881fb13dfd65fcbbb": {
          "model_module": "@jupyter-widgets/base",
          "model_name": "LayoutModel",
          "state": {
            "_view_name": "LayoutView",
            "grid_template_rows": null,
            "right": null,
            "justify_content": null,
            "_view_module": "@jupyter-widgets/base",
            "overflow": null,
            "_model_module_version": "1.2.0",
            "_view_count": null,
            "flex_flow": null,
            "width": null,
            "min_width": null,
            "border": null,
            "align_items": null,
            "bottom": null,
            "_model_module": "@jupyter-widgets/base",
            "top": null,
            "grid_column": null,
            "overflow_y": null,
            "overflow_x": null,
            "grid_auto_flow": null,
            "grid_area": null,
            "grid_template_columns": null,
            "flex": null,
            "_model_name": "LayoutModel",
            "justify_items": null,
            "grid_row": null,
            "max_height": null,
            "align_content": null,
            "visibility": null,
            "align_self": null,
            "height": null,
            "min_height": null,
            "padding": null,
            "grid_auto_rows": null,
            "grid_gap": null,
            "max_width": null,
            "order": null,
            "_view_module_version": "1.2.0",
            "grid_template_areas": null,
            "object_position": null,
            "object_fit": null,
            "grid_auto_columns": null,
            "margin": null,
            "display": null,
            "left": null
          }
        },
        "429956eab6924c1ab939009960fb9d6b": {
          "model_module": "@jupyter-widgets/controls",
          "model_name": "FloatProgressModel",
          "state": {
            "_view_name": "ProgressView",
            "style": "IPY_MODEL_5b99ae48b339424893cd19b49d9bbf5b",
            "_dom_classes": [],
            "description": "100%",
            "_model_name": "FloatProgressModel",
            "bar_style": "",
            "max": 157,
            "_view_module": "@jupyter-widgets/controls",
            "_model_module_version": "1.5.0",
            "value": 157,
            "_view_count": null,
            "_view_module_version": "1.5.0",
            "orientation": "horizontal",
            "min": 0,
            "description_tooltip": null,
            "_model_module": "@jupyter-widgets/controls",
            "layout": "IPY_MODEL_c0020d1cb085494bb65f050446efafbb"
          }
        },
        "58ca2368ea4f412a89f0ca234e2fc67e": {
          "model_module": "@jupyter-widgets/controls",
          "model_name": "HTMLModel",
          "state": {
            "_view_name": "HTMLView",
            "style": "IPY_MODEL_6daa3c3a6a0c4508bc4030fd7ff36f1d",
            "_dom_classes": [],
            "description": "",
            "_model_name": "HTMLModel",
            "placeholder": "​",
            "_view_module": "@jupyter-widgets/controls",
            "_model_module_version": "1.5.0",
            "value": " 157/157 [00:00&lt;00:00, 339.75it/s]",
            "_view_count": null,
            "_view_module_version": "1.5.0",
            "description_tooltip": null,
            "_model_module": "@jupyter-widgets/controls",
            "layout": "IPY_MODEL_d86688d5c4a64debabcf0bacb740788e"
          }
        },
        "5b99ae48b339424893cd19b49d9bbf5b": {
          "model_module": "@jupyter-widgets/controls",
          "model_name": "ProgressStyleModel",
          "state": {
            "_view_name": "StyleView",
            "_model_name": "ProgressStyleModel",
            "description_width": "initial",
            "_view_module": "@jupyter-widgets/base",
            "_model_module_version": "1.5.0",
            "_view_count": null,
            "_view_module_version": "1.2.0",
            "bar_color": null,
            "_model_module": "@jupyter-widgets/controls"
          }
        },
        "c0020d1cb085494bb65f050446efafbb": {
          "model_module": "@jupyter-widgets/base",
          "model_name": "LayoutModel",
          "state": {
            "_view_name": "LayoutView",
            "grid_template_rows": null,
            "right": null,
            "justify_content": null,
            "_view_module": "@jupyter-widgets/base",
            "overflow": null,
            "_model_module_version": "1.2.0",
            "_view_count": null,
            "flex_flow": null,
            "width": null,
            "min_width": null,
            "border": null,
            "align_items": null,
            "bottom": null,
            "_model_module": "@jupyter-widgets/base",
            "top": null,
            "grid_column": null,
            "overflow_y": null,
            "overflow_x": null,
            "grid_auto_flow": null,
            "grid_area": null,
            "grid_template_columns": null,
            "flex": null,
            "_model_name": "LayoutModel",
            "justify_items": null,
            "grid_row": null,
            "max_height": null,
            "align_content": null,
            "visibility": null,
            "align_self": null,
            "height": null,
            "min_height": null,
            "padding": null,
            "grid_auto_rows": null,
            "grid_gap": null,
            "max_width": null,
            "order": null,
            "_view_module_version": "1.2.0",
            "grid_template_areas": null,
            "object_position": null,
            "object_fit": null,
            "grid_auto_columns": null,
            "margin": null,
            "display": null,
            "left": null
          }
        },
        "6daa3c3a6a0c4508bc4030fd7ff36f1d": {
          "model_module": "@jupyter-widgets/controls",
          "model_name": "DescriptionStyleModel",
          "state": {
            "_view_name": "StyleView",
            "_model_name": "DescriptionStyleModel",
            "description_width": "",
            "_view_module": "@jupyter-widgets/base",
            "_model_module_version": "1.5.0",
            "_view_count": null,
            "_view_module_version": "1.2.0",
            "_model_module": "@jupyter-widgets/controls"
          }
        },
        "d86688d5c4a64debabcf0bacb740788e": {
          "model_module": "@jupyter-widgets/base",
          "model_name": "LayoutModel",
          "state": {
            "_view_name": "LayoutView",
            "grid_template_rows": null,
            "right": null,
            "justify_content": null,
            "_view_module": "@jupyter-widgets/base",
            "overflow": null,
            "_model_module_version": "1.2.0",
            "_view_count": null,
            "flex_flow": null,
            "width": null,
            "min_width": null,
            "border": null,
            "align_items": null,
            "bottom": null,
            "_model_module": "@jupyter-widgets/base",
            "top": null,
            "grid_column": null,
            "overflow_y": null,
            "overflow_x": null,
            "grid_auto_flow": null,
            "grid_area": null,
            "grid_template_columns": null,
            "flex": null,
            "_model_name": "LayoutModel",
            "justify_items": null,
            "grid_row": null,
            "max_height": null,
            "align_content": null,
            "visibility": null,
            "align_self": null,
            "height": null,
            "min_height": null,
            "padding": null,
            "grid_auto_rows": null,
            "grid_gap": null,
            "max_width": null,
            "order": null,
            "_view_module_version": "1.2.0",
            "grid_template_areas": null,
            "object_position": null,
            "object_fit": null,
            "grid_auto_columns": null,
            "margin": null,
            "display": null,
            "left": null
          }
        },
        "e9f0ebe3c4fb4982b60d4d1c6aa152e2": {
          "model_module": "@jupyter-widgets/controls",
          "model_name": "HBoxModel",
          "state": {
            "_view_name": "HBoxView",
            "_dom_classes": [],
            "_model_name": "HBoxModel",
            "_view_module": "@jupyter-widgets/controls",
            "_model_module_version": "1.5.0",
            "_view_count": null,
            "_view_module_version": "1.5.0",
            "box_style": "",
            "layout": "IPY_MODEL_f091c87198194836bf3191d82ceaf2c1",
            "_model_module": "@jupyter-widgets/controls",
            "children": [
              "IPY_MODEL_7eeb958b519d4ab2a784d9e7819dfb56",
              "IPY_MODEL_405ca93ab79240cb8923b65e234896de"
            ]
          }
        },
        "f091c87198194836bf3191d82ceaf2c1": {
          "model_module": "@jupyter-widgets/base",
          "model_name": "LayoutModel",
          "state": {
            "_view_name": "LayoutView",
            "grid_template_rows": null,
            "right": null,
            "justify_content": null,
            "_view_module": "@jupyter-widgets/base",
            "overflow": null,
            "_model_module_version": "1.2.0",
            "_view_count": null,
            "flex_flow": null,
            "width": null,
            "min_width": null,
            "border": null,
            "align_items": null,
            "bottom": null,
            "_model_module": "@jupyter-widgets/base",
            "top": null,
            "grid_column": null,
            "overflow_y": null,
            "overflow_x": null,
            "grid_auto_flow": null,
            "grid_area": null,
            "grid_template_columns": null,
            "flex": null,
            "_model_name": "LayoutModel",
            "justify_items": null,
            "grid_row": null,
            "max_height": null,
            "align_content": null,
            "visibility": null,
            "align_self": null,
            "height": null,
            "min_height": null,
            "padding": null,
            "grid_auto_rows": null,
            "grid_gap": null,
            "max_width": null,
            "order": null,
            "_view_module_version": "1.2.0",
            "grid_template_areas": null,
            "object_position": null,
            "object_fit": null,
            "grid_auto_columns": null,
            "margin": null,
            "display": null,
            "left": null
          }
        },
        "7eeb958b519d4ab2a784d9e7819dfb56": {
          "model_module": "@jupyter-widgets/controls",
          "model_name": "FloatProgressModel",
          "state": {
            "_view_name": "ProgressView",
            "style": "IPY_MODEL_ff443dd9e014472cb1c16db97a34588a",
            "_dom_classes": [],
            "description": "Epoch 4: 100%",
            "_model_name": "FloatProgressModel",
            "bar_style": "",
            "max": 625,
            "_view_module": "@jupyter-widgets/controls",
            "_model_module_version": "1.5.0",
            "value": 625,
            "_view_count": null,
            "_view_module_version": "1.5.0",
            "orientation": "horizontal",
            "min": 0,
            "description_tooltip": null,
            "_model_module": "@jupyter-widgets/controls",
            "layout": "IPY_MODEL_bff94bdf49714163b91bcde9921d6f4d"
          }
        },
        "405ca93ab79240cb8923b65e234896de": {
          "model_module": "@jupyter-widgets/controls",
          "model_name": "HTMLModel",
          "state": {
            "_view_name": "HTMLView",
            "style": "IPY_MODEL_8231c748acf94b26abdfb2ffc80ac650",
            "_dom_classes": [],
            "description": "",
            "_model_name": "HTMLModel",
            "placeholder": "​",
            "_view_module": "@jupyter-widgets/controls",
            "_model_module_version": "1.5.0",
            "value": " 625/625 [00:05&lt;00:00, 114.81it/s, loss=0.0837]",
            "_view_count": null,
            "_view_module_version": "1.5.0",
            "description_tooltip": null,
            "_model_module": "@jupyter-widgets/controls",
            "layout": "IPY_MODEL_ec5adb45207b49a1aadde56e8a017ed0"
          }
        },
        "ff443dd9e014472cb1c16db97a34588a": {
          "model_module": "@jupyter-widgets/controls",
          "model_name": "ProgressStyleModel",
          "state": {
            "_view_name": "StyleView",
            "_model_name": "ProgressStyleModel",
            "description_width": "initial",
            "_view_module": "@jupyter-widgets/base",
            "_model_module_version": "1.5.0",
            "_view_count": null,
            "_view_module_version": "1.2.0",
            "bar_color": null,
            "_model_module": "@jupyter-widgets/controls"
          }
        },
        "bff94bdf49714163b91bcde9921d6f4d": {
          "model_module": "@jupyter-widgets/base",
          "model_name": "LayoutModel",
          "state": {
            "_view_name": "LayoutView",
            "grid_template_rows": null,
            "right": null,
            "justify_content": null,
            "_view_module": "@jupyter-widgets/base",
            "overflow": null,
            "_model_module_version": "1.2.0",
            "_view_count": null,
            "flex_flow": null,
            "width": null,
            "min_width": null,
            "border": null,
            "align_items": null,
            "bottom": null,
            "_model_module": "@jupyter-widgets/base",
            "top": null,
            "grid_column": null,
            "overflow_y": null,
            "overflow_x": null,
            "grid_auto_flow": null,
            "grid_area": null,
            "grid_template_columns": null,
            "flex": null,
            "_model_name": "LayoutModel",
            "justify_items": null,
            "grid_row": null,
            "max_height": null,
            "align_content": null,
            "visibility": null,
            "align_self": null,
            "height": null,
            "min_height": null,
            "padding": null,
            "grid_auto_rows": null,
            "grid_gap": null,
            "max_width": null,
            "order": null,
            "_view_module_version": "1.2.0",
            "grid_template_areas": null,
            "object_position": null,
            "object_fit": null,
            "grid_auto_columns": null,
            "margin": null,
            "display": null,
            "left": null
          }
        },
        "8231c748acf94b26abdfb2ffc80ac650": {
          "model_module": "@jupyter-widgets/controls",
          "model_name": "DescriptionStyleModel",
          "state": {
            "_view_name": "StyleView",
            "_model_name": "DescriptionStyleModel",
            "description_width": "",
            "_view_module": "@jupyter-widgets/base",
            "_model_module_version": "1.5.0",
            "_view_count": null,
            "_view_module_version": "1.2.0",
            "_model_module": "@jupyter-widgets/controls"
          }
        },
        "ec5adb45207b49a1aadde56e8a017ed0": {
          "model_module": "@jupyter-widgets/base",
          "model_name": "LayoutModel",
          "state": {
            "_view_name": "LayoutView",
            "grid_template_rows": null,
            "right": null,
            "justify_content": null,
            "_view_module": "@jupyter-widgets/base",
            "overflow": null,
            "_model_module_version": "1.2.0",
            "_view_count": null,
            "flex_flow": null,
            "width": null,
            "min_width": null,
            "border": null,
            "align_items": null,
            "bottom": null,
            "_model_module": "@jupyter-widgets/base",
            "top": null,
            "grid_column": null,
            "overflow_y": null,
            "overflow_x": null,
            "grid_auto_flow": null,
            "grid_area": null,
            "grid_template_columns": null,
            "flex": null,
            "_model_name": "LayoutModel",
            "justify_items": null,
            "grid_row": null,
            "max_height": null,
            "align_content": null,
            "visibility": null,
            "align_self": null,
            "height": null,
            "min_height": null,
            "padding": null,
            "grid_auto_rows": null,
            "grid_gap": null,
            "max_width": null,
            "order": null,
            "_view_module_version": "1.2.0",
            "grid_template_areas": null,
            "object_position": null,
            "object_fit": null,
            "grid_auto_columns": null,
            "margin": null,
            "display": null,
            "left": null
          }
        },
        "e00136326577461da82c73b578393361": {
          "model_module": "@jupyter-widgets/controls",
          "model_name": "HBoxModel",
          "state": {
            "_view_name": "HBoxView",
            "_dom_classes": [],
            "_model_name": "HBoxModel",
            "_view_module": "@jupyter-widgets/controls",
            "_model_module_version": "1.5.0",
            "_view_count": null,
            "_view_module_version": "1.5.0",
            "box_style": "",
            "layout": "IPY_MODEL_121d2d0f652d4a8abe8b97eb6a03ab21",
            "_model_module": "@jupyter-widgets/controls",
            "children": [
              "IPY_MODEL_9f55075070ad49d1b9a3842e162a2159",
              "IPY_MODEL_98db7339938e470c8ae8f280950974cb"
            ]
          }
        },
        "121d2d0f652d4a8abe8b97eb6a03ab21": {
          "model_module": "@jupyter-widgets/base",
          "model_name": "LayoutModel",
          "state": {
            "_view_name": "LayoutView",
            "grid_template_rows": null,
            "right": null,
            "justify_content": null,
            "_view_module": "@jupyter-widgets/base",
            "overflow": null,
            "_model_module_version": "1.2.0",
            "_view_count": null,
            "flex_flow": null,
            "width": null,
            "min_width": null,
            "border": null,
            "align_items": null,
            "bottom": null,
            "_model_module": "@jupyter-widgets/base",
            "top": null,
            "grid_column": null,
            "overflow_y": null,
            "overflow_x": null,
            "grid_auto_flow": null,
            "grid_area": null,
            "grid_template_columns": null,
            "flex": null,
            "_model_name": "LayoutModel",
            "justify_items": null,
            "grid_row": null,
            "max_height": null,
            "align_content": null,
            "visibility": null,
            "align_self": null,
            "height": null,
            "min_height": null,
            "padding": null,
            "grid_auto_rows": null,
            "grid_gap": null,
            "max_width": null,
            "order": null,
            "_view_module_version": "1.2.0",
            "grid_template_areas": null,
            "object_position": null,
            "object_fit": null,
            "grid_auto_columns": null,
            "margin": null,
            "display": null,
            "left": null
          }
        },
        "9f55075070ad49d1b9a3842e162a2159": {
          "model_module": "@jupyter-widgets/controls",
          "model_name": "FloatProgressModel",
          "state": {
            "_view_name": "ProgressView",
            "style": "IPY_MODEL_4ab32b1337a64a7ba3ba2ac685a7c816",
            "_dom_classes": [],
            "description": "100%",
            "_model_name": "FloatProgressModel",
            "bar_style": "",
            "max": 157,
            "_view_module": "@jupyter-widgets/controls",
            "_model_module_version": "1.5.0",
            "value": 157,
            "_view_count": null,
            "_view_module_version": "1.5.0",
            "orientation": "horizontal",
            "min": 0,
            "description_tooltip": null,
            "_model_module": "@jupyter-widgets/controls",
            "layout": "IPY_MODEL_86ba18575ac14329b48bdd7611346c3d"
          }
        },
        "98db7339938e470c8ae8f280950974cb": {
          "model_module": "@jupyter-widgets/controls",
          "model_name": "HTMLModel",
          "state": {
            "_view_name": "HTMLView",
            "style": "IPY_MODEL_64979bdbb3ce4ddeadcbfd2b29237760",
            "_dom_classes": [],
            "description": "",
            "_model_name": "HTMLModel",
            "placeholder": "​",
            "_view_module": "@jupyter-widgets/controls",
            "_model_module_version": "1.5.0",
            "value": " 157/157 [00:00&lt;00:00, 314.19it/s]",
            "_view_count": null,
            "_view_module_version": "1.5.0",
            "description_tooltip": null,
            "_model_module": "@jupyter-widgets/controls",
            "layout": "IPY_MODEL_0427fa3bd8c746daa5e71c5ae629bc7c"
          }
        },
        "4ab32b1337a64a7ba3ba2ac685a7c816": {
          "model_module": "@jupyter-widgets/controls",
          "model_name": "ProgressStyleModel",
          "state": {
            "_view_name": "StyleView",
            "_model_name": "ProgressStyleModel",
            "description_width": "initial",
            "_view_module": "@jupyter-widgets/base",
            "_model_module_version": "1.5.0",
            "_view_count": null,
            "_view_module_version": "1.2.0",
            "bar_color": null,
            "_model_module": "@jupyter-widgets/controls"
          }
        },
        "86ba18575ac14329b48bdd7611346c3d": {
          "model_module": "@jupyter-widgets/base",
          "model_name": "LayoutModel",
          "state": {
            "_view_name": "LayoutView",
            "grid_template_rows": null,
            "right": null,
            "justify_content": null,
            "_view_module": "@jupyter-widgets/base",
            "overflow": null,
            "_model_module_version": "1.2.0",
            "_view_count": null,
            "flex_flow": null,
            "width": null,
            "min_width": null,
            "border": null,
            "align_items": null,
            "bottom": null,
            "_model_module": "@jupyter-widgets/base",
            "top": null,
            "grid_column": null,
            "overflow_y": null,
            "overflow_x": null,
            "grid_auto_flow": null,
            "grid_area": null,
            "grid_template_columns": null,
            "flex": null,
            "_model_name": "LayoutModel",
            "justify_items": null,
            "grid_row": null,
            "max_height": null,
            "align_content": null,
            "visibility": null,
            "align_self": null,
            "height": null,
            "min_height": null,
            "padding": null,
            "grid_auto_rows": null,
            "grid_gap": null,
            "max_width": null,
            "order": null,
            "_view_module_version": "1.2.0",
            "grid_template_areas": null,
            "object_position": null,
            "object_fit": null,
            "grid_auto_columns": null,
            "margin": null,
            "display": null,
            "left": null
          }
        },
        "64979bdbb3ce4ddeadcbfd2b29237760": {
          "model_module": "@jupyter-widgets/controls",
          "model_name": "DescriptionStyleModel",
          "state": {
            "_view_name": "StyleView",
            "_model_name": "DescriptionStyleModel",
            "description_width": "",
            "_view_module": "@jupyter-widgets/base",
            "_model_module_version": "1.5.0",
            "_view_count": null,
            "_view_module_version": "1.2.0",
            "_model_module": "@jupyter-widgets/controls"
          }
        },
        "0427fa3bd8c746daa5e71c5ae629bc7c": {
          "model_module": "@jupyter-widgets/base",
          "model_name": "LayoutModel",
          "state": {
            "_view_name": "LayoutView",
            "grid_template_rows": null,
            "right": null,
            "justify_content": null,
            "_view_module": "@jupyter-widgets/base",
            "overflow": null,
            "_model_module_version": "1.2.0",
            "_view_count": null,
            "flex_flow": null,
            "width": null,
            "min_width": null,
            "border": null,
            "align_items": null,
            "bottom": null,
            "_model_module": "@jupyter-widgets/base",
            "top": null,
            "grid_column": null,
            "overflow_y": null,
            "overflow_x": null,
            "grid_auto_flow": null,
            "grid_area": null,
            "grid_template_columns": null,
            "flex": null,
            "_model_name": "LayoutModel",
            "justify_items": null,
            "grid_row": null,
            "max_height": null,
            "align_content": null,
            "visibility": null,
            "align_self": null,
            "height": null,
            "min_height": null,
            "padding": null,
            "grid_auto_rows": null,
            "grid_gap": null,
            "max_width": null,
            "order": null,
            "_view_module_version": "1.2.0",
            "grid_template_areas": null,
            "object_position": null,
            "object_fit": null,
            "grid_auto_columns": null,
            "margin": null,
            "display": null,
            "left": null
          }
        },
        "6efb66dadd8d44a59bc7a7ad78603c64": {
          "model_module": "@jupyter-widgets/controls",
          "model_name": "HBoxModel",
          "state": {
            "_view_name": "HBoxView",
            "_dom_classes": [],
            "_model_name": "HBoxModel",
            "_view_module": "@jupyter-widgets/controls",
            "_model_module_version": "1.5.0",
            "_view_count": null,
            "_view_module_version": "1.5.0",
            "box_style": "",
            "layout": "IPY_MODEL_b78903f6d0284fc6b147981fc36da052",
            "_model_module": "@jupyter-widgets/controls",
            "children": [
              "IPY_MODEL_5c03401ddaf841fdbdd145adadb35545",
              "IPY_MODEL_affafa7f23574a04a67d4f0d4541b988"
            ]
          }
        },
        "b78903f6d0284fc6b147981fc36da052": {
          "model_module": "@jupyter-widgets/base",
          "model_name": "LayoutModel",
          "state": {
            "_view_name": "LayoutView",
            "grid_template_rows": null,
            "right": null,
            "justify_content": null,
            "_view_module": "@jupyter-widgets/base",
            "overflow": null,
            "_model_module_version": "1.2.0",
            "_view_count": null,
            "flex_flow": null,
            "width": null,
            "min_width": null,
            "border": null,
            "align_items": null,
            "bottom": null,
            "_model_module": "@jupyter-widgets/base",
            "top": null,
            "grid_column": null,
            "overflow_y": null,
            "overflow_x": null,
            "grid_auto_flow": null,
            "grid_area": null,
            "grid_template_columns": null,
            "flex": null,
            "_model_name": "LayoutModel",
            "justify_items": null,
            "grid_row": null,
            "max_height": null,
            "align_content": null,
            "visibility": null,
            "align_self": null,
            "height": null,
            "min_height": null,
            "padding": null,
            "grid_auto_rows": null,
            "grid_gap": null,
            "max_width": null,
            "order": null,
            "_view_module_version": "1.2.0",
            "grid_template_areas": null,
            "object_position": null,
            "object_fit": null,
            "grid_auto_columns": null,
            "margin": null,
            "display": null,
            "left": null
          }
        },
        "5c03401ddaf841fdbdd145adadb35545": {
          "model_module": "@jupyter-widgets/controls",
          "model_name": "FloatProgressModel",
          "state": {
            "_view_name": "ProgressView",
            "style": "IPY_MODEL_d0e555bb300a4e528acf311802068dd9",
            "_dom_classes": [],
            "description": "Epoch 5: 100%",
            "_model_name": "FloatProgressModel",
            "bar_style": "",
            "max": 625,
            "_view_module": "@jupyter-widgets/controls",
            "_model_module_version": "1.5.0",
            "value": 625,
            "_view_count": null,
            "_view_module_version": "1.5.0",
            "orientation": "horizontal",
            "min": 0,
            "description_tooltip": null,
            "_model_module": "@jupyter-widgets/controls",
            "layout": "IPY_MODEL_8793a3f1bfd74db8aca7a7ede6ef736d"
          }
        },
        "affafa7f23574a04a67d4f0d4541b988": {
          "model_module": "@jupyter-widgets/controls",
          "model_name": "HTMLModel",
          "state": {
            "_view_name": "HTMLView",
            "style": "IPY_MODEL_d93466b680c140c6bc1e8786e9742393",
            "_dom_classes": [],
            "description": "",
            "_model_name": "HTMLModel",
            "placeholder": "​",
            "_view_module": "@jupyter-widgets/controls",
            "_model_module_version": "1.5.0",
            "value": " 625/625 [00:05&lt;00:00, 112.60it/s, loss=0.147]",
            "_view_count": null,
            "_view_module_version": "1.5.0",
            "description_tooltip": null,
            "_model_module": "@jupyter-widgets/controls",
            "layout": "IPY_MODEL_48bd06b01fd64a0dbdd8c3caf1e53b14"
          }
        },
        "d0e555bb300a4e528acf311802068dd9": {
          "model_module": "@jupyter-widgets/controls",
          "model_name": "ProgressStyleModel",
          "state": {
            "_view_name": "StyleView",
            "_model_name": "ProgressStyleModel",
            "description_width": "initial",
            "_view_module": "@jupyter-widgets/base",
            "_model_module_version": "1.5.0",
            "_view_count": null,
            "_view_module_version": "1.2.0",
            "bar_color": null,
            "_model_module": "@jupyter-widgets/controls"
          }
        },
        "8793a3f1bfd74db8aca7a7ede6ef736d": {
          "model_module": "@jupyter-widgets/base",
          "model_name": "LayoutModel",
          "state": {
            "_view_name": "LayoutView",
            "grid_template_rows": null,
            "right": null,
            "justify_content": null,
            "_view_module": "@jupyter-widgets/base",
            "overflow": null,
            "_model_module_version": "1.2.0",
            "_view_count": null,
            "flex_flow": null,
            "width": null,
            "min_width": null,
            "border": null,
            "align_items": null,
            "bottom": null,
            "_model_module": "@jupyter-widgets/base",
            "top": null,
            "grid_column": null,
            "overflow_y": null,
            "overflow_x": null,
            "grid_auto_flow": null,
            "grid_area": null,
            "grid_template_columns": null,
            "flex": null,
            "_model_name": "LayoutModel",
            "justify_items": null,
            "grid_row": null,
            "max_height": null,
            "align_content": null,
            "visibility": null,
            "align_self": null,
            "height": null,
            "min_height": null,
            "padding": null,
            "grid_auto_rows": null,
            "grid_gap": null,
            "max_width": null,
            "order": null,
            "_view_module_version": "1.2.0",
            "grid_template_areas": null,
            "object_position": null,
            "object_fit": null,
            "grid_auto_columns": null,
            "margin": null,
            "display": null,
            "left": null
          }
        },
        "d93466b680c140c6bc1e8786e9742393": {
          "model_module": "@jupyter-widgets/controls",
          "model_name": "DescriptionStyleModel",
          "state": {
            "_view_name": "StyleView",
            "_model_name": "DescriptionStyleModel",
            "description_width": "",
            "_view_module": "@jupyter-widgets/base",
            "_model_module_version": "1.5.0",
            "_view_count": null,
            "_view_module_version": "1.2.0",
            "_model_module": "@jupyter-widgets/controls"
          }
        },
        "48bd06b01fd64a0dbdd8c3caf1e53b14": {
          "model_module": "@jupyter-widgets/base",
          "model_name": "LayoutModel",
          "state": {
            "_view_name": "LayoutView",
            "grid_template_rows": null,
            "right": null,
            "justify_content": null,
            "_view_module": "@jupyter-widgets/base",
            "overflow": null,
            "_model_module_version": "1.2.0",
            "_view_count": null,
            "flex_flow": null,
            "width": null,
            "min_width": null,
            "border": null,
            "align_items": null,
            "bottom": null,
            "_model_module": "@jupyter-widgets/base",
            "top": null,
            "grid_column": null,
            "overflow_y": null,
            "overflow_x": null,
            "grid_auto_flow": null,
            "grid_area": null,
            "grid_template_columns": null,
            "flex": null,
            "_model_name": "LayoutModel",
            "justify_items": null,
            "grid_row": null,
            "max_height": null,
            "align_content": null,
            "visibility": null,
            "align_self": null,
            "height": null,
            "min_height": null,
            "padding": null,
            "grid_auto_rows": null,
            "grid_gap": null,
            "max_width": null,
            "order": null,
            "_view_module_version": "1.2.0",
            "grid_template_areas": null,
            "object_position": null,
            "object_fit": null,
            "grid_auto_columns": null,
            "margin": null,
            "display": null,
            "left": null
          }
        },
        "999cffdb95de46d1a672b01222e803a3": {
          "model_module": "@jupyter-widgets/controls",
          "model_name": "HBoxModel",
          "state": {
            "_view_name": "HBoxView",
            "_dom_classes": [],
            "_model_name": "HBoxModel",
            "_view_module": "@jupyter-widgets/controls",
            "_model_module_version": "1.5.0",
            "_view_count": null,
            "_view_module_version": "1.5.0",
            "box_style": "",
            "layout": "IPY_MODEL_38b6df9ad18041aca0dc8f1d63406882",
            "_model_module": "@jupyter-widgets/controls",
            "children": [
              "IPY_MODEL_b8c5cd08019a4946a3b6bb4b9787a64f",
              "IPY_MODEL_a683c708cf9d4bef8c462599d5e0b435"
            ]
          }
        },
        "38b6df9ad18041aca0dc8f1d63406882": {
          "model_module": "@jupyter-widgets/base",
          "model_name": "LayoutModel",
          "state": {
            "_view_name": "LayoutView",
            "grid_template_rows": null,
            "right": null,
            "justify_content": null,
            "_view_module": "@jupyter-widgets/base",
            "overflow": null,
            "_model_module_version": "1.2.0",
            "_view_count": null,
            "flex_flow": null,
            "width": null,
            "min_width": null,
            "border": null,
            "align_items": null,
            "bottom": null,
            "_model_module": "@jupyter-widgets/base",
            "top": null,
            "grid_column": null,
            "overflow_y": null,
            "overflow_x": null,
            "grid_auto_flow": null,
            "grid_area": null,
            "grid_template_columns": null,
            "flex": null,
            "_model_name": "LayoutModel",
            "justify_items": null,
            "grid_row": null,
            "max_height": null,
            "align_content": null,
            "visibility": null,
            "align_self": null,
            "height": null,
            "min_height": null,
            "padding": null,
            "grid_auto_rows": null,
            "grid_gap": null,
            "max_width": null,
            "order": null,
            "_view_module_version": "1.2.0",
            "grid_template_areas": null,
            "object_position": null,
            "object_fit": null,
            "grid_auto_columns": null,
            "margin": null,
            "display": null,
            "left": null
          }
        },
        "b8c5cd08019a4946a3b6bb4b9787a64f": {
          "model_module": "@jupyter-widgets/controls",
          "model_name": "FloatProgressModel",
          "state": {
            "_view_name": "ProgressView",
            "style": "IPY_MODEL_da214f41275a4b67aaf3b54f62f5c170",
            "_dom_classes": [],
            "description": "100%",
            "_model_name": "FloatProgressModel",
            "bar_style": "",
            "max": 157,
            "_view_module": "@jupyter-widgets/controls",
            "_model_module_version": "1.5.0",
            "value": 157,
            "_view_count": null,
            "_view_module_version": "1.5.0",
            "orientation": "horizontal",
            "min": 0,
            "description_tooltip": null,
            "_model_module": "@jupyter-widgets/controls",
            "layout": "IPY_MODEL_9e1814b1534646088ac01a7b13d21550"
          }
        },
        "a683c708cf9d4bef8c462599d5e0b435": {
          "model_module": "@jupyter-widgets/controls",
          "model_name": "HTMLModel",
          "state": {
            "_view_name": "HTMLView",
            "style": "IPY_MODEL_02c1d9a76af74f7f9a8258c8dc62bfef",
            "_dom_classes": [],
            "description": "",
            "_model_name": "HTMLModel",
            "placeholder": "​",
            "_view_module": "@jupyter-widgets/controls",
            "_model_module_version": "1.5.0",
            "value": " 157/157 [00:00&lt;00:00, 323.23it/s]",
            "_view_count": null,
            "_view_module_version": "1.5.0",
            "description_tooltip": null,
            "_model_module": "@jupyter-widgets/controls",
            "layout": "IPY_MODEL_022064a2e64240e8b8429a2269b25352"
          }
        },
        "da214f41275a4b67aaf3b54f62f5c170": {
          "model_module": "@jupyter-widgets/controls",
          "model_name": "ProgressStyleModel",
          "state": {
            "_view_name": "StyleView",
            "_model_name": "ProgressStyleModel",
            "description_width": "initial",
            "_view_module": "@jupyter-widgets/base",
            "_model_module_version": "1.5.0",
            "_view_count": null,
            "_view_module_version": "1.2.0",
            "bar_color": null,
            "_model_module": "@jupyter-widgets/controls"
          }
        },
        "9e1814b1534646088ac01a7b13d21550": {
          "model_module": "@jupyter-widgets/base",
          "model_name": "LayoutModel",
          "state": {
            "_view_name": "LayoutView",
            "grid_template_rows": null,
            "right": null,
            "justify_content": null,
            "_view_module": "@jupyter-widgets/base",
            "overflow": null,
            "_model_module_version": "1.2.0",
            "_view_count": null,
            "flex_flow": null,
            "width": null,
            "min_width": null,
            "border": null,
            "align_items": null,
            "bottom": null,
            "_model_module": "@jupyter-widgets/base",
            "top": null,
            "grid_column": null,
            "overflow_y": null,
            "overflow_x": null,
            "grid_auto_flow": null,
            "grid_area": null,
            "grid_template_columns": null,
            "flex": null,
            "_model_name": "LayoutModel",
            "justify_items": null,
            "grid_row": null,
            "max_height": null,
            "align_content": null,
            "visibility": null,
            "align_self": null,
            "height": null,
            "min_height": null,
            "padding": null,
            "grid_auto_rows": null,
            "grid_gap": null,
            "max_width": null,
            "order": null,
            "_view_module_version": "1.2.0",
            "grid_template_areas": null,
            "object_position": null,
            "object_fit": null,
            "grid_auto_columns": null,
            "margin": null,
            "display": null,
            "left": null
          }
        },
        "02c1d9a76af74f7f9a8258c8dc62bfef": {
          "model_module": "@jupyter-widgets/controls",
          "model_name": "DescriptionStyleModel",
          "state": {
            "_view_name": "StyleView",
            "_model_name": "DescriptionStyleModel",
            "description_width": "",
            "_view_module": "@jupyter-widgets/base",
            "_model_module_version": "1.5.0",
            "_view_count": null,
            "_view_module_version": "1.2.0",
            "_model_module": "@jupyter-widgets/controls"
          }
        },
        "022064a2e64240e8b8429a2269b25352": {
          "model_module": "@jupyter-widgets/base",
          "model_name": "LayoutModel",
          "state": {
            "_view_name": "LayoutView",
            "grid_template_rows": null,
            "right": null,
            "justify_content": null,
            "_view_module": "@jupyter-widgets/base",
            "overflow": null,
            "_model_module_version": "1.2.0",
            "_view_count": null,
            "flex_flow": null,
            "width": null,
            "min_width": null,
            "border": null,
            "align_items": null,
            "bottom": null,
            "_model_module": "@jupyter-widgets/base",
            "top": null,
            "grid_column": null,
            "overflow_y": null,
            "overflow_x": null,
            "grid_auto_flow": null,
            "grid_area": null,
            "grid_template_columns": null,
            "flex": null,
            "_model_name": "LayoutModel",
            "justify_items": null,
            "grid_row": null,
            "max_height": null,
            "align_content": null,
            "visibility": null,
            "align_self": null,
            "height": null,
            "min_height": null,
            "padding": null,
            "grid_auto_rows": null,
            "grid_gap": null,
            "max_width": null,
            "order": null,
            "_view_module_version": "1.2.0",
            "grid_template_areas": null,
            "object_position": null,
            "object_fit": null,
            "grid_auto_columns": null,
            "margin": null,
            "display": null,
            "left": null
          }
        },
        "708cce81297e405cb40965f31005ba78": {
          "model_module": "@jupyter-widgets/controls",
          "model_name": "HBoxModel",
          "state": {
            "_view_name": "HBoxView",
            "_dom_classes": [],
            "_model_name": "HBoxModel",
            "_view_module": "@jupyter-widgets/controls",
            "_model_module_version": "1.5.0",
            "_view_count": null,
            "_view_module_version": "1.5.0",
            "box_style": "",
            "layout": "IPY_MODEL_41a73065c83d4b50a88ba1a68a264e7b",
            "_model_module": "@jupyter-widgets/controls",
            "children": [
              "IPY_MODEL_fcab17cca85342dcaecfe1884504b303",
              "IPY_MODEL_1bdf499102a24773a1027d0a27e65df5"
            ]
          }
        },
        "41a73065c83d4b50a88ba1a68a264e7b": {
          "model_module": "@jupyter-widgets/base",
          "model_name": "LayoutModel",
          "state": {
            "_view_name": "LayoutView",
            "grid_template_rows": null,
            "right": null,
            "justify_content": null,
            "_view_module": "@jupyter-widgets/base",
            "overflow": null,
            "_model_module_version": "1.2.0",
            "_view_count": null,
            "flex_flow": null,
            "width": null,
            "min_width": null,
            "border": null,
            "align_items": null,
            "bottom": null,
            "_model_module": "@jupyter-widgets/base",
            "top": null,
            "grid_column": null,
            "overflow_y": null,
            "overflow_x": null,
            "grid_auto_flow": null,
            "grid_area": null,
            "grid_template_columns": null,
            "flex": null,
            "_model_name": "LayoutModel",
            "justify_items": null,
            "grid_row": null,
            "max_height": null,
            "align_content": null,
            "visibility": null,
            "align_self": null,
            "height": null,
            "min_height": null,
            "padding": null,
            "grid_auto_rows": null,
            "grid_gap": null,
            "max_width": null,
            "order": null,
            "_view_module_version": "1.2.0",
            "grid_template_areas": null,
            "object_position": null,
            "object_fit": null,
            "grid_auto_columns": null,
            "margin": null,
            "display": null,
            "left": null
          }
        },
        "fcab17cca85342dcaecfe1884504b303": {
          "model_module": "@jupyter-widgets/controls",
          "model_name": "FloatProgressModel",
          "state": {
            "_view_name": "ProgressView",
            "style": "IPY_MODEL_281367fecf6b4fafb954217c366d776f",
            "_dom_classes": [],
            "description": "Epoch 6: 100%",
            "_model_name": "FloatProgressModel",
            "bar_style": "",
            "max": 625,
            "_view_module": "@jupyter-widgets/controls",
            "_model_module_version": "1.5.0",
            "value": 625,
            "_view_count": null,
            "_view_module_version": "1.5.0",
            "orientation": "horizontal",
            "min": 0,
            "description_tooltip": null,
            "_model_module": "@jupyter-widgets/controls",
            "layout": "IPY_MODEL_5a4ed89af0904a94aa38f613ee933106"
          }
        },
        "1bdf499102a24773a1027d0a27e65df5": {
          "model_module": "@jupyter-widgets/controls",
          "model_name": "HTMLModel",
          "state": {
            "_view_name": "HTMLView",
            "style": "IPY_MODEL_54483aa8ea3242459635263229f5dbd8",
            "_dom_classes": [],
            "description": "",
            "_model_name": "HTMLModel",
            "placeholder": "​",
            "_view_module": "@jupyter-widgets/controls",
            "_model_module_version": "1.5.0",
            "value": " 625/625 [00:05&lt;00:00, 110.01it/s, loss=0.122]",
            "_view_count": null,
            "_view_module_version": "1.5.0",
            "description_tooltip": null,
            "_model_module": "@jupyter-widgets/controls",
            "layout": "IPY_MODEL_690bb531f5a54713850541ca8ac880d9"
          }
        },
        "281367fecf6b4fafb954217c366d776f": {
          "model_module": "@jupyter-widgets/controls",
          "model_name": "ProgressStyleModel",
          "state": {
            "_view_name": "StyleView",
            "_model_name": "ProgressStyleModel",
            "description_width": "initial",
            "_view_module": "@jupyter-widgets/base",
            "_model_module_version": "1.5.0",
            "_view_count": null,
            "_view_module_version": "1.2.0",
            "bar_color": null,
            "_model_module": "@jupyter-widgets/controls"
          }
        },
        "5a4ed89af0904a94aa38f613ee933106": {
          "model_module": "@jupyter-widgets/base",
          "model_name": "LayoutModel",
          "state": {
            "_view_name": "LayoutView",
            "grid_template_rows": null,
            "right": null,
            "justify_content": null,
            "_view_module": "@jupyter-widgets/base",
            "overflow": null,
            "_model_module_version": "1.2.0",
            "_view_count": null,
            "flex_flow": null,
            "width": null,
            "min_width": null,
            "border": null,
            "align_items": null,
            "bottom": null,
            "_model_module": "@jupyter-widgets/base",
            "top": null,
            "grid_column": null,
            "overflow_y": null,
            "overflow_x": null,
            "grid_auto_flow": null,
            "grid_area": null,
            "grid_template_columns": null,
            "flex": null,
            "_model_name": "LayoutModel",
            "justify_items": null,
            "grid_row": null,
            "max_height": null,
            "align_content": null,
            "visibility": null,
            "align_self": null,
            "height": null,
            "min_height": null,
            "padding": null,
            "grid_auto_rows": null,
            "grid_gap": null,
            "max_width": null,
            "order": null,
            "_view_module_version": "1.2.0",
            "grid_template_areas": null,
            "object_position": null,
            "object_fit": null,
            "grid_auto_columns": null,
            "margin": null,
            "display": null,
            "left": null
          }
        },
        "54483aa8ea3242459635263229f5dbd8": {
          "model_module": "@jupyter-widgets/controls",
          "model_name": "DescriptionStyleModel",
          "state": {
            "_view_name": "StyleView",
            "_model_name": "DescriptionStyleModel",
            "description_width": "",
            "_view_module": "@jupyter-widgets/base",
            "_model_module_version": "1.5.0",
            "_view_count": null,
            "_view_module_version": "1.2.0",
            "_model_module": "@jupyter-widgets/controls"
          }
        },
        "690bb531f5a54713850541ca8ac880d9": {
          "model_module": "@jupyter-widgets/base",
          "model_name": "LayoutModel",
          "state": {
            "_view_name": "LayoutView",
            "grid_template_rows": null,
            "right": null,
            "justify_content": null,
            "_view_module": "@jupyter-widgets/base",
            "overflow": null,
            "_model_module_version": "1.2.0",
            "_view_count": null,
            "flex_flow": null,
            "width": null,
            "min_width": null,
            "border": null,
            "align_items": null,
            "bottom": null,
            "_model_module": "@jupyter-widgets/base",
            "top": null,
            "grid_column": null,
            "overflow_y": null,
            "overflow_x": null,
            "grid_auto_flow": null,
            "grid_area": null,
            "grid_template_columns": null,
            "flex": null,
            "_model_name": "LayoutModel",
            "justify_items": null,
            "grid_row": null,
            "max_height": null,
            "align_content": null,
            "visibility": null,
            "align_self": null,
            "height": null,
            "min_height": null,
            "padding": null,
            "grid_auto_rows": null,
            "grid_gap": null,
            "max_width": null,
            "order": null,
            "_view_module_version": "1.2.0",
            "grid_template_areas": null,
            "object_position": null,
            "object_fit": null,
            "grid_auto_columns": null,
            "margin": null,
            "display": null,
            "left": null
          }
        },
        "c4c610f910fc4a64a4608c0443712c3a": {
          "model_module": "@jupyter-widgets/controls",
          "model_name": "HBoxModel",
          "state": {
            "_view_name": "HBoxView",
            "_dom_classes": [],
            "_model_name": "HBoxModel",
            "_view_module": "@jupyter-widgets/controls",
            "_model_module_version": "1.5.0",
            "_view_count": null,
            "_view_module_version": "1.5.0",
            "box_style": "",
            "layout": "IPY_MODEL_020b8e4cc8d64f31aa6d956071ab3973",
            "_model_module": "@jupyter-widgets/controls",
            "children": [
              "IPY_MODEL_6115c2d97fe540e49f9e2820b583ddde",
              "IPY_MODEL_94581410031c4f248c530368b28c0443"
            ]
          }
        },
        "020b8e4cc8d64f31aa6d956071ab3973": {
          "model_module": "@jupyter-widgets/base",
          "model_name": "LayoutModel",
          "state": {
            "_view_name": "LayoutView",
            "grid_template_rows": null,
            "right": null,
            "justify_content": null,
            "_view_module": "@jupyter-widgets/base",
            "overflow": null,
            "_model_module_version": "1.2.0",
            "_view_count": null,
            "flex_flow": null,
            "width": null,
            "min_width": null,
            "border": null,
            "align_items": null,
            "bottom": null,
            "_model_module": "@jupyter-widgets/base",
            "top": null,
            "grid_column": null,
            "overflow_y": null,
            "overflow_x": null,
            "grid_auto_flow": null,
            "grid_area": null,
            "grid_template_columns": null,
            "flex": null,
            "_model_name": "LayoutModel",
            "justify_items": null,
            "grid_row": null,
            "max_height": null,
            "align_content": null,
            "visibility": null,
            "align_self": null,
            "height": null,
            "min_height": null,
            "padding": null,
            "grid_auto_rows": null,
            "grid_gap": null,
            "max_width": null,
            "order": null,
            "_view_module_version": "1.2.0",
            "grid_template_areas": null,
            "object_position": null,
            "object_fit": null,
            "grid_auto_columns": null,
            "margin": null,
            "display": null,
            "left": null
          }
        },
        "6115c2d97fe540e49f9e2820b583ddde": {
          "model_module": "@jupyter-widgets/controls",
          "model_name": "FloatProgressModel",
          "state": {
            "_view_name": "ProgressView",
            "style": "IPY_MODEL_971119dd5fea468eb03a7fcecaf4fc17",
            "_dom_classes": [],
            "description": "100%",
            "_model_name": "FloatProgressModel",
            "bar_style": "",
            "max": 157,
            "_view_module": "@jupyter-widgets/controls",
            "_model_module_version": "1.5.0",
            "value": 157,
            "_view_count": null,
            "_view_module_version": "1.5.0",
            "orientation": "horizontal",
            "min": 0,
            "description_tooltip": null,
            "_model_module": "@jupyter-widgets/controls",
            "layout": "IPY_MODEL_373715e0c82f46d18847d924e780b7ad"
          }
        },
        "94581410031c4f248c530368b28c0443": {
          "model_module": "@jupyter-widgets/controls",
          "model_name": "HTMLModel",
          "state": {
            "_view_name": "HTMLView",
            "style": "IPY_MODEL_f915c00a157e4737ab62604946824f55",
            "_dom_classes": [],
            "description": "",
            "_model_name": "HTMLModel",
            "placeholder": "​",
            "_view_module": "@jupyter-widgets/controls",
            "_model_module_version": "1.5.0",
            "value": " 157/157 [00:00&lt;00:00, 323.08it/s]",
            "_view_count": null,
            "_view_module_version": "1.5.0",
            "description_tooltip": null,
            "_model_module": "@jupyter-widgets/controls",
            "layout": "IPY_MODEL_57f53992b137494f831bd283af933edb"
          }
        },
        "971119dd5fea468eb03a7fcecaf4fc17": {
          "model_module": "@jupyter-widgets/controls",
          "model_name": "ProgressStyleModel",
          "state": {
            "_view_name": "StyleView",
            "_model_name": "ProgressStyleModel",
            "description_width": "initial",
            "_view_module": "@jupyter-widgets/base",
            "_model_module_version": "1.5.0",
            "_view_count": null,
            "_view_module_version": "1.2.0",
            "bar_color": null,
            "_model_module": "@jupyter-widgets/controls"
          }
        },
        "373715e0c82f46d18847d924e780b7ad": {
          "model_module": "@jupyter-widgets/base",
          "model_name": "LayoutModel",
          "state": {
            "_view_name": "LayoutView",
            "grid_template_rows": null,
            "right": null,
            "justify_content": null,
            "_view_module": "@jupyter-widgets/base",
            "overflow": null,
            "_model_module_version": "1.2.0",
            "_view_count": null,
            "flex_flow": null,
            "width": null,
            "min_width": null,
            "border": null,
            "align_items": null,
            "bottom": null,
            "_model_module": "@jupyter-widgets/base",
            "top": null,
            "grid_column": null,
            "overflow_y": null,
            "overflow_x": null,
            "grid_auto_flow": null,
            "grid_area": null,
            "grid_template_columns": null,
            "flex": null,
            "_model_name": "LayoutModel",
            "justify_items": null,
            "grid_row": null,
            "max_height": null,
            "align_content": null,
            "visibility": null,
            "align_self": null,
            "height": null,
            "min_height": null,
            "padding": null,
            "grid_auto_rows": null,
            "grid_gap": null,
            "max_width": null,
            "order": null,
            "_view_module_version": "1.2.0",
            "grid_template_areas": null,
            "object_position": null,
            "object_fit": null,
            "grid_auto_columns": null,
            "margin": null,
            "display": null,
            "left": null
          }
        },
        "f915c00a157e4737ab62604946824f55": {
          "model_module": "@jupyter-widgets/controls",
          "model_name": "DescriptionStyleModel",
          "state": {
            "_view_name": "StyleView",
            "_model_name": "DescriptionStyleModel",
            "description_width": "",
            "_view_module": "@jupyter-widgets/base",
            "_model_module_version": "1.5.0",
            "_view_count": null,
            "_view_module_version": "1.2.0",
            "_model_module": "@jupyter-widgets/controls"
          }
        },
        "57f53992b137494f831bd283af933edb": {
          "model_module": "@jupyter-widgets/base",
          "model_name": "LayoutModel",
          "state": {
            "_view_name": "LayoutView",
            "grid_template_rows": null,
            "right": null,
            "justify_content": null,
            "_view_module": "@jupyter-widgets/base",
            "overflow": null,
            "_model_module_version": "1.2.0",
            "_view_count": null,
            "flex_flow": null,
            "width": null,
            "min_width": null,
            "border": null,
            "align_items": null,
            "bottom": null,
            "_model_module": "@jupyter-widgets/base",
            "top": null,
            "grid_column": null,
            "overflow_y": null,
            "overflow_x": null,
            "grid_auto_flow": null,
            "grid_area": null,
            "grid_template_columns": null,
            "flex": null,
            "_model_name": "LayoutModel",
            "justify_items": null,
            "grid_row": null,
            "max_height": null,
            "align_content": null,
            "visibility": null,
            "align_self": null,
            "height": null,
            "min_height": null,
            "padding": null,
            "grid_auto_rows": null,
            "grid_gap": null,
            "max_width": null,
            "order": null,
            "_view_module_version": "1.2.0",
            "grid_template_areas": null,
            "object_position": null,
            "object_fit": null,
            "grid_auto_columns": null,
            "margin": null,
            "display": null,
            "left": null
          }
        },
        "2e2836b383b94bb9bab5f36f274e08ad": {
          "model_module": "@jupyter-widgets/controls",
          "model_name": "HBoxModel",
          "state": {
            "_view_name": "HBoxView",
            "_dom_classes": [],
            "_model_name": "HBoxModel",
            "_view_module": "@jupyter-widgets/controls",
            "_model_module_version": "1.5.0",
            "_view_count": null,
            "_view_module_version": "1.5.0",
            "box_style": "",
            "layout": "IPY_MODEL_e350286e62fe4fe48c83663e0df41376",
            "_model_module": "@jupyter-widgets/controls",
            "children": [
              "IPY_MODEL_e98ef41ab6f8462dbe39b322828b7006",
              "IPY_MODEL_25f322200a094acbb4ef8a2378394263"
            ]
          }
        },
        "e350286e62fe4fe48c83663e0df41376": {
          "model_module": "@jupyter-widgets/base",
          "model_name": "LayoutModel",
          "state": {
            "_view_name": "LayoutView",
            "grid_template_rows": null,
            "right": null,
            "justify_content": null,
            "_view_module": "@jupyter-widgets/base",
            "overflow": null,
            "_model_module_version": "1.2.0",
            "_view_count": null,
            "flex_flow": null,
            "width": null,
            "min_width": null,
            "border": null,
            "align_items": null,
            "bottom": null,
            "_model_module": "@jupyter-widgets/base",
            "top": null,
            "grid_column": null,
            "overflow_y": null,
            "overflow_x": null,
            "grid_auto_flow": null,
            "grid_area": null,
            "grid_template_columns": null,
            "flex": null,
            "_model_name": "LayoutModel",
            "justify_items": null,
            "grid_row": null,
            "max_height": null,
            "align_content": null,
            "visibility": null,
            "align_self": null,
            "height": null,
            "min_height": null,
            "padding": null,
            "grid_auto_rows": null,
            "grid_gap": null,
            "max_width": null,
            "order": null,
            "_view_module_version": "1.2.0",
            "grid_template_areas": null,
            "object_position": null,
            "object_fit": null,
            "grid_auto_columns": null,
            "margin": null,
            "display": null,
            "left": null
          }
        },
        "e98ef41ab6f8462dbe39b322828b7006": {
          "model_module": "@jupyter-widgets/controls",
          "model_name": "FloatProgressModel",
          "state": {
            "_view_name": "ProgressView",
            "style": "IPY_MODEL_b5abd84d12c4486b9ba492b8bff1dcd5",
            "_dom_classes": [],
            "description": "Epoch 7: 100%",
            "_model_name": "FloatProgressModel",
            "bar_style": "",
            "max": 625,
            "_view_module": "@jupyter-widgets/controls",
            "_model_module_version": "1.5.0",
            "value": 625,
            "_view_count": null,
            "_view_module_version": "1.5.0",
            "orientation": "horizontal",
            "min": 0,
            "description_tooltip": null,
            "_model_module": "@jupyter-widgets/controls",
            "layout": "IPY_MODEL_b7f89004836240e581099c3f45bec55f"
          }
        },
        "25f322200a094acbb4ef8a2378394263": {
          "model_module": "@jupyter-widgets/controls",
          "model_name": "HTMLModel",
          "state": {
            "_view_name": "HTMLView",
            "style": "IPY_MODEL_503289fcc8c74b30b613d383a8461d96",
            "_dom_classes": [],
            "description": "",
            "_model_name": "HTMLModel",
            "placeholder": "​",
            "_view_module": "@jupyter-widgets/controls",
            "_model_module_version": "1.5.0",
            "value": " 625/625 [00:05&lt;00:00, 114.70it/s, loss=0.168]",
            "_view_count": null,
            "_view_module_version": "1.5.0",
            "description_tooltip": null,
            "_model_module": "@jupyter-widgets/controls",
            "layout": "IPY_MODEL_0a10e24b655744b09a71093c7559e0a7"
          }
        },
        "b5abd84d12c4486b9ba492b8bff1dcd5": {
          "model_module": "@jupyter-widgets/controls",
          "model_name": "ProgressStyleModel",
          "state": {
            "_view_name": "StyleView",
            "_model_name": "ProgressStyleModel",
            "description_width": "initial",
            "_view_module": "@jupyter-widgets/base",
            "_model_module_version": "1.5.0",
            "_view_count": null,
            "_view_module_version": "1.2.0",
            "bar_color": null,
            "_model_module": "@jupyter-widgets/controls"
          }
        },
        "b7f89004836240e581099c3f45bec55f": {
          "model_module": "@jupyter-widgets/base",
          "model_name": "LayoutModel",
          "state": {
            "_view_name": "LayoutView",
            "grid_template_rows": null,
            "right": null,
            "justify_content": null,
            "_view_module": "@jupyter-widgets/base",
            "overflow": null,
            "_model_module_version": "1.2.0",
            "_view_count": null,
            "flex_flow": null,
            "width": null,
            "min_width": null,
            "border": null,
            "align_items": null,
            "bottom": null,
            "_model_module": "@jupyter-widgets/base",
            "top": null,
            "grid_column": null,
            "overflow_y": null,
            "overflow_x": null,
            "grid_auto_flow": null,
            "grid_area": null,
            "grid_template_columns": null,
            "flex": null,
            "_model_name": "LayoutModel",
            "justify_items": null,
            "grid_row": null,
            "max_height": null,
            "align_content": null,
            "visibility": null,
            "align_self": null,
            "height": null,
            "min_height": null,
            "padding": null,
            "grid_auto_rows": null,
            "grid_gap": null,
            "max_width": null,
            "order": null,
            "_view_module_version": "1.2.0",
            "grid_template_areas": null,
            "object_position": null,
            "object_fit": null,
            "grid_auto_columns": null,
            "margin": null,
            "display": null,
            "left": null
          }
        },
        "503289fcc8c74b30b613d383a8461d96": {
          "model_module": "@jupyter-widgets/controls",
          "model_name": "DescriptionStyleModel",
          "state": {
            "_view_name": "StyleView",
            "_model_name": "DescriptionStyleModel",
            "description_width": "",
            "_view_module": "@jupyter-widgets/base",
            "_model_module_version": "1.5.0",
            "_view_count": null,
            "_view_module_version": "1.2.0",
            "_model_module": "@jupyter-widgets/controls"
          }
        },
        "0a10e24b655744b09a71093c7559e0a7": {
          "model_module": "@jupyter-widgets/base",
          "model_name": "LayoutModel",
          "state": {
            "_view_name": "LayoutView",
            "grid_template_rows": null,
            "right": null,
            "justify_content": null,
            "_view_module": "@jupyter-widgets/base",
            "overflow": null,
            "_model_module_version": "1.2.0",
            "_view_count": null,
            "flex_flow": null,
            "width": null,
            "min_width": null,
            "border": null,
            "align_items": null,
            "bottom": null,
            "_model_module": "@jupyter-widgets/base",
            "top": null,
            "grid_column": null,
            "overflow_y": null,
            "overflow_x": null,
            "grid_auto_flow": null,
            "grid_area": null,
            "grid_template_columns": null,
            "flex": null,
            "_model_name": "LayoutModel",
            "justify_items": null,
            "grid_row": null,
            "max_height": null,
            "align_content": null,
            "visibility": null,
            "align_self": null,
            "height": null,
            "min_height": null,
            "padding": null,
            "grid_auto_rows": null,
            "grid_gap": null,
            "max_width": null,
            "order": null,
            "_view_module_version": "1.2.0",
            "grid_template_areas": null,
            "object_position": null,
            "object_fit": null,
            "grid_auto_columns": null,
            "margin": null,
            "display": null,
            "left": null
          }
        },
        "1bf71c65195f4ccbb7f07a5ddbd8f810": {
          "model_module": "@jupyter-widgets/controls",
          "model_name": "HBoxModel",
          "state": {
            "_view_name": "HBoxView",
            "_dom_classes": [],
            "_model_name": "HBoxModel",
            "_view_module": "@jupyter-widgets/controls",
            "_model_module_version": "1.5.0",
            "_view_count": null,
            "_view_module_version": "1.5.0",
            "box_style": "",
            "layout": "IPY_MODEL_de6106178af64d478bd623c5d6ff8a67",
            "_model_module": "@jupyter-widgets/controls",
            "children": [
              "IPY_MODEL_4ad369e00853482cb90bff60305f7f4f",
              "IPY_MODEL_5d08d6ecc34045928f3f31c2da490f17"
            ]
          }
        },
        "de6106178af64d478bd623c5d6ff8a67": {
          "model_module": "@jupyter-widgets/base",
          "model_name": "LayoutModel",
          "state": {
            "_view_name": "LayoutView",
            "grid_template_rows": null,
            "right": null,
            "justify_content": null,
            "_view_module": "@jupyter-widgets/base",
            "overflow": null,
            "_model_module_version": "1.2.0",
            "_view_count": null,
            "flex_flow": null,
            "width": null,
            "min_width": null,
            "border": null,
            "align_items": null,
            "bottom": null,
            "_model_module": "@jupyter-widgets/base",
            "top": null,
            "grid_column": null,
            "overflow_y": null,
            "overflow_x": null,
            "grid_auto_flow": null,
            "grid_area": null,
            "grid_template_columns": null,
            "flex": null,
            "_model_name": "LayoutModel",
            "justify_items": null,
            "grid_row": null,
            "max_height": null,
            "align_content": null,
            "visibility": null,
            "align_self": null,
            "height": null,
            "min_height": null,
            "padding": null,
            "grid_auto_rows": null,
            "grid_gap": null,
            "max_width": null,
            "order": null,
            "_view_module_version": "1.2.0",
            "grid_template_areas": null,
            "object_position": null,
            "object_fit": null,
            "grid_auto_columns": null,
            "margin": null,
            "display": null,
            "left": null
          }
        },
        "4ad369e00853482cb90bff60305f7f4f": {
          "model_module": "@jupyter-widgets/controls",
          "model_name": "FloatProgressModel",
          "state": {
            "_view_name": "ProgressView",
            "style": "IPY_MODEL_2825fac7195d4a2c9e34442fbc030972",
            "_dom_classes": [],
            "description": "100%",
            "_model_name": "FloatProgressModel",
            "bar_style": "",
            "max": 157,
            "_view_module": "@jupyter-widgets/controls",
            "_model_module_version": "1.5.0",
            "value": 157,
            "_view_count": null,
            "_view_module_version": "1.5.0",
            "orientation": "horizontal",
            "min": 0,
            "description_tooltip": null,
            "_model_module": "@jupyter-widgets/controls",
            "layout": "IPY_MODEL_000f98b25968469b9e0e118a88ded83c"
          }
        },
        "5d08d6ecc34045928f3f31c2da490f17": {
          "model_module": "@jupyter-widgets/controls",
          "model_name": "HTMLModel",
          "state": {
            "_view_name": "HTMLView",
            "style": "IPY_MODEL_e4672af417f44c2bacbb7c78c1439e91",
            "_dom_classes": [],
            "description": "",
            "_model_name": "HTMLModel",
            "placeholder": "​",
            "_view_module": "@jupyter-widgets/controls",
            "_model_module_version": "1.5.0",
            "value": " 157/157 [00:00&lt;00:00, 305.41it/s]",
            "_view_count": null,
            "_view_module_version": "1.5.0",
            "description_tooltip": null,
            "_model_module": "@jupyter-widgets/controls",
            "layout": "IPY_MODEL_d95169f5245a4f539b970a9e12f15d06"
          }
        },
        "2825fac7195d4a2c9e34442fbc030972": {
          "model_module": "@jupyter-widgets/controls",
          "model_name": "ProgressStyleModel",
          "state": {
            "_view_name": "StyleView",
            "_model_name": "ProgressStyleModel",
            "description_width": "initial",
            "_view_module": "@jupyter-widgets/base",
            "_model_module_version": "1.5.0",
            "_view_count": null,
            "_view_module_version": "1.2.0",
            "bar_color": null,
            "_model_module": "@jupyter-widgets/controls"
          }
        },
        "000f98b25968469b9e0e118a88ded83c": {
          "model_module": "@jupyter-widgets/base",
          "model_name": "LayoutModel",
          "state": {
            "_view_name": "LayoutView",
            "grid_template_rows": null,
            "right": null,
            "justify_content": null,
            "_view_module": "@jupyter-widgets/base",
            "overflow": null,
            "_model_module_version": "1.2.0",
            "_view_count": null,
            "flex_flow": null,
            "width": null,
            "min_width": null,
            "border": null,
            "align_items": null,
            "bottom": null,
            "_model_module": "@jupyter-widgets/base",
            "top": null,
            "grid_column": null,
            "overflow_y": null,
            "overflow_x": null,
            "grid_auto_flow": null,
            "grid_area": null,
            "grid_template_columns": null,
            "flex": null,
            "_model_name": "LayoutModel",
            "justify_items": null,
            "grid_row": null,
            "max_height": null,
            "align_content": null,
            "visibility": null,
            "align_self": null,
            "height": null,
            "min_height": null,
            "padding": null,
            "grid_auto_rows": null,
            "grid_gap": null,
            "max_width": null,
            "order": null,
            "_view_module_version": "1.2.0",
            "grid_template_areas": null,
            "object_position": null,
            "object_fit": null,
            "grid_auto_columns": null,
            "margin": null,
            "display": null,
            "left": null
          }
        },
        "e4672af417f44c2bacbb7c78c1439e91": {
          "model_module": "@jupyter-widgets/controls",
          "model_name": "DescriptionStyleModel",
          "state": {
            "_view_name": "StyleView",
            "_model_name": "DescriptionStyleModel",
            "description_width": "",
            "_view_module": "@jupyter-widgets/base",
            "_model_module_version": "1.5.0",
            "_view_count": null,
            "_view_module_version": "1.2.0",
            "_model_module": "@jupyter-widgets/controls"
          }
        },
        "d95169f5245a4f539b970a9e12f15d06": {
          "model_module": "@jupyter-widgets/base",
          "model_name": "LayoutModel",
          "state": {
            "_view_name": "LayoutView",
            "grid_template_rows": null,
            "right": null,
            "justify_content": null,
            "_view_module": "@jupyter-widgets/base",
            "overflow": null,
            "_model_module_version": "1.2.0",
            "_view_count": null,
            "flex_flow": null,
            "width": null,
            "min_width": null,
            "border": null,
            "align_items": null,
            "bottom": null,
            "_model_module": "@jupyter-widgets/base",
            "top": null,
            "grid_column": null,
            "overflow_y": null,
            "overflow_x": null,
            "grid_auto_flow": null,
            "grid_area": null,
            "grid_template_columns": null,
            "flex": null,
            "_model_name": "LayoutModel",
            "justify_items": null,
            "grid_row": null,
            "max_height": null,
            "align_content": null,
            "visibility": null,
            "align_self": null,
            "height": null,
            "min_height": null,
            "padding": null,
            "grid_auto_rows": null,
            "grid_gap": null,
            "max_width": null,
            "order": null,
            "_view_module_version": "1.2.0",
            "grid_template_areas": null,
            "object_position": null,
            "object_fit": null,
            "grid_auto_columns": null,
            "margin": null,
            "display": null,
            "left": null
          }
        },
        "2c7fe83c410f41a4a43f11c9ffe7a2ff": {
          "model_module": "@jupyter-widgets/controls",
          "model_name": "HBoxModel",
          "state": {
            "_view_name": "HBoxView",
            "_dom_classes": [],
            "_model_name": "HBoxModel",
            "_view_module": "@jupyter-widgets/controls",
            "_model_module_version": "1.5.0",
            "_view_count": null,
            "_view_module_version": "1.5.0",
            "box_style": "",
            "layout": "IPY_MODEL_638c65a56a454d23904b9698f71b98f1",
            "_model_module": "@jupyter-widgets/controls",
            "children": [
              "IPY_MODEL_3dfa10fe9bf74be69534b36f64c1d4c7",
              "IPY_MODEL_f88967ceddbd46ecadf0fc3fc3cf3a66"
            ]
          }
        },
        "638c65a56a454d23904b9698f71b98f1": {
          "model_module": "@jupyter-widgets/base",
          "model_name": "LayoutModel",
          "state": {
            "_view_name": "LayoutView",
            "grid_template_rows": null,
            "right": null,
            "justify_content": null,
            "_view_module": "@jupyter-widgets/base",
            "overflow": null,
            "_model_module_version": "1.2.0",
            "_view_count": null,
            "flex_flow": null,
            "width": null,
            "min_width": null,
            "border": null,
            "align_items": null,
            "bottom": null,
            "_model_module": "@jupyter-widgets/base",
            "top": null,
            "grid_column": null,
            "overflow_y": null,
            "overflow_x": null,
            "grid_auto_flow": null,
            "grid_area": null,
            "grid_template_columns": null,
            "flex": null,
            "_model_name": "LayoutModel",
            "justify_items": null,
            "grid_row": null,
            "max_height": null,
            "align_content": null,
            "visibility": null,
            "align_self": null,
            "height": null,
            "min_height": null,
            "padding": null,
            "grid_auto_rows": null,
            "grid_gap": null,
            "max_width": null,
            "order": null,
            "_view_module_version": "1.2.0",
            "grid_template_areas": null,
            "object_position": null,
            "object_fit": null,
            "grid_auto_columns": null,
            "margin": null,
            "display": null,
            "left": null
          }
        },
        "3dfa10fe9bf74be69534b36f64c1d4c7": {
          "model_module": "@jupyter-widgets/controls",
          "model_name": "FloatProgressModel",
          "state": {
            "_view_name": "ProgressView",
            "style": "IPY_MODEL_bec12e43f42443a59be20b2b7b2f32d8",
            "_dom_classes": [],
            "description": "Epoch 8: 100%",
            "_model_name": "FloatProgressModel",
            "bar_style": "",
            "max": 625,
            "_view_module": "@jupyter-widgets/controls",
            "_model_module_version": "1.5.0",
            "value": 625,
            "_view_count": null,
            "_view_module_version": "1.5.0",
            "orientation": "horizontal",
            "min": 0,
            "description_tooltip": null,
            "_model_module": "@jupyter-widgets/controls",
            "layout": "IPY_MODEL_5c6ad739031c460b8a4018889e532526"
          }
        },
        "f88967ceddbd46ecadf0fc3fc3cf3a66": {
          "model_module": "@jupyter-widgets/controls",
          "model_name": "HTMLModel",
          "state": {
            "_view_name": "HTMLView",
            "style": "IPY_MODEL_1a1ae87219184bbfbb7d86b3ed95e1b0",
            "_dom_classes": [],
            "description": "",
            "_model_name": "HTMLModel",
            "placeholder": "​",
            "_view_module": "@jupyter-widgets/controls",
            "_model_module_version": "1.5.0",
            "value": " 625/625 [00:05&lt;00:00, 109.48it/s, loss=0.101]",
            "_view_count": null,
            "_view_module_version": "1.5.0",
            "description_tooltip": null,
            "_model_module": "@jupyter-widgets/controls",
            "layout": "IPY_MODEL_d967f2517d91499c8ea81fd768c81c54"
          }
        },
        "bec12e43f42443a59be20b2b7b2f32d8": {
          "model_module": "@jupyter-widgets/controls",
          "model_name": "ProgressStyleModel",
          "state": {
            "_view_name": "StyleView",
            "_model_name": "ProgressStyleModel",
            "description_width": "initial",
            "_view_module": "@jupyter-widgets/base",
            "_model_module_version": "1.5.0",
            "_view_count": null,
            "_view_module_version": "1.2.0",
            "bar_color": null,
            "_model_module": "@jupyter-widgets/controls"
          }
        },
        "5c6ad739031c460b8a4018889e532526": {
          "model_module": "@jupyter-widgets/base",
          "model_name": "LayoutModel",
          "state": {
            "_view_name": "LayoutView",
            "grid_template_rows": null,
            "right": null,
            "justify_content": null,
            "_view_module": "@jupyter-widgets/base",
            "overflow": null,
            "_model_module_version": "1.2.0",
            "_view_count": null,
            "flex_flow": null,
            "width": null,
            "min_width": null,
            "border": null,
            "align_items": null,
            "bottom": null,
            "_model_module": "@jupyter-widgets/base",
            "top": null,
            "grid_column": null,
            "overflow_y": null,
            "overflow_x": null,
            "grid_auto_flow": null,
            "grid_area": null,
            "grid_template_columns": null,
            "flex": null,
            "_model_name": "LayoutModel",
            "justify_items": null,
            "grid_row": null,
            "max_height": null,
            "align_content": null,
            "visibility": null,
            "align_self": null,
            "height": null,
            "min_height": null,
            "padding": null,
            "grid_auto_rows": null,
            "grid_gap": null,
            "max_width": null,
            "order": null,
            "_view_module_version": "1.2.0",
            "grid_template_areas": null,
            "object_position": null,
            "object_fit": null,
            "grid_auto_columns": null,
            "margin": null,
            "display": null,
            "left": null
          }
        },
        "1a1ae87219184bbfbb7d86b3ed95e1b0": {
          "model_module": "@jupyter-widgets/controls",
          "model_name": "DescriptionStyleModel",
          "state": {
            "_view_name": "StyleView",
            "_model_name": "DescriptionStyleModel",
            "description_width": "",
            "_view_module": "@jupyter-widgets/base",
            "_model_module_version": "1.5.0",
            "_view_count": null,
            "_view_module_version": "1.2.0",
            "_model_module": "@jupyter-widgets/controls"
          }
        },
        "d967f2517d91499c8ea81fd768c81c54": {
          "model_module": "@jupyter-widgets/base",
          "model_name": "LayoutModel",
          "state": {
            "_view_name": "LayoutView",
            "grid_template_rows": null,
            "right": null,
            "justify_content": null,
            "_view_module": "@jupyter-widgets/base",
            "overflow": null,
            "_model_module_version": "1.2.0",
            "_view_count": null,
            "flex_flow": null,
            "width": null,
            "min_width": null,
            "border": null,
            "align_items": null,
            "bottom": null,
            "_model_module": "@jupyter-widgets/base",
            "top": null,
            "grid_column": null,
            "overflow_y": null,
            "overflow_x": null,
            "grid_auto_flow": null,
            "grid_area": null,
            "grid_template_columns": null,
            "flex": null,
            "_model_name": "LayoutModel",
            "justify_items": null,
            "grid_row": null,
            "max_height": null,
            "align_content": null,
            "visibility": null,
            "align_self": null,
            "height": null,
            "min_height": null,
            "padding": null,
            "grid_auto_rows": null,
            "grid_gap": null,
            "max_width": null,
            "order": null,
            "_view_module_version": "1.2.0",
            "grid_template_areas": null,
            "object_position": null,
            "object_fit": null,
            "grid_auto_columns": null,
            "margin": null,
            "display": null,
            "left": null
          }
        },
        "ef470b87d52a42a4ac459c466914ae03": {
          "model_module": "@jupyter-widgets/controls",
          "model_name": "HBoxModel",
          "state": {
            "_view_name": "HBoxView",
            "_dom_classes": [],
            "_model_name": "HBoxModel",
            "_view_module": "@jupyter-widgets/controls",
            "_model_module_version": "1.5.0",
            "_view_count": null,
            "_view_module_version": "1.5.0",
            "box_style": "",
            "layout": "IPY_MODEL_aaccaf62711f495f9b0a07fc282ce086",
            "_model_module": "@jupyter-widgets/controls",
            "children": [
              "IPY_MODEL_43677e89118c4f87bcd6b724d3f49aa2",
              "IPY_MODEL_90912802d53347768b6e8b45366c7e67"
            ]
          }
        },
        "aaccaf62711f495f9b0a07fc282ce086": {
          "model_module": "@jupyter-widgets/base",
          "model_name": "LayoutModel",
          "state": {
            "_view_name": "LayoutView",
            "grid_template_rows": null,
            "right": null,
            "justify_content": null,
            "_view_module": "@jupyter-widgets/base",
            "overflow": null,
            "_model_module_version": "1.2.0",
            "_view_count": null,
            "flex_flow": null,
            "width": null,
            "min_width": null,
            "border": null,
            "align_items": null,
            "bottom": null,
            "_model_module": "@jupyter-widgets/base",
            "top": null,
            "grid_column": null,
            "overflow_y": null,
            "overflow_x": null,
            "grid_auto_flow": null,
            "grid_area": null,
            "grid_template_columns": null,
            "flex": null,
            "_model_name": "LayoutModel",
            "justify_items": null,
            "grid_row": null,
            "max_height": null,
            "align_content": null,
            "visibility": null,
            "align_self": null,
            "height": null,
            "min_height": null,
            "padding": null,
            "grid_auto_rows": null,
            "grid_gap": null,
            "max_width": null,
            "order": null,
            "_view_module_version": "1.2.0",
            "grid_template_areas": null,
            "object_position": null,
            "object_fit": null,
            "grid_auto_columns": null,
            "margin": null,
            "display": null,
            "left": null
          }
        },
        "43677e89118c4f87bcd6b724d3f49aa2": {
          "model_module": "@jupyter-widgets/controls",
          "model_name": "FloatProgressModel",
          "state": {
            "_view_name": "ProgressView",
            "style": "IPY_MODEL_aeaa0d27f38c43fb809175c0f50dc55e",
            "_dom_classes": [],
            "description": "100%",
            "_model_name": "FloatProgressModel",
            "bar_style": "",
            "max": 157,
            "_view_module": "@jupyter-widgets/controls",
            "_model_module_version": "1.5.0",
            "value": 157,
            "_view_count": null,
            "_view_module_version": "1.5.0",
            "orientation": "horizontal",
            "min": 0,
            "description_tooltip": null,
            "_model_module": "@jupyter-widgets/controls",
            "layout": "IPY_MODEL_ad0988e794d3468aa4edaabd2d6559c0"
          }
        },
        "90912802d53347768b6e8b45366c7e67": {
          "model_module": "@jupyter-widgets/controls",
          "model_name": "HTMLModel",
          "state": {
            "_view_name": "HTMLView",
            "style": "IPY_MODEL_b2f23b1bfdb142b4aa0d3b78c36d2fd1",
            "_dom_classes": [],
            "description": "",
            "_model_name": "HTMLModel",
            "placeholder": "​",
            "_view_module": "@jupyter-widgets/controls",
            "_model_module_version": "1.5.0",
            "value": " 157/157 [00:00&lt;00:00, 324.72it/s]",
            "_view_count": null,
            "_view_module_version": "1.5.0",
            "description_tooltip": null,
            "_model_module": "@jupyter-widgets/controls",
            "layout": "IPY_MODEL_556b91916be2421d9efebe63be5aba6a"
          }
        },
        "aeaa0d27f38c43fb809175c0f50dc55e": {
          "model_module": "@jupyter-widgets/controls",
          "model_name": "ProgressStyleModel",
          "state": {
            "_view_name": "StyleView",
            "_model_name": "ProgressStyleModel",
            "description_width": "initial",
            "_view_module": "@jupyter-widgets/base",
            "_model_module_version": "1.5.0",
            "_view_count": null,
            "_view_module_version": "1.2.0",
            "bar_color": null,
            "_model_module": "@jupyter-widgets/controls"
          }
        },
        "ad0988e794d3468aa4edaabd2d6559c0": {
          "model_module": "@jupyter-widgets/base",
          "model_name": "LayoutModel",
          "state": {
            "_view_name": "LayoutView",
            "grid_template_rows": null,
            "right": null,
            "justify_content": null,
            "_view_module": "@jupyter-widgets/base",
            "overflow": null,
            "_model_module_version": "1.2.0",
            "_view_count": null,
            "flex_flow": null,
            "width": null,
            "min_width": null,
            "border": null,
            "align_items": null,
            "bottom": null,
            "_model_module": "@jupyter-widgets/base",
            "top": null,
            "grid_column": null,
            "overflow_y": null,
            "overflow_x": null,
            "grid_auto_flow": null,
            "grid_area": null,
            "grid_template_columns": null,
            "flex": null,
            "_model_name": "LayoutModel",
            "justify_items": null,
            "grid_row": null,
            "max_height": null,
            "align_content": null,
            "visibility": null,
            "align_self": null,
            "height": null,
            "min_height": null,
            "padding": null,
            "grid_auto_rows": null,
            "grid_gap": null,
            "max_width": null,
            "order": null,
            "_view_module_version": "1.2.0",
            "grid_template_areas": null,
            "object_position": null,
            "object_fit": null,
            "grid_auto_columns": null,
            "margin": null,
            "display": null,
            "left": null
          }
        },
        "b2f23b1bfdb142b4aa0d3b78c36d2fd1": {
          "model_module": "@jupyter-widgets/controls",
          "model_name": "DescriptionStyleModel",
          "state": {
            "_view_name": "StyleView",
            "_model_name": "DescriptionStyleModel",
            "description_width": "",
            "_view_module": "@jupyter-widgets/base",
            "_model_module_version": "1.5.0",
            "_view_count": null,
            "_view_module_version": "1.2.0",
            "_model_module": "@jupyter-widgets/controls"
          }
        },
        "556b91916be2421d9efebe63be5aba6a": {
          "model_module": "@jupyter-widgets/base",
          "model_name": "LayoutModel",
          "state": {
            "_view_name": "LayoutView",
            "grid_template_rows": null,
            "right": null,
            "justify_content": null,
            "_view_module": "@jupyter-widgets/base",
            "overflow": null,
            "_model_module_version": "1.2.0",
            "_view_count": null,
            "flex_flow": null,
            "width": null,
            "min_width": null,
            "border": null,
            "align_items": null,
            "bottom": null,
            "_model_module": "@jupyter-widgets/base",
            "top": null,
            "grid_column": null,
            "overflow_y": null,
            "overflow_x": null,
            "grid_auto_flow": null,
            "grid_area": null,
            "grid_template_columns": null,
            "flex": null,
            "_model_name": "LayoutModel",
            "justify_items": null,
            "grid_row": null,
            "max_height": null,
            "align_content": null,
            "visibility": null,
            "align_self": null,
            "height": null,
            "min_height": null,
            "padding": null,
            "grid_auto_rows": null,
            "grid_gap": null,
            "max_width": null,
            "order": null,
            "_view_module_version": "1.2.0",
            "grid_template_areas": null,
            "object_position": null,
            "object_fit": null,
            "grid_auto_columns": null,
            "margin": null,
            "display": null,
            "left": null
          }
        },
        "9d10a999f7bd434c81216260a4881241": {
          "model_module": "@jupyter-widgets/controls",
          "model_name": "HBoxModel",
          "state": {
            "_view_name": "HBoxView",
            "_dom_classes": [],
            "_model_name": "HBoxModel",
            "_view_module": "@jupyter-widgets/controls",
            "_model_module_version": "1.5.0",
            "_view_count": null,
            "_view_module_version": "1.5.0",
            "box_style": "",
            "layout": "IPY_MODEL_607f678839bf4438a11df282b224379e",
            "_model_module": "@jupyter-widgets/controls",
            "children": [
              "IPY_MODEL_e511181b802241018e642919eb9d0d83",
              "IPY_MODEL_b79cd0a623ac43efbe5ae345522ae205"
            ]
          }
        },
        "607f678839bf4438a11df282b224379e": {
          "model_module": "@jupyter-widgets/base",
          "model_name": "LayoutModel",
          "state": {
            "_view_name": "LayoutView",
            "grid_template_rows": null,
            "right": null,
            "justify_content": null,
            "_view_module": "@jupyter-widgets/base",
            "overflow": null,
            "_model_module_version": "1.2.0",
            "_view_count": null,
            "flex_flow": null,
            "width": null,
            "min_width": null,
            "border": null,
            "align_items": null,
            "bottom": null,
            "_model_module": "@jupyter-widgets/base",
            "top": null,
            "grid_column": null,
            "overflow_y": null,
            "overflow_x": null,
            "grid_auto_flow": null,
            "grid_area": null,
            "grid_template_columns": null,
            "flex": null,
            "_model_name": "LayoutModel",
            "justify_items": null,
            "grid_row": null,
            "max_height": null,
            "align_content": null,
            "visibility": null,
            "align_self": null,
            "height": null,
            "min_height": null,
            "padding": null,
            "grid_auto_rows": null,
            "grid_gap": null,
            "max_width": null,
            "order": null,
            "_view_module_version": "1.2.0",
            "grid_template_areas": null,
            "object_position": null,
            "object_fit": null,
            "grid_auto_columns": null,
            "margin": null,
            "display": null,
            "left": null
          }
        },
        "e511181b802241018e642919eb9d0d83": {
          "model_module": "@jupyter-widgets/controls",
          "model_name": "FloatProgressModel",
          "state": {
            "_view_name": "ProgressView",
            "style": "IPY_MODEL_e131e88b0a054ccfb755eee03beb3b6c",
            "_dom_classes": [],
            "description": "Epoch 9: 100%",
            "_model_name": "FloatProgressModel",
            "bar_style": "",
            "max": 625,
            "_view_module": "@jupyter-widgets/controls",
            "_model_module_version": "1.5.0",
            "value": 625,
            "_view_count": null,
            "_view_module_version": "1.5.0",
            "orientation": "horizontal",
            "min": 0,
            "description_tooltip": null,
            "_model_module": "@jupyter-widgets/controls",
            "layout": "IPY_MODEL_7056697052c049b8bf9a583879ef4ce3"
          }
        },
        "b79cd0a623ac43efbe5ae345522ae205": {
          "model_module": "@jupyter-widgets/controls",
          "model_name": "HTMLModel",
          "state": {
            "_view_name": "HTMLView",
            "style": "IPY_MODEL_35f88f98628646638abffccd9505955f",
            "_dom_classes": [],
            "description": "",
            "_model_name": "HTMLModel",
            "placeholder": "​",
            "_view_module": "@jupyter-widgets/controls",
            "_model_module_version": "1.5.0",
            "value": " 625/625 [00:05&lt;00:00, 110.12it/s, loss=0.0788]",
            "_view_count": null,
            "_view_module_version": "1.5.0",
            "description_tooltip": null,
            "_model_module": "@jupyter-widgets/controls",
            "layout": "IPY_MODEL_5d7744f7cbaa4c5eb43746d3c2ab66b1"
          }
        },
        "e131e88b0a054ccfb755eee03beb3b6c": {
          "model_module": "@jupyter-widgets/controls",
          "model_name": "ProgressStyleModel",
          "state": {
            "_view_name": "StyleView",
            "_model_name": "ProgressStyleModel",
            "description_width": "initial",
            "_view_module": "@jupyter-widgets/base",
            "_model_module_version": "1.5.0",
            "_view_count": null,
            "_view_module_version": "1.2.0",
            "bar_color": null,
            "_model_module": "@jupyter-widgets/controls"
          }
        },
        "7056697052c049b8bf9a583879ef4ce3": {
          "model_module": "@jupyter-widgets/base",
          "model_name": "LayoutModel",
          "state": {
            "_view_name": "LayoutView",
            "grid_template_rows": null,
            "right": null,
            "justify_content": null,
            "_view_module": "@jupyter-widgets/base",
            "overflow": null,
            "_model_module_version": "1.2.0",
            "_view_count": null,
            "flex_flow": null,
            "width": null,
            "min_width": null,
            "border": null,
            "align_items": null,
            "bottom": null,
            "_model_module": "@jupyter-widgets/base",
            "top": null,
            "grid_column": null,
            "overflow_y": null,
            "overflow_x": null,
            "grid_auto_flow": null,
            "grid_area": null,
            "grid_template_columns": null,
            "flex": null,
            "_model_name": "LayoutModel",
            "justify_items": null,
            "grid_row": null,
            "max_height": null,
            "align_content": null,
            "visibility": null,
            "align_self": null,
            "height": null,
            "min_height": null,
            "padding": null,
            "grid_auto_rows": null,
            "grid_gap": null,
            "max_width": null,
            "order": null,
            "_view_module_version": "1.2.0",
            "grid_template_areas": null,
            "object_position": null,
            "object_fit": null,
            "grid_auto_columns": null,
            "margin": null,
            "display": null,
            "left": null
          }
        },
        "35f88f98628646638abffccd9505955f": {
          "model_module": "@jupyter-widgets/controls",
          "model_name": "DescriptionStyleModel",
          "state": {
            "_view_name": "StyleView",
            "_model_name": "DescriptionStyleModel",
            "description_width": "",
            "_view_module": "@jupyter-widgets/base",
            "_model_module_version": "1.5.0",
            "_view_count": null,
            "_view_module_version": "1.2.0",
            "_model_module": "@jupyter-widgets/controls"
          }
        },
        "5d7744f7cbaa4c5eb43746d3c2ab66b1": {
          "model_module": "@jupyter-widgets/base",
          "model_name": "LayoutModel",
          "state": {
            "_view_name": "LayoutView",
            "grid_template_rows": null,
            "right": null,
            "justify_content": null,
            "_view_module": "@jupyter-widgets/base",
            "overflow": null,
            "_model_module_version": "1.2.0",
            "_view_count": null,
            "flex_flow": null,
            "width": null,
            "min_width": null,
            "border": null,
            "align_items": null,
            "bottom": null,
            "_model_module": "@jupyter-widgets/base",
            "top": null,
            "grid_column": null,
            "overflow_y": null,
            "overflow_x": null,
            "grid_auto_flow": null,
            "grid_area": null,
            "grid_template_columns": null,
            "flex": null,
            "_model_name": "LayoutModel",
            "justify_items": null,
            "grid_row": null,
            "max_height": null,
            "align_content": null,
            "visibility": null,
            "align_self": null,
            "height": null,
            "min_height": null,
            "padding": null,
            "grid_auto_rows": null,
            "grid_gap": null,
            "max_width": null,
            "order": null,
            "_view_module_version": "1.2.0",
            "grid_template_areas": null,
            "object_position": null,
            "object_fit": null,
            "grid_auto_columns": null,
            "margin": null,
            "display": null,
            "left": null
          }
        },
        "d0b45de270844cd694605b6a6e4f3cfa": {
          "model_module": "@jupyter-widgets/controls",
          "model_name": "HBoxModel",
          "state": {
            "_view_name": "HBoxView",
            "_dom_classes": [],
            "_model_name": "HBoxModel",
            "_view_module": "@jupyter-widgets/controls",
            "_model_module_version": "1.5.0",
            "_view_count": null,
            "_view_module_version": "1.5.0",
            "box_style": "",
            "layout": "IPY_MODEL_5e7766c131234e17af3a1f6bb55ae3a5",
            "_model_module": "@jupyter-widgets/controls",
            "children": [
              "IPY_MODEL_cd387936f49344ed992895f75cf9119d",
              "IPY_MODEL_cc6426598bdb49f88ff5e1c0927862e4"
            ]
          }
        },
        "5e7766c131234e17af3a1f6bb55ae3a5": {
          "model_module": "@jupyter-widgets/base",
          "model_name": "LayoutModel",
          "state": {
            "_view_name": "LayoutView",
            "grid_template_rows": null,
            "right": null,
            "justify_content": null,
            "_view_module": "@jupyter-widgets/base",
            "overflow": null,
            "_model_module_version": "1.2.0",
            "_view_count": null,
            "flex_flow": null,
            "width": null,
            "min_width": null,
            "border": null,
            "align_items": null,
            "bottom": null,
            "_model_module": "@jupyter-widgets/base",
            "top": null,
            "grid_column": null,
            "overflow_y": null,
            "overflow_x": null,
            "grid_auto_flow": null,
            "grid_area": null,
            "grid_template_columns": null,
            "flex": null,
            "_model_name": "LayoutModel",
            "justify_items": null,
            "grid_row": null,
            "max_height": null,
            "align_content": null,
            "visibility": null,
            "align_self": null,
            "height": null,
            "min_height": null,
            "padding": null,
            "grid_auto_rows": null,
            "grid_gap": null,
            "max_width": null,
            "order": null,
            "_view_module_version": "1.2.0",
            "grid_template_areas": null,
            "object_position": null,
            "object_fit": null,
            "grid_auto_columns": null,
            "margin": null,
            "display": null,
            "left": null
          }
        },
        "cd387936f49344ed992895f75cf9119d": {
          "model_module": "@jupyter-widgets/controls",
          "model_name": "FloatProgressModel",
          "state": {
            "_view_name": "ProgressView",
            "style": "IPY_MODEL_cfef0989861249f4995fa593b76e9f57",
            "_dom_classes": [],
            "description": "100%",
            "_model_name": "FloatProgressModel",
            "bar_style": "",
            "max": 157,
            "_view_module": "@jupyter-widgets/controls",
            "_model_module_version": "1.5.0",
            "value": 157,
            "_view_count": null,
            "_view_module_version": "1.5.0",
            "orientation": "horizontal",
            "min": 0,
            "description_tooltip": null,
            "_model_module": "@jupyter-widgets/controls",
            "layout": "IPY_MODEL_ae1dd115aa5b477d8f66ba2ad0bf7b5b"
          }
        },
        "cc6426598bdb49f88ff5e1c0927862e4": {
          "model_module": "@jupyter-widgets/controls",
          "model_name": "HTMLModel",
          "state": {
            "_view_name": "HTMLView",
            "style": "IPY_MODEL_9e3c683cae45499c83eb0efcd3b32285",
            "_dom_classes": [],
            "description": "",
            "_model_name": "HTMLModel",
            "placeholder": "​",
            "_view_module": "@jupyter-widgets/controls",
            "_model_module_version": "1.5.0",
            "value": " 157/157 [00:00&lt;00:00, 304.76it/s]",
            "_view_count": null,
            "_view_module_version": "1.5.0",
            "description_tooltip": null,
            "_model_module": "@jupyter-widgets/controls",
            "layout": "IPY_MODEL_f225e458e7c947ad82bac0c056fb48b9"
          }
        },
        "cfef0989861249f4995fa593b76e9f57": {
          "model_module": "@jupyter-widgets/controls",
          "model_name": "ProgressStyleModel",
          "state": {
            "_view_name": "StyleView",
            "_model_name": "ProgressStyleModel",
            "description_width": "initial",
            "_view_module": "@jupyter-widgets/base",
            "_model_module_version": "1.5.0",
            "_view_count": null,
            "_view_module_version": "1.2.0",
            "bar_color": null,
            "_model_module": "@jupyter-widgets/controls"
          }
        },
        "ae1dd115aa5b477d8f66ba2ad0bf7b5b": {
          "model_module": "@jupyter-widgets/base",
          "model_name": "LayoutModel",
          "state": {
            "_view_name": "LayoutView",
            "grid_template_rows": null,
            "right": null,
            "justify_content": null,
            "_view_module": "@jupyter-widgets/base",
            "overflow": null,
            "_model_module_version": "1.2.0",
            "_view_count": null,
            "flex_flow": null,
            "width": null,
            "min_width": null,
            "border": null,
            "align_items": null,
            "bottom": null,
            "_model_module": "@jupyter-widgets/base",
            "top": null,
            "grid_column": null,
            "overflow_y": null,
            "overflow_x": null,
            "grid_auto_flow": null,
            "grid_area": null,
            "grid_template_columns": null,
            "flex": null,
            "_model_name": "LayoutModel",
            "justify_items": null,
            "grid_row": null,
            "max_height": null,
            "align_content": null,
            "visibility": null,
            "align_self": null,
            "height": null,
            "min_height": null,
            "padding": null,
            "grid_auto_rows": null,
            "grid_gap": null,
            "max_width": null,
            "order": null,
            "_view_module_version": "1.2.0",
            "grid_template_areas": null,
            "object_position": null,
            "object_fit": null,
            "grid_auto_columns": null,
            "margin": null,
            "display": null,
            "left": null
          }
        },
        "9e3c683cae45499c83eb0efcd3b32285": {
          "model_module": "@jupyter-widgets/controls",
          "model_name": "DescriptionStyleModel",
          "state": {
            "_view_name": "StyleView",
            "_model_name": "DescriptionStyleModel",
            "description_width": "",
            "_view_module": "@jupyter-widgets/base",
            "_model_module_version": "1.5.0",
            "_view_count": null,
            "_view_module_version": "1.2.0",
            "_model_module": "@jupyter-widgets/controls"
          }
        },
        "f225e458e7c947ad82bac0c056fb48b9": {
          "model_module": "@jupyter-widgets/base",
          "model_name": "LayoutModel",
          "state": {
            "_view_name": "LayoutView",
            "grid_template_rows": null,
            "right": null,
            "justify_content": null,
            "_view_module": "@jupyter-widgets/base",
            "overflow": null,
            "_model_module_version": "1.2.0",
            "_view_count": null,
            "flex_flow": null,
            "width": null,
            "min_width": null,
            "border": null,
            "align_items": null,
            "bottom": null,
            "_model_module": "@jupyter-widgets/base",
            "top": null,
            "grid_column": null,
            "overflow_y": null,
            "overflow_x": null,
            "grid_auto_flow": null,
            "grid_area": null,
            "grid_template_columns": null,
            "flex": null,
            "_model_name": "LayoutModel",
            "justify_items": null,
            "grid_row": null,
            "max_height": null,
            "align_content": null,
            "visibility": null,
            "align_self": null,
            "height": null,
            "min_height": null,
            "padding": null,
            "grid_auto_rows": null,
            "grid_gap": null,
            "max_width": null,
            "order": null,
            "_view_module_version": "1.2.0",
            "grid_template_areas": null,
            "object_position": null,
            "object_fit": null,
            "grid_auto_columns": null,
            "margin": null,
            "display": null,
            "left": null
          }
        }
      }
    }
  },
  "cells": [
    {
      "cell_type": "code",
      "metadata": {
        "id": "WSymDNTkQ1P7"
      },
      "source": [
        "#Guide Link\n",
        "Followed the following: https://github.com/offirinbar/NYC_Taxi/blob/master/NYC_Taxi_PyTorch.ipynb"
      ],
      "execution_count": null,
      "outputs": []
    },
    {
      "cell_type": "code",
      "metadata": {
        "id": "n2LEE0P367cg"
      },
      "source": [
        "## import libraries\n",
        "\n",
        "#PyTorch \n",
        "\n",
        "import torch\n",
        "import torch.nn as nn\n",
        "from torch.utils.data import Dataset, DataLoader\n",
        "import torch.optim as torch_optim\n",
        "from torchvision import models\n",
        "from torch.nn import init\n",
        "import torch.optim as optim\n",
        "from torch.autograd import Variable\n",
        "import torch.nn.functional as F\n",
        "from torch.utils import data\n",
        "from torch.optim import lr_scheduler\n",
        "\n",
        "#sklearn\n",
        "from sklearn.model_selection import train_test_split\n",
        "from sklearn.preprocessing import LabelEncoder\n",
        "from sklearn.metrics import mean_squared_error\n",
        "from sklearn import preprocessing\n",
        "\n",
        "\n",
        "#other\n",
        "from IPython.core.debugger import set_trace\n",
        "import pandas as pd\n",
        "import numpy as np\n",
        "from collections import Counter\n",
        "from datetime import datetime\n",
        "import math \n",
        "from google.colab import files\n",
        "import io\n",
        "import datetime as dt\n",
        "import re\n",
        "import pandas_profiling\n",
        "import pandas_profiling as pp\n",
        "from math import sqrt\n",
        "\n",
        "#graphs\n",
        "import seaborn as sns\n",
        "import matplotlib.pyplot as plt\n",
        "import matplotlib.ticker as ticker\n",
        "import matplotlib.dates as mdates\n",
        "import matplotlib.cbook as cbook\n",
        "import pylab as plt\n",
        "import matplotlib.dates as dates\n",
        "import seaborn as sns\n",
        "import pylab\n",
        "import matplotlib\n",
        "import matplotlib.dates\n",
        "from IPython.display import display\n",
        "import plotly.graph_objects as go\n",
        "\n",
        "\n",
        "%matplotlib inline"
      ],
      "execution_count": 1,
      "outputs": []
    },
    {
      "cell_type": "code",
      "metadata": {
        "colab": {
          "base_uri": "https://localhost:8080/"
        },
        "id": "du0QaYkBNwfQ",
        "outputId": "4c098aed-8791-4f50-9f74-584da85f8dd1"
      },
      "source": [
        "# load tqdm\n",
        "#!pip install --force https://github.com/chengs/tqdm/archive/colab.zip\n",
        "from tqdm import tqdm, tqdm_notebook, tnrange\n",
        "\n",
        "device = torch.device(\"cuda:0\" if torch.cuda.is_available() else \"cpu\")\n",
        "device"
      ],
      "execution_count": 2,
      "outputs": [
        {
          "output_type": "execute_result",
          "data": {
            "text/plain": [
              "device(type='cuda', index=0)"
            ]
          },
          "metadata": {
            "tags": []
          },
          "execution_count": 2
        }
      ]
    },
    {
      "cell_type": "code",
      "metadata": {
        "id": "sdy2MrrtNy-A"
      },
      "source": [
        "def haversine_distance(df, lat1, long1, lat2, long2):\n",
        "    \"\"\"\n",
        "    Calculates the haversine distance between 2 sets of GPS coordinates in df\n",
        "    \"\"\"\n",
        "    r = 6371  # average radius of Earth in kilometers\n",
        "       \n",
        "    phi1 = np.radians(df[lat1])\n",
        "    phi2 = np.radians(df[lat2])\n",
        "    \n",
        "    delta_phi = np.radians(df[lat2]-df[lat1])\n",
        "    delta_lambda = np.radians(df[long2]-df[long1])\n",
        "     \n",
        "    a = np.sin(delta_phi/2)**2 + np.cos(phi1) * np.cos(phi2) * np.sin(delta_lambda/2)**2\n",
        "    c = 2 * np.arctan2(np.sqrt(a), np.sqrt(1-a))\n",
        "    d = (r * c) # in kilometers\n",
        "\n",
        "    return d"
      ],
      "execution_count": 3,
      "outputs": []
    },
    {
      "cell_type": "code",
      "metadata": {
        "colab": {
          "resources": {
            "http://localhost:8080/nbextensions/google.colab/files.js": {
              "data": "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",
              "ok": true,
              "headers": [
                [
                  "content-type",
                  "application/javascript"
                ]
              ],
              "status": 200,
              "status_text": ""
            }
          },
          "base_uri": "https://localhost:8080/",
          "height": 381
        },
        "id": "mt66VBX76_OB",
        "outputId": "d341df1a-1d46-47de-a4f8-e8bdf7593289"
      },
      "source": [
        "\n",
        "# upload df_train csv file\n",
        "\n",
        "uploaded = files.upload()\n",
        "df_train = pd.read_csv(io.BytesIO(uploaded['sub_train.csv']))\n",
        "df_train.head()"
      ],
      "execution_count": 4,
      "outputs": [
        {
          "output_type": "display_data",
          "data": {
            "text/html": [
              "\n",
              "     <input type=\"file\" id=\"files-009011f6-2373-4f48-aba2-b3ebb9f5fe7b\" name=\"files[]\" multiple disabled\n",
              "        style=\"border:none\" />\n",
              "     <output id=\"result-009011f6-2373-4f48-aba2-b3ebb9f5fe7b\">\n",
              "      Upload widget is only available when the cell has been executed in the\n",
              "      current browser session. Please rerun this cell to enable.\n",
              "      </output>\n",
              "      <script src=\"/nbextensions/google.colab/files.js\"></script> "
            ],
            "text/plain": [
              "<IPython.core.display.HTML object>"
            ]
          },
          "metadata": {
            "tags": []
          }
        },
        {
          "output_type": "stream",
          "text": [
            "Saving sub_train.csv to sub_train.csv\n"
          ],
          "name": "stdout"
        },
        {
          "output_type": "execute_result",
          "data": {
            "text/html": [
              "<div>\n",
              "<style scoped>\n",
              "    .dataframe tbody tr th:only-of-type {\n",
              "        vertical-align: middle;\n",
              "    }\n",
              "\n",
              "    .dataframe tbody tr th {\n",
              "        vertical-align: top;\n",
              "    }\n",
              "\n",
              "    .dataframe thead th {\n",
              "        text-align: right;\n",
              "    }\n",
              "</style>\n",
              "<table border=\"1\" class=\"dataframe\">\n",
              "  <thead>\n",
              "    <tr style=\"text-align: right;\">\n",
              "      <th></th>\n",
              "      <th>Unnamed: 0</th>\n",
              "      <th>key</th>\n",
              "      <th>fare_amount</th>\n",
              "      <th>pickup_datetime</th>\n",
              "      <th>pickup_longitude</th>\n",
              "      <th>pickup_latitude</th>\n",
              "      <th>dropoff_longitude</th>\n",
              "      <th>dropoff_latitude</th>\n",
              "      <th>passenger_count</th>\n",
              "    </tr>\n",
              "  </thead>\n",
              "  <tbody>\n",
              "    <tr>\n",
              "      <th>0</th>\n",
              "      <td>0</td>\n",
              "      <td>2012-10-06 20:31:36.0000003</td>\n",
              "      <td>5.5</td>\n",
              "      <td>2012-10-06 20:31:36 UTC</td>\n",
              "      <td>-73.952825</td>\n",
              "      <td>40.772048</td>\n",
              "      <td>-73.952194</td>\n",
              "      <td>40.781152</td>\n",
              "      <td>3</td>\n",
              "    </tr>\n",
              "    <tr>\n",
              "      <th>1</th>\n",
              "      <td>1</td>\n",
              "      <td>2010-07-12 09:44:33.0000001</td>\n",
              "      <td>4.9</td>\n",
              "      <td>2010-07-12 09:44:33 UTC</td>\n",
              "      <td>-73.983249</td>\n",
              "      <td>40.734655</td>\n",
              "      <td>-73.991278</td>\n",
              "      <td>40.738918</td>\n",
              "      <td>1</td>\n",
              "    </tr>\n",
              "    <tr>\n",
              "      <th>2</th>\n",
              "      <td>2</td>\n",
              "      <td>2010-05-07 20:05:00.000000228</td>\n",
              "      <td>14.9</td>\n",
              "      <td>2010-05-07 20:05:00 UTC</td>\n",
              "      <td>-73.968212</td>\n",
              "      <td>40.762212</td>\n",
              "      <td>-73.919958</td>\n",
              "      <td>40.755087</td>\n",
              "      <td>2</td>\n",
              "    </tr>\n",
              "    <tr>\n",
              "      <th>3</th>\n",
              "      <td>3</td>\n",
              "      <td>2010-05-31 18:05:00.00000060</td>\n",
              "      <td>6.9</td>\n",
              "      <td>2010-05-31 18:05:00 UTC</td>\n",
              "      <td>-73.991633</td>\n",
              "      <td>40.750440</td>\n",
              "      <td>-73.985928</td>\n",
              "      <td>40.736168</td>\n",
              "      <td>3</td>\n",
              "    </tr>\n",
              "    <tr>\n",
              "      <th>4</th>\n",
              "      <td>4</td>\n",
              "      <td>2011-11-03 17:35:00.00000095</td>\n",
              "      <td>7.7</td>\n",
              "      <td>2011-11-03 17:35:00 UTC</td>\n",
              "      <td>-73.978593</td>\n",
              "      <td>40.753452</td>\n",
              "      <td>-73.978652</td>\n",
              "      <td>40.762660</td>\n",
              "      <td>1</td>\n",
              "    </tr>\n",
              "  </tbody>\n",
              "</table>\n",
              "</div>"
            ],
            "text/plain": [
              "   Unnamed: 0                            key  ...  dropoff_latitude passenger_count\n",
              "0           0    2012-10-06 20:31:36.0000003  ...         40.781152               3\n",
              "1           1    2010-07-12 09:44:33.0000001  ...         40.738918               1\n",
              "2           2  2010-05-07 20:05:00.000000228  ...         40.755087               2\n",
              "3           3   2010-05-31 18:05:00.00000060  ...         40.736168               3\n",
              "4           4   2011-11-03 17:35:00.00000095  ...         40.762660               1\n",
              "\n",
              "[5 rows x 9 columns]"
            ]
          },
          "metadata": {
            "tags": []
          },
          "execution_count": 4
        }
      ]
    },
    {
      "cell_type": "code",
      "metadata": {
        "colab": {
          "base_uri": "https://localhost:8080/",
          "height": 326
        },
        "id": "P7f7YS44N16O",
        "outputId": "bc2c58e9-d6b7-42c7-ea89-f3dc27177df5"
      },
      "source": [
        "df_train.head()"
      ],
      "execution_count": 5,
      "outputs": [
        {
          "output_type": "execute_result",
          "data": {
            "text/html": [
              "<div>\n",
              "<style scoped>\n",
              "    .dataframe tbody tr th:only-of-type {\n",
              "        vertical-align: middle;\n",
              "    }\n",
              "\n",
              "    .dataframe tbody tr th {\n",
              "        vertical-align: top;\n",
              "    }\n",
              "\n",
              "    .dataframe thead th {\n",
              "        text-align: right;\n",
              "    }\n",
              "</style>\n",
              "<table border=\"1\" class=\"dataframe\">\n",
              "  <thead>\n",
              "    <tr style=\"text-align: right;\">\n",
              "      <th></th>\n",
              "      <th>Unnamed: 0</th>\n",
              "      <th>key</th>\n",
              "      <th>fare_amount</th>\n",
              "      <th>pickup_datetime</th>\n",
              "      <th>pickup_longitude</th>\n",
              "      <th>pickup_latitude</th>\n",
              "      <th>dropoff_longitude</th>\n",
              "      <th>dropoff_latitude</th>\n",
              "      <th>passenger_count</th>\n",
              "    </tr>\n",
              "  </thead>\n",
              "  <tbody>\n",
              "    <tr>\n",
              "      <th>0</th>\n",
              "      <td>0</td>\n",
              "      <td>2012-10-06 20:31:36.0000003</td>\n",
              "      <td>5.5</td>\n",
              "      <td>2012-10-06 20:31:36 UTC</td>\n",
              "      <td>-73.952825</td>\n",
              "      <td>40.772048</td>\n",
              "      <td>-73.952194</td>\n",
              "      <td>40.781152</td>\n",
              "      <td>3</td>\n",
              "    </tr>\n",
              "    <tr>\n",
              "      <th>1</th>\n",
              "      <td>1</td>\n",
              "      <td>2010-07-12 09:44:33.0000001</td>\n",
              "      <td>4.9</td>\n",
              "      <td>2010-07-12 09:44:33 UTC</td>\n",
              "      <td>-73.983249</td>\n",
              "      <td>40.734655</td>\n",
              "      <td>-73.991278</td>\n",
              "      <td>40.738918</td>\n",
              "      <td>1</td>\n",
              "    </tr>\n",
              "    <tr>\n",
              "      <th>2</th>\n",
              "      <td>2</td>\n",
              "      <td>2010-05-07 20:05:00.000000228</td>\n",
              "      <td>14.9</td>\n",
              "      <td>2010-05-07 20:05:00 UTC</td>\n",
              "      <td>-73.968212</td>\n",
              "      <td>40.762212</td>\n",
              "      <td>-73.919958</td>\n",
              "      <td>40.755087</td>\n",
              "      <td>2</td>\n",
              "    </tr>\n",
              "    <tr>\n",
              "      <th>3</th>\n",
              "      <td>3</td>\n",
              "      <td>2010-05-31 18:05:00.00000060</td>\n",
              "      <td>6.9</td>\n",
              "      <td>2010-05-31 18:05:00 UTC</td>\n",
              "      <td>-73.991633</td>\n",
              "      <td>40.750440</td>\n",
              "      <td>-73.985928</td>\n",
              "      <td>40.736168</td>\n",
              "      <td>3</td>\n",
              "    </tr>\n",
              "    <tr>\n",
              "      <th>4</th>\n",
              "      <td>4</td>\n",
              "      <td>2011-11-03 17:35:00.00000095</td>\n",
              "      <td>7.7</td>\n",
              "      <td>2011-11-03 17:35:00 UTC</td>\n",
              "      <td>-73.978593</td>\n",
              "      <td>40.753452</td>\n",
              "      <td>-73.978652</td>\n",
              "      <td>40.762660</td>\n",
              "      <td>1</td>\n",
              "    </tr>\n",
              "  </tbody>\n",
              "</table>\n",
              "</div>"
            ],
            "text/plain": [
              "   Unnamed: 0                            key  ...  dropoff_latitude passenger_count\n",
              "0           0    2012-10-06 20:31:36.0000003  ...         40.781152               3\n",
              "1           1    2010-07-12 09:44:33.0000001  ...         40.738918               1\n",
              "2           2  2010-05-07 20:05:00.000000228  ...         40.755087               2\n",
              "3           3   2010-05-31 18:05:00.00000060  ...         40.736168               3\n",
              "4           4   2011-11-03 17:35:00.00000095  ...         40.762660               1\n",
              "\n",
              "[5 rows x 9 columns]"
            ]
          },
          "metadata": {
            "tags": []
          },
          "execution_count": 5
        }
      ]
    },
    {
      "cell_type": "code",
      "metadata": {
        "id": "n4BSYOoh7Dt2",
        "colab": {
          "resources": {
            "http://localhost:8080/nbextensions/google.colab/files.js": {
              "data": "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",
              "ok": true,
              "headers": [
                [
                  "content-type",
                  "application/javascript"
                ]
              ],
              "status": 200,
              "status_text": ""
            }
          },
          "base_uri": "https://localhost:8080/",
          "height": 344
        },
        "outputId": "1ed7d075-3512-4bf0-fc71-65583af384ee"
      },
      "source": [
        "# upload df_Test csv file\n",
        "\n",
        "uploaded = files.upload()\n",
        "df_test = pd.read_csv(io.BytesIO(uploaded['test.csv']))\n",
        "df_test.head()"
      ],
      "execution_count": 6,
      "outputs": [
        {
          "output_type": "display_data",
          "data": {
            "text/html": [
              "\n",
              "     <input type=\"file\" id=\"files-17c2ec8a-b2bb-46f1-8c8c-fc2ea269d71a\" name=\"files[]\" multiple disabled\n",
              "        style=\"border:none\" />\n",
              "     <output id=\"result-17c2ec8a-b2bb-46f1-8c8c-fc2ea269d71a\">\n",
              "      Upload widget is only available when the cell has been executed in the\n",
              "      current browser session. Please rerun this cell to enable.\n",
              "      </output>\n",
              "      <script src=\"/nbextensions/google.colab/files.js\"></script> "
            ],
            "text/plain": [
              "<IPython.core.display.HTML object>"
            ]
          },
          "metadata": {
            "tags": []
          }
        },
        {
          "output_type": "stream",
          "text": [
            "Saving test.csv to test.csv\n"
          ],
          "name": "stdout"
        },
        {
          "output_type": "execute_result",
          "data": {
            "text/html": [
              "<div>\n",
              "<style scoped>\n",
              "    .dataframe tbody tr th:only-of-type {\n",
              "        vertical-align: middle;\n",
              "    }\n",
              "\n",
              "    .dataframe tbody tr th {\n",
              "        vertical-align: top;\n",
              "    }\n",
              "\n",
              "    .dataframe thead th {\n",
              "        text-align: right;\n",
              "    }\n",
              "</style>\n",
              "<table border=\"1\" class=\"dataframe\">\n",
              "  <thead>\n",
              "    <tr style=\"text-align: right;\">\n",
              "      <th></th>\n",
              "      <th>key</th>\n",
              "      <th>pickup_datetime</th>\n",
              "      <th>pickup_longitude</th>\n",
              "      <th>pickup_latitude</th>\n",
              "      <th>dropoff_longitude</th>\n",
              "      <th>dropoff_latitude</th>\n",
              "      <th>passenger_count</th>\n",
              "    </tr>\n",
              "  </thead>\n",
              "  <tbody>\n",
              "    <tr>\n",
              "      <th>0</th>\n",
              "      <td>2015-01-27 13:08:24.0000002</td>\n",
              "      <td>2015-01-27 13:08:24 UTC</td>\n",
              "      <td>-73.973320</td>\n",
              "      <td>40.763805</td>\n",
              "      <td>-73.981430</td>\n",
              "      <td>40.743835</td>\n",
              "      <td>1</td>\n",
              "    </tr>\n",
              "    <tr>\n",
              "      <th>1</th>\n",
              "      <td>2015-01-27 13:08:24.0000003</td>\n",
              "      <td>2015-01-27 13:08:24 UTC</td>\n",
              "      <td>-73.986862</td>\n",
              "      <td>40.719383</td>\n",
              "      <td>-73.998886</td>\n",
              "      <td>40.739201</td>\n",
              "      <td>1</td>\n",
              "    </tr>\n",
              "    <tr>\n",
              "      <th>2</th>\n",
              "      <td>2011-10-08 11:53:44.0000002</td>\n",
              "      <td>2011-10-08 11:53:44 UTC</td>\n",
              "      <td>-73.982524</td>\n",
              "      <td>40.751260</td>\n",
              "      <td>-73.979654</td>\n",
              "      <td>40.746139</td>\n",
              "      <td>1</td>\n",
              "    </tr>\n",
              "    <tr>\n",
              "      <th>3</th>\n",
              "      <td>2012-12-01 21:12:12.0000002</td>\n",
              "      <td>2012-12-01 21:12:12 UTC</td>\n",
              "      <td>-73.981160</td>\n",
              "      <td>40.767807</td>\n",
              "      <td>-73.990448</td>\n",
              "      <td>40.751635</td>\n",
              "      <td>1</td>\n",
              "    </tr>\n",
              "    <tr>\n",
              "      <th>4</th>\n",
              "      <td>2012-12-01 21:12:12.0000003</td>\n",
              "      <td>2012-12-01 21:12:12 UTC</td>\n",
              "      <td>-73.966046</td>\n",
              "      <td>40.789775</td>\n",
              "      <td>-73.988565</td>\n",
              "      <td>40.744427</td>\n",
              "      <td>1</td>\n",
              "    </tr>\n",
              "  </tbody>\n",
              "</table>\n",
              "</div>"
            ],
            "text/plain": [
              "                           key  ... passenger_count\n",
              "0  2015-01-27 13:08:24.0000002  ...               1\n",
              "1  2015-01-27 13:08:24.0000003  ...               1\n",
              "2  2011-10-08 11:53:44.0000002  ...               1\n",
              "3  2012-12-01 21:12:12.0000002  ...               1\n",
              "4  2012-12-01 21:12:12.0000003  ...               1\n",
              "\n",
              "[5 rows x 7 columns]"
            ]
          },
          "metadata": {
            "tags": []
          },
          "execution_count": 6
        }
      ]
    },
    {
      "cell_type": "code",
      "metadata": {
        "colab": {
          "base_uri": "https://localhost:8080/"
        },
        "id": "JuF2iOGDOAd5",
        "outputId": "87762a42-a3b8-44a3-8270-f421522d77be"
      },
      "source": [
        "df_test_for_sub = df_test['key']\n",
        "df_test_for_sub"
      ],
      "execution_count": 7,
      "outputs": [
        {
          "output_type": "execute_result",
          "data": {
            "text/plain": [
              "0       2015-01-27 13:08:24.0000002\n",
              "1       2015-01-27 13:08:24.0000003\n",
              "2       2011-10-08 11:53:44.0000002\n",
              "3       2012-12-01 21:12:12.0000002\n",
              "4       2012-12-01 21:12:12.0000003\n",
              "                   ...             \n",
              "9909    2015-05-10 12:37:51.0000002\n",
              "9910    2015-01-12 17:05:51.0000001\n",
              "9911    2015-04-19 20:44:15.0000001\n",
              "9912    2015-01-31 01:05:19.0000005\n",
              "9913    2015-01-18 14:06:23.0000006\n",
              "Name: key, Length: 9914, dtype: object"
            ]
          },
          "metadata": {
            "tags": []
          },
          "execution_count": 7
        }
      ]
    },
    {
      "cell_type": "code",
      "metadata": {
        "colab": {
          "base_uri": "https://localhost:8080/"
        },
        "id": "dql8Fh9HOEWg",
        "outputId": "a16372f3-438e-4875-a983-37cf491965b2"
      },
      "source": [
        "# delete the fares that are less than 0\n",
        "df_train = df_train.loc[df_train.fare_amount > 0]\n",
        "df_train.fare_amount.min()"
      ],
      "execution_count": 8,
      "outputs": [
        {
          "output_type": "execute_result",
          "data": {
            "text/plain": [
              "0.01"
            ]
          },
          "metadata": {
            "tags": []
          },
          "execution_count": 8
        }
      ]
    },
    {
      "cell_type": "code",
      "metadata": {
        "colab": {
          "base_uri": "https://localhost:8080/"
        },
        "id": "tASdjRXMOGUN",
        "outputId": "85ea1d12-decb-4681-b0b6-ebeb2fa2d0c4"
      },
      "source": [
        "len(df_train)"
      ],
      "execution_count": 9,
      "outputs": [
        {
          "output_type": "execute_result",
          "data": {
            "text/plain": [
              "99994"
            ]
          },
          "metadata": {
            "tags": []
          },
          "execution_count": 9
        }
      ]
    },
    {
      "cell_type": "code",
      "metadata": {
        "id": "ymNMDSECOJTB"
      },
      "source": [
        "train_X = df_train.drop(columns=['fare_amount'])\n",
        "Y = np.log(df_train.fare_amount)\n",
        "\n",
        "#Y = df_train['fare_amount']\n",
        "test_X = df_test"
      ],
      "execution_count": 10,
      "outputs": []
    },
    {
      "cell_type": "code",
      "metadata": {
        "id": "OUs_O7qbOLJl"
      },
      "source": [
        "df = train_X.append(test_X,sort=False)\n"
      ],
      "execution_count": 11,
      "outputs": []
    },
    {
      "cell_type": "code",
      "metadata": {
        "colab": {
          "base_uri": "https://localhost:8080/",
          "height": 326
        },
        "id": "2zJjOM6aONLM",
        "outputId": "5b5f1f37-162a-4a84-d63f-796bfc5666ed"
      },
      "source": [
        "df['dist_km'] = haversine_distance(df,'pickup_latitude', 'pickup_longitude', 'dropoff_latitude', 'dropoff_longitude')\n",
        "df.head()"
      ],
      "execution_count": 12,
      "outputs": [
        {
          "output_type": "execute_result",
          "data": {
            "text/html": [
              "<div>\n",
              "<style scoped>\n",
              "    .dataframe tbody tr th:only-of-type {\n",
              "        vertical-align: middle;\n",
              "    }\n",
              "\n",
              "    .dataframe tbody tr th {\n",
              "        vertical-align: top;\n",
              "    }\n",
              "\n",
              "    .dataframe thead th {\n",
              "        text-align: right;\n",
              "    }\n",
              "</style>\n",
              "<table border=\"1\" class=\"dataframe\">\n",
              "  <thead>\n",
              "    <tr style=\"text-align: right;\">\n",
              "      <th></th>\n",
              "      <th>Unnamed: 0</th>\n",
              "      <th>key</th>\n",
              "      <th>pickup_datetime</th>\n",
              "      <th>pickup_longitude</th>\n",
              "      <th>pickup_latitude</th>\n",
              "      <th>dropoff_longitude</th>\n",
              "      <th>dropoff_latitude</th>\n",
              "      <th>passenger_count</th>\n",
              "      <th>dist_km</th>\n",
              "    </tr>\n",
              "  </thead>\n",
              "  <tbody>\n",
              "    <tr>\n",
              "      <th>0</th>\n",
              "      <td>0.0</td>\n",
              "      <td>2012-10-06 20:31:36.0000003</td>\n",
              "      <td>2012-10-06 20:31:36 UTC</td>\n",
              "      <td>-73.952825</td>\n",
              "      <td>40.772048</td>\n",
              "      <td>-73.952194</td>\n",
              "      <td>40.781152</td>\n",
              "      <td>3</td>\n",
              "      <td>1.013712</td>\n",
              "    </tr>\n",
              "    <tr>\n",
              "      <th>1</th>\n",
              "      <td>1.0</td>\n",
              "      <td>2010-07-12 09:44:33.0000001</td>\n",
              "      <td>2010-07-12 09:44:33 UTC</td>\n",
              "      <td>-73.983249</td>\n",
              "      <td>40.734655</td>\n",
              "      <td>-73.991278</td>\n",
              "      <td>40.738918</td>\n",
              "      <td>1</td>\n",
              "      <td>0.826026</td>\n",
              "    </tr>\n",
              "    <tr>\n",
              "      <th>2</th>\n",
              "      <td>2.0</td>\n",
              "      <td>2010-05-07 20:05:00.000000228</td>\n",
              "      <td>2010-05-07 20:05:00 UTC</td>\n",
              "      <td>-73.968212</td>\n",
              "      <td>40.762212</td>\n",
              "      <td>-73.919958</td>\n",
              "      <td>40.755087</td>\n",
              "      <td>2</td>\n",
              "      <td>4.140762</td>\n",
              "    </tr>\n",
              "    <tr>\n",
              "      <th>3</th>\n",
              "      <td>3.0</td>\n",
              "      <td>2010-05-31 18:05:00.00000060</td>\n",
              "      <td>2010-05-31 18:05:00 UTC</td>\n",
              "      <td>-73.991633</td>\n",
              "      <td>40.750440</td>\n",
              "      <td>-73.985928</td>\n",
              "      <td>40.736168</td>\n",
              "      <td>3</td>\n",
              "      <td>1.658157</td>\n",
              "    </tr>\n",
              "    <tr>\n",
              "      <th>4</th>\n",
              "      <td>4.0</td>\n",
              "      <td>2011-11-03 17:35:00.00000095</td>\n",
              "      <td>2011-11-03 17:35:00 UTC</td>\n",
              "      <td>-73.978593</td>\n",
              "      <td>40.753452</td>\n",
              "      <td>-73.978652</td>\n",
              "      <td>40.762660</td>\n",
              "      <td>1</td>\n",
              "      <td>1.023895</td>\n",
              "    </tr>\n",
              "  </tbody>\n",
              "</table>\n",
              "</div>"
            ],
            "text/plain": [
              "   Unnamed: 0                            key  ... passenger_count   dist_km\n",
              "0         0.0    2012-10-06 20:31:36.0000003  ...               3  1.013712\n",
              "1         1.0    2010-07-12 09:44:33.0000001  ...               1  0.826026\n",
              "2         2.0  2010-05-07 20:05:00.000000228  ...               2  4.140762\n",
              "3         3.0   2010-05-31 18:05:00.00000060  ...               3  1.658157\n",
              "4         4.0   2011-11-03 17:35:00.00000095  ...               1  1.023895\n",
              "\n",
              "[5 rows x 9 columns]"
            ]
          },
          "metadata": {
            "tags": []
          },
          "execution_count": 12
        }
      ]
    },
    {
      "cell_type": "code",
      "metadata": {
        "colab": {
          "base_uri": "https://localhost:8080/",
          "height": 411
        },
        "id": "epL6iACDOPV9",
        "outputId": "9ddacd7e-aa5a-44f3-c6d9-d7ec03a54995"
      },
      "source": [
        "df['EDTdate'] = pd.to_datetime(df['pickup_datetime'].str[:19]) - pd.Timedelta(hours=4)\n",
        "df['Hour'] = df['EDTdate'].dt.hour\n",
        "df['AMorPM'] = np.where(df['Hour']<12,'am','pm')\n",
        "df['Weekday'] = df['EDTdate'].dt.strftime(\"%a\")\n",
        "df.head()"
      ],
      "execution_count": 13,
      "outputs": [
        {
          "output_type": "execute_result",
          "data": {
            "text/html": [
              "<div>\n",
              "<style scoped>\n",
              "    .dataframe tbody tr th:only-of-type {\n",
              "        vertical-align: middle;\n",
              "    }\n",
              "\n",
              "    .dataframe tbody tr th {\n",
              "        vertical-align: top;\n",
              "    }\n",
              "\n",
              "    .dataframe thead th {\n",
              "        text-align: right;\n",
              "    }\n",
              "</style>\n",
              "<table border=\"1\" class=\"dataframe\">\n",
              "  <thead>\n",
              "    <tr style=\"text-align: right;\">\n",
              "      <th></th>\n",
              "      <th>Unnamed: 0</th>\n",
              "      <th>key</th>\n",
              "      <th>pickup_datetime</th>\n",
              "      <th>pickup_longitude</th>\n",
              "      <th>pickup_latitude</th>\n",
              "      <th>dropoff_longitude</th>\n",
              "      <th>dropoff_latitude</th>\n",
              "      <th>passenger_count</th>\n",
              "      <th>dist_km</th>\n",
              "      <th>EDTdate</th>\n",
              "      <th>Hour</th>\n",
              "      <th>AMorPM</th>\n",
              "      <th>Weekday</th>\n",
              "    </tr>\n",
              "  </thead>\n",
              "  <tbody>\n",
              "    <tr>\n",
              "      <th>0</th>\n",
              "      <td>0.0</td>\n",
              "      <td>2012-10-06 20:31:36.0000003</td>\n",
              "      <td>2012-10-06 20:31:36 UTC</td>\n",
              "      <td>-73.952825</td>\n",
              "      <td>40.772048</td>\n",
              "      <td>-73.952194</td>\n",
              "      <td>40.781152</td>\n",
              "      <td>3</td>\n",
              "      <td>1.013712</td>\n",
              "      <td>2012-10-06 16:31:36</td>\n",
              "      <td>16</td>\n",
              "      <td>pm</td>\n",
              "      <td>Sat</td>\n",
              "    </tr>\n",
              "    <tr>\n",
              "      <th>1</th>\n",
              "      <td>1.0</td>\n",
              "      <td>2010-07-12 09:44:33.0000001</td>\n",
              "      <td>2010-07-12 09:44:33 UTC</td>\n",
              "      <td>-73.983249</td>\n",
              "      <td>40.734655</td>\n",
              "      <td>-73.991278</td>\n",
              "      <td>40.738918</td>\n",
              "      <td>1</td>\n",
              "      <td>0.826026</td>\n",
              "      <td>2010-07-12 05:44:33</td>\n",
              "      <td>5</td>\n",
              "      <td>am</td>\n",
              "      <td>Mon</td>\n",
              "    </tr>\n",
              "    <tr>\n",
              "      <th>2</th>\n",
              "      <td>2.0</td>\n",
              "      <td>2010-05-07 20:05:00.000000228</td>\n",
              "      <td>2010-05-07 20:05:00 UTC</td>\n",
              "      <td>-73.968212</td>\n",
              "      <td>40.762212</td>\n",
              "      <td>-73.919958</td>\n",
              "      <td>40.755087</td>\n",
              "      <td>2</td>\n",
              "      <td>4.140762</td>\n",
              "      <td>2010-05-07 16:05:00</td>\n",
              "      <td>16</td>\n",
              "      <td>pm</td>\n",
              "      <td>Fri</td>\n",
              "    </tr>\n",
              "    <tr>\n",
              "      <th>3</th>\n",
              "      <td>3.0</td>\n",
              "      <td>2010-05-31 18:05:00.00000060</td>\n",
              "      <td>2010-05-31 18:05:00 UTC</td>\n",
              "      <td>-73.991633</td>\n",
              "      <td>40.750440</td>\n",
              "      <td>-73.985928</td>\n",
              "      <td>40.736168</td>\n",
              "      <td>3</td>\n",
              "      <td>1.658157</td>\n",
              "      <td>2010-05-31 14:05:00</td>\n",
              "      <td>14</td>\n",
              "      <td>pm</td>\n",
              "      <td>Mon</td>\n",
              "    </tr>\n",
              "    <tr>\n",
              "      <th>4</th>\n",
              "      <td>4.0</td>\n",
              "      <td>2011-11-03 17:35:00.00000095</td>\n",
              "      <td>2011-11-03 17:35:00 UTC</td>\n",
              "      <td>-73.978593</td>\n",
              "      <td>40.753452</td>\n",
              "      <td>-73.978652</td>\n",
              "      <td>40.762660</td>\n",
              "      <td>1</td>\n",
              "      <td>1.023895</td>\n",
              "      <td>2011-11-03 13:35:00</td>\n",
              "      <td>13</td>\n",
              "      <td>pm</td>\n",
              "      <td>Thu</td>\n",
              "    </tr>\n",
              "  </tbody>\n",
              "</table>\n",
              "</div>"
            ],
            "text/plain": [
              "   Unnamed: 0                            key  ... AMorPM  Weekday\n",
              "0         0.0    2012-10-06 20:31:36.0000003  ...     pm      Sat\n",
              "1         1.0    2010-07-12 09:44:33.0000001  ...     am      Mon\n",
              "2         2.0  2010-05-07 20:05:00.000000228  ...     pm      Fri\n",
              "3         3.0   2010-05-31 18:05:00.00000060  ...     pm      Mon\n",
              "4         4.0   2011-11-03 17:35:00.00000095  ...     pm      Thu\n",
              "\n",
              "[5 rows x 13 columns]"
            ]
          },
          "metadata": {
            "tags": []
          },
          "execution_count": 13
        }
      ]
    },
    {
      "cell_type": "code",
      "metadata": {
        "id": "uGRw7QQXOSPT"
      },
      "source": [
        "cat_cols = ['Hour', 'AMorPM', 'Weekday']\n",
        "cont_cols = ['pickup_latitude', 'pickup_longitude', 'dropoff_latitude', 'dropoff_longitude', 'passenger_count', 'dist_km']"
      ],
      "execution_count": 14,
      "outputs": []
    },
    {
      "cell_type": "code",
      "metadata": {
        "id": "o2rohtdZOVj7"
      },
      "source": [
        "#make the cat categories as \"category\" and label encoder it.\n",
        "for col in df.columns:\n",
        "  if col in cat_cols:\n",
        "    df[col] = LabelEncoder().fit_transform(df[col])\n",
        "    df[col]= df[col].astype('category')"
      ],
      "execution_count": 15,
      "outputs": []
    },
    {
      "cell_type": "code",
      "metadata": {
        "colab": {
          "base_uri": "https://localhost:8080/",
          "height": 411
        },
        "id": "dcZwG5GlOX8D",
        "outputId": "27f61dfc-c448-4615-a970-f65ec1c13b7d"
      },
      "source": [
        "df.head()\n"
      ],
      "execution_count": 16,
      "outputs": [
        {
          "output_type": "execute_result",
          "data": {
            "text/html": [
              "<div>\n",
              "<style scoped>\n",
              "    .dataframe tbody tr th:only-of-type {\n",
              "        vertical-align: middle;\n",
              "    }\n",
              "\n",
              "    .dataframe tbody tr th {\n",
              "        vertical-align: top;\n",
              "    }\n",
              "\n",
              "    .dataframe thead th {\n",
              "        text-align: right;\n",
              "    }\n",
              "</style>\n",
              "<table border=\"1\" class=\"dataframe\">\n",
              "  <thead>\n",
              "    <tr style=\"text-align: right;\">\n",
              "      <th></th>\n",
              "      <th>Unnamed: 0</th>\n",
              "      <th>key</th>\n",
              "      <th>pickup_datetime</th>\n",
              "      <th>pickup_longitude</th>\n",
              "      <th>pickup_latitude</th>\n",
              "      <th>dropoff_longitude</th>\n",
              "      <th>dropoff_latitude</th>\n",
              "      <th>passenger_count</th>\n",
              "      <th>dist_km</th>\n",
              "      <th>EDTdate</th>\n",
              "      <th>Hour</th>\n",
              "      <th>AMorPM</th>\n",
              "      <th>Weekday</th>\n",
              "    </tr>\n",
              "  </thead>\n",
              "  <tbody>\n",
              "    <tr>\n",
              "      <th>0</th>\n",
              "      <td>0.0</td>\n",
              "      <td>2012-10-06 20:31:36.0000003</td>\n",
              "      <td>2012-10-06 20:31:36 UTC</td>\n",
              "      <td>-73.952825</td>\n",
              "      <td>40.772048</td>\n",
              "      <td>-73.952194</td>\n",
              "      <td>40.781152</td>\n",
              "      <td>3</td>\n",
              "      <td>1.013712</td>\n",
              "      <td>2012-10-06 16:31:36</td>\n",
              "      <td>16</td>\n",
              "      <td>1</td>\n",
              "      <td>2</td>\n",
              "    </tr>\n",
              "    <tr>\n",
              "      <th>1</th>\n",
              "      <td>1.0</td>\n",
              "      <td>2010-07-12 09:44:33.0000001</td>\n",
              "      <td>2010-07-12 09:44:33 UTC</td>\n",
              "      <td>-73.983249</td>\n",
              "      <td>40.734655</td>\n",
              "      <td>-73.991278</td>\n",
              "      <td>40.738918</td>\n",
              "      <td>1</td>\n",
              "      <td>0.826026</td>\n",
              "      <td>2010-07-12 05:44:33</td>\n",
              "      <td>5</td>\n",
              "      <td>0</td>\n",
              "      <td>1</td>\n",
              "    </tr>\n",
              "    <tr>\n",
              "      <th>2</th>\n",
              "      <td>2.0</td>\n",
              "      <td>2010-05-07 20:05:00.000000228</td>\n",
              "      <td>2010-05-07 20:05:00 UTC</td>\n",
              "      <td>-73.968212</td>\n",
              "      <td>40.762212</td>\n",
              "      <td>-73.919958</td>\n",
              "      <td>40.755087</td>\n",
              "      <td>2</td>\n",
              "      <td>4.140762</td>\n",
              "      <td>2010-05-07 16:05:00</td>\n",
              "      <td>16</td>\n",
              "      <td>1</td>\n",
              "      <td>0</td>\n",
              "    </tr>\n",
              "    <tr>\n",
              "      <th>3</th>\n",
              "      <td>3.0</td>\n",
              "      <td>2010-05-31 18:05:00.00000060</td>\n",
              "      <td>2010-05-31 18:05:00 UTC</td>\n",
              "      <td>-73.991633</td>\n",
              "      <td>40.750440</td>\n",
              "      <td>-73.985928</td>\n",
              "      <td>40.736168</td>\n",
              "      <td>3</td>\n",
              "      <td>1.658157</td>\n",
              "      <td>2010-05-31 14:05:00</td>\n",
              "      <td>14</td>\n",
              "      <td>1</td>\n",
              "      <td>1</td>\n",
              "    </tr>\n",
              "    <tr>\n",
              "      <th>4</th>\n",
              "      <td>4.0</td>\n",
              "      <td>2011-11-03 17:35:00.00000095</td>\n",
              "      <td>2011-11-03 17:35:00 UTC</td>\n",
              "      <td>-73.978593</td>\n",
              "      <td>40.753452</td>\n",
              "      <td>-73.978652</td>\n",
              "      <td>40.762660</td>\n",
              "      <td>1</td>\n",
              "      <td>1.023895</td>\n",
              "      <td>2011-11-03 13:35:00</td>\n",
              "      <td>13</td>\n",
              "      <td>1</td>\n",
              "      <td>4</td>\n",
              "    </tr>\n",
              "  </tbody>\n",
              "</table>\n",
              "</div>"
            ],
            "text/plain": [
              "   Unnamed: 0                            key  ... AMorPM  Weekday\n",
              "0         0.0    2012-10-06 20:31:36.0000003  ...      1        2\n",
              "1         1.0    2010-07-12 09:44:33.0000001  ...      0        1\n",
              "2         2.0  2010-05-07 20:05:00.000000228  ...      1        0\n",
              "3         3.0   2010-05-31 18:05:00.00000060  ...      1        1\n",
              "4         4.0   2011-11-03 17:35:00.00000095  ...      1        4\n",
              "\n",
              "[5 rows x 13 columns]"
            ]
          },
          "metadata": {
            "tags": []
          },
          "execution_count": 16
        }
      ]
    },
    {
      "cell_type": "code",
      "metadata": {
        "colab": {
          "base_uri": "https://localhost:8080/"
        },
        "id": "y-XX9ipFOZ39",
        "outputId": "b693262a-3f4e-4849-901e-60169d2cd9db"
      },
      "source": [
        "df.info()\n"
      ],
      "execution_count": 17,
      "outputs": [
        {
          "output_type": "stream",
          "text": [
            "<class 'pandas.core.frame.DataFrame'>\n",
            "Int64Index: 109908 entries, 0 to 9913\n",
            "Data columns (total 13 columns):\n",
            " #   Column             Non-Null Count   Dtype         \n",
            "---  ------             --------------   -----         \n",
            " 0   Unnamed: 0         99994 non-null   float64       \n",
            " 1   key                109908 non-null  object        \n",
            " 2   pickup_datetime    109908 non-null  object        \n",
            " 3   pickup_longitude   109908 non-null  float64       \n",
            " 4   pickup_latitude    109908 non-null  float64       \n",
            " 5   dropoff_longitude  109908 non-null  float64       \n",
            " 6   dropoff_latitude   109908 non-null  float64       \n",
            " 7   passenger_count    109908 non-null  int64         \n",
            " 8   dist_km            109908 non-null  float64       \n",
            " 9   EDTdate            109908 non-null  datetime64[ns]\n",
            " 10  Hour               109908 non-null  category      \n",
            " 11  AMorPM             109908 non-null  category      \n",
            " 12  Weekday            109908 non-null  category      \n",
            "dtypes: category(3), datetime64[ns](1), float64(6), int64(1), object(2)\n",
            "memory usage: 9.5+ MB\n"
          ],
          "name": "stdout"
        }
      ]
    },
    {
      "cell_type": "code",
      "metadata": {
        "colab": {
          "base_uri": "https://localhost:8080/"
        },
        "id": "wHnVYqZ6ObQ0",
        "outputId": "3a2b6e04-06c9-43b8-aea7-2cc61ccb8fc7"
      },
      "source": [
        "df.columns\n"
      ],
      "execution_count": 18,
      "outputs": [
        {
          "output_type": "execute_result",
          "data": {
            "text/plain": [
              "Index(['Unnamed: 0', 'key', 'pickup_datetime', 'pickup_longitude',\n",
              "       'pickup_latitude', 'dropoff_longitude', 'dropoff_latitude',\n",
              "       'passenger_count', 'dist_km', 'EDTdate', 'Hour', 'AMorPM', 'Weekday'],\n",
              "      dtype='object')"
            ]
          },
          "metadata": {
            "tags": []
          },
          "execution_count": 18
        }
      ]
    },
    {
      "cell_type": "code",
      "metadata": {
        "id": "e8GUG2AyOdNW"
      },
      "source": [
        "# keep only the cols for the model\n",
        "df = df[['Hour', 'AMorPM', 'Weekday','pickup_latitude', 'pickup_longitude', 'dropoff_latitude', 'dropoff_longitude', 'passenger_count', 'dist_km']]\n"
      ],
      "execution_count": 19,
      "outputs": []
    },
    {
      "cell_type": "code",
      "metadata": {
        "id": "AKdEIo9EOfGL"
      },
      "source": [
        "df_train = df[:99994]\n",
        "df_test = df[99994:]"
      ],
      "execution_count": 20,
      "outputs": []
    },
    {
      "cell_type": "code",
      "metadata": {
        "colab": {
          "base_uri": "https://localhost:8080/"
        },
        "id": "8FGebEtcOhd4",
        "outputId": "1e8590b9-1fa2-4eb6-e6ee-bbdc2ed444d4"
      },
      "source": [
        "#Normalizing \n",
        "\n",
        "from pandas.api.types import is_numeric_dtype\n",
        "\n",
        "#\"Compute the means and stds of `self.cont_names` columns to normalize them.\"\n",
        "def Normalize(df):\n",
        "  means,stds = {},{}\n",
        "  cont_names = ['pickup_latitude', 'pickup_longitude', 'dropoff_latitude', 'dropoff_longitude', 'passenger_count', 'dist_km']\n",
        "  for n in cont_names:\n",
        "    assert is_numeric_dtype(df[n]), (f\"\"\"Cannot normalize '{n}' column as it isn't numerical. Are you sure it doesn't belong in the categorical set of columns?\"\"\")\n",
        "    means[n],stds[n] = df[n].mean(),df[n].std()\n",
        "    df[n] = (df[n]-means[n]) / (1e-7 + stds[n])\n",
        "\n",
        "\n",
        "Normalize(df_train)\n",
        "Normalize(df_test)\n",
        "X = df_train"
      ],
      "execution_count": 21,
      "outputs": [
        {
          "output_type": "stream",
          "text": [
            "/usr/local/lib/python3.7/dist-packages/ipykernel_launcher.py:12: SettingWithCopyWarning:\n",
            "\n",
            "\n",
            "A value is trying to be set on a copy of a slice from a DataFrame.\n",
            "Try using .loc[row_indexer,col_indexer] = value instead\n",
            "\n",
            "See the caveats in the documentation: https://pandas.pydata.org/pandas-docs/stable/user_guide/indexing.html#returning-a-view-versus-a-copy\n",
            "\n"
          ],
          "name": "stderr"
        }
      ]
    },
    {
      "cell_type": "code",
      "metadata": {
        "colab": {
          "base_uri": "https://localhost:8080/",
          "height": 204
        },
        "id": "lidQa0VJOjer",
        "outputId": "148167a9-d852-48b0-df59-f4d14764ccb3"
      },
      "source": [
        "df_train.head()\n"
      ],
      "execution_count": 22,
      "outputs": [
        {
          "output_type": "execute_result",
          "data": {
            "text/html": [
              "<div>\n",
              "<style scoped>\n",
              "    .dataframe tbody tr th:only-of-type {\n",
              "        vertical-align: middle;\n",
              "    }\n",
              "\n",
              "    .dataframe tbody tr th {\n",
              "        vertical-align: top;\n",
              "    }\n",
              "\n",
              "    .dataframe thead th {\n",
              "        text-align: right;\n",
              "    }\n",
              "</style>\n",
              "<table border=\"1\" class=\"dataframe\">\n",
              "  <thead>\n",
              "    <tr style=\"text-align: right;\">\n",
              "      <th></th>\n",
              "      <th>Hour</th>\n",
              "      <th>AMorPM</th>\n",
              "      <th>Weekday</th>\n",
              "      <th>pickup_latitude</th>\n",
              "      <th>pickup_longitude</th>\n",
              "      <th>dropoff_latitude</th>\n",
              "      <th>dropoff_longitude</th>\n",
              "      <th>passenger_count</th>\n",
              "      <th>dist_km</th>\n",
              "    </tr>\n",
              "  </thead>\n",
              "  <tbody>\n",
              "    <tr>\n",
              "      <th>0</th>\n",
              "      <td>16</td>\n",
              "      <td>1</td>\n",
              "      <td>2</td>\n",
              "      <td>0.130818</td>\n",
              "      <td>-0.118696</td>\n",
              "      <td>0.124782</td>\n",
              "      <td>-0.121001</td>\n",
              "      <td>0.895281</td>\n",
              "      <td>-0.051084</td>\n",
              "    </tr>\n",
              "    <tr>\n",
              "      <th>1</th>\n",
              "      <td>5</td>\n",
              "      <td>0</td>\n",
              "      <td>1</td>\n",
              "      <td>0.125184</td>\n",
              "      <td>-0.121194</td>\n",
              "      <td>0.118571</td>\n",
              "      <td>-0.124307</td>\n",
              "      <td>-0.471509</td>\n",
              "      <td>-0.051581</td>\n",
              "    </tr>\n",
              "    <tr>\n",
              "      <th>2</th>\n",
              "      <td>16</td>\n",
              "      <td>1</td>\n",
              "      <td>0</td>\n",
              "      <td>0.129336</td>\n",
              "      <td>-0.119959</td>\n",
              "      <td>0.120949</td>\n",
              "      <td>-0.118275</td>\n",
              "      <td>0.211886</td>\n",
              "      <td>-0.042799</td>\n",
              "    </tr>\n",
              "    <tr>\n",
              "      <th>3</th>\n",
              "      <td>14</td>\n",
              "      <td>1</td>\n",
              "      <td>1</td>\n",
              "      <td>0.127562</td>\n",
              "      <td>-0.121883</td>\n",
              "      <td>0.118167</td>\n",
              "      <td>-0.123854</td>\n",
              "      <td>0.895281</td>\n",
              "      <td>-0.049376</td>\n",
              "    </tr>\n",
              "    <tr>\n",
              "      <th>4</th>\n",
              "      <td>13</td>\n",
              "      <td>1</td>\n",
              "      <td>4</td>\n",
              "      <td>0.128016</td>\n",
              "      <td>-0.120812</td>\n",
              "      <td>0.122062</td>\n",
              "      <td>-0.123239</td>\n",
              "      <td>-0.471509</td>\n",
              "      <td>-0.051057</td>\n",
              "    </tr>\n",
              "  </tbody>\n",
              "</table>\n",
              "</div>"
            ],
            "text/plain": [
              "  Hour AMorPM Weekday  ...  dropoff_longitude  passenger_count   dist_km\n",
              "0   16      1       2  ...          -0.121001         0.895281 -0.051084\n",
              "1    5      0       1  ...          -0.124307        -0.471509 -0.051581\n",
              "2   16      1       0  ...          -0.118275         0.211886 -0.042799\n",
              "3   14      1       1  ...          -0.123854         0.895281 -0.049376\n",
              "4   13      1       4  ...          -0.123239        -0.471509 -0.051057\n",
              "\n",
              "[5 rows x 9 columns]"
            ]
          },
          "metadata": {
            "tags": []
          },
          "execution_count": 22
        }
      ]
    },
    {
      "cell_type": "code",
      "metadata": {
        "colab": {
          "base_uri": "https://localhost:8080/"
        },
        "id": "dFWDlijQOlIx",
        "outputId": "9685551d-f848-4d64-e1b2-24e2f2e91365"
      },
      "source": [
        "X.shape\n"
      ],
      "execution_count": 23,
      "outputs": [
        {
          "output_type": "execute_result",
          "data": {
            "text/plain": [
              "(99994, 9)"
            ]
          },
          "metadata": {
            "tags": []
          },
          "execution_count": 23
        }
      ]
    },
    {
      "cell_type": "code",
      "metadata": {
        "colab": {
          "base_uri": "https://localhost:8080/"
        },
        "id": "AmGkq1vCOmSo",
        "outputId": "63c20e45-a8d3-496d-c0f4-a2f14df73e86"
      },
      "source": [
        "X.info()\n"
      ],
      "execution_count": 24,
      "outputs": [
        {
          "output_type": "stream",
          "text": [
            "<class 'pandas.core.frame.DataFrame'>\n",
            "Int64Index: 99994 entries, 0 to 99999\n",
            "Data columns (total 9 columns):\n",
            " #   Column             Non-Null Count  Dtype   \n",
            "---  ------             --------------  -----   \n",
            " 0   Hour               99994 non-null  category\n",
            " 1   AMorPM             99994 non-null  category\n",
            " 2   Weekday            99994 non-null  category\n",
            " 3   pickup_latitude    99994 non-null  float64 \n",
            " 4   pickup_longitude   99994 non-null  float64 \n",
            " 5   dropoff_latitude   99994 non-null  float64 \n",
            " 6   dropoff_longitude  99994 non-null  float64 \n",
            " 7   passenger_count    99994 non-null  float64 \n",
            " 8   dist_km            99994 non-null  float64 \n",
            "dtypes: category(3), float64(6)\n",
            "memory usage: 5.6 MB\n"
          ],
          "name": "stdout"
        }
      ]
    },
    {
      "cell_type": "code",
      "metadata": {
        "colab": {
          "base_uri": "https://localhost:8080/",
          "height": 204
        },
        "id": "7HSx2vtEOob-",
        "outputId": "aa43776a-f3d6-4d05-ec4d-52d715a2d77d"
      },
      "source": [
        "X_train, X_val, y_train, y_val = train_test_split(X, Y, test_size=0.20, random_state=42,shuffle=True ) \n",
        "X_train.head()\n"
      ],
      "execution_count": 25,
      "outputs": [
        {
          "output_type": "execute_result",
          "data": {
            "text/html": [
              "<div>\n",
              "<style scoped>\n",
              "    .dataframe tbody tr th:only-of-type {\n",
              "        vertical-align: middle;\n",
              "    }\n",
              "\n",
              "    .dataframe tbody tr th {\n",
              "        vertical-align: top;\n",
              "    }\n",
              "\n",
              "    .dataframe thead th {\n",
              "        text-align: right;\n",
              "    }\n",
              "</style>\n",
              "<table border=\"1\" class=\"dataframe\">\n",
              "  <thead>\n",
              "    <tr style=\"text-align: right;\">\n",
              "      <th></th>\n",
              "      <th>Hour</th>\n",
              "      <th>AMorPM</th>\n",
              "      <th>Weekday</th>\n",
              "      <th>pickup_latitude</th>\n",
              "      <th>pickup_longitude</th>\n",
              "      <th>dropoff_latitude</th>\n",
              "      <th>dropoff_longitude</th>\n",
              "      <th>passenger_count</th>\n",
              "      <th>dist_km</th>\n",
              "    </tr>\n",
              "  </thead>\n",
              "  <tbody>\n",
              "    <tr>\n",
              "      <th>38242</th>\n",
              "      <td>11</td>\n",
              "      <td>0</td>\n",
              "      <td>3</td>\n",
              "      <td>0.127318</td>\n",
              "      <td>-0.123118</td>\n",
              "      <td>0.115867</td>\n",
              "      <td>-0.123806</td>\n",
              "      <td>-0.471509</td>\n",
              "      <td>-0.044170</td>\n",
              "    </tr>\n",
              "    <tr>\n",
              "      <th>3806</th>\n",
              "      <td>12</td>\n",
              "      <td>1</td>\n",
              "      <td>1</td>\n",
              "      <td>0.124350</td>\n",
              "      <td>-0.122392</td>\n",
              "      <td>0.117958</td>\n",
              "      <td>-0.125756</td>\n",
              "      <td>0.211886</td>\n",
              "      <td>-0.050886</td>\n",
              "    </tr>\n",
              "    <tr>\n",
              "      <th>27928</th>\n",
              "      <td>15</td>\n",
              "      <td>1</td>\n",
              "      <td>1</td>\n",
              "      <td>0.125222</td>\n",
              "      <td>-0.122093</td>\n",
              "      <td>0.110901</td>\n",
              "      <td>-0.122894</td>\n",
              "      <td>-0.471509</td>\n",
              "      <td>-0.038923</td>\n",
              "    </tr>\n",
              "    <tr>\n",
              "      <th>6006</th>\n",
              "      <td>7</td>\n",
              "      <td>0</td>\n",
              "      <td>4</td>\n",
              "      <td>0.130481</td>\n",
              "      <td>-0.119716</td>\n",
              "      <td>0.122279</td>\n",
              "      <td>-0.122430</td>\n",
              "      <td>-0.471509</td>\n",
              "      <td>-0.051888</td>\n",
              "    </tr>\n",
              "    <tr>\n",
              "      <th>65809</th>\n",
              "      <td>14</td>\n",
              "      <td>1</td>\n",
              "      <td>3</td>\n",
              "      <td>0.131605</td>\n",
              "      <td>-0.120822</td>\n",
              "      <td>0.122593</td>\n",
              "      <td>-0.123915</td>\n",
              "      <td>-0.471509</td>\n",
              "      <td>-0.050077</td>\n",
              "    </tr>\n",
              "  </tbody>\n",
              "</table>\n",
              "</div>"
            ],
            "text/plain": [
              "      Hour AMorPM Weekday  ...  dropoff_longitude  passenger_count   dist_km\n",
              "38242   11      0       3  ...          -0.123806        -0.471509 -0.044170\n",
              "3806    12      1       1  ...          -0.125756         0.211886 -0.050886\n",
              "27928   15      1       1  ...          -0.122894        -0.471509 -0.038923\n",
              "6006     7      0       4  ...          -0.122430        -0.471509 -0.051888\n",
              "65809   14      1       3  ...          -0.123915        -0.471509 -0.050077\n",
              "\n",
              "[5 rows x 9 columns]"
            ]
          },
          "metadata": {
            "tags": []
          },
          "execution_count": 25
        }
      ]
    },
    {
      "cell_type": "code",
      "metadata": {
        "colab": {
          "base_uri": "https://localhost:8080/"
        },
        "id": "rcrm1aOlO9i1",
        "outputId": "c8c43505-b710-442a-ad05-0a8e3cc4e5f8"
      },
      "source": [
        "#df.info()\n",
        "cat_szs = [len(df[col].cat.categories) for col in cat_cols]\n",
        "emb_szs = [(size, min(50, (size+1)//2)) for size in cat_szs]\n",
        "emb_szs"
      ],
      "execution_count": 26,
      "outputs": [
        {
          "output_type": "execute_result",
          "data": {
            "text/plain": [
              "[(24, 12), (2, 1), (7, 4)]"
            ]
          },
          "metadata": {
            "tags": []
          },
          "execution_count": 26
        }
      ]
    },
    {
      "cell_type": "code",
      "metadata": {
        "colab": {
          "base_uri": "https://localhost:8080/"
        },
        "id": "C9KEVB9QO_Me",
        "outputId": "f1d23b6a-de36-4c25-a9d6-e7c4c7fbc646"
      },
      "source": [
        "type(emb_szs)\n"
      ],
      "execution_count": 27,
      "outputs": [
        {
          "output_type": "execute_result",
          "data": {
            "text/plain": [
              "list"
            ]
          },
          "metadata": {
            "tags": []
          },
          "execution_count": 27
        }
      ]
    },
    {
      "cell_type": "code",
      "metadata": {
        "colab": {
          "base_uri": "https://localhost:8080/"
        },
        "id": "8Rk46DUMPAJ8",
        "outputId": "ad8fa0a4-bea4-40c2-b804-a840a5e1f68f"
      },
      "source": [
        "X_train.shape\n"
      ],
      "execution_count": 28,
      "outputs": [
        {
          "output_type": "execute_result",
          "data": {
            "text/plain": [
              "(79995, 9)"
            ]
          },
          "metadata": {
            "tags": []
          },
          "execution_count": 28
        }
      ]
    },
    {
      "cell_type": "code",
      "metadata": {
        "colab": {
          "base_uri": "https://localhost:8080/"
        },
        "id": "l9xhVovlPBYk",
        "outputId": "66e02943-9632-4419-917f-ed286dd570b8"
      },
      "source": [
        "X_val.shape\n"
      ],
      "execution_count": 29,
      "outputs": [
        {
          "output_type": "execute_result",
          "data": {
            "text/plain": [
              "(19999, 9)"
            ]
          },
          "metadata": {
            "tags": []
          },
          "execution_count": 29
        }
      ]
    },
    {
      "cell_type": "code",
      "metadata": {
        "colab": {
          "base_uri": "https://localhost:8080/"
        },
        "id": "8H0G4o90PCZd",
        "outputId": "96ad6eca-3a13-45a2-c463-b1acaaf88a8d"
      },
      "source": [
        "y_train.shape\n"
      ],
      "execution_count": 30,
      "outputs": [
        {
          "output_type": "execute_result",
          "data": {
            "text/plain": [
              "(79995,)"
            ]
          },
          "metadata": {
            "tags": []
          },
          "execution_count": 30
        }
      ]
    },
    {
      "cell_type": "code",
      "metadata": {
        "colab": {
          "base_uri": "https://localhost:8080/"
        },
        "id": "oRPO_SYhPDUz",
        "outputId": "7dff99b9-d4a2-42b7-f723-a75663aadef8"
      },
      "source": [
        "y_val.shape\n"
      ],
      "execution_count": 31,
      "outputs": [
        {
          "output_type": "execute_result",
          "data": {
            "text/plain": [
              "(19999,)"
            ]
          },
          "metadata": {
            "tags": []
          },
          "execution_count": 31
        }
      ]
    },
    {
      "cell_type": "code",
      "metadata": {
        "id": "HEazMQ-sPFLN"
      },
      "source": [
        "class RegressionColumnarDataset(data.Dataset):\n",
        "    def __init__(self, df, cats, y):\n",
        "        \n",
        "        \n",
        "        self.dfcats = df[cats] #type: pandas.core.frame.DataFrame\n",
        "        self.dfconts = df.drop(cats, axis=1) #type: pandas.core.frame.DataFrame\n",
        "        \n",
        "        \n",
        "        self.cats = np.stack([c.values for n, c in self.dfcats.items()], axis=1).astype(np.int64) #tpye: numpy.ndarray\n",
        "        self.conts = np.stack([c.values for n, c in self.dfconts.items()], axis=1).astype(np.float32) #tpye: numpy.ndarray\n",
        "        self.y = y.values.astype(np.float32)\n",
        "        \n",
        "        \n",
        "    def __len__(self): return len(self.y)\n",
        "\n",
        "    def __getitem__(self, idx):\n",
        "        \n",
        "        return [self.cats[idx], self.conts[idx], self.y[idx]]"
      ],
      "execution_count": 32,
      "outputs": []
    },
    {
      "cell_type": "code",
      "metadata": {
        "id": "pK6l63DZPY_P"
      },
      "source": [
        "trainds = RegressionColumnarDataset(X_train, cat_cols, y_train) #type: __main__.RegressionColumnarDataset\n",
        "valds = RegressionColumnarDataset(X_val, cat_cols, y_val) #type: __main__.RegressionColumnarDataset"
      ],
      "execution_count": 33,
      "outputs": []
    },
    {
      "cell_type": "code",
      "metadata": {
        "id": "jqSIYXzxPbSi"
      },
      "source": [
        "params = {'batch_size': 128,\n",
        "          'shuffle': True}\n",
        "\n",
        "\n",
        "traindl = DataLoader(trainds, **params) #type: torch.utils.data.dataloader.DataLoader\n",
        "valdl = DataLoader(valds, **params) #type: torch.utils.data.dataloader.DataLoader"
      ],
      "execution_count": 34,
      "outputs": []
    },
    {
      "cell_type": "code",
      "metadata": {
        "id": "LFn20L-9Pecg"
      },
      "source": [
        "# help functions\n",
        "\n",
        "from collections.abc import Iterable\n",
        "\n",
        "\n",
        "def bn_drop_lin(n_in:int, n_out:int, bn:bool=True, p:float=0., actn=None):\n",
        "    \"Sequence of batchnorm (if `bn`), dropout (with `p`) and linear (`n_in`,`n_out`) layers followed by `actn`.\"\n",
        "    layers = [nn.BatchNorm1d(n_in)] if bn else []\n",
        "    if p != 0: layers.append(nn.Dropout(p))\n",
        "    layers.append(nn.Linear(n_in, n_out))\n",
        "    if actn is not None: layers.append(actn)\n",
        "    return layers\n",
        "\n",
        "def ifnone(a,b):\n",
        "    \"`a` if `a` is not None, otherwise `b`.\"\n",
        "    return b if a is None else a\n",
        "\n",
        "def listify(p, q):\n",
        "    \"Make `p` listy and the same length as `q`.\"\n",
        "    if p is None: p=[]\n",
        "    elif isinstance(p, str):          p = [p]\n",
        "    elif not isinstance(p, Iterable): p = [p]\n",
        "    #Rank 0 tensors in PyTorch are Iterable but don't have a length.\n",
        "    else:\n",
        "        try: a = len(p)\n",
        "        except: p = [p]\n",
        "    n = q if type(q)==int else len(p) if q is None else len(q)\n",
        "    if len(p)==1: p = p * n\n",
        "    assert len(p)==n, f'List len mismatch ({len(p)} vs {n})'\n",
        "    return list(p)\n",
        "\n",
        "              \n",
        "\n",
        "class TabularModel(nn.Module):\n",
        "    \"Basic model for tabular data.\"\n",
        "    def __init__(self, emb_szs, n_cont:int, out_sz:int, layers, ps=None,\n",
        "                 emb_drop:float=0., y_range=None, use_bn:bool=True, bn_final:bool=False):\n",
        "        super().__init__()\n",
        "        ps = ifnone(ps, [0]*len(layers))\n",
        "        ps = listify(ps, layers)\n",
        "        self.embeds = nn.ModuleList([nn.Embedding(ni, nf) for ni,nf in emb_szs]) #type: torch.nn.modules.container.ModuleList\n",
        "        self.emb_drop = nn.Dropout(emb_drop) #type: torch.nn.modules.dropout.Dropout\n",
        "        self.bn_cont = nn.BatchNorm1d(n_cont) #type torch.nn.modules.batchnorm.BatchNorm1d\n",
        "        n_emb = sum(e.embedding_dim for e in self.embeds) # n_emb = 17 , type: int\n",
        "        self.n_emb,self.n_cont,self.y_range = n_emb,n_cont,y_range\n",
        "        sizes = [n_emb + n_cont] + layers + [out_sz] #typeL list, len: 4\n",
        "        actns = [nn.ReLU(inplace=True) for _ in range(len(sizes)-2)] + [None] #type: list, len: 3.  the last in None because we finish with linear\n",
        "        layers = []\n",
        "        for i,(n_in,n_out,dp,act) in enumerate(zip(sizes[:-1],sizes[1:],[0.]+ps,actns)):\n",
        "            layers += bn_drop_lin(n_in, n_out, bn=use_bn and i!=0, p=dp, actn=act)\n",
        "        if bn_final: layers.append(nn.BatchNorm1d(sizes[-1]))\n",
        "        self.layers = nn.Sequential(*layers) #type: torch.nn.modules.container.Sequential\n",
        "        \n",
        "\n",
        "\n",
        "\n",
        "    def forward(self, x_cat, x_cont):\n",
        "        if self.n_emb != 0:\n",
        "            x = [e(x_cat[:,i]) for i,e in enumerate(self.embeds)] #take the embedding list and grab an embedding and pass in our single row of data.        \n",
        "            x = torch.cat(x, 1) # concatenate it on dim 1 ## remeber that the len is the batch size\n",
        "            x = self.emb_drop(x) # pass it through a dropout layer\n",
        "        if self.n_cont != 0:\n",
        "            x_cont = self.bn_cont(x_cont) # batchnorm1d\n",
        "            x = torch.cat([x, x_cont], 1) if self.n_emb != 0 else x_cont # combine the categircal and continous variables on dim 1\n",
        "        x = self.layers(x)\n",
        "        if self.y_range is not None:\n",
        "            x = (self.y_range[1]-self.y_range[0]) * torch.sigmoid(x) + self.y_range[0] # deal with y_range\n",
        "        return x.squeeze()"
      ],
      "execution_count": 35,
      "outputs": []
    },
    {
      "cell_type": "code",
      "metadata": {
        "colab": {
          "base_uri": "https://localhost:8080/"
        },
        "id": "M0pubUFFPgE_",
        "outputId": "dd9e694f-e775-4de3-ce5e-ec52e8e4cd9f"
      },
      "source": [
        "torch.manual_seed(33)\n"
      ],
      "execution_count": 36,
      "outputs": [
        {
          "output_type": "execute_result",
          "data": {
            "text/plain": [
              "<torch._C.Generator at 0x7fc66a8438d0>"
            ]
          },
          "metadata": {
            "tags": []
          },
          "execution_count": 36
        }
      ]
    },
    {
      "cell_type": "code",
      "metadata": {
        "colab": {
          "base_uri": "https://localhost:8080/"
        },
        "id": "Hx91fgf7PiWT",
        "outputId": "8c60fec7-0b42-49f0-cb5c-dc129164bacd"
      },
      "source": [
        "y_range = (0, y_train.max()*1.2)\n",
        "y_range\n"
      ],
      "execution_count": 37,
      "outputs": [
        {
          "output_type": "execute_result",
          "data": {
            "text/plain": [
              "(0, 6.963592949672579)"
            ]
          },
          "metadata": {
            "tags": []
          },
          "execution_count": 37
        }
      ]
    },
    {
      "cell_type": "code",
      "metadata": {
        "colab": {
          "base_uri": "https://localhost:8080/"
        },
        "id": "0JI9NBKqPkHf",
        "outputId": "671be8f7-32d0-4d17-fd79-5b0805d61a0f"
      },
      "source": [
        "model = TabularModel(emb_szs = emb_szs,n_cont = len(cont_cols),out_sz = 1,layers = [1000,500,250],ps= [0.001,0.01,0.01],emb_drop=0.04, y_range=y_range).to(device)\n",
        "model\n"
      ],
      "execution_count": 38,
      "outputs": [
        {
          "output_type": "execute_result",
          "data": {
            "text/plain": [
              "TabularModel(\n",
              "  (embeds): ModuleList(\n",
              "    (0): Embedding(24, 12)\n",
              "    (1): Embedding(2, 1)\n",
              "    (2): Embedding(7, 4)\n",
              "  )\n",
              "  (emb_drop): Dropout(p=0.04, inplace=False)\n",
              "  (bn_cont): BatchNorm1d(6, eps=1e-05, momentum=0.1, affine=True, track_running_stats=True)\n",
              "  (layers): Sequential(\n",
              "    (0): Linear(in_features=23, out_features=1000, bias=True)\n",
              "    (1): ReLU(inplace=True)\n",
              "    (2): BatchNorm1d(1000, eps=1e-05, momentum=0.1, affine=True, track_running_stats=True)\n",
              "    (3): Dropout(p=0.001, inplace=False)\n",
              "    (4): Linear(in_features=1000, out_features=500, bias=True)\n",
              "    (5): ReLU(inplace=True)\n",
              "    (6): BatchNorm1d(500, eps=1e-05, momentum=0.1, affine=True, track_running_stats=True)\n",
              "    (7): Dropout(p=0.01, inplace=False)\n",
              "    (8): Linear(in_features=500, out_features=250, bias=True)\n",
              "    (9): ReLU(inplace=True)\n",
              "    (10): BatchNorm1d(250, eps=1e-05, momentum=0.1, affine=True, track_running_stats=True)\n",
              "    (11): Dropout(p=0.01, inplace=False)\n",
              "    (12): Linear(in_features=250, out_features=1, bias=True)\n",
              "  )\n",
              ")"
            ]
          },
          "metadata": {
            "tags": []
          },
          "execution_count": 38
        }
      ]
    },
    {
      "cell_type": "code",
      "metadata": {
        "id": "aTo4HUG1Pme8"
      },
      "source": [
        "from collections import defaultdict\n",
        "opt = torch.optim.Adam(model.parameters(), lr=1e-2) # can add: weight_decay=\n",
        "#lr_cosine = lr_scheduler.CosineAnnealingLR(opt,T_max = 350) #1000 ## if you want to add lr_cosine\n",
        "\n",
        "\n",
        "\n",
        "lr = defaultdict(list)\n",
        "tloss = defaultdict(list)\n",
        "vloss = defaultdict(list)"
      ],
      "execution_count": 39,
      "outputs": []
    },
    {
      "cell_type": "code",
      "metadata": {
        "id": "Jl9MtwK6Ppum"
      },
      "source": [
        "def inv_y(y): return np.exp(y)\n",
        "\n",
        "def rmse(targ, y_pred):\n",
        "    return np.sqrt(mean_squared_error(inv_y(y_pred), inv_y(targ))) #.detach().numpy()\n",
        "    \n",
        "\n",
        "def rmse(targ, y_pred):\n",
        "   return np.sqrt(mean_squared_error(y_pred, targ)) #.detach().numpy()\n",
        "\n",
        "\n",
        "#def fit(model, train_dl, val_dl, loss_fn, opt, scheduler, epochs=3): ## if you want to add schedular\n",
        "def fit(model, train_dl, val_dl, loss_fn, opt, epochs=3):\n",
        "    num_batch = len(train_dl)\n",
        "    for epoch in tnrange(epochs):      \n",
        "        y_true_train = list()\n",
        "        y_pred_train = list()\n",
        "        total_loss_train = 0          \n",
        "        \n",
        "        t = tqdm_notebook(iter(train_dl), leave=False, total=num_batch)\n",
        "        for cat, cont, y in t:\n",
        "            cat = cat.cuda()\n",
        "            cont = cont.cuda()\n",
        "            y = y.cuda()\n",
        "            \n",
        "            t.set_description(f'Epoch {epoch}')\n",
        "            \n",
        "            opt.zero_grad() #find where the grads are zero\n",
        "            pred = model(cat, cont)\n",
        "            loss = loss_fn(pred, y)\n",
        "            \n",
        "            loss.backward() # do backprop\n",
        "            lr[epoch].append(opt.param_groups[0]['lr'])\n",
        "            tloss[epoch].append(loss.item())\n",
        "            opt.step()\n",
        "            #scheduler.step()\n",
        "            \n",
        "            \n",
        "            t.set_postfix(loss=loss.item())\n",
        "            \n",
        "            y_true_train += list(y.cpu().data.numpy())\n",
        "            y_pred_train += list(pred.cpu().data.numpy())\n",
        "            total_loss_train += loss.item()\n",
        "            \n",
        "        train_acc = rmse(y_true_train, y_pred_train)\n",
        "        train_loss = total_loss_train/len(train_dl) # len train_dl = 704. the calc is number of train examples (89991) / batch size (128)\n",
        "        \n",
        "        if val_dl:\n",
        "            y_true_val = list()\n",
        "            y_pred_val = list()\n",
        "            total_loss_val = 0\n",
        "            for cat, cont, y in tqdm_notebook(val_dl, leave=False):\n",
        "                cat = cat.cuda()\n",
        "                cont = cont.cuda()\n",
        "                y = y.cuda()\n",
        "                pred = model(cat, cont)\n",
        "                loss = loss_fn(pred, y)\n",
        "                \n",
        "                y_true_val += list(y.cpu().data.numpy())\n",
        "                y_pred_val += list(pred.cpu().data.numpy())\n",
        "                total_loss_val += loss.item()\n",
        "                vloss[epoch].append(loss.item())\n",
        "            valacc = rmse(y_true_val, y_pred_val)\n",
        "            valloss = total_loss_val/len(valdl)\n",
        "            print(f'Epoch {epoch}: train_loss: {train_loss:.4f} train_rmse: {train_acc:.4f} | val_loss: {valloss:.4f} val_rmse: {valacc:.4f}')\n",
        "        else:\n",
        "            print(f'Epoch {epoch}: train_loss: {train_loss:.4f} train_rmse: {train_acc:.4f}')\n",
        "    \n",
        "    return lr, tloss, vloss"
      ],
      "execution_count": 40,
      "outputs": []
    },
    {
      "cell_type": "code",
      "metadata": {
        "colab": {
          "base_uri": "https://localhost:8080/",
          "height": 1000,
          "referenced_widgets": [
            "2bd17ec55c4a4cb191b1e09938340786",
            "42289423071d4e1594e58da8a524edde",
            "a82b4864283a4f3a815802bd05434c77",
            "49b9a3c83b054aabb59440c9d65f27f3",
            "d47a491da0cd4c4a829a571b6c318bdd",
            "90318057c4e04a7f80deb28cda042eb4",
            "fd6ca08a5b2a427dbdc374c068b10e98",
            "9173721cf0464e289a1974145693d423",
            "480ba96c7ef643268260804c5f073288",
            "28746706665046ed9e342eae0d8f3fdd",
            "52dfaec34abb4cbab1eb2d1a8945d80f",
            "a8fb695a886b4546b2152dd4c11ec7a4",
            "e76d984aa75f40978a1b09359fd31f02",
            "d6e97db882eb4adfacda7399728794b9",
            "792473c2f31047e89ad16b58cfeb0624",
            "3099669c15e84c63bfa4f29f1adf51b6",
            "bc1f3b47eb844b639f9a0c2678ba1d9d",
            "69aa35e6f8fc48598cf24f13c1abf323",
            "92c2d2ed4f6743baa07f3eb863dc1b2c",
            "f33ed49d227143c88d10f79bb0f640b6",
            "32dff5f1f20845a8bb381079fd26f5ed",
            "c6aafb3040f84c4f99528936f277d75b",
            "6e239a12e3764ae8b1663781e28ca332",
            "2d68e79343bc410db8c206414b2f28da",
            "3c211615cff84a5ebb6ac8c0a348bbaa",
            "0fbcebfd54714e368df0dd5f941ec75c",
            "133753806fe949eb8e95edc2df7897e7",
            "91032175797a4df48e5dea036f00056d",
            "85f828a8826b461c9c281679a45326ff",
            "ae5030f752dc47418aa35b53f1c63631",
            "fbd2653ccc4340b9a52d5120b60e353d",
            "dd35a5a87da04636a5eccf6329bf9ed9",
            "517ea6aad8984b87af56f7ebacd10675",
            "3fabed6c599e4614b9a21a9283051ecf",
            "70e32fa867914efe99f0f829370b60c1",
            "48ce3bcf09b74cf4b44385ef4d8a8956",
            "c20c4ee00a6a437c81338523cff7e188",
            "1945f18add8d4c81ad1b08d932112db2",
            "2e927f4d421442abba4086ac5dadb04e",
            "790d999189ae4154bd1dfb2fd7c1891c",
            "d5cc04e5aa2d43389cb33ae179e78259",
            "7f015c53aad14ede968a75aca0b64927",
            "c832f356729c471da967b4558b3546eb",
            "49c0357e1a054bd48e14377a80f45352",
            "4f72aa3acee44bf583da45eba5955f0e",
            "8efb17418cf64c8da9a5cdaaf0decda5",
            "cf9eddf66c814932a0c96d1fb26b632d",
            "fa5af1a806ed4f4d91a2c202623a770d",
            "c5cb5560a0bf44d4b2963dc90a303762",
            "7bce96ad6b3b493695b64115c48dbf7f",
            "ff30c9a552c740a9916af5129b32f9db",
            "72ad6b46d0fa414b904ab1e5ce642e07",
            "21cd736ade5b43cab1e7531da4512b23",
            "c6a402eec377483eb697942a39a413a7",
            "3c6aee4e24ee4ab78588dc963f50195d",
            "b493641e70e04bfe896311b738e1b9b6",
            "b659c5ca761e40bcbc8d55c0bc1532fb",
            "1d7ae85e8844482e83a84b3a225f0ee9",
            "ed1ccad28af44a4c9c0da08cb1d2a3b0",
            "d1d47b4363074a3a9740b3a9fbeab2e1",
            "5427e8b002b04cb5b5678be1e4221adc",
            "8417449ecf164843bb6ad2ba44f75244",
            "70cf2dbc20b54887a7a51cff60008b60",
            "a7f2b1bfbeca400bafa4c0a0f326cdd4",
            "0133b298ff3e4c45b2f93f37b1bed568",
            "c40e0762a67c417881fb13dfd65fcbbb",
            "429956eab6924c1ab939009960fb9d6b",
            "58ca2368ea4f412a89f0ca234e2fc67e",
            "5b99ae48b339424893cd19b49d9bbf5b",
            "c0020d1cb085494bb65f050446efafbb",
            "6daa3c3a6a0c4508bc4030fd7ff36f1d",
            "d86688d5c4a64debabcf0bacb740788e",
            "e9f0ebe3c4fb4982b60d4d1c6aa152e2",
            "f091c87198194836bf3191d82ceaf2c1",
            "7eeb958b519d4ab2a784d9e7819dfb56",
            "405ca93ab79240cb8923b65e234896de",
            "ff443dd9e014472cb1c16db97a34588a",
            "bff94bdf49714163b91bcde9921d6f4d",
            "8231c748acf94b26abdfb2ffc80ac650",
            "ec5adb45207b49a1aadde56e8a017ed0",
            "e00136326577461da82c73b578393361",
            "121d2d0f652d4a8abe8b97eb6a03ab21",
            "9f55075070ad49d1b9a3842e162a2159",
            "98db7339938e470c8ae8f280950974cb",
            "4ab32b1337a64a7ba3ba2ac685a7c816",
            "86ba18575ac14329b48bdd7611346c3d",
            "64979bdbb3ce4ddeadcbfd2b29237760",
            "0427fa3bd8c746daa5e71c5ae629bc7c",
            "6efb66dadd8d44a59bc7a7ad78603c64",
            "b78903f6d0284fc6b147981fc36da052",
            "5c03401ddaf841fdbdd145adadb35545",
            "affafa7f23574a04a67d4f0d4541b988",
            "d0e555bb300a4e528acf311802068dd9",
            "8793a3f1bfd74db8aca7a7ede6ef736d",
            "d93466b680c140c6bc1e8786e9742393",
            "48bd06b01fd64a0dbdd8c3caf1e53b14",
            "999cffdb95de46d1a672b01222e803a3",
            "38b6df9ad18041aca0dc8f1d63406882",
            "b8c5cd08019a4946a3b6bb4b9787a64f",
            "a683c708cf9d4bef8c462599d5e0b435",
            "da214f41275a4b67aaf3b54f62f5c170",
            "9e1814b1534646088ac01a7b13d21550",
            "02c1d9a76af74f7f9a8258c8dc62bfef",
            "022064a2e64240e8b8429a2269b25352",
            "708cce81297e405cb40965f31005ba78",
            "41a73065c83d4b50a88ba1a68a264e7b",
            "fcab17cca85342dcaecfe1884504b303",
            "1bdf499102a24773a1027d0a27e65df5",
            "281367fecf6b4fafb954217c366d776f",
            "5a4ed89af0904a94aa38f613ee933106",
            "54483aa8ea3242459635263229f5dbd8",
            "690bb531f5a54713850541ca8ac880d9",
            "c4c610f910fc4a64a4608c0443712c3a",
            "020b8e4cc8d64f31aa6d956071ab3973",
            "6115c2d97fe540e49f9e2820b583ddde",
            "94581410031c4f248c530368b28c0443",
            "971119dd5fea468eb03a7fcecaf4fc17",
            "373715e0c82f46d18847d924e780b7ad",
            "f915c00a157e4737ab62604946824f55",
            "57f53992b137494f831bd283af933edb",
            "2e2836b383b94bb9bab5f36f274e08ad",
            "e350286e62fe4fe48c83663e0df41376",
            "e98ef41ab6f8462dbe39b322828b7006",
            "25f322200a094acbb4ef8a2378394263",
            "b5abd84d12c4486b9ba492b8bff1dcd5",
            "b7f89004836240e581099c3f45bec55f",
            "503289fcc8c74b30b613d383a8461d96",
            "0a10e24b655744b09a71093c7559e0a7",
            "1bf71c65195f4ccbb7f07a5ddbd8f810",
            "de6106178af64d478bd623c5d6ff8a67",
            "4ad369e00853482cb90bff60305f7f4f",
            "5d08d6ecc34045928f3f31c2da490f17",
            "2825fac7195d4a2c9e34442fbc030972",
            "000f98b25968469b9e0e118a88ded83c",
            "e4672af417f44c2bacbb7c78c1439e91",
            "d95169f5245a4f539b970a9e12f15d06",
            "2c7fe83c410f41a4a43f11c9ffe7a2ff",
            "638c65a56a454d23904b9698f71b98f1",
            "3dfa10fe9bf74be69534b36f64c1d4c7",
            "f88967ceddbd46ecadf0fc3fc3cf3a66",
            "bec12e43f42443a59be20b2b7b2f32d8",
            "5c6ad739031c460b8a4018889e532526",
            "1a1ae87219184bbfbb7d86b3ed95e1b0",
            "d967f2517d91499c8ea81fd768c81c54",
            "ef470b87d52a42a4ac459c466914ae03",
            "aaccaf62711f495f9b0a07fc282ce086",
            "43677e89118c4f87bcd6b724d3f49aa2",
            "90912802d53347768b6e8b45366c7e67",
            "aeaa0d27f38c43fb809175c0f50dc55e",
            "ad0988e794d3468aa4edaabd2d6559c0",
            "b2f23b1bfdb142b4aa0d3b78c36d2fd1",
            "556b91916be2421d9efebe63be5aba6a",
            "9d10a999f7bd434c81216260a4881241",
            "607f678839bf4438a11df282b224379e",
            "e511181b802241018e642919eb9d0d83",
            "b79cd0a623ac43efbe5ae345522ae205",
            "e131e88b0a054ccfb755eee03beb3b6c",
            "7056697052c049b8bf9a583879ef4ce3",
            "35f88f98628646638abffccd9505955f",
            "5d7744f7cbaa4c5eb43746d3c2ab66b1",
            "d0b45de270844cd694605b6a6e4f3cfa",
            "5e7766c131234e17af3a1f6bb55ae3a5",
            "cd387936f49344ed992895f75cf9119d",
            "cc6426598bdb49f88ff5e1c0927862e4",
            "cfef0989861249f4995fa593b76e9f57",
            "ae1dd115aa5b477d8f66ba2ad0bf7b5b",
            "9e3c683cae45499c83eb0efcd3b32285",
            "f225e458e7c947ad82bac0c056fb48b9"
          ]
        },
        "id": "H9w6c_2HPsNd",
        "outputId": "8aaf6ace-3ad7-4bbf-d9f6-5921ba8afda4"
      },
      "source": [
        "#if you want to add lr_cosine\n",
        "#lr, tloss, vloss = fit(model=model, train_dl=traindl, val_dl=valdl, loss_fn=nn.MSELoss(), opt=opt, scheduler=lr_cosine, epochs=10)\n",
        "\n",
        "\n",
        "lr, tloss, vloss = fit(model=model, train_dl=traindl, val_dl=valdl, loss_fn=nn.MSELoss(), opt=opt,  epochs=10)"
      ],
      "execution_count": 41,
      "outputs": [
        {
          "output_type": "stream",
          "text": [
            "/usr/local/lib/python3.7/dist-packages/ipykernel_launcher.py:14: TqdmDeprecationWarning:\n",
            "\n",
            "Please use `tqdm.notebook.trange` instead of `tqdm.tnrange`\n",
            "\n"
          ],
          "name": "stderr"
        },
        {
          "output_type": "display_data",
          "data": {
            "application/vnd.jupyter.widget-view+json": {
              "model_id": "2bd17ec55c4a4cb191b1e09938340786",
              "version_minor": 0,
              "version_major": 2
            },
            "text/plain": [
              "HBox(children=(FloatProgress(value=0.0, max=10.0), HTML(value='')))"
            ]
          },
          "metadata": {
            "tags": []
          }
        },
        {
          "output_type": "stream",
          "text": [
            "/usr/local/lib/python3.7/dist-packages/ipykernel_launcher.py:19: TqdmDeprecationWarning:\n",
            "\n",
            "This function will be removed in tqdm==5.0.0\n",
            "Please use `tqdm.notebook.tqdm` instead of `tqdm.tqdm_notebook`\n",
            "\n"
          ],
          "name": "stderr"
        },
        {
          "output_type": "display_data",
          "data": {
            "application/vnd.jupyter.widget-view+json": {
              "model_id": "480ba96c7ef643268260804c5f073288",
              "version_minor": 0,
              "version_major": 2
            },
            "text/plain": [
              "HBox(children=(FloatProgress(value=0.0, max=625.0), HTML(value='')))"
            ]
          },
          "metadata": {
            "tags": []
          }
        },
        {
          "output_type": "stream",
          "text": [
            "/usr/local/lib/python3.7/dist-packages/ipykernel_launcher.py:51: TqdmDeprecationWarning:\n",
            "\n",
            "This function will be removed in tqdm==5.0.0\n",
            "Please use `tqdm.notebook.tqdm` instead of `tqdm.tqdm_notebook`\n",
            "\n"
          ],
          "name": "stderr"
        },
        {
          "output_type": "display_data",
          "data": {
            "application/vnd.jupyter.widget-view+json": {
              "model_id": "bc1f3b47eb844b639f9a0c2678ba1d9d",
              "version_minor": 0,
              "version_major": 2
            },
            "text/plain": [
              "HBox(children=(FloatProgress(value=0.0, max=157.0), HTML(value='')))"
            ]
          },
          "metadata": {
            "tags": []
          }
        },
        {
          "output_type": "stream",
          "text": [
            "Epoch 0: train_loss: 0.3385 train_rmse: 0.5818 | val_loss: 0.1906 val_rmse: 0.4371\n"
          ],
          "name": "stdout"
        },
        {
          "output_type": "stream",
          "text": [
            "/usr/local/lib/python3.7/dist-packages/ipykernel_launcher.py:19: TqdmDeprecationWarning:\n",
            "\n",
            "This function will be removed in tqdm==5.0.0\n",
            "Please use `tqdm.notebook.tqdm` instead of `tqdm.tqdm_notebook`\n",
            "\n"
          ],
          "name": "stderr"
        },
        {
          "output_type": "display_data",
          "data": {
            "application/vnd.jupyter.widget-view+json": {
              "model_id": "3c211615cff84a5ebb6ac8c0a348bbaa",
              "version_minor": 0,
              "version_major": 2
            },
            "text/plain": [
              "HBox(children=(FloatProgress(value=0.0, max=625.0), HTML(value='')))"
            ]
          },
          "metadata": {
            "tags": []
          }
        },
        {
          "output_type": "stream",
          "text": [
            "/usr/local/lib/python3.7/dist-packages/ipykernel_launcher.py:51: TqdmDeprecationWarning:\n",
            "\n",
            "This function will be removed in tqdm==5.0.0\n",
            "Please use `tqdm.notebook.tqdm` instead of `tqdm.tqdm_notebook`\n",
            "\n"
          ],
          "name": "stderr"
        },
        {
          "output_type": "display_data",
          "data": {
            "application/vnd.jupyter.widget-view+json": {
              "model_id": "517ea6aad8984b87af56f7ebacd10675",
              "version_minor": 0,
              "version_major": 2
            },
            "text/plain": [
              "HBox(children=(FloatProgress(value=0.0, max=157.0), HTML(value='')))"
            ]
          },
          "metadata": {
            "tags": []
          }
        },
        {
          "output_type": "stream",
          "text": [
            "Epoch 1: train_loss: 0.1788 train_rmse: 0.4229 | val_loss: 0.1819 val_rmse: 0.4269\n"
          ],
          "name": "stdout"
        },
        {
          "output_type": "stream",
          "text": [
            "/usr/local/lib/python3.7/dist-packages/ipykernel_launcher.py:19: TqdmDeprecationWarning:\n",
            "\n",
            "This function will be removed in tqdm==5.0.0\n",
            "Please use `tqdm.notebook.tqdm` instead of `tqdm.tqdm_notebook`\n",
            "\n"
          ],
          "name": "stderr"
        },
        {
          "output_type": "display_data",
          "data": {
            "application/vnd.jupyter.widget-view+json": {
              "model_id": "d5cc04e5aa2d43389cb33ae179e78259",
              "version_minor": 0,
              "version_major": 2
            },
            "text/plain": [
              "HBox(children=(FloatProgress(value=0.0, max=625.0), HTML(value='')))"
            ]
          },
          "metadata": {
            "tags": []
          }
        },
        {
          "output_type": "stream",
          "text": [
            "/usr/local/lib/python3.7/dist-packages/ipykernel_launcher.py:51: TqdmDeprecationWarning:\n",
            "\n",
            "This function will be removed in tqdm==5.0.0\n",
            "Please use `tqdm.notebook.tqdm` instead of `tqdm.tqdm_notebook`\n",
            "\n"
          ],
          "name": "stderr"
        },
        {
          "output_type": "display_data",
          "data": {
            "application/vnd.jupyter.widget-view+json": {
              "model_id": "c5cb5560a0bf44d4b2963dc90a303762",
              "version_minor": 0,
              "version_major": 2
            },
            "text/plain": [
              "HBox(children=(FloatProgress(value=0.0, max=157.0), HTML(value='')))"
            ]
          },
          "metadata": {
            "tags": []
          }
        },
        {
          "output_type": "stream",
          "text": [
            "Epoch 2: train_loss: 0.1462 train_rmse: 0.3823 | val_loss: 0.1269 val_rmse: 0.3567\n"
          ],
          "name": "stdout"
        },
        {
          "output_type": "stream",
          "text": [
            "/usr/local/lib/python3.7/dist-packages/ipykernel_launcher.py:19: TqdmDeprecationWarning:\n",
            "\n",
            "This function will be removed in tqdm==5.0.0\n",
            "Please use `tqdm.notebook.tqdm` instead of `tqdm.tqdm_notebook`\n",
            "\n"
          ],
          "name": "stderr"
        },
        {
          "output_type": "display_data",
          "data": {
            "application/vnd.jupyter.widget-view+json": {
              "model_id": "b659c5ca761e40bcbc8d55c0bc1532fb",
              "version_minor": 0,
              "version_major": 2
            },
            "text/plain": [
              "HBox(children=(FloatProgress(value=0.0, max=625.0), HTML(value='')))"
            ]
          },
          "metadata": {
            "tags": []
          }
        },
        {
          "output_type": "stream",
          "text": [
            "/usr/local/lib/python3.7/dist-packages/ipykernel_launcher.py:51: TqdmDeprecationWarning:\n",
            "\n",
            "This function will be removed in tqdm==5.0.0\n",
            "Please use `tqdm.notebook.tqdm` instead of `tqdm.tqdm_notebook`\n",
            "\n"
          ],
          "name": "stderr"
        },
        {
          "output_type": "display_data",
          "data": {
            "application/vnd.jupyter.widget-view+json": {
              "model_id": "0133b298ff3e4c45b2f93f37b1bed568",
              "version_minor": 0,
              "version_major": 2
            },
            "text/plain": [
              "HBox(children=(FloatProgress(value=0.0, max=157.0), HTML(value='')))"
            ]
          },
          "metadata": {
            "tags": []
          }
        },
        {
          "output_type": "stream",
          "text": [
            "Epoch 3: train_loss: 0.1132 train_rmse: 0.3365 | val_loss: 0.1099 val_rmse: 0.3315\n"
          ],
          "name": "stdout"
        },
        {
          "output_type": "stream",
          "text": [
            "/usr/local/lib/python3.7/dist-packages/ipykernel_launcher.py:19: TqdmDeprecationWarning:\n",
            "\n",
            "This function will be removed in tqdm==5.0.0\n",
            "Please use `tqdm.notebook.tqdm` instead of `tqdm.tqdm_notebook`\n",
            "\n"
          ],
          "name": "stderr"
        },
        {
          "output_type": "display_data",
          "data": {
            "application/vnd.jupyter.widget-view+json": {
              "model_id": "e9f0ebe3c4fb4982b60d4d1c6aa152e2",
              "version_minor": 0,
              "version_major": 2
            },
            "text/plain": [
              "HBox(children=(FloatProgress(value=0.0, max=625.0), HTML(value='')))"
            ]
          },
          "metadata": {
            "tags": []
          }
        },
        {
          "output_type": "stream",
          "text": [
            "/usr/local/lib/python3.7/dist-packages/ipykernel_launcher.py:51: TqdmDeprecationWarning:\n",
            "\n",
            "This function will be removed in tqdm==5.0.0\n",
            "Please use `tqdm.notebook.tqdm` instead of `tqdm.tqdm_notebook`\n",
            "\n"
          ],
          "name": "stderr"
        },
        {
          "output_type": "display_data",
          "data": {
            "application/vnd.jupyter.widget-view+json": {
              "model_id": "e00136326577461da82c73b578393361",
              "version_minor": 0,
              "version_major": 2
            },
            "text/plain": [
              "HBox(children=(FloatProgress(value=0.0, max=157.0), HTML(value='')))"
            ]
          },
          "metadata": {
            "tags": []
          }
        },
        {
          "output_type": "stream",
          "text": [
            "Epoch 4: train_loss: 0.1056 train_rmse: 0.3250 | val_loss: 0.1089 val_rmse: 0.3301\n"
          ],
          "name": "stdout"
        },
        {
          "output_type": "stream",
          "text": [
            "/usr/local/lib/python3.7/dist-packages/ipykernel_launcher.py:19: TqdmDeprecationWarning:\n",
            "\n",
            "This function will be removed in tqdm==5.0.0\n",
            "Please use `tqdm.notebook.tqdm` instead of `tqdm.tqdm_notebook`\n",
            "\n"
          ],
          "name": "stderr"
        },
        {
          "output_type": "display_data",
          "data": {
            "application/vnd.jupyter.widget-view+json": {
              "model_id": "6efb66dadd8d44a59bc7a7ad78603c64",
              "version_minor": 0,
              "version_major": 2
            },
            "text/plain": [
              "HBox(children=(FloatProgress(value=0.0, max=625.0), HTML(value='')))"
            ]
          },
          "metadata": {
            "tags": []
          }
        },
        {
          "output_type": "stream",
          "text": [
            "/usr/local/lib/python3.7/dist-packages/ipykernel_launcher.py:51: TqdmDeprecationWarning:\n",
            "\n",
            "This function will be removed in tqdm==5.0.0\n",
            "Please use `tqdm.notebook.tqdm` instead of `tqdm.tqdm_notebook`\n",
            "\n"
          ],
          "name": "stderr"
        },
        {
          "output_type": "display_data",
          "data": {
            "application/vnd.jupyter.widget-view+json": {
              "model_id": "999cffdb95de46d1a672b01222e803a3",
              "version_minor": 0,
              "version_major": 2
            },
            "text/plain": [
              "HBox(children=(FloatProgress(value=0.0, max=157.0), HTML(value='')))"
            ]
          },
          "metadata": {
            "tags": []
          }
        },
        {
          "output_type": "stream",
          "text": [
            "Epoch 5: train_loss: 0.1073 train_rmse: 0.3275 | val_loss: 0.1062 val_rmse: 0.3262\n"
          ],
          "name": "stdout"
        },
        {
          "output_type": "stream",
          "text": [
            "/usr/local/lib/python3.7/dist-packages/ipykernel_launcher.py:19: TqdmDeprecationWarning:\n",
            "\n",
            "This function will be removed in tqdm==5.0.0\n",
            "Please use `tqdm.notebook.tqdm` instead of `tqdm.tqdm_notebook`\n",
            "\n"
          ],
          "name": "stderr"
        },
        {
          "output_type": "display_data",
          "data": {
            "application/vnd.jupyter.widget-view+json": {
              "model_id": "708cce81297e405cb40965f31005ba78",
              "version_minor": 0,
              "version_major": 2
            },
            "text/plain": [
              "HBox(children=(FloatProgress(value=0.0, max=625.0), HTML(value='')))"
            ]
          },
          "metadata": {
            "tags": []
          }
        },
        {
          "output_type": "stream",
          "text": [
            "/usr/local/lib/python3.7/dist-packages/ipykernel_launcher.py:51: TqdmDeprecationWarning:\n",
            "\n",
            "This function will be removed in tqdm==5.0.0\n",
            "Please use `tqdm.notebook.tqdm` instead of `tqdm.tqdm_notebook`\n",
            "\n"
          ],
          "name": "stderr"
        },
        {
          "output_type": "display_data",
          "data": {
            "application/vnd.jupyter.widget-view+json": {
              "model_id": "c4c610f910fc4a64a4608c0443712c3a",
              "version_minor": 0,
              "version_major": 2
            },
            "text/plain": [
              "HBox(children=(FloatProgress(value=0.0, max=157.0), HTML(value='')))"
            ]
          },
          "metadata": {
            "tags": []
          }
        },
        {
          "output_type": "stream",
          "text": [
            "Epoch 6: train_loss: 0.1038 train_rmse: 0.3222 | val_loss: 0.1035 val_rmse: 0.3218\n"
          ],
          "name": "stdout"
        },
        {
          "output_type": "stream",
          "text": [
            "/usr/local/lib/python3.7/dist-packages/ipykernel_launcher.py:19: TqdmDeprecationWarning:\n",
            "\n",
            "This function will be removed in tqdm==5.0.0\n",
            "Please use `tqdm.notebook.tqdm` instead of `tqdm.tqdm_notebook`\n",
            "\n"
          ],
          "name": "stderr"
        },
        {
          "output_type": "display_data",
          "data": {
            "application/vnd.jupyter.widget-view+json": {
              "model_id": "2e2836b383b94bb9bab5f36f274e08ad",
              "version_minor": 0,
              "version_major": 2
            },
            "text/plain": [
              "HBox(children=(FloatProgress(value=0.0, max=625.0), HTML(value='')))"
            ]
          },
          "metadata": {
            "tags": []
          }
        },
        {
          "output_type": "stream",
          "text": [
            "/usr/local/lib/python3.7/dist-packages/ipykernel_launcher.py:51: TqdmDeprecationWarning:\n",
            "\n",
            "This function will be removed in tqdm==5.0.0\n",
            "Please use `tqdm.notebook.tqdm` instead of `tqdm.tqdm_notebook`\n",
            "\n"
          ],
          "name": "stderr"
        },
        {
          "output_type": "display_data",
          "data": {
            "application/vnd.jupyter.widget-view+json": {
              "model_id": "1bf71c65195f4ccbb7f07a5ddbd8f810",
              "version_minor": 0,
              "version_major": 2
            },
            "text/plain": [
              "HBox(children=(FloatProgress(value=0.0, max=157.0), HTML(value='')))"
            ]
          },
          "metadata": {
            "tags": []
          }
        },
        {
          "output_type": "stream",
          "text": [
            "Epoch 7: train_loss: 0.1038 train_rmse: 0.3221 | val_loss: 0.1022 val_rmse: 0.3190\n"
          ],
          "name": "stdout"
        },
        {
          "output_type": "stream",
          "text": [
            "/usr/local/lib/python3.7/dist-packages/ipykernel_launcher.py:19: TqdmDeprecationWarning:\n",
            "\n",
            "This function will be removed in tqdm==5.0.0\n",
            "Please use `tqdm.notebook.tqdm` instead of `tqdm.tqdm_notebook`\n",
            "\n"
          ],
          "name": "stderr"
        },
        {
          "output_type": "display_data",
          "data": {
            "application/vnd.jupyter.widget-view+json": {
              "model_id": "2c7fe83c410f41a4a43f11c9ffe7a2ff",
              "version_minor": 0,
              "version_major": 2
            },
            "text/plain": [
              "HBox(children=(FloatProgress(value=0.0, max=625.0), HTML(value='')))"
            ]
          },
          "metadata": {
            "tags": []
          }
        },
        {
          "output_type": "stream",
          "text": [
            "/usr/local/lib/python3.7/dist-packages/ipykernel_launcher.py:51: TqdmDeprecationWarning:\n",
            "\n",
            "This function will be removed in tqdm==5.0.0\n",
            "Please use `tqdm.notebook.tqdm` instead of `tqdm.tqdm_notebook`\n",
            "\n"
          ],
          "name": "stderr"
        },
        {
          "output_type": "display_data",
          "data": {
            "application/vnd.jupyter.widget-view+json": {
              "model_id": "ef470b87d52a42a4ac459c466914ae03",
              "version_minor": 0,
              "version_major": 2
            },
            "text/plain": [
              "HBox(children=(FloatProgress(value=0.0, max=157.0), HTML(value='')))"
            ]
          },
          "metadata": {
            "tags": []
          }
        },
        {
          "output_type": "stream",
          "text": [
            "Epoch 8: train_loss: 0.1033 train_rmse: 0.3213 | val_loss: 0.1057 val_rmse: 0.3246\n"
          ],
          "name": "stdout"
        },
        {
          "output_type": "stream",
          "text": [
            "/usr/local/lib/python3.7/dist-packages/ipykernel_launcher.py:19: TqdmDeprecationWarning:\n",
            "\n",
            "This function will be removed in tqdm==5.0.0\n",
            "Please use `tqdm.notebook.tqdm` instead of `tqdm.tqdm_notebook`\n",
            "\n"
          ],
          "name": "stderr"
        },
        {
          "output_type": "display_data",
          "data": {
            "application/vnd.jupyter.widget-view+json": {
              "model_id": "9d10a999f7bd434c81216260a4881241",
              "version_minor": 0,
              "version_major": 2
            },
            "text/plain": [
              "HBox(children=(FloatProgress(value=0.0, max=625.0), HTML(value='')))"
            ]
          },
          "metadata": {
            "tags": []
          }
        },
        {
          "output_type": "stream",
          "text": [
            "/usr/local/lib/python3.7/dist-packages/ipykernel_launcher.py:51: TqdmDeprecationWarning:\n",
            "\n",
            "This function will be removed in tqdm==5.0.0\n",
            "Please use `tqdm.notebook.tqdm` instead of `tqdm.tqdm_notebook`\n",
            "\n"
          ],
          "name": "stderr"
        },
        {
          "output_type": "display_data",
          "data": {
            "application/vnd.jupyter.widget-view+json": {
              "model_id": "d0b45de270844cd694605b6a6e4f3cfa",
              "version_minor": 0,
              "version_major": 2
            },
            "text/plain": [
              "HBox(children=(FloatProgress(value=0.0, max=157.0), HTML(value='')))"
            ]
          },
          "metadata": {
            "tags": []
          }
        },
        {
          "output_type": "stream",
          "text": [
            "Epoch 9: train_loss: 0.1035 train_rmse: 0.3217 | val_loss: 0.0998 val_rmse: 0.3160\n",
            "\n"
          ],
          "name": "stdout"
        }
      ]
    },
    {
      "cell_type": "code",
      "metadata": {
        "colab": {
          "base_uri": "https://localhost:8080/",
          "height": 281
        },
        "id": "dujZ_n-yQGBJ",
        "outputId": "316dfbc9-62f7-4771-cb23-f18ad459e38a"
      },
      "source": [
        "#Plot the Learning rate\n",
        "_ = plt.plot(lr[0])\n",
        "_ = plt.title('LR over Epoch (Epoch 0)')\n"
      ],
      "execution_count": 42,
      "outputs": [
        {
          "output_type": "display_data",
          "data": {
            "image/png": "[encoded data removed]",
            "text/plain": [
              "<Figure size 432x288 with 1 Axes>"
            ]
          },
          "metadata": {
            "tags": [],
            "needs_background": "light"
          }
        }
      ]
    },
    {
      "cell_type": "code",
      "metadata": {
        "colab": {
          "base_uri": "https://localhost:8080/",
          "height": 312
        },
        "id": "PMcBF-_uQKvI",
        "outputId": "1091026d-bd49-45d7-ed8c-dffc735279c8"
      },
      "source": [
        "#inspired from: https://nbviewer.jupyter.org/github/FraPochetti/KagglePlaygrounds/blob/master/NYC%20Taxi%20Fares%20Prediction.ipynb \n",
        "# Train VS Validaton Loss\n",
        "\n",
        "t = [np.mean(tloss[el]) for el in tloss]\n",
        "v = [np.mean(vloss[el]) for el in vloss]\n",
        "\n",
        "plt.plot(t, label='Training loss')\n",
        "plt.plot(v, label='Validation loss')\n",
        "plt.title(\"Train VS Validation Loss over Epochs\")\n",
        "plt.xlabel(\"Epochs\")\n",
        "plt.legend(frameon=False)"
      ],
      "execution_count": 43,
      "outputs": [
        {
          "output_type": "execute_result",
          "data": {
            "text/plain": [
              "<matplotlib.legend.Legend at 0x7fc6483d8210>"
            ]
          },
          "metadata": {
            "tags": []
          },
          "execution_count": 43
        },
        {
          "output_type": "display_data",
          "data": {
            "image/png": "[encoded data removed]",
            "text/plain": [
              "<Figure size 432x288 with 1 Axes>"
            ]
          },
          "metadata": {
            "tags": [],
            "needs_background": "light"
          }
        }
      ]
    },
    {
      "cell_type": "code",
      "metadata": {
        "colab": {
          "base_uri": "https://localhost:8080/"
        },
        "id": "uvPgve1DQMzq",
        "outputId": "76fa68ec-0183-4bab-d5f9-01bd5f597fdf"
      },
      "source": [
        "df_test.info()"
      ],
      "execution_count": 44,
      "outputs": [
        {
          "output_type": "stream",
          "text": [
            "<class 'pandas.core.frame.DataFrame'>\n",
            "Int64Index: 9914 entries, 0 to 9913\n",
            "Data columns (total 9 columns):\n",
            " #   Column             Non-Null Count  Dtype   \n",
            "---  ------             --------------  -----   \n",
            " 0   Hour               9914 non-null   category\n",
            " 1   AMorPM             9914 non-null   category\n",
            " 2   Weekday            9914 non-null   category\n",
            " 3   pickup_latitude    9914 non-null   float64 \n",
            " 4   pickup_longitude   9914 non-null   float64 \n",
            " 5   dropoff_latitude   9914 non-null   float64 \n",
            " 6   dropoff_longitude  9914 non-null   float64 \n",
            " 7   passenger_count    9914 non-null   float64 \n",
            " 8   dist_km            9914 non-null   float64 \n",
            "dtypes: category(3), float64(6)\n",
            "memory usage: 572.5 KB\n"
          ],
          "name": "stdout"
        }
      ]
    },
    {
      "cell_type": "code",
      "metadata": {
        "id": "b4e3uyG_QOuT"
      },
      "source": [
        "# divide to cats and conts columns + make them a tensor + to.cuda()\n",
        "\n",
        "df_test_cats = df_test[['Hour', 'AMorPM', 'Weekday']]\n",
        "test_cats = df_test_cats.astype(np.int64)\n",
        "test_cats = torch.tensor(test_cats.values).cuda()\n",
        "\n",
        "df_test_conts = df_test[['pickup_latitude', 'pickup_longitude', 'dropoff_latitude', 'dropoff_longitude', 'passenger_count', 'dist_km']]\n",
        "test_conts = df_test_conts.astype(np.float32)\n",
        "test_conts = torch.tensor(test_conts.values).cuda()"
      ],
      "execution_count": 45,
      "outputs": []
    },
    {
      "cell_type": "code",
      "metadata": {
        "id": "PDjVEe52QQhK"
      },
      "source": [
        "# make prediction\n",
        "\n",
        "with torch.no_grad():\n",
        "    model.eval()\n",
        "    output = model.forward(test_cats,test_conts).cuda()"
      ],
      "execution_count": 46,
      "outputs": []
    },
    {
      "cell_type": "code",
      "metadata": {
        "colab": {
          "base_uri": "https://localhost:8080/"
        },
        "id": "rpVyuJAPQSOJ",
        "outputId": "dad55c07-df63-4e1e-e4bc-8d78807f3490"
      },
      "source": [
        "output"
      ],
      "execution_count": 47,
      "outputs": [
        {
          "output_type": "execute_result",
          "data": {
            "text/plain": [
              "tensor([2.1298, 2.1895, 1.5211,  ..., 3.5912, 3.0065, 1.4597], device='cuda:0')"
            ]
          },
          "metadata": {
            "tags": []
          },
          "execution_count": 47
        }
      ]
    },
    {
      "cell_type": "code",
      "metadata": {
        "colab": {
          "base_uri": "https://localhost:8080/"
        },
        "id": "Acv7MwEzQTiv",
        "outputId": "2ff0bab6-3598-4463-d50f-091d7116fa57"
      },
      "source": [
        "len(output)\n"
      ],
      "execution_count": 48,
      "outputs": [
        {
          "output_type": "execute_result",
          "data": {
            "text/plain": [
              "9914"
            ]
          },
          "metadata": {
            "tags": []
          },
          "execution_count": 48
        }
      ]
    },
    {
      "cell_type": "code",
      "metadata": {
        "colab": {
          "base_uri": "https://localhost:8080/"
        },
        "id": "qTldKFAPQVwc",
        "outputId": "e63351e2-d172-4653-c9cc-14152979e06e"
      },
      "source": [
        "type(output)\n"
      ],
      "execution_count": 49,
      "outputs": [
        {
          "output_type": "execute_result",
          "data": {
            "text/plain": [
              "torch.Tensor"
            ]
          },
          "metadata": {
            "tags": []
          },
          "execution_count": 49
        }
      ]
    },
    {
      "cell_type": "code",
      "metadata": {
        "id": "PD7uj-yzQXIo"
      },
      "source": [
        "np_output = output.cpu().numpy()\n"
      ],
      "execution_count": 50,
      "outputs": []
    },
    {
      "cell_type": "code",
      "metadata": {
        "colab": {
          "base_uri": "https://localhost:8080/"
        },
        "id": "AZ0UX4PvQYZ1",
        "outputId": "918787cc-62ed-47e5-a263-6ff7def767dd"
      },
      "source": [
        "type(np_output)\n"
      ],
      "execution_count": 51,
      "outputs": [
        {
          "output_type": "execute_result",
          "data": {
            "text/plain": [
              "numpy.ndarray"
            ]
          },
          "metadata": {
            "tags": []
          },
          "execution_count": 51
        }
      ]
    },
    {
      "cell_type": "code",
      "metadata": {
        "colab": {
          "base_uri": "https://localhost:8080/"
        },
        "id": "LZ_CGJMzQZq1",
        "outputId": "e948415d-e206-4bdd-8e11-b6c9064acd78"
      },
      "source": [
        "np_output\n"
      ],
      "execution_count": 52,
      "outputs": [
        {
          "output_type": "execute_result",
          "data": {
            "text/plain": [
              "array([2.1298203, 2.189454 , 1.5211387, ..., 3.5911758, 3.0065162,\n",
              "       1.4597132], dtype=float32)"
            ]
          },
          "metadata": {
            "tags": []
          },
          "execution_count": 52
        }
      ]
    },
    {
      "cell_type": "code",
      "metadata": {
        "id": "xsQ_Cy4PQbXF"
      },
      "source": [
        "np_output_exp = np.exp(np_output)\n"
      ],
      "execution_count": 53,
      "outputs": []
    },
    {
      "cell_type": "code",
      "metadata": {
        "colab": {
          "base_uri": "https://localhost:8080/"
        },
        "id": "QbOcZiJRQcyT",
        "outputId": "fc98e9d0-df30-4af9-c10c-be40f30806c5"
      },
      "source": [
        "np_output_exp\n"
      ],
      "execution_count": 54,
      "outputs": [
        {
          "output_type": "execute_result",
          "data": {
            "text/plain": [
              "array([ 8.413355 ,  8.930336 ,  4.5774345, ..., 36.276703 , 20.216846 ,\n",
              "        4.3047247], dtype=float32)"
            ]
          },
          "metadata": {
            "tags": []
          },
          "execution_count": 54
        }
      ]
    },
    {
      "cell_type": "code",
      "metadata": {
        "id": "oFPvNlhrQeQ2"
      },
      "source": [
        "df_output =  pd.DataFrame(np_output_exp)\n"
      ],
      "execution_count": 55,
      "outputs": []
    },
    {
      "cell_type": "code",
      "metadata": {
        "colab": {
          "base_uri": "https://localhost:8080/",
          "height": 419
        },
        "id": "2ttUVCJlQfhI",
        "outputId": "cad10747-0e37-488c-8ca5-66fb0e1c8cbc"
      },
      "source": [
        "df_output"
      ],
      "execution_count": 56,
      "outputs": [
        {
          "output_type": "execute_result",
          "data": {
            "text/html": [
              "<div>\n",
              "<style scoped>\n",
              "    .dataframe tbody tr th:only-of-type {\n",
              "        vertical-align: middle;\n",
              "    }\n",
              "\n",
              "    .dataframe tbody tr th {\n",
              "        vertical-align: top;\n",
              "    }\n",
              "\n",
              "    .dataframe thead th {\n",
              "        text-align: right;\n",
              "    }\n",
              "</style>\n",
              "<table border=\"1\" class=\"dataframe\">\n",
              "  <thead>\n",
              "    <tr style=\"text-align: right;\">\n",
              "      <th></th>\n",
              "      <th>0</th>\n",
              "    </tr>\n",
              "  </thead>\n",
              "  <tbody>\n",
              "    <tr>\n",
              "      <th>0</th>\n",
              "      <td>8.413355</td>\n",
              "    </tr>\n",
              "    <tr>\n",
              "      <th>1</th>\n",
              "      <td>8.930336</td>\n",
              "    </tr>\n",
              "    <tr>\n",
              "      <th>2</th>\n",
              "      <td>4.577435</td>\n",
              "    </tr>\n",
              "    <tr>\n",
              "      <th>3</th>\n",
              "      <td>6.288929</td>\n",
              "    </tr>\n",
              "    <tr>\n",
              "      <th>4</th>\n",
              "      <td>15.264206</td>\n",
              "    </tr>\n",
              "    <tr>\n",
              "      <th>...</th>\n",
              "      <td>...</td>\n",
              "    </tr>\n",
              "    <tr>\n",
              "      <th>9909</th>\n",
              "      <td>7.015420</td>\n",
              "    </tr>\n",
              "    <tr>\n",
              "      <th>9910</th>\n",
              "      <td>11.640455</td>\n",
              "    </tr>\n",
              "    <tr>\n",
              "      <th>9911</th>\n",
              "      <td>36.276703</td>\n",
              "    </tr>\n",
              "    <tr>\n",
              "      <th>9912</th>\n",
              "      <td>20.216846</td>\n",
              "    </tr>\n",
              "    <tr>\n",
              "      <th>9913</th>\n",
              "      <td>4.304725</td>\n",
              "    </tr>\n",
              "  </tbody>\n",
              "</table>\n",
              "<p>9914 rows × 1 columns</p>\n",
              "</div>"
            ],
            "text/plain": [
              "              0\n",
              "0      8.413355\n",
              "1      8.930336\n",
              "2      4.577435\n",
              "3      6.288929\n",
              "4     15.264206\n",
              "...         ...\n",
              "9909   7.015420\n",
              "9910  11.640455\n",
              "9911  36.276703\n",
              "9912  20.216846\n",
              "9913   4.304725\n",
              "\n",
              "[9914 rows x 1 columns]"
            ]
          },
          "metadata": {
            "tags": []
          },
          "execution_count": 56
        }
      ]
    },
    {
      "cell_type": "code",
      "metadata": {
        "colab": {
          "base_uri": "https://localhost:8080/"
        },
        "id": "_wuYP5LYQgsg",
        "outputId": "132d8245-b2fc-4099-950c-d86a99184705"
      },
      "source": [
        "type(df_output)\n"
      ],
      "execution_count": 57,
      "outputs": [
        {
          "output_type": "execute_result",
          "data": {
            "text/plain": [
              "pandas.core.frame.DataFrame"
            ]
          },
          "metadata": {
            "tags": []
          },
          "execution_count": 57
        }
      ]
    },
    {
      "cell_type": "code",
      "metadata": {
        "id": "NprE3iCkQm61"
      },
      "source": [
        "df_output.to_csv('submission.csv', index=False)\n"
      ],
      "execution_count": 58,
      "outputs": []
    },
    {
      "cell_type": "code",
      "metadata": {
        "id": "GgRuz0WOQpNX"
      },
      "source": [
        "\n",
        "from IPython.display import HTML\n",
        "import base64\n",
        "\n",
        "def create_download_link(df, title = \"Download CSV file\", filename = \"submission.csv\"):  \n",
        "    csv = df.to_csv()\n",
        "    b64 = base64.b64encode(csv.encode())\n",
        "    payload = b64.decode()\n",
        "    html = '<a download=\"{filename}\" href=\"data:text/csv;base64,{payload}\" target=\"_blank\">{title}</a>'\n",
        "    html = html.format(payload=payload,title=title,filename=filename)\n",
        "    return HTML(html)\n"
      ],
      "execution_count": 59,
      "outputs": []
    },
    {
      "cell_type": "code",
      "metadata": {
        "colab": {
          "base_uri": "https://localhost:8080/",
          "height": 34
        },
        "id": "wr1GfZ16QrEf",
        "outputId": "cf4d4db4-786f-4eb1-b56c-3f38fa928446"
      },
      "source": [
        "create_download_link(df_output)"
      ],
      "execution_count": 60,
      "outputs": [
        {
          "output_type": "execute_result",
          "data": {
            "text/html": [
              "<a download=\"submission.csv\" href=\"data:text/csv;base64,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\" target=\"_blank\">Download CSV file</a>"
            ],
            "text/plain": [
              "<IPython.core.display.HTML object>"
            ]
          },
          "metadata": {
            "tags": []
          },
          "execution_count": 60
        }
      ]
    }
  ]
}