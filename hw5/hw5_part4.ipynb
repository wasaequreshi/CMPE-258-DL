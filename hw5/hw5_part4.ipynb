{
  "nbformat": 4,
  "nbformat_minor": 0,
  "metadata": {
    "colab": {
      "name": "hw5_part4.ipynb",
      "provenance": []
    },
    "kernelspec": {
      "name": "python3",
      "display_name": "Python 3"
    },
    "language_info": {
      "name": "python"
    }
  },
  "cells": [
    {
      "cell_type": "markdown",
      "metadata": {
        "id": "tF7FJQ6zVlxw"
      },
      "source": [
        "#Importing"
      ]
    },
    {
      "cell_type": "code",
      "metadata": {
        "id": "_ChWjv2MRzYw"
      },
      "source": [
        "# load some default Python modules\n",
        "import numpy as np\n",
        "import pandas as pd\n",
        "\n",
        "import matplotlib.pyplot as plt\n",
        "import seaborn as sns\n",
        "% matplotlib inline\n",
        "\n",
        "plt.style.use('seaborn-whitegrid')\n",
        "\n",
        "import warnings\n",
        "warnings.filterwarnings('ignore')"
      ],
      "execution_count": 1,
      "outputs": []
    },
    {
      "cell_type": "markdown",
      "metadata": {
        "id": "OOmCgA2XVz6p"
      },
      "source": [
        "#Import Data (Training) and Explore"
      ]
    },
    {
      "cell_type": "code",
      "metadata": {
        "colab": {
          "base_uri": "https://localhost:8080/"
        },
        "id": "kqKD5YMQSAB0",
        "outputId": "e8e43548-b0aa-4a5c-dd3a-af3fefecd7c3"
      },
      "source": [
        "from google.colab import drive\n",
        "drive.mount('/content/drive')"
      ],
      "execution_count": 2,
      "outputs": [
        {
          "output_type": "stream",
          "text": [
            "Drive already mounted at /content/drive; to attempt to forcibly remount, call drive.mount(\"/content/drive\", force_remount=True).\n"
          ],
          "name": "stdout"
        }
      ]
    },
    {
      "cell_type": "code",
      "metadata": {
        "colab": {
          "base_uri": "https://localhost:8080/",
          "height": 221
        },
        "id": "tvVe6AdzSQB3",
        "outputId": "54402f9a-8238-49e5-f670-9f0ff6551a25"
      },
      "source": [
        "train = pd.read_csv(\"/content/drive/My Drive/CMPE 258/Homework/HW5/temp.csv\", nrows = 5_000_000)\n",
        "print(\"shape of train data\", train.shape)\n",
        "train = train.drop(train.columns[0], axis=1)\n",
        "\n",
        "train.head()"
      ],
      "execution_count": 3,
      "outputs": [
        {
          "output_type": "stream",
          "text": [
            "shape of train data (100000, 9)\n"
          ],
          "name": "stdout"
        },
        {
          "output_type": "execute_result",
          "data": {
            "text/html": [
              "<div>\n",
              "<style scoped>\n",
              "    .dataframe tbody tr th:only-of-type {\n",
              "        vertical-align: middle;\n",
              "    }\n",
              "\n",
              "    .dataframe tbody tr th {\n",
              "        vertical-align: top;\n",
              "    }\n",
              "\n",
              "    .dataframe thead th {\n",
              "        text-align: right;\n",
              "    }\n",
              "</style>\n",
              "<table border=\"1\" class=\"dataframe\">\n",
              "  <thead>\n",
              "    <tr style=\"text-align: right;\">\n",
              "      <th></th>\n",
              "      <th>key</th>\n",
              "      <th>fare_amount</th>\n",
              "      <th>pickup_datetime</th>\n",
              "      <th>pickup_longitude</th>\n",
              "      <th>pickup_latitude</th>\n",
              "      <th>dropoff_longitude</th>\n",
              "      <th>dropoff_latitude</th>\n",
              "      <th>passenger_count</th>\n",
              "    </tr>\n",
              "  </thead>\n",
              "  <tbody>\n",
              "    <tr>\n",
              "      <th>0</th>\n",
              "      <td>2012-10-06 20:31:36.0000003</td>\n",
              "      <td>5.5</td>\n",
              "      <td>2012-10-06 20:31:36 UTC</td>\n",
              "      <td>-73.952825</td>\n",
              "      <td>40.772048</td>\n",
              "      <td>-73.952194</td>\n",
              "      <td>40.781152</td>\n",
              "      <td>3</td>\n",
              "    </tr>\n",
              "    <tr>\n",
              "      <th>1</th>\n",
              "      <td>2010-07-12 09:44:33.0000001</td>\n",
              "      <td>4.9</td>\n",
              "      <td>2010-07-12 09:44:33 UTC</td>\n",
              "      <td>-73.983249</td>\n",
              "      <td>40.734655</td>\n",
              "      <td>-73.991278</td>\n",
              "      <td>40.738918</td>\n",
              "      <td>1</td>\n",
              "    </tr>\n",
              "    <tr>\n",
              "      <th>2</th>\n",
              "      <td>2010-05-07 20:05:00.000000228</td>\n",
              "      <td>14.9</td>\n",
              "      <td>2010-05-07 20:05:00 UTC</td>\n",
              "      <td>-73.968212</td>\n",
              "      <td>40.762212</td>\n",
              "      <td>-73.919958</td>\n",
              "      <td>40.755087</td>\n",
              "      <td>2</td>\n",
              "    </tr>\n",
              "    <tr>\n",
              "      <th>3</th>\n",
              "      <td>2010-05-31 18:05:00.00000060</td>\n",
              "      <td>6.9</td>\n",
              "      <td>2010-05-31 18:05:00 UTC</td>\n",
              "      <td>-73.991633</td>\n",
              "      <td>40.750440</td>\n",
              "      <td>-73.985928</td>\n",
              "      <td>40.736168</td>\n",
              "      <td>3</td>\n",
              "    </tr>\n",
              "    <tr>\n",
              "      <th>4</th>\n",
              "      <td>2011-11-03 17:35:00.00000095</td>\n",
              "      <td>7.7</td>\n",
              "      <td>2011-11-03 17:35:00 UTC</td>\n",
              "      <td>-73.978593</td>\n",
              "      <td>40.753452</td>\n",
              "      <td>-73.978652</td>\n",
              "      <td>40.762660</td>\n",
              "      <td>1</td>\n",
              "    </tr>\n",
              "  </tbody>\n",
              "</table>\n",
              "</div>"
            ],
            "text/plain": [
              "                             key  ...  passenger_count\n",
              "0    2012-10-06 20:31:36.0000003  ...                3\n",
              "1    2010-07-12 09:44:33.0000001  ...                1\n",
              "2  2010-05-07 20:05:00.000000228  ...                2\n",
              "3   2010-05-31 18:05:00.00000060  ...                3\n",
              "4   2011-11-03 17:35:00.00000095  ...                1\n",
              "\n",
              "[5 rows x 8 columns]"
            ]
          },
          "metadata": {
            "tags": []
          },
          "execution_count": 3
        }
      ]
    },
    {
      "cell_type": "code",
      "metadata": {
        "colab": {
          "base_uri": "https://localhost:8080/"
        },
        "id": "OlZbFV7QSmDW",
        "outputId": "f2829ff5-738d-40c1-cd03-da0ff1cec4fe"
      },
      "source": [
        "train.dtypes"
      ],
      "execution_count": 4,
      "outputs": [
        {
          "output_type": "execute_result",
          "data": {
            "text/plain": [
              "key                   object\n",
              "fare_amount          float64\n",
              "pickup_datetime       object\n",
              "pickup_longitude     float64\n",
              "pickup_latitude      float64\n",
              "dropoff_longitude    float64\n",
              "dropoff_latitude     float64\n",
              "passenger_count        int64\n",
              "dtype: object"
            ]
          },
          "metadata": {
            "tags": []
          },
          "execution_count": 4
        }
      ]
    },
    {
      "cell_type": "code",
      "metadata": {
        "colab": {
          "base_uri": "https://localhost:8080/",
          "height": 297
        },
        "id": "eMd1uXn0Sq5h",
        "outputId": "bac9ebc1-bb34-4d05-de53-466f866c7e32"
      },
      "source": [
        "# Basic Stats of the data set\n",
        "train.describe()"
      ],
      "execution_count": 5,
      "outputs": [
        {
          "output_type": "execute_result",
          "data": {
            "text/html": [
              "<div>\n",
              "<style scoped>\n",
              "    .dataframe tbody tr th:only-of-type {\n",
              "        vertical-align: middle;\n",
              "    }\n",
              "\n",
              "    .dataframe tbody tr th {\n",
              "        vertical-align: top;\n",
              "    }\n",
              "\n",
              "    .dataframe thead th {\n",
              "        text-align: right;\n",
              "    }\n",
              "</style>\n",
              "<table border=\"1\" class=\"dataframe\">\n",
              "  <thead>\n",
              "    <tr style=\"text-align: right;\">\n",
              "      <th></th>\n",
              "      <th>fare_amount</th>\n",
              "      <th>pickup_longitude</th>\n",
              "      <th>pickup_latitude</th>\n",
              "      <th>dropoff_longitude</th>\n",
              "      <th>dropoff_latitude</th>\n",
              "      <th>passenger_count</th>\n",
              "    </tr>\n",
              "  </thead>\n",
              "  <tbody>\n",
              "    <tr>\n",
              "      <th>count</th>\n",
              "      <td>100000.000000</td>\n",
              "      <td>100000.000000</td>\n",
              "      <td>100000.000000</td>\n",
              "      <td>100000.000000</td>\n",
              "      <td>100000.000000</td>\n",
              "      <td>100000.000000</td>\n",
              "    </tr>\n",
              "    <tr>\n",
              "      <th>mean</th>\n",
              "      <td>11.372719</td>\n",
              "      <td>-72.507473</td>\n",
              "      <td>39.903852</td>\n",
              "      <td>-72.521524</td>\n",
              "      <td>39.932607</td>\n",
              "      <td>1.689950</td>\n",
              "    </tr>\n",
              "    <tr>\n",
              "      <th>std</th>\n",
              "      <td>10.027061</td>\n",
              "      <td>12.177309</td>\n",
              "      <td>6.636862</td>\n",
              "      <td>11.823943</td>\n",
              "      <td>6.800431</td>\n",
              "      <td>1.463284</td>\n",
              "    </tr>\n",
              "    <tr>\n",
              "      <th>min</th>\n",
              "      <td>-45.000000</td>\n",
              "      <td>-2027.098998</td>\n",
              "      <td>-760.342012</td>\n",
              "      <td>-1690.169260</td>\n",
              "      <td>-74.013342</td>\n",
              "      <td>0.000000</td>\n",
              "    </tr>\n",
              "    <tr>\n",
              "      <th>25%</th>\n",
              "      <td>6.000000</td>\n",
              "      <td>-73.992188</td>\n",
              "      <td>40.734828</td>\n",
              "      <td>-73.991399</td>\n",
              "      <td>40.733876</td>\n",
              "      <td>1.000000</td>\n",
              "    </tr>\n",
              "    <tr>\n",
              "      <th>50%</th>\n",
              "      <td>8.500000</td>\n",
              "      <td>-73.981888</td>\n",
              "      <td>40.752422</td>\n",
              "      <td>-73.980155</td>\n",
              "      <td>40.753020</td>\n",
              "      <td>1.000000</td>\n",
              "    </tr>\n",
              "    <tr>\n",
              "      <th>75%</th>\n",
              "      <td>12.500000</td>\n",
              "      <td>-73.967307</td>\n",
              "      <td>40.766985</td>\n",
              "      <td>-73.963680</td>\n",
              "      <td>40.767938</td>\n",
              "      <td>2.000000</td>\n",
              "    </tr>\n",
              "    <tr>\n",
              "      <th>max</th>\n",
              "      <td>658.890000</td>\n",
              "      <td>40.804750</td>\n",
              "      <td>44.246020</td>\n",
              "      <td>40.871847</td>\n",
              "      <td>826.502450</td>\n",
              "      <td>208.000000</td>\n",
              "    </tr>\n",
              "  </tbody>\n",
              "</table>\n",
              "</div>"
            ],
            "text/plain": [
              "         fare_amount  pickup_longitude  ...  dropoff_latitude  passenger_count\n",
              "count  100000.000000     100000.000000  ...     100000.000000    100000.000000\n",
              "mean       11.372719        -72.507473  ...         39.932607         1.689950\n",
              "std        10.027061         12.177309  ...          6.800431         1.463284\n",
              "min       -45.000000      -2027.098998  ...        -74.013342         0.000000\n",
              "25%         6.000000        -73.992188  ...         40.733876         1.000000\n",
              "50%         8.500000        -73.981888  ...         40.753020         1.000000\n",
              "75%        12.500000        -73.967307  ...         40.767938         2.000000\n",
              "max       658.890000         40.804750  ...        826.502450       208.000000\n",
              "\n",
              "[8 rows x 6 columns]"
            ]
          },
          "metadata": {
            "tags": []
          },
          "execution_count": 5
        }
      ]
    },
    {
      "cell_type": "code",
      "metadata": {
        "colab": {
          "base_uri": "https://localhost:8080/"
        },
        "id": "G6pJi4YvTVSG",
        "outputId": "59092fae-c02e-455e-bb88-4b0e992bf779"
      },
      "source": [
        "print(\"old size: %d\" % len(train))\n",
        "train = train[train.fare_amount >=0]\n",
        "print(\"New size: %d\" % len(train))"
      ],
      "execution_count": 6,
      "outputs": [
        {
          "output_type": "stream",
          "text": [
            "old size: 100000\n",
            "New size: 99996\n"
          ],
          "name": "stdout"
        }
      ]
    },
    {
      "cell_type": "code",
      "metadata": {
        "colab": {
          "base_uri": "https://localhost:8080/"
        },
        "id": "mw-GVFJ9TZPG",
        "outputId": "87c6bd9b-2dbe-46eb-a48b-e1fc550da939"
      },
      "source": [
        "# check missing data\n",
        "train.isnull().sum()"
      ],
      "execution_count": 7,
      "outputs": [
        {
          "output_type": "execute_result",
          "data": {
            "text/plain": [
              "key                  0\n",
              "fare_amount          0\n",
              "pickup_datetime      0\n",
              "pickup_longitude     0\n",
              "pickup_latitude      0\n",
              "dropoff_longitude    0\n",
              "dropoff_latitude     0\n",
              "passenger_count      0\n",
              "dtype: int64"
            ]
          },
          "metadata": {
            "tags": []
          },
          "execution_count": 7
        }
      ]
    },
    {
      "cell_type": "code",
      "metadata": {
        "colab": {
          "base_uri": "https://localhost:8080/"
        },
        "id": "34YDGwpKTdrG",
        "outputId": "f75b6c3e-c549-4798-8acf-556c6a9246f9"
      },
      "source": [
        "print(\"old size: %d\" % len(train))\n",
        "train = train.dropna(how='any', axis=0)\n",
        "print(\"New size after dropping missing value: %d\" % len(train))"
      ],
      "execution_count": 8,
      "outputs": [
        {
          "output_type": "stream",
          "text": [
            "old size: 99996\n",
            "New size after dropping missing value: 99996\n"
          ],
          "name": "stdout"
        }
      ]
    },
    {
      "cell_type": "code",
      "metadata": {
        "colab": {
          "base_uri": "https://localhost:8080/",
          "height": 510
        },
        "id": "246soxCRTf5e",
        "outputId": "aff73e1f-1ff9-490d-c13d-d0d6126b78b5"
      },
      "source": [
        "# Lets see the distribution of fare amount \n",
        "train.fare_amount.hist(bins=100, figsize = (16,8))\n",
        "plt.xlabel(\"Fare Amount\")\n",
        "plt.ylabel(\"Frequency\")"
      ],
      "execution_count": 9,
      "outputs": [
        {
          "output_type": "execute_result",
          "data": {
            "text/plain": [
              "Text(0, 0.5, 'Frequency')"
            ]
          },
          "metadata": {
            "tags": []
          },
          "execution_count": 9
        },
        {
          "output_type": "display_data",
          "data": {
            "image/png": "[encoded data removed]",
            "text/plain": [
              "<Figure size 1152x576 with 1 Axes>"
            ]
          },
          "metadata": {
            "tags": [],
            "needs_background": "light"
          }
        }
      ]
    },
    {
      "cell_type": "code",
      "metadata": {
        "colab": {
          "base_uri": "https://localhost:8080/",
          "height": 510
        },
        "id": "17cZOpFVTi79",
        "outputId": "cfac54ac-ad4f-442f-91cf-40255066fc09"
      },
      "source": [
        "# Lets see the distribution of fare amount less than 100\n",
        "train[train.fare_amount <100 ].fare_amount.hist(bins=100, figsize = (16,8))\n",
        "plt.xlabel(\"Fare Amount\")\n",
        "plt.ylabel(\"Frequency\")"
      ],
      "execution_count": 10,
      "outputs": [
        {
          "output_type": "execute_result",
          "data": {
            "text/plain": [
              "Text(0, 0.5, 'Frequency')"
            ]
          },
          "metadata": {
            "tags": []
          },
          "execution_count": 10
        },
        {
          "output_type": "display_data",
          "data": {
            "image/png": "[encoded data removed]",
            "text/plain": [
              "<Figure size 1152x576 with 1 Axes>"
            ]
          },
          "metadata": {
            "tags": [],
            "needs_background": "light"
          }
        }
      ]
    },
    {
      "cell_type": "code",
      "metadata": {
        "colab": {
          "base_uri": "https://localhost:8080/"
        },
        "id": "YiWjRrw7Tncu",
        "outputId": "e5a7db20-f92b-4527-b155-6758dc28913b"
      },
      "source": [
        "train[train.fare_amount >100 ].shape"
      ],
      "execution_count": 11,
      "outputs": [
        {
          "output_type": "execute_result",
          "data": {
            "text/plain": [
              "(40, 8)"
            ]
          },
          "metadata": {
            "tags": []
          },
          "execution_count": 11
        }
      ]
    },
    {
      "cell_type": "code",
      "metadata": {
        "colab": {
          "base_uri": "https://localhost:8080/",
          "height": 510
        },
        "id": "7XXEeO4OTpTB",
        "outputId": "d0f06d51-ba29-4040-dd7e-aaeed6aebd28"
      },
      "source": [
        "# Lets see the distribution of fare amount more than 100\n",
        "train[train.fare_amount >100 ].fare_amount.hist(bins=100, figsize = (16,8))\n",
        "plt.xlabel(\"Fare Amount\")\n",
        "plt.ylabel(\"Frequency\")"
      ],
      "execution_count": 12,
      "outputs": [
        {
          "output_type": "execute_result",
          "data": {
            "text/plain": [
              "Text(0, 0.5, 'Frequency')"
            ]
          },
          "metadata": {
            "tags": []
          },
          "execution_count": 12
        },
        {
          "output_type": "display_data",
          "data": {
            "image/png": "[encoded data removed]",
            "text/plain": [
              "<Figure size 1152x576 with 1 Axes>"
            ]
          },
          "metadata": {
            "tags": [],
            "needs_background": "light"
          }
        }
      ]
    },
    {
      "cell_type": "code",
      "metadata": {
        "colab": {
          "base_uri": "https://localhost:8080/",
          "height": 510
        },
        "id": "7ZKBxYqGTr-W",
        "outputId": "f526fe6e-9a13-43e6-96be-8ec4424d0704"
      },
      "source": [
        "# checking for passanger count greater than 7\n",
        "train[train.passenger_count >7].passenger_count.hist(bins=10, figsize = (16,8))\n",
        "plt.xlabel(\"Passanger Count\")\n",
        "plt.ylabel(\"Frequency\")"
      ],
      "execution_count": 13,
      "outputs": [
        {
          "output_type": "execute_result",
          "data": {
            "text/plain": [
              "Text(0, 0.5, 'Frequency')"
            ]
          },
          "metadata": {
            "tags": []
          },
          "execution_count": 13
        },
        {
          "output_type": "display_data",
          "data": {
            "image/png": "[encoded data removed]",
            "text/plain": [
              "<Figure size 1152x576 with 1 Axes>"
            ]
          },
          "metadata": {
            "tags": [],
            "needs_background": "light"
          }
        }
      ]
    },
    {
      "cell_type": "code",
      "metadata": {
        "colab": {
          "base_uri": "https://localhost:8080/",
          "height": 80
        },
        "id": "qmAJtwXiTuEi",
        "outputId": "ce4021aa-702d-44b5-cb5f-85f464abf95d"
      },
      "source": [
        "# data for passanger count greater than 7\n",
        "train[train.passenger_count >7]"
      ],
      "execution_count": 14,
      "outputs": [
        {
          "output_type": "execute_result",
          "data": {
            "text/html": [
              "<div>\n",
              "<style scoped>\n",
              "    .dataframe tbody tr th:only-of-type {\n",
              "        vertical-align: middle;\n",
              "    }\n",
              "\n",
              "    .dataframe tbody tr th {\n",
              "        vertical-align: top;\n",
              "    }\n",
              "\n",
              "    .dataframe thead th {\n",
              "        text-align: right;\n",
              "    }\n",
              "</style>\n",
              "<table border=\"1\" class=\"dataframe\">\n",
              "  <thead>\n",
              "    <tr style=\"text-align: right;\">\n",
              "      <th></th>\n",
              "      <th>key</th>\n",
              "      <th>fare_amount</th>\n",
              "      <th>pickup_datetime</th>\n",
              "      <th>pickup_longitude</th>\n",
              "      <th>pickup_latitude</th>\n",
              "      <th>dropoff_longitude</th>\n",
              "      <th>dropoff_latitude</th>\n",
              "      <th>passenger_count</th>\n",
              "    </tr>\n",
              "  </thead>\n",
              "  <tbody>\n",
              "    <tr>\n",
              "      <th>3840</th>\n",
              "      <td>2010-12-16 11:21:00.000000209</td>\n",
              "      <td>3.3</td>\n",
              "      <td>2010-12-16 11:21:00 UTC</td>\n",
              "      <td>0.0</td>\n",
              "      <td>0.0</td>\n",
              "      <td>0.0</td>\n",
              "      <td>0.0</td>\n",
              "      <td>208</td>\n",
              "    </tr>\n",
              "  </tbody>\n",
              "</table>\n",
              "</div>"
            ],
            "text/plain": [
              "                                key  ...  passenger_count\n",
              "3840  2010-12-16 11:21:00.000000209  ...              208\n",
              "\n",
              "[1 rows x 8 columns]"
            ]
          },
          "metadata": {
            "tags": []
          },
          "execution_count": 14
        }
      ]
    },
    {
      "cell_type": "code",
      "metadata": {
        "colab": {
          "base_uri": "https://localhost:8080/",
          "height": 510
        },
        "id": "GprQK7-pTwhv",
        "outputId": "14ad26ba-b2cc-4ac1-9e4f-1b8385771642"
      },
      "source": [
        "# checking for passanger count less than 7\n",
        "train[train.passenger_count <7].passenger_count.hist(bins=10, figsize = (16,8))\n",
        "plt.xlabel(\"Passanger Count\")\n",
        "plt.ylabel(\"Frequency\")"
      ],
      "execution_count": 15,
      "outputs": [
        {
          "output_type": "execute_result",
          "data": {
            "text/plain": [
              "Text(0, 0.5, 'Frequency')"
            ]
          },
          "metadata": {
            "tags": []
          },
          "execution_count": 15
        },
        {
          "output_type": "display_data",
          "data": {
            "image/png": "[encoded data removed]",
            "text/plain": [
              "<Figure size 1152x576 with 1 Axes>"
            ]
          },
          "metadata": {
            "tags": [],
            "needs_background": "light"
          }
        }
      ]
    },
    {
      "cell_type": "code",
      "metadata": {
        "colab": {
          "base_uri": "https://localhost:8080/"
        },
        "id": "iOzmhninTyv5",
        "outputId": "5cae14e9-6e8c-483c-979f-dda17bbc66c5"
      },
      "source": [
        "# checking for records where passanger count is 0\n",
        "train[train.passenger_count ==0].shape"
      ],
      "execution_count": 16,
      "outputs": [
        {
          "output_type": "execute_result",
          "data": {
            "text/plain": [
              "(322, 8)"
            ]
          },
          "metadata": {
            "tags": []
          },
          "execution_count": 16
        }
      ]
    },
    {
      "cell_type": "code",
      "metadata": {
        "colab": {
          "base_uri": "https://localhost:8080/",
          "height": 510
        },
        "id": "nSKMgveaT02o",
        "outputId": "9144ae77-2822-447a-d7c3-446c69e2bce6"
      },
      "source": [
        "plt.figure(figsize= (16,8))\n",
        "sns.boxplot(x = train[train.passenger_count< 7].passenger_count, y = train.fare_amount)"
      ],
      "execution_count": 17,
      "outputs": [
        {
          "output_type": "execute_result",
          "data": {
            "text/plain": [
              "<matplotlib.axes._subplots.AxesSubplot at 0x7f1ad56455d0>"
            ]
          },
          "metadata": {
            "tags": []
          },
          "execution_count": 17
        },
        {
          "output_type": "display_data",
          "data": {
            "image/png": "[encoded data removed]",
            "text/plain": [
              "<Figure size 1152x576 with 1 Axes>"
            ]
          },
          "metadata": {
            "tags": [],
            "needs_background": "light"
          }
        }
      ]
    },
    {
      "cell_type": "code",
      "metadata": {
        "colab": {
          "base_uri": "https://localhost:8080/",
          "height": 111
        },
        "id": "h6wCYx3IT4Vw",
        "outputId": "908a2230-6a0c-42ae-d98f-05576da844fa"
      },
      "source": [
        "train[train.passenger_count <7][['fare_amount','passenger_count']].corr()"
      ],
      "execution_count": 18,
      "outputs": [
        {
          "output_type": "execute_result",
          "data": {
            "text/html": [
              "<div>\n",
              "<style scoped>\n",
              "    .dataframe tbody tr th:only-of-type {\n",
              "        vertical-align: middle;\n",
              "    }\n",
              "\n",
              "    .dataframe tbody tr th {\n",
              "        vertical-align: top;\n",
              "    }\n",
              "\n",
              "    .dataframe thead th {\n",
              "        text-align: right;\n",
              "    }\n",
              "</style>\n",
              "<table border=\"1\" class=\"dataframe\">\n",
              "  <thead>\n",
              "    <tr style=\"text-align: right;\">\n",
              "      <th></th>\n",
              "      <th>fare_amount</th>\n",
              "      <th>passenger_count</th>\n",
              "    </tr>\n",
              "  </thead>\n",
              "  <tbody>\n",
              "    <tr>\n",
              "      <th>fare_amount</th>\n",
              "      <td>1.000000</td>\n",
              "      <td>0.007724</td>\n",
              "    </tr>\n",
              "    <tr>\n",
              "      <th>passenger_count</th>\n",
              "      <td>0.007724</td>\n",
              "      <td>1.000000</td>\n",
              "    </tr>\n",
              "  </tbody>\n",
              "</table>\n",
              "</div>"
            ],
            "text/plain": [
              "                 fare_amount  passenger_count\n",
              "fare_amount         1.000000         0.007724\n",
              "passenger_count     0.007724         1.000000"
            ]
          },
          "metadata": {
            "tags": []
          },
          "execution_count": 18
        }
      ]
    },
    {
      "cell_type": "markdown",
      "metadata": {
        "id": "4P0Du3TOV8QS"
      },
      "source": [
        "#Import and explore Test Data"
      ]
    },
    {
      "cell_type": "code",
      "metadata": {
        "colab": {
          "base_uri": "https://localhost:8080/",
          "height": 221
        },
        "id": "Zxtsf9N9T6VQ",
        "outputId": "428a216d-daf6-4839-bd1b-a981d0e204ad"
      },
      "source": [
        "test = pd.read_csv(\"/content/drive/My Drive/CMPE 258/Homework/HW5/test.csv\")\n",
        "print(\"shape of test data\", test.shape)\n",
        "test.head()"
      ],
      "execution_count": 19,
      "outputs": [
        {
          "output_type": "stream",
          "text": [
            "shape of test data (9914, 7)\n"
          ],
          "name": "stdout"
        },
        {
          "output_type": "execute_result",
          "data": {
            "text/html": [
              "<div>\n",
              "<style scoped>\n",
              "    .dataframe tbody tr th:only-of-type {\n",
              "        vertical-align: middle;\n",
              "    }\n",
              "\n",
              "    .dataframe tbody tr th {\n",
              "        vertical-align: top;\n",
              "    }\n",
              "\n",
              "    .dataframe thead th {\n",
              "        text-align: right;\n",
              "    }\n",
              "</style>\n",
              "<table border=\"1\" class=\"dataframe\">\n",
              "  <thead>\n",
              "    <tr style=\"text-align: right;\">\n",
              "      <th></th>\n",
              "      <th>key</th>\n",
              "      <th>pickup_datetime</th>\n",
              "      <th>pickup_longitude</th>\n",
              "      <th>pickup_latitude</th>\n",
              "      <th>dropoff_longitude</th>\n",
              "      <th>dropoff_latitude</th>\n",
              "      <th>passenger_count</th>\n",
              "    </tr>\n",
              "  </thead>\n",
              "  <tbody>\n",
              "    <tr>\n",
              "      <th>0</th>\n",
              "      <td>2015-01-27 13:08:24.0000002</td>\n",
              "      <td>2015-01-27 13:08:24 UTC</td>\n",
              "      <td>-73.973320</td>\n",
              "      <td>40.763805</td>\n",
              "      <td>-73.981430</td>\n",
              "      <td>40.743835</td>\n",
              "      <td>1</td>\n",
              "    </tr>\n",
              "    <tr>\n",
              "      <th>1</th>\n",
              "      <td>2015-01-27 13:08:24.0000003</td>\n",
              "      <td>2015-01-27 13:08:24 UTC</td>\n",
              "      <td>-73.986862</td>\n",
              "      <td>40.719383</td>\n",
              "      <td>-73.998886</td>\n",
              "      <td>40.739201</td>\n",
              "      <td>1</td>\n",
              "    </tr>\n",
              "    <tr>\n",
              "      <th>2</th>\n",
              "      <td>2011-10-08 11:53:44.0000002</td>\n",
              "      <td>2011-10-08 11:53:44 UTC</td>\n",
              "      <td>-73.982524</td>\n",
              "      <td>40.751260</td>\n",
              "      <td>-73.979654</td>\n",
              "      <td>40.746139</td>\n",
              "      <td>1</td>\n",
              "    </tr>\n",
              "    <tr>\n",
              "      <th>3</th>\n",
              "      <td>2012-12-01 21:12:12.0000002</td>\n",
              "      <td>2012-12-01 21:12:12 UTC</td>\n",
              "      <td>-73.981160</td>\n",
              "      <td>40.767807</td>\n",
              "      <td>-73.990448</td>\n",
              "      <td>40.751635</td>\n",
              "      <td>1</td>\n",
              "    </tr>\n",
              "    <tr>\n",
              "      <th>4</th>\n",
              "      <td>2012-12-01 21:12:12.0000003</td>\n",
              "      <td>2012-12-01 21:12:12 UTC</td>\n",
              "      <td>-73.966046</td>\n",
              "      <td>40.789775</td>\n",
              "      <td>-73.988565</td>\n",
              "      <td>40.744427</td>\n",
              "      <td>1</td>\n",
              "    </tr>\n",
              "  </tbody>\n",
              "</table>\n",
              "</div>"
            ],
            "text/plain": [
              "                           key  ... passenger_count\n",
              "0  2015-01-27 13:08:24.0000002  ...               1\n",
              "1  2015-01-27 13:08:24.0000003  ...               1\n",
              "2  2011-10-08 11:53:44.0000002  ...               1\n",
              "3  2012-12-01 21:12:12.0000002  ...               1\n",
              "4  2012-12-01 21:12:12.0000003  ...               1\n",
              "\n",
              "[5 rows x 7 columns]"
            ]
          },
          "metadata": {
            "tags": []
          },
          "execution_count": 19
        }
      ]
    },
    {
      "cell_type": "code",
      "metadata": {
        "colab": {
          "base_uri": "https://localhost:8080/"
        },
        "id": "rNpUPLl1UC-L",
        "outputId": "0c0841f7-6304-410b-ce05-45931b829ec2"
      },
      "source": [
        "#check for missing value\n",
        "test.isnull().sum()"
      ],
      "execution_count": 20,
      "outputs": [
        {
          "output_type": "execute_result",
          "data": {
            "text/plain": [
              "key                  0\n",
              "pickup_datetime      0\n",
              "pickup_longitude     0\n",
              "pickup_latitude      0\n",
              "dropoff_longitude    0\n",
              "dropoff_latitude     0\n",
              "passenger_count      0\n",
              "dtype: int64"
            ]
          },
          "metadata": {
            "tags": []
          },
          "execution_count": 20
        }
      ]
    },
    {
      "cell_type": "code",
      "metadata": {
        "colab": {
          "base_uri": "https://localhost:8080/",
          "height": 297
        },
        "id": "rswcwrXeUE40",
        "outputId": "4ac307c2-dd77-4fca-ae64-f45fa6154b62"
      },
      "source": [
        "# checking for basic stats\n",
        "test.describe()"
      ],
      "execution_count": 21,
      "outputs": [
        {
          "output_type": "execute_result",
          "data": {
            "text/html": [
              "<div>\n",
              "<style scoped>\n",
              "    .dataframe tbody tr th:only-of-type {\n",
              "        vertical-align: middle;\n",
              "    }\n",
              "\n",
              "    .dataframe tbody tr th {\n",
              "        vertical-align: top;\n",
              "    }\n",
              "\n",
              "    .dataframe thead th {\n",
              "        text-align: right;\n",
              "    }\n",
              "</style>\n",
              "<table border=\"1\" class=\"dataframe\">\n",
              "  <thead>\n",
              "    <tr style=\"text-align: right;\">\n",
              "      <th></th>\n",
              "      <th>pickup_longitude</th>\n",
              "      <th>pickup_latitude</th>\n",
              "      <th>dropoff_longitude</th>\n",
              "      <th>dropoff_latitude</th>\n",
              "      <th>passenger_count</th>\n",
              "    </tr>\n",
              "  </thead>\n",
              "  <tbody>\n",
              "    <tr>\n",
              "      <th>count</th>\n",
              "      <td>9914.000000</td>\n",
              "      <td>9914.000000</td>\n",
              "      <td>9914.000000</td>\n",
              "      <td>9914.000000</td>\n",
              "      <td>9914.000000</td>\n",
              "    </tr>\n",
              "    <tr>\n",
              "      <th>mean</th>\n",
              "      <td>-73.974722</td>\n",
              "      <td>40.751041</td>\n",
              "      <td>-73.973657</td>\n",
              "      <td>40.751743</td>\n",
              "      <td>1.671273</td>\n",
              "    </tr>\n",
              "    <tr>\n",
              "      <th>std</th>\n",
              "      <td>0.042774</td>\n",
              "      <td>0.033541</td>\n",
              "      <td>0.039072</td>\n",
              "      <td>0.035435</td>\n",
              "      <td>1.278747</td>\n",
              "    </tr>\n",
              "    <tr>\n",
              "      <th>min</th>\n",
              "      <td>-74.252193</td>\n",
              "      <td>40.573143</td>\n",
              "      <td>-74.263242</td>\n",
              "      <td>40.568973</td>\n",
              "      <td>1.000000</td>\n",
              "    </tr>\n",
              "    <tr>\n",
              "      <th>25%</th>\n",
              "      <td>-73.992501</td>\n",
              "      <td>40.736125</td>\n",
              "      <td>-73.991247</td>\n",
              "      <td>40.735254</td>\n",
              "      <td>1.000000</td>\n",
              "    </tr>\n",
              "    <tr>\n",
              "      <th>50%</th>\n",
              "      <td>-73.982326</td>\n",
              "      <td>40.753051</td>\n",
              "      <td>-73.980015</td>\n",
              "      <td>40.754065</td>\n",
              "      <td>1.000000</td>\n",
              "    </tr>\n",
              "    <tr>\n",
              "      <th>75%</th>\n",
              "      <td>-73.968013</td>\n",
              "      <td>40.767113</td>\n",
              "      <td>-73.964059</td>\n",
              "      <td>40.768757</td>\n",
              "      <td>2.000000</td>\n",
              "    </tr>\n",
              "    <tr>\n",
              "      <th>max</th>\n",
              "      <td>-72.986532</td>\n",
              "      <td>41.709555</td>\n",
              "      <td>-72.990963</td>\n",
              "      <td>41.696683</td>\n",
              "      <td>6.000000</td>\n",
              "    </tr>\n",
              "  </tbody>\n",
              "</table>\n",
              "</div>"
            ],
            "text/plain": [
              "       pickup_longitude  pickup_latitude  ...  dropoff_latitude  passenger_count\n",
              "count       9914.000000      9914.000000  ...       9914.000000      9914.000000\n",
              "mean         -73.974722        40.751041  ...         40.751743         1.671273\n",
              "std            0.042774         0.033541  ...          0.035435         1.278747\n",
              "min          -74.252193        40.573143  ...         40.568973         1.000000\n",
              "25%          -73.992501        40.736125  ...         40.735254         1.000000\n",
              "50%          -73.982326        40.753051  ...         40.754065         1.000000\n",
              "75%          -73.968013        40.767113  ...         40.768757         2.000000\n",
              "max          -72.986532        41.709555  ...         41.696683         6.000000\n",
              "\n",
              "[8 rows x 5 columns]"
            ]
          },
          "metadata": {
            "tags": []
          },
          "execution_count": 21
        }
      ]
    },
    {
      "cell_type": "code",
      "metadata": {
        "colab": {
          "base_uri": "https://localhost:8080/"
        },
        "id": "1xDGt-1iUG9v",
        "outputId": "eb716695-d37f-4c75-ff3e-9975351e0c43"
      },
      "source": [
        "min(test.pickup_longitude.min(),test.dropoff_longitude.min()), \\\n",
        "max(test.pickup_longitude.max(),test.dropoff_longitude.max())"
      ],
      "execution_count": 22,
      "outputs": [
        {
          "output_type": "execute_result",
          "data": {
            "text/plain": [
              "(-74.263242, -72.986532)"
            ]
          },
          "metadata": {
            "tags": []
          },
          "execution_count": 22
        }
      ]
    },
    {
      "cell_type": "code",
      "metadata": {
        "colab": {
          "base_uri": "https://localhost:8080/"
        },
        "id": "rq02XkKzUJbf",
        "outputId": "4eaef4f4-6053-49cf-dbdf-cf94f428d3fb"
      },
      "source": [
        "min(test.pickup_latitude.min(),test.dropoff_latitude.min()), \\\n",
        "max(test.pickup_latitude.max(),test.dropoff_latitude.max())"
      ],
      "execution_count": 23,
      "outputs": [
        {
          "output_type": "execute_result",
          "data": {
            "text/plain": [
              "(40.568973, 41.709555)"
            ]
          },
          "metadata": {
            "tags": []
          },
          "execution_count": 23
        }
      ]
    },
    {
      "cell_type": "code",
      "metadata": {
        "id": "O2e99TyOUL6h"
      },
      "source": [
        "# this function will also be used with the test set below\n",
        "def select_within_test_boundary(df, BB):\n",
        "    return (df.pickup_longitude >= BB[0]) & (df.pickup_longitude <= BB[1]) & \\\n",
        "           (df.pickup_latitude >= BB[2]) & (df.pickup_latitude <= BB[3]) & \\\n",
        "           (df.dropoff_longitude >= BB[0]) & (df.dropoff_longitude <= BB[1]) & \\\n",
        "           (df.dropoff_latitude >= BB[2]) & (df.dropoff_latitude <= BB[3])"
      ],
      "execution_count": 24,
      "outputs": []
    },
    {
      "cell_type": "code",
      "metadata": {
        "colab": {
          "base_uri": "https://localhost:8080/"
        },
        "id": "vQZAZsyFUNkr",
        "outputId": "def9968b-bf71-4557-b5b0-8f3a42d68b48"
      },
      "source": [
        "BB = (-74.5, -72.8, 40.5, 41.8)\n",
        "print('Old size: %d' % len(train))\n",
        "train = train[select_within_test_boundary(train, BB)]\n",
        "print('New size: %d' % len(train))"
      ],
      "execution_count": 25,
      "outputs": [
        {
          "output_type": "stream",
          "text": [
            "Old size: 99996\n",
            "New size: 97876\n"
          ],
          "name": "stdout"
        }
      ]
    },
    {
      "cell_type": "markdown",
      "metadata": {
        "id": "sl8oINfDWIkn"
      },
      "source": [
        "#Feature Engineering"
      ]
    },
    {
      "cell_type": "code",
      "metadata": {
        "id": "V1uxSV5zURUg"
      },
      "source": [
        "def prepare_time_features(df):\n",
        "    df['pickup_datetime'] = df['pickup_datetime'].str.slice(0, 16)\n",
        "    df['pickup_datetime'] = pd.to_datetime(df['pickup_datetime'], utc=True, format='%Y-%m-%d %H:%M')\n",
        "    df['hour_of_day'] = df.pickup_datetime.dt.hour\n",
        "#     df['week'] = df.pickup_datetime.dt.week\n",
        "    df['month'] = df.pickup_datetime.dt.month\n",
        "    df[\"year\"] = df.pickup_datetime.dt.year\n",
        "#     df['day_of_year'] = df.pickup_datetime.dt.dayofyear\n",
        "#     df['week_of_year'] = df.pickup_datetime.dt.weekofyear\n",
        "    df[\"weekday\"] = df.pickup_datetime.dt.weekday\n",
        "#     df[\"quarter\"] = df.pickup_datetime.dt.quarter\n",
        "#     df[\"day_of_month\"] = df.pickup_datetime.dt.day\n",
        "    \n",
        "    return df"
      ],
      "execution_count": 26,
      "outputs": []
    },
    {
      "cell_type": "code",
      "metadata": {
        "id": "9zOWyTLbUTJG"
      },
      "source": [
        "train = prepare_time_features(train)\n",
        "test = prepare_time_features(test)"
      ],
      "execution_count": 27,
      "outputs": []
    },
    {
      "cell_type": "code",
      "metadata": {
        "id": "dIv-NCXvUW5-"
      },
      "source": [
        "# calculate-distance-between-two-latitude-longitude-points-haversine-formula \n",
        "# Returns distance in miles\n",
        "def distance(lat1, lon1, lat2, lon2):\n",
        "    p = 0.017453292519943295 # Pi/180\n",
        "    a = 0.5 - np.cos((lat2 - lat1) * p)/2 + np.cos(lat1 * p) * np.cos(lat2 * p) * (1 - np.cos((lon2 - lon1) * p)) / 2\n",
        "    return 0.6213712 * 12742 * np.arcsin(np.sqrt(a))   # 2*R*asin..."
      ],
      "execution_count": 28,
      "outputs": []
    },
    {
      "cell_type": "code",
      "metadata": {
        "id": "eIw5dKhGUZKd"
      },
      "source": [
        "train['distance_miles'] = distance(train.pickup_latitude, train.pickup_longitude, \\\n",
        "                                      train.dropoff_latitude, train.dropoff_longitude)\n",
        "\n"
      ],
      "execution_count": 29,
      "outputs": []
    },
    {
      "cell_type": "code",
      "metadata": {
        "id": "6G4fIHycUdw_"
      },
      "source": [
        "test['distance_miles'] = distance(test.pickup_latitude, test.pickup_longitude, \\\n",
        "                                      test.dropoff_latitude, test.dropoff_longitude)"
      ],
      "execution_count": 30,
      "outputs": []
    },
    {
      "cell_type": "code",
      "metadata": {
        "id": "RIH7ZK_IUgGg"
      },
      "source": [
        "def transform(data):\n",
        "    # Distances to nearby airports, \n",
        "    jfk = (-73.7781, 40.6413)\n",
        "    ewr = (-74.1745, 40.6895)\n",
        "    lgr = (-73.8740, 40.7769)\n",
        "\n",
        "    data['pickup_distance_to_jfk'] = distance(jfk[1], jfk[0],\n",
        "                                         data['pickup_latitude'], data['pickup_longitude'])\n",
        "    data['dropoff_distance_to_jfk'] = distance(jfk[1], jfk[0],\n",
        "                                           data['dropoff_latitude'], data['dropoff_longitude'])\n",
        "    data['pickup_distance_to_ewr'] = distance(ewr[1], ewr[0], \n",
        "                                          data['pickup_latitude'], data['pickup_longitude'])\n",
        "    data['dropoff_distance_to_ewr'] = distance(ewr[1], ewr[0],\n",
        "                                           data['dropoff_latitude'], data['dropoff_longitude'])\n",
        "    data['pickup_distance_to_lgr'] = distance(lgr[1], lgr[0],\n",
        "                                          data['pickup_latitude'], data['pickup_longitude'])\n",
        "    data['dropoff_distance_to_lgr'] = distance(lgr[1], lgr[0],\n",
        "                                           data['dropoff_latitude'], data['dropoff_longitude'])\n",
        "    \n",
        "    return data\n",
        "\n",
        "train = transform(train)\n",
        "test = transform(test)"
      ],
      "execution_count": 31,
      "outputs": []
    },
    {
      "cell_type": "code",
      "metadata": {
        "colab": {
          "base_uri": "https://localhost:8080/",
          "height": 117
        },
        "id": "IeOnVqB8Uir1",
        "outputId": "365f798d-696d-4ff0-e967-f6832b3c612b"
      },
      "source": [
        "train[(train['distance_miles']==0)&(train['fare_amount']==0)]"
      ],
      "execution_count": 32,
      "outputs": [
        {
          "output_type": "execute_result",
          "data": {
            "text/html": [
              "<div>\n",
              "<style scoped>\n",
              "    .dataframe tbody tr th:only-of-type {\n",
              "        vertical-align: middle;\n",
              "    }\n",
              "\n",
              "    .dataframe tbody tr th {\n",
              "        vertical-align: top;\n",
              "    }\n",
              "\n",
              "    .dataframe thead th {\n",
              "        text-align: right;\n",
              "    }\n",
              "</style>\n",
              "<table border=\"1\" class=\"dataframe\">\n",
              "  <thead>\n",
              "    <tr style=\"text-align: right;\">\n",
              "      <th></th>\n",
              "      <th>key</th>\n",
              "      <th>fare_amount</th>\n",
              "      <th>pickup_datetime</th>\n",
              "      <th>pickup_longitude</th>\n",
              "      <th>pickup_latitude</th>\n",
              "      <th>dropoff_longitude</th>\n",
              "      <th>dropoff_latitude</th>\n",
              "      <th>passenger_count</th>\n",
              "      <th>hour_of_day</th>\n",
              "      <th>month</th>\n",
              "      <th>year</th>\n",
              "      <th>weekday</th>\n",
              "      <th>distance_miles</th>\n",
              "      <th>pickup_distance_to_jfk</th>\n",
              "      <th>dropoff_distance_to_jfk</th>\n",
              "      <th>pickup_distance_to_ewr</th>\n",
              "      <th>dropoff_distance_to_ewr</th>\n",
              "      <th>pickup_distance_to_lgr</th>\n",
              "      <th>dropoff_distance_to_lgr</th>\n",
              "    </tr>\n",
              "  </thead>\n",
              "  <tbody>\n",
              "    <tr>\n",
              "      <th>17684</th>\n",
              "      <td>2010-02-10 19:28:00.00000031</td>\n",
              "      <td>0.0</td>\n",
              "      <td>2010-02-10 19:28:00+00:00</td>\n",
              "      <td>-73.967097</td>\n",
              "      <td>40.686223</td>\n",
              "      <td>-73.967097</td>\n",
              "      <td>40.686223</td>\n",
              "      <td>1</td>\n",
              "      <td>19</td>\n",
              "      <td>2</td>\n",
              "      <td>2010</td>\n",
              "      <td>2</td>\n",
              "      <td>0.0</td>\n",
              "      <td>10.380344</td>\n",
              "      <td>10.380344</td>\n",
              "      <td>10.868524</td>\n",
              "      <td>10.868524</td>\n",
              "      <td>7.937958</td>\n",
              "      <td>7.937958</td>\n",
              "    </tr>\n",
              "  </tbody>\n",
              "</table>\n",
              "</div>"
            ],
            "text/plain": [
              "                                key  ...  dropoff_distance_to_lgr\n",
              "17684  2010-02-10 19:28:00.00000031  ...                 7.937958\n",
              "\n",
              "[1 rows x 19 columns]"
            ]
          },
          "metadata": {
            "tags": []
          },
          "execution_count": 32
        }
      ]
    },
    {
      "cell_type": "code",
      "metadata": {
        "colab": {
          "base_uri": "https://localhost:8080/"
        },
        "id": "EEtvrqNcUkmv",
        "outputId": "396e6eeb-5b9e-4918-b582-96046173581a"
      },
      "source": [
        "print(\"old size: %d\" % len(train))\n",
        "train = train.drop(index= train[(train['distance_miles']==0)&(train['fare_amount']==0)].index, axis=0)\n",
        "print(\"New size: %d\" % len(train))"
      ],
      "execution_count": 33,
      "outputs": [
        {
          "output_type": "stream",
          "text": [
            "old size: 97876\n",
            "New size: 97875\n"
          ],
          "name": "stdout"
        }
      ]
    },
    {
      "cell_type": "code",
      "metadata": {
        "colab": {
          "base_uri": "https://localhost:8080/"
        },
        "id": "8PInswurUm-b",
        "outputId": "a85ad6cc-0e88-45d5-a376-6ba4c7ae95be"
      },
      "source": [
        "train[train['fare_amount']==0].shape"
      ],
      "execution_count": 34,
      "outputs": [
        {
          "output_type": "execute_result",
          "data": {
            "text/plain": [
              "(1, 19)"
            ]
          },
          "metadata": {
            "tags": []
          },
          "execution_count": 34
        }
      ]
    },
    {
      "cell_type": "code",
      "metadata": {
        "colab": {
          "base_uri": "https://localhost:8080/"
        },
        "id": "DWObaMDtUohf",
        "outputId": "dfe917ef-1b5a-4e71-ec90-cfd478c30c95"
      },
      "source": [
        "print(\"old size: %d\" % len(train))\n",
        "train = train.drop(index= train[train['fare_amount']==0].index, axis=0)\n",
        "print(\"New size: %d\" % len(train))"
      ],
      "execution_count": 35,
      "outputs": [
        {
          "output_type": "stream",
          "text": [
            "old size: 97875\n",
            "New size: 97874\n"
          ],
          "name": "stdout"
        }
      ]
    },
    {
      "cell_type": "code",
      "metadata": {
        "colab": {
          "base_uri": "https://localhost:8080/"
        },
        "id": "LM4Y2sbVUq0N",
        "outputId": "545d8021-74a0-4e05-b518-fde812c78525"
      },
      "source": [
        "train[train['fare_amount'] < 2.5].shape"
      ],
      "execution_count": 36,
      "outputs": [
        {
          "output_type": "execute_result",
          "data": {
            "text/plain": [
              "(5, 19)"
            ]
          },
          "metadata": {
            "tags": []
          },
          "execution_count": 36
        }
      ]
    },
    {
      "cell_type": "code",
      "metadata": {
        "colab": {
          "base_uri": "https://localhost:8080/"
        },
        "id": "YsHSUrzdUtCi",
        "outputId": "f5ebce16-5ca8-4ade-d969-05479acef547"
      },
      "source": [
        "print(\"old size: %d\" % len(train))\n",
        "train = train.drop(index= train[train['fare_amount'] < 2.5].index, axis=0)\n",
        "print(\"New size: %d\" % len(train))"
      ],
      "execution_count": 37,
      "outputs": [
        {
          "output_type": "stream",
          "text": [
            "old size: 97874\n",
            "New size: 97869\n"
          ],
          "name": "stdout"
        }
      ]
    },
    {
      "cell_type": "code",
      "metadata": {
        "colab": {
          "base_uri": "https://localhost:8080/",
          "height": 68
        },
        "id": "2L_zf0CvUvuS",
        "outputId": "5f9abec5-5b25-4d45-af2d-b45abc72c2e2"
      },
      "source": [
        "train[train.passenger_count >= 7]"
      ],
      "execution_count": 38,
      "outputs": [
        {
          "output_type": "execute_result",
          "data": {
            "text/html": [
              "<div>\n",
              "<style scoped>\n",
              "    .dataframe tbody tr th:only-of-type {\n",
              "        vertical-align: middle;\n",
              "    }\n",
              "\n",
              "    .dataframe tbody tr th {\n",
              "        vertical-align: top;\n",
              "    }\n",
              "\n",
              "    .dataframe thead th {\n",
              "        text-align: right;\n",
              "    }\n",
              "</style>\n",
              "<table border=\"1\" class=\"dataframe\">\n",
              "  <thead>\n",
              "    <tr style=\"text-align: right;\">\n",
              "      <th></th>\n",
              "      <th>key</th>\n",
              "      <th>fare_amount</th>\n",
              "      <th>pickup_datetime</th>\n",
              "      <th>pickup_longitude</th>\n",
              "      <th>pickup_latitude</th>\n",
              "      <th>dropoff_longitude</th>\n",
              "      <th>dropoff_latitude</th>\n",
              "      <th>passenger_count</th>\n",
              "      <th>hour_of_day</th>\n",
              "      <th>month</th>\n",
              "      <th>year</th>\n",
              "      <th>weekday</th>\n",
              "      <th>distance_miles</th>\n",
              "      <th>pickup_distance_to_jfk</th>\n",
              "      <th>dropoff_distance_to_jfk</th>\n",
              "      <th>pickup_distance_to_ewr</th>\n",
              "      <th>dropoff_distance_to_ewr</th>\n",
              "      <th>pickup_distance_to_lgr</th>\n",
              "      <th>dropoff_distance_to_lgr</th>\n",
              "    </tr>\n",
              "  </thead>\n",
              "  <tbody>\n",
              "  </tbody>\n",
              "</table>\n",
              "</div>"
            ],
            "text/plain": [
              "Empty DataFrame\n",
              "Columns: [key, fare_amount, pickup_datetime, pickup_longitude, pickup_latitude, dropoff_longitude, dropoff_latitude, passenger_count, hour_of_day, month, year, weekday, distance_miles, pickup_distance_to_jfk, dropoff_distance_to_jfk, pickup_distance_to_ewr, dropoff_distance_to_ewr, pickup_distance_to_lgr, dropoff_distance_to_lgr]\n",
              "Index: []"
            ]
          },
          "metadata": {
            "tags": []
          },
          "execution_count": 38
        }
      ]
    },
    {
      "cell_type": "code",
      "metadata": {
        "colab": {
          "base_uri": "https://localhost:8080/"
        },
        "id": "QlZk2LJjUxuS",
        "outputId": "7711d287-0605-47d4-a4cf-695b1f3d7a94"
      },
      "source": [
        "print(\"old size: %d\" % len(train))\n",
        "train = train.drop(index= train[train.passenger_count >= 7].index, axis=0)\n",
        "print(\"New size: %d\" % len(train))"
      ],
      "execution_count": 39,
      "outputs": [
        {
          "output_type": "stream",
          "text": [
            "old size: 97869\n",
            "New size: 97869\n"
          ],
          "name": "stdout"
        }
      ]
    },
    {
      "cell_type": "code",
      "metadata": {
        "colab": {
          "base_uri": "https://localhost:8080/",
          "height": 576
        },
        "id": "zTt1Luz2U0Am",
        "outputId": "dd4b0652-4903-4d2d-ff59-24a2a92de646"
      },
      "source": [
        "train.describe().T"
      ],
      "execution_count": 40,
      "outputs": [
        {
          "output_type": "execute_result",
          "data": {
            "text/html": [
              "<div>\n",
              "<style scoped>\n",
              "    .dataframe tbody tr th:only-of-type {\n",
              "        vertical-align: middle;\n",
              "    }\n",
              "\n",
              "    .dataframe tbody tr th {\n",
              "        vertical-align: top;\n",
              "    }\n",
              "\n",
              "    .dataframe thead th {\n",
              "        text-align: right;\n",
              "    }\n",
              "</style>\n",
              "<table border=\"1\" class=\"dataframe\">\n",
              "  <thead>\n",
              "    <tr style=\"text-align: right;\">\n",
              "      <th></th>\n",
              "      <th>count</th>\n",
              "      <th>mean</th>\n",
              "      <th>std</th>\n",
              "      <th>min</th>\n",
              "      <th>25%</th>\n",
              "      <th>50%</th>\n",
              "      <th>75%</th>\n",
              "      <th>max</th>\n",
              "    </tr>\n",
              "  </thead>\n",
              "  <tbody>\n",
              "    <tr>\n",
              "      <th>fare_amount</th>\n",
              "      <td>97869.0</td>\n",
              "      <td>11.342194</td>\n",
              "      <td>9.673738</td>\n",
              "      <td>2.500000</td>\n",
              "      <td>6.000000</td>\n",
              "      <td>8.500000</td>\n",
              "      <td>12.500000</td>\n",
              "      <td>331.290000</td>\n",
              "    </tr>\n",
              "    <tr>\n",
              "      <th>pickup_longitude</th>\n",
              "      <td>97869.0</td>\n",
              "      <td>-73.975329</td>\n",
              "      <td>0.038431</td>\n",
              "      <td>-74.479285</td>\n",
              "      <td>-73.992391</td>\n",
              "      <td>-73.982155</td>\n",
              "      <td>-73.968535</td>\n",
              "      <td>-73.137393</td>\n",
              "    </tr>\n",
              "    <tr>\n",
              "      <th>pickup_latitude</th>\n",
              "      <td>97869.0</td>\n",
              "      <td>40.750976</td>\n",
              "      <td>0.029597</td>\n",
              "      <td>40.530403</td>\n",
              "      <td>40.736439</td>\n",
              "      <td>40.753104</td>\n",
              "      <td>40.767422</td>\n",
              "      <td>41.366138</td>\n",
              "    </tr>\n",
              "    <tr>\n",
              "      <th>dropoff_longitude</th>\n",
              "      <td>97869.0</td>\n",
              "      <td>-73.974305</td>\n",
              "      <td>0.037968</td>\n",
              "      <td>-74.475383</td>\n",
              "      <td>-73.991587</td>\n",
              "      <td>-73.980608</td>\n",
              "      <td>-73.965353</td>\n",
              "      <td>-73.137393</td>\n",
              "    </tr>\n",
              "    <tr>\n",
              "      <th>dropoff_latitude</th>\n",
              "      <td>97869.0</td>\n",
              "      <td>40.751235</td>\n",
              "      <td>0.033003</td>\n",
              "      <td>40.524522</td>\n",
              "      <td>40.735406</td>\n",
              "      <td>40.753754</td>\n",
              "      <td>40.768307</td>\n",
              "      <td>41.366138</td>\n",
              "    </tr>\n",
              "    <tr>\n",
              "      <th>passenger_count</th>\n",
              "      <td>97869.0</td>\n",
              "      <td>1.687899</td>\n",
              "      <td>1.309807</td>\n",
              "      <td>0.000000</td>\n",
              "      <td>1.000000</td>\n",
              "      <td>1.000000</td>\n",
              "      <td>2.000000</td>\n",
              "      <td>6.000000</td>\n",
              "    </tr>\n",
              "    <tr>\n",
              "      <th>hour_of_day</th>\n",
              "      <td>97869.0</td>\n",
              "      <td>13.548836</td>\n",
              "      <td>6.506535</td>\n",
              "      <td>0.000000</td>\n",
              "      <td>9.000000</td>\n",
              "      <td>14.000000</td>\n",
              "      <td>19.000000</td>\n",
              "      <td>23.000000</td>\n",
              "    </tr>\n",
              "    <tr>\n",
              "      <th>month</th>\n",
              "      <td>97869.0</td>\n",
              "      <td>6.273437</td>\n",
              "      <td>3.442157</td>\n",
              "      <td>1.000000</td>\n",
              "      <td>3.000000</td>\n",
              "      <td>6.000000</td>\n",
              "      <td>9.000000</td>\n",
              "      <td>12.000000</td>\n",
              "    </tr>\n",
              "    <tr>\n",
              "      <th>year</th>\n",
              "      <td>97869.0</td>\n",
              "      <td>2011.742319</td>\n",
              "      <td>1.860078</td>\n",
              "      <td>2009.000000</td>\n",
              "      <td>2010.000000</td>\n",
              "      <td>2012.000000</td>\n",
              "      <td>2013.000000</td>\n",
              "      <td>2015.000000</td>\n",
              "    </tr>\n",
              "    <tr>\n",
              "      <th>weekday</th>\n",
              "      <td>97869.0</td>\n",
              "      <td>3.040043</td>\n",
              "      <td>1.947050</td>\n",
              "      <td>0.000000</td>\n",
              "      <td>1.000000</td>\n",
              "      <td>3.000000</td>\n",
              "      <td>5.000000</td>\n",
              "      <td>6.000000</td>\n",
              "    </tr>\n",
              "    <tr>\n",
              "      <th>distance_miles</th>\n",
              "      <td>97869.0</td>\n",
              "      <td>2.072576</td>\n",
              "      <td>2.340522</td>\n",
              "      <td>0.000000</td>\n",
              "      <td>0.777859</td>\n",
              "      <td>1.341281</td>\n",
              "      <td>2.441329</td>\n",
              "      <td>68.653901</td>\n",
              "    </tr>\n",
              "    <tr>\n",
              "      <th>pickup_distance_to_jfk</th>\n",
              "      <td>97869.0</td>\n",
              "      <td>12.972869</td>\n",
              "      <td>2.027007</td>\n",
              "      <td>0.236140</td>\n",
              "      <td>12.777952</td>\n",
              "      <td>13.165520</td>\n",
              "      <td>13.597445</td>\n",
              "      <td>60.201300</td>\n",
              "    </tr>\n",
              "    <tr>\n",
              "      <th>dropoff_distance_to_jfk</th>\n",
              "      <td>97869.0</td>\n",
              "      <td>12.992155</td>\n",
              "      <td>1.922680</td>\n",
              "      <td>0.232782</td>\n",
              "      <td>12.757946</td>\n",
              "      <td>13.163925</td>\n",
              "      <td>13.610455</td>\n",
              "      <td>60.201300</td>\n",
              "    </tr>\n",
              "    <tr>\n",
              "      <th>pickup_distance_to_ewr</th>\n",
              "      <td>97869.0</td>\n",
              "      <td>11.389205</td>\n",
              "      <td>2.309415</td>\n",
              "      <td>0.182424</td>\n",
              "      <td>10.161544</td>\n",
              "      <td>11.060911</td>\n",
              "      <td>12.079350</td>\n",
              "      <td>71.468468</td>\n",
              "    </tr>\n",
              "    <tr>\n",
              "      <th>dropoff_distance_to_ewr</th>\n",
              "      <td>97869.0</td>\n",
              "      <td>11.481791</td>\n",
              "      <td>2.325655</td>\n",
              "      <td>0.165921</td>\n",
              "      <td>10.245016</td>\n",
              "      <td>11.162731</td>\n",
              "      <td>12.299720</td>\n",
              "      <td>71.468468</td>\n",
              "    </tr>\n",
              "    <tr>\n",
              "      <th>pickup_distance_to_lgr</th>\n",
              "      <td>97869.0</td>\n",
              "      <td>6.015597</td>\n",
              "      <td>1.833910</td>\n",
              "      <td>0.179403</td>\n",
              "      <td>5.213220</td>\n",
              "      <td>5.986487</td>\n",
              "      <td>6.856872</td>\n",
              "      <td>55.943059</td>\n",
              "    </tr>\n",
              "    <tr>\n",
              "      <th>dropoff_distance_to_lgr</th>\n",
              "      <td>97869.0</td>\n",
              "      <td>6.024829</td>\n",
              "      <td>1.882821</td>\n",
              "      <td>0.168029</td>\n",
              "      <td>5.173541</td>\n",
              "      <td>5.920886</td>\n",
              "      <td>6.834014</td>\n",
              "      <td>55.943059</td>\n",
              "    </tr>\n",
              "  </tbody>\n",
              "</table>\n",
              "</div>"
            ],
            "text/plain": [
              "                           count         mean  ...          75%          max\n",
              "fare_amount              97869.0    11.342194  ...    12.500000   331.290000\n",
              "pickup_longitude         97869.0   -73.975329  ...   -73.968535   -73.137393\n",
              "pickup_latitude          97869.0    40.750976  ...    40.767422    41.366138\n",
              "dropoff_longitude        97869.0   -73.974305  ...   -73.965353   -73.137393\n",
              "dropoff_latitude         97869.0    40.751235  ...    40.768307    41.366138\n",
              "passenger_count          97869.0     1.687899  ...     2.000000     6.000000\n",
              "hour_of_day              97869.0    13.548836  ...    19.000000    23.000000\n",
              "month                    97869.0     6.273437  ...     9.000000    12.000000\n",
              "year                     97869.0  2011.742319  ...  2013.000000  2015.000000\n",
              "weekday                  97869.0     3.040043  ...     5.000000     6.000000\n",
              "distance_miles           97869.0     2.072576  ...     2.441329    68.653901\n",
              "pickup_distance_to_jfk   97869.0    12.972869  ...    13.597445    60.201300\n",
              "dropoff_distance_to_jfk  97869.0    12.992155  ...    13.610455    60.201300\n",
              "pickup_distance_to_ewr   97869.0    11.389205  ...    12.079350    71.468468\n",
              "dropoff_distance_to_ewr  97869.0    11.481791  ...    12.299720    71.468468\n",
              "pickup_distance_to_lgr   97869.0     6.015597  ...     6.856872    55.943059\n",
              "dropoff_distance_to_lgr  97869.0     6.024829  ...     6.834014    55.943059\n",
              "\n",
              "[17 rows x 8 columns]"
            ]
          },
          "metadata": {
            "tags": []
          },
          "execution_count": 40
        }
      ]
    },
    {
      "cell_type": "code",
      "metadata": {
        "colab": {
          "base_uri": "https://localhost:8080/"
        },
        "id": "huTetignU2jX",
        "outputId": "f40059f2-4bad-49a7-99c2-502acb119dda"
      },
      "source": [
        "pd.cut(train['distance_miles'],np.linspace(0, 70, num = 8)).value_counts()"
      ],
      "execution_count": 41,
      "outputs": [
        {
          "output_type": "execute_result",
          "data": {
            "text/plain": [
              "(0.0, 10.0]     94725\n",
              "(10.0, 20.0]     2076\n",
              "(20.0, 30.0]       14\n",
              "(60.0, 70.0]        7\n",
              "(50.0, 60.0]        6\n",
              "(40.0, 50.0]        1\n",
              "(30.0, 40.0]        0\n",
              "Name: distance_miles, dtype: int64"
            ]
          },
          "metadata": {
            "tags": []
          },
          "execution_count": 41
        }
      ]
    },
    {
      "cell_type": "code",
      "metadata": {
        "colab": {
          "base_uri": "https://localhost:8080/"
        },
        "id": "OFarLuEyU5e1",
        "outputId": "fd8dcd4c-c40b-4810-d98d-d4be2f10be7c"
      },
      "source": [
        "pd.cut(test['distance_miles'],np.linspace(0, 70, num = 8)).value_counts()"
      ],
      "execution_count": 42,
      "outputs": [
        {
          "output_type": "execute_result",
          "data": {
            "text/plain": [
              "(0.0, 10.0]     9611\n",
              "(10.0, 20.0]     214\n",
              "(60.0, 70.0]       3\n",
              "(20.0, 30.0]       1\n",
              "(50.0, 60.0]       0\n",
              "(40.0, 50.0]       0\n",
              "(30.0, 40.0]       0\n",
              "Name: distance_miles, dtype: int64"
            ]
          },
          "metadata": {
            "tags": []
          },
          "execution_count": 42
        }
      ]
    },
    {
      "cell_type": "code",
      "metadata": {
        "colab": {
          "base_uri": "https://localhost:8080/"
        },
        "id": "TBxO12XwU7TX",
        "outputId": "0ef554cb-6160-4dd7-8e8e-1ba2d4144563"
      },
      "source": [
        "# we will deal with it later \n",
        "fare_100 = train[train.fare_amount > 100]\n",
        "fare_100.shape"
      ],
      "execution_count": 43,
      "outputs": [
        {
          "output_type": "execute_result",
          "data": {
            "text/plain": [
              "(31, 19)"
            ]
          },
          "metadata": {
            "tags": []
          },
          "execution_count": 43
        }
      ]
    },
    {
      "cell_type": "code",
      "metadata": {
        "colab": {
          "base_uri": "https://localhost:8080/"
        },
        "id": "v_6-uRNmU-QI",
        "outputId": "f296bb98-1e0e-4c83-ade6-9f917fc5ab09"
      },
      "source": [
        "fare_100[fare_100.distance_miles <1].shape"
      ],
      "execution_count": 44,
      "outputs": [
        {
          "output_type": "execute_result",
          "data": {
            "text/plain": [
              "(15, 19)"
            ]
          },
          "metadata": {
            "tags": []
          },
          "execution_count": 44
        }
      ]
    },
    {
      "cell_type": "code",
      "metadata": {
        "colab": {
          "base_uri": "https://localhost:8080/"
        },
        "id": "7jHpPGbYVAdF",
        "outputId": "ef18b66f-b0c3-4812-b38f-0c039273d70f"
      },
      "source": [
        "train.columns"
      ],
      "execution_count": 45,
      "outputs": [
        {
          "output_type": "execute_result",
          "data": {
            "text/plain": [
              "Index(['key', 'fare_amount', 'pickup_datetime', 'pickup_longitude',\n",
              "       'pickup_latitude', 'dropoff_longitude', 'dropoff_latitude',\n",
              "       'passenger_count', 'hour_of_day', 'month', 'year', 'weekday',\n",
              "       'distance_miles', 'pickup_distance_to_jfk', 'dropoff_distance_to_jfk',\n",
              "       'pickup_distance_to_ewr', 'dropoff_distance_to_ewr',\n",
              "       'pickup_distance_to_lgr', 'dropoff_distance_to_lgr'],\n",
              "      dtype='object')"
            ]
          },
          "metadata": {
            "tags": []
          },
          "execution_count": 45
        }
      ]
    },
    {
      "cell_type": "code",
      "metadata": {
        "colab": {
          "base_uri": "https://localhost:8080/"
        },
        "id": "RPxIHTYpVCYb",
        "outputId": "1861d6f2-7af7-4932-f931-9e98331fdb94"
      },
      "source": [
        "# create copy of the data set\n",
        "df_train = train.drop(columns= ['key','pickup_datetime'], axis= 1).copy()\n",
        "df_test = test.drop(columns= ['key','pickup_datetime'], axis= 1).copy()\n",
        "print(df_train.shape)\n",
        "print(df_test.shape)"
      ],
      "execution_count": 46,
      "outputs": [
        {
          "output_type": "stream",
          "text": [
            "(97869, 17)\n",
            "(9914, 16)\n"
          ],
          "name": "stdout"
        }
      ]
    },
    {
      "cell_type": "markdown",
      "metadata": {
        "id": "rypN0eDQWR0x"
      },
      "source": [
        "#Train Test Split"
      ]
    },
    {
      "cell_type": "code",
      "metadata": {
        "colab": {
          "base_uri": "https://localhost:8080/"
        },
        "id": "CXWMreOzVEdT",
        "outputId": "a3a6d7b6-ab0d-4958-e00e-75870458b85f"
      },
      "source": [
        "from sklearn.model_selection import train_test_split \n",
        "X_train, X_test, y_train, y_test = train_test_split(df_train.drop('fare_amount', axis=1),\n",
        "                                                    df_train['fare_amount'], test_size=0.2, random_state = 42)\n",
        "print(X_train.shape)\n",
        "print(X_test.shape)\n",
        "print(y_train.shape)\n",
        "print(y_test.shape)"
      ],
      "execution_count": 47,
      "outputs": [
        {
          "output_type": "stream",
          "text": [
            "(78295, 16)\n",
            "(19574, 16)\n",
            "(78295,)\n",
            "(19574,)\n"
          ],
          "name": "stdout"
        }
      ]
    },
    {
      "cell_type": "markdown",
      "metadata": {
        "id": "9wkbIdZjWUmQ"
      },
      "source": [
        "#XGBoost Model"
      ]
    },
    {
      "cell_type": "code",
      "metadata": {
        "id": "ozeihl4SVGKA"
      },
      "source": [
        "import xgboost as xgb\n"
      ],
      "execution_count": 48,
      "outputs": []
    },
    {
      "cell_type": "code",
      "metadata": {
        "id": "mgAcZ4SdVKLJ"
      },
      "source": [
        "params = {\n",
        "   \n",
        "    'max_depth': 7,\n",
        "    'gamma' :0,\n",
        "    'eta':.03, \n",
        "    'subsample': 1,\n",
        "    'colsample_bytree': 0.9, \n",
        "    'objective':'reg:linear',\n",
        "    'eval_metric':'rmse',\n",
        "    'silent': 0\n",
        "}"
      ],
      "execution_count": 49,
      "outputs": []
    },
    {
      "cell_type": "code",
      "metadata": {
        "colab": {
          "base_uri": "https://localhost:8080/"
        },
        "id": "pcGgp7ECVMhy",
        "outputId": "25a779fd-7a03-4f27-fcaf-f49b18f21be8"
      },
      "source": [
        "def XGBmodel(X_train,X_test,y_train,y_test,params):\n",
        "    matrix_train = xgb.DMatrix(X_train,label=y_train)\n",
        "    matrix_test = xgb.DMatrix(X_test,label=y_test)\n",
        "    model=xgb.train(params=params,\n",
        "                    dtrain=matrix_train,num_boost_round=5000, \n",
        "                    early_stopping_rounds=10,evals=[(matrix_test,'test')])\n",
        "    return model\n",
        "\n",
        "model = XGBmodel(X_train,X_test,y_train,y_test,params)"
      ],
      "execution_count": 50,
      "outputs": [
        {
          "output_type": "stream",
          "text": [
            "[15:30:11] WARNING: /workspace/src/objective/regression_obj.cu:152: reg:linear is now deprecated in favor of reg:squarederror.\n",
            "[0]\ttest-rmse:14.1559\n",
            "Will train until test-rmse hasn't improved in 10 rounds.\n",
            "[1]\ttest-rmse:13.7765\n",
            "[2]\ttest-rmse:13.4296\n",
            "[3]\ttest-rmse:13.0724\n",
            "[4]\ttest-rmse:12.7282\n",
            "[5]\ttest-rmse:12.3956\n",
            "[6]\ttest-rmse:12.0719\n",
            "[7]\ttest-rmse:11.7602\n",
            "[8]\ttest-rmse:11.4581\n",
            "[9]\ttest-rmse:11.1648\n",
            "[10]\ttest-rmse:10.8995\n",
            "[11]\ttest-rmse:10.6285\n",
            "[12]\ttest-rmse:10.3662\n",
            "[13]\ttest-rmse:10.1128\n",
            "[14]\ttest-rmse:9.86923\n",
            "[15]\ttest-rmse:9.632\n",
            "[16]\ttest-rmse:9.40338\n",
            "[17]\ttest-rmse:9.18332\n",
            "[18]\ttest-rmse:8.9753\n",
            "[19]\ttest-rmse:8.77181\n",
            "[20]\ttest-rmse:8.57501\n",
            "[21]\ttest-rmse:8.38662\n",
            "[22]\ttest-rmse:8.21539\n",
            "[23]\ttest-rmse:8.03949\n",
            "[24]\ttest-rmse:7.86964\n",
            "[25]\ttest-rmse:7.70939\n",
            "[26]\ttest-rmse:7.5515\n",
            "[27]\ttest-rmse:7.39911\n",
            "[28]\ttest-rmse:7.25152\n",
            "[29]\ttest-rmse:7.11256\n",
            "[30]\ttest-rmse:6.97939\n",
            "[31]\ttest-rmse:6.84958\n",
            "[32]\ttest-rmse:6.72705\n",
            "[33]\ttest-rmse:6.60947\n",
            "[34]\ttest-rmse:6.49431\n",
            "[35]\ttest-rmse:6.38956\n",
            "[36]\ttest-rmse:6.28559\n",
            "[37]\ttest-rmse:6.18534\n",
            "[38]\ttest-rmse:6.08894\n",
            "[39]\ttest-rmse:5.99763\n",
            "[40]\ttest-rmse:5.90945\n",
            "[41]\ttest-rmse:5.82536\n",
            "[42]\ttest-rmse:5.74431\n",
            "[43]\ttest-rmse:5.66767\n",
            "[44]\ttest-rmse:5.59352\n",
            "[45]\ttest-rmse:5.52459\n",
            "[46]\ttest-rmse:5.457\n",
            "[47]\ttest-rmse:5.39283\n",
            "[48]\ttest-rmse:5.32963\n",
            "[49]\ttest-rmse:5.27043\n",
            "[50]\ttest-rmse:5.21388\n",
            "[51]\ttest-rmse:5.15908\n",
            "[52]\ttest-rmse:5.10834\n",
            "[53]\ttest-rmse:5.0599\n",
            "[54]\ttest-rmse:5.01416\n",
            "[55]\ttest-rmse:4.97187\n",
            "[56]\ttest-rmse:4.92969\n",
            "[57]\ttest-rmse:4.89055\n",
            "[58]\ttest-rmse:4.85329\n",
            "[59]\ttest-rmse:4.81628\n",
            "[60]\ttest-rmse:4.78247\n",
            "[61]\ttest-rmse:4.74967\n",
            "[62]\ttest-rmse:4.72028\n",
            "[63]\ttest-rmse:4.68903\n",
            "[64]\ttest-rmse:4.66133\n",
            "[65]\ttest-rmse:4.63521\n",
            "[66]\ttest-rmse:4.60841\n",
            "[67]\ttest-rmse:4.58478\n",
            "[68]\ttest-rmse:4.56245\n",
            "[69]\ttest-rmse:4.54062\n",
            "[70]\ttest-rmse:4.51969\n",
            "[71]\ttest-rmse:4.50017\n",
            "[72]\ttest-rmse:4.48114\n",
            "[73]\ttest-rmse:4.46357\n",
            "[74]\ttest-rmse:4.44747\n",
            "[75]\ttest-rmse:4.43203\n",
            "[76]\ttest-rmse:4.41682\n",
            "[77]\ttest-rmse:4.40226\n",
            "[78]\ttest-rmse:4.38857\n",
            "[79]\ttest-rmse:4.37517\n",
            "[80]\ttest-rmse:4.36302\n",
            "[81]\ttest-rmse:4.35065\n",
            "[82]\ttest-rmse:4.33721\n",
            "[83]\ttest-rmse:4.3268\n",
            "[84]\ttest-rmse:4.31569\n",
            "[85]\ttest-rmse:4.30529\n",
            "[86]\ttest-rmse:4.29625\n",
            "[87]\ttest-rmse:4.28643\n",
            "[88]\ttest-rmse:4.27582\n",
            "[89]\ttest-rmse:4.26687\n",
            "[90]\ttest-rmse:4.25882\n",
            "[91]\ttest-rmse:4.2513\n",
            "[92]\ttest-rmse:4.24465\n",
            "[93]\ttest-rmse:4.23781\n",
            "[94]\ttest-rmse:4.23116\n",
            "[95]\ttest-rmse:4.22396\n",
            "[96]\ttest-rmse:4.21689\n",
            "[97]\ttest-rmse:4.21074\n",
            "[98]\ttest-rmse:4.20505\n",
            "[99]\ttest-rmse:4.19907\n",
            "[100]\ttest-rmse:4.19412\n",
            "[101]\ttest-rmse:4.18933\n",
            "[102]\ttest-rmse:4.18464\n",
            "[103]\ttest-rmse:4.18069\n",
            "[104]\ttest-rmse:4.17516\n",
            "[105]\ttest-rmse:4.17019\n",
            "[106]\ttest-rmse:4.16615\n",
            "[107]\ttest-rmse:4.16172\n",
            "[108]\ttest-rmse:4.15736\n",
            "[109]\ttest-rmse:4.15376\n",
            "[110]\ttest-rmse:4.15025\n",
            "[111]\ttest-rmse:4.14695\n",
            "[112]\ttest-rmse:4.14352\n",
            "[113]\ttest-rmse:4.14089\n",
            "[114]\ttest-rmse:4.13844\n",
            "[115]\ttest-rmse:4.13674\n",
            "[116]\ttest-rmse:4.13394\n",
            "[117]\ttest-rmse:4.13115\n",
            "[118]\ttest-rmse:4.12948\n",
            "[119]\ttest-rmse:4.12683\n",
            "[120]\ttest-rmse:4.12476\n",
            "[121]\ttest-rmse:4.12234\n",
            "[122]\ttest-rmse:4.11969\n",
            "[123]\ttest-rmse:4.11689\n",
            "[124]\ttest-rmse:4.11585\n",
            "[125]\ttest-rmse:4.11389\n",
            "[126]\ttest-rmse:4.11179\n",
            "[127]\ttest-rmse:4.11047\n",
            "[128]\ttest-rmse:4.10817\n",
            "[129]\ttest-rmse:4.10643\n",
            "[130]\ttest-rmse:4.10342\n",
            "[131]\ttest-rmse:4.10213\n",
            "[132]\ttest-rmse:4.09983\n",
            "[133]\ttest-rmse:4.09785\n",
            "[134]\ttest-rmse:4.0973\n",
            "[135]\ttest-rmse:4.09602\n",
            "[136]\ttest-rmse:4.09378\n",
            "[137]\ttest-rmse:4.09193\n",
            "[138]\ttest-rmse:4.09012\n",
            "[139]\ttest-rmse:4.08876\n",
            "[140]\ttest-rmse:4.08629\n",
            "[141]\ttest-rmse:4.08514\n",
            "[142]\ttest-rmse:4.08394\n",
            "[143]\ttest-rmse:4.08344\n",
            "[144]\ttest-rmse:4.08236\n",
            "[145]\ttest-rmse:4.08204\n",
            "[146]\ttest-rmse:4.08023\n",
            "[147]\ttest-rmse:4.08034\n",
            "[148]\ttest-rmse:4.07833\n",
            "[149]\ttest-rmse:4.07731\n",
            "[150]\ttest-rmse:4.07631\n",
            "[151]\ttest-rmse:4.07632\n",
            "[152]\ttest-rmse:4.07523\n",
            "[153]\ttest-rmse:4.07456\n",
            "[154]\ttest-rmse:4.07396\n",
            "[155]\ttest-rmse:4.07252\n",
            "[156]\ttest-rmse:4.07153\n",
            "[157]\ttest-rmse:4.07088\n",
            "[158]\ttest-rmse:4.07038\n",
            "[159]\ttest-rmse:4.0687\n",
            "[160]\ttest-rmse:4.06811\n",
            "[161]\ttest-rmse:4.06814\n",
            "[162]\ttest-rmse:4.06745\n",
            "[163]\ttest-rmse:4.06731\n",
            "[164]\ttest-rmse:4.06654\n",
            "[165]\ttest-rmse:4.0659\n",
            "[166]\ttest-rmse:4.06465\n",
            "[167]\ttest-rmse:4.06388\n",
            "[168]\ttest-rmse:4.06308\n",
            "[169]\ttest-rmse:4.06264\n",
            "[170]\ttest-rmse:4.06213\n",
            "[171]\ttest-rmse:4.06104\n",
            "[172]\ttest-rmse:4.06039\n",
            "[173]\ttest-rmse:4.05976\n",
            "[174]\ttest-rmse:4.05897\n",
            "[175]\ttest-rmse:4.05918\n",
            "[176]\ttest-rmse:4.05814\n",
            "[177]\ttest-rmse:4.05731\n",
            "[178]\ttest-rmse:4.0576\n",
            "[179]\ttest-rmse:4.05688\n",
            "[180]\ttest-rmse:4.05625\n",
            "[181]\ttest-rmse:4.0561\n",
            "[182]\ttest-rmse:4.05548\n",
            "[183]\ttest-rmse:4.05503\n",
            "[184]\ttest-rmse:4.05451\n",
            "[185]\ttest-rmse:4.05403\n",
            "[186]\ttest-rmse:4.0535\n",
            "[187]\ttest-rmse:4.05251\n",
            "[188]\ttest-rmse:4.05156\n",
            "[189]\ttest-rmse:4.0511\n",
            "[190]\ttest-rmse:4.05097\n",
            "[191]\ttest-rmse:4.05015\n",
            "[192]\ttest-rmse:4.04812\n",
            "[193]\ttest-rmse:4.04739\n",
            "[194]\ttest-rmse:4.04678\n",
            "[195]\ttest-rmse:4.04612\n",
            "[196]\ttest-rmse:4.04469\n",
            "[197]\ttest-rmse:4.04496\n",
            "[198]\ttest-rmse:4.04313\n",
            "[199]\ttest-rmse:4.04204\n",
            "[200]\ttest-rmse:4.04046\n",
            "[201]\ttest-rmse:4.03978\n",
            "[202]\ttest-rmse:4.04002\n",
            "[203]\ttest-rmse:4.0395\n",
            "[204]\ttest-rmse:4.03906\n",
            "[205]\ttest-rmse:4.03889\n",
            "[206]\ttest-rmse:4.03682\n",
            "[207]\ttest-rmse:4.03649\n",
            "[208]\ttest-rmse:4.03658\n",
            "[209]\ttest-rmse:4.03729\n",
            "[210]\ttest-rmse:4.03643\n",
            "[211]\ttest-rmse:4.0359\n",
            "[212]\ttest-rmse:4.0353\n",
            "[213]\ttest-rmse:4.0348\n",
            "[214]\ttest-rmse:4.03465\n",
            "[215]\ttest-rmse:4.03456\n",
            "[216]\ttest-rmse:4.03385\n",
            "[217]\ttest-rmse:4.03315\n",
            "[218]\ttest-rmse:4.03329\n",
            "[219]\ttest-rmse:4.03306\n",
            "[220]\ttest-rmse:4.03315\n",
            "[221]\ttest-rmse:4.03225\n",
            "[222]\ttest-rmse:4.03103\n",
            "[223]\ttest-rmse:4.03056\n",
            "[224]\ttest-rmse:4.03034\n",
            "[225]\ttest-rmse:4.0302\n",
            "[226]\ttest-rmse:4.02907\n",
            "[227]\ttest-rmse:4.0288\n",
            "[228]\ttest-rmse:4.02852\n",
            "[229]\ttest-rmse:4.02848\n",
            "[230]\ttest-rmse:4.02718\n",
            "[231]\ttest-rmse:4.02725\n",
            "[232]\ttest-rmse:4.02672\n",
            "[233]\ttest-rmse:4.02505\n",
            "[234]\ttest-rmse:4.02445\n",
            "[235]\ttest-rmse:4.02376\n",
            "[236]\ttest-rmse:4.02328\n",
            "[237]\ttest-rmse:4.02276\n",
            "[238]\ttest-rmse:4.02289\n",
            "[239]\ttest-rmse:4.02257\n",
            "[240]\ttest-rmse:4.02299\n",
            "[241]\ttest-rmse:4.02233\n",
            "[242]\ttest-rmse:4.02213\n",
            "[243]\ttest-rmse:4.02203\n",
            "[244]\ttest-rmse:4.02123\n",
            "[245]\ttest-rmse:4.02048\n",
            "[246]\ttest-rmse:4.01988\n",
            "[247]\ttest-rmse:4.01933\n",
            "[248]\ttest-rmse:4.01913\n",
            "[249]\ttest-rmse:4.01899\n",
            "[250]\ttest-rmse:4.01934\n",
            "[251]\ttest-rmse:4.01839\n",
            "[252]\ttest-rmse:4.01569\n",
            "[253]\ttest-rmse:4.01533\n",
            "[254]\ttest-rmse:4.01511\n",
            "[255]\ttest-rmse:4.01413\n",
            "[256]\ttest-rmse:4.01389\n",
            "[257]\ttest-rmse:4.01385\n",
            "[258]\ttest-rmse:4.01393\n",
            "[259]\ttest-rmse:4.01387\n",
            "[260]\ttest-rmse:4.01346\n",
            "[261]\ttest-rmse:4.01306\n",
            "[262]\ttest-rmse:4.01197\n",
            "[263]\ttest-rmse:4.01107\n",
            "[264]\ttest-rmse:4.01028\n",
            "[265]\ttest-rmse:4.01029\n",
            "[266]\ttest-rmse:4.01022\n",
            "[267]\ttest-rmse:4.00988\n",
            "[268]\ttest-rmse:4.00975\n",
            "[269]\ttest-rmse:4.00928\n",
            "[270]\ttest-rmse:4.00776\n",
            "[271]\ttest-rmse:4.00684\n",
            "[272]\ttest-rmse:4.00671\n",
            "[273]\ttest-rmse:4.00652\n",
            "[274]\ttest-rmse:4.00608\n",
            "[275]\ttest-rmse:4.006\n",
            "[276]\ttest-rmse:4.00578\n",
            "[277]\ttest-rmse:4.00586\n",
            "[278]\ttest-rmse:4.00441\n",
            "[279]\ttest-rmse:4.00396\n",
            "[280]\ttest-rmse:4.00376\n",
            "[281]\ttest-rmse:4.00281\n",
            "[282]\ttest-rmse:4.00225\n",
            "[283]\ttest-rmse:4.00243\n",
            "[284]\ttest-rmse:4.00251\n",
            "[285]\ttest-rmse:4.00256\n",
            "[286]\ttest-rmse:4.00245\n",
            "[287]\ttest-rmse:4.00271\n",
            "[288]\ttest-rmse:4.00252\n",
            "[289]\ttest-rmse:4.00233\n",
            "[290]\ttest-rmse:4.00137\n",
            "[291]\ttest-rmse:4.00024\n",
            "[292]\ttest-rmse:3.99994\n",
            "[293]\ttest-rmse:3.99984\n",
            "[294]\ttest-rmse:3.99999\n",
            "[295]\ttest-rmse:4.00004\n",
            "[296]\ttest-rmse:3.99996\n",
            "[297]\ttest-rmse:4.00014\n",
            "[298]\ttest-rmse:3.99989\n",
            "[299]\ttest-rmse:3.99974\n",
            "[300]\ttest-rmse:3.99976\n",
            "[301]\ttest-rmse:3.99902\n",
            "[302]\ttest-rmse:3.99893\n",
            "[303]\ttest-rmse:3.99869\n",
            "[304]\ttest-rmse:3.99923\n",
            "[305]\ttest-rmse:3.99919\n",
            "[306]\ttest-rmse:3.99922\n",
            "[307]\ttest-rmse:3.99862\n",
            "[308]\ttest-rmse:3.9978\n",
            "[309]\ttest-rmse:3.99768\n",
            "[310]\ttest-rmse:3.99638\n",
            "[311]\ttest-rmse:3.99617\n",
            "[312]\ttest-rmse:3.99622\n",
            "[313]\ttest-rmse:3.99634\n",
            "[314]\ttest-rmse:3.99647\n",
            "[315]\ttest-rmse:3.99621\n",
            "[316]\ttest-rmse:3.996\n",
            "[317]\ttest-rmse:3.99577\n",
            "[318]\ttest-rmse:3.99591\n",
            "[319]\ttest-rmse:3.99562\n",
            "[320]\ttest-rmse:3.99556\n",
            "[321]\ttest-rmse:3.99547\n",
            "[322]\ttest-rmse:3.99503\n",
            "[323]\ttest-rmse:3.99472\n",
            "[324]\ttest-rmse:3.99446\n",
            "[325]\ttest-rmse:3.99451\n",
            "[326]\ttest-rmse:3.99422\n",
            "[327]\ttest-rmse:3.99412\n",
            "[328]\ttest-rmse:3.99359\n",
            "[329]\ttest-rmse:3.99293\n",
            "[330]\ttest-rmse:3.99255\n",
            "[331]\ttest-rmse:3.99241\n",
            "[332]\ttest-rmse:3.99289\n",
            "[333]\ttest-rmse:3.99281\n",
            "[334]\ttest-rmse:3.99221\n",
            "[335]\ttest-rmse:3.99214\n",
            "[336]\ttest-rmse:3.99188\n",
            "[337]\ttest-rmse:3.99179\n",
            "[338]\ttest-rmse:3.99078\n",
            "[339]\ttest-rmse:3.99067\n",
            "[340]\ttest-rmse:3.99061\n",
            "[341]\ttest-rmse:3.99036\n",
            "[342]\ttest-rmse:3.99053\n",
            "[343]\ttest-rmse:3.99017\n",
            "[344]\ttest-rmse:3.98925\n",
            "[345]\ttest-rmse:3.98891\n",
            "[346]\ttest-rmse:3.98885\n",
            "[347]\ttest-rmse:3.98743\n",
            "[348]\ttest-rmse:3.98726\n",
            "[349]\ttest-rmse:3.98659\n",
            "[350]\ttest-rmse:3.98644\n",
            "[351]\ttest-rmse:3.98617\n",
            "[352]\ttest-rmse:3.98581\n",
            "[353]\ttest-rmse:3.98589\n",
            "[354]\ttest-rmse:3.98588\n",
            "[355]\ttest-rmse:3.98569\n",
            "[356]\ttest-rmse:3.98558\n",
            "[357]\ttest-rmse:3.98541\n",
            "[358]\ttest-rmse:3.98541\n",
            "[359]\ttest-rmse:3.98546\n",
            "[360]\ttest-rmse:3.98561\n",
            "[361]\ttest-rmse:3.98514\n",
            "[362]\ttest-rmse:3.98511\n",
            "[363]\ttest-rmse:3.98522\n",
            "[364]\ttest-rmse:3.98526\n",
            "[365]\ttest-rmse:3.98531\n",
            "[366]\ttest-rmse:3.98533\n",
            "[367]\ttest-rmse:3.98444\n",
            "[368]\ttest-rmse:3.98375\n",
            "[369]\ttest-rmse:3.98377\n",
            "[370]\ttest-rmse:3.98359\n",
            "[371]\ttest-rmse:3.98385\n",
            "[372]\ttest-rmse:3.98365\n",
            "[373]\ttest-rmse:3.98354\n",
            "[374]\ttest-rmse:3.98316\n",
            "[375]\ttest-rmse:3.98207\n",
            "[376]\ttest-rmse:3.98225\n",
            "[377]\ttest-rmse:3.98128\n",
            "[378]\ttest-rmse:3.98128\n",
            "[379]\ttest-rmse:3.98111\n",
            "[380]\ttest-rmse:3.98122\n",
            "[381]\ttest-rmse:3.98036\n",
            "[382]\ttest-rmse:3.98013\n",
            "[383]\ttest-rmse:3.98001\n",
            "[384]\ttest-rmse:3.97964\n",
            "[385]\ttest-rmse:3.97933\n",
            "[386]\ttest-rmse:3.9796\n",
            "[387]\ttest-rmse:3.97958\n",
            "[388]\ttest-rmse:3.97941\n",
            "[389]\ttest-rmse:3.97924\n",
            "[390]\ttest-rmse:3.97857\n",
            "[391]\ttest-rmse:3.97864\n",
            "[392]\ttest-rmse:3.97811\n",
            "[393]\ttest-rmse:3.97804\n",
            "[394]\ttest-rmse:3.97794\n",
            "[395]\ttest-rmse:3.97764\n",
            "[396]\ttest-rmse:3.97745\n",
            "[397]\ttest-rmse:3.97713\n",
            "[398]\ttest-rmse:3.97731\n",
            "[399]\ttest-rmse:3.97732\n",
            "[400]\ttest-rmse:3.97755\n",
            "[401]\ttest-rmse:3.9773\n",
            "[402]\ttest-rmse:3.97676\n",
            "[403]\ttest-rmse:3.97665\n",
            "[404]\ttest-rmse:3.97629\n",
            "[405]\ttest-rmse:3.97611\n",
            "[406]\ttest-rmse:3.97586\n",
            "[407]\ttest-rmse:3.97545\n",
            "[408]\ttest-rmse:3.97567\n",
            "[409]\ttest-rmse:3.9752\n",
            "[410]\ttest-rmse:3.97518\n",
            "[411]\ttest-rmse:3.97536\n",
            "[412]\ttest-rmse:3.97525\n",
            "[413]\ttest-rmse:3.97491\n",
            "[414]\ttest-rmse:3.97415\n",
            "[415]\ttest-rmse:3.97402\n",
            "[416]\ttest-rmse:3.97396\n",
            "[417]\ttest-rmse:3.97412\n",
            "[418]\ttest-rmse:3.97455\n",
            "[419]\ttest-rmse:3.97397\n",
            "[420]\ttest-rmse:3.97392\n",
            "[421]\ttest-rmse:3.97358\n",
            "[422]\ttest-rmse:3.97352\n",
            "[423]\ttest-rmse:3.97267\n",
            "[424]\ttest-rmse:3.97258\n",
            "[425]\ttest-rmse:3.97212\n",
            "[426]\ttest-rmse:3.97215\n",
            "[427]\ttest-rmse:3.97219\n",
            "[428]\ttest-rmse:3.972\n",
            "[429]\ttest-rmse:3.97179\n",
            "[430]\ttest-rmse:3.97191\n",
            "[431]\ttest-rmse:3.97185\n",
            "[432]\ttest-rmse:3.97196\n",
            "[433]\ttest-rmse:3.97199\n",
            "[434]\ttest-rmse:3.9722\n",
            "[435]\ttest-rmse:3.9722\n",
            "[436]\ttest-rmse:3.97161\n",
            "[437]\ttest-rmse:3.97174\n",
            "[438]\ttest-rmse:3.97168\n",
            "[439]\ttest-rmse:3.97141\n",
            "[440]\ttest-rmse:3.97097\n",
            "[441]\ttest-rmse:3.97073\n",
            "[442]\ttest-rmse:3.9708\n",
            "[443]\ttest-rmse:3.97022\n",
            "[444]\ttest-rmse:3.97022\n",
            "[445]\ttest-rmse:3.97017\n",
            "[446]\ttest-rmse:3.97019\n",
            "[447]\ttest-rmse:3.97012\n",
            "[448]\ttest-rmse:3.96974\n",
            "[449]\ttest-rmse:3.96902\n",
            "[450]\ttest-rmse:3.96901\n",
            "[451]\ttest-rmse:3.96896\n",
            "[452]\ttest-rmse:3.96898\n",
            "[453]\ttest-rmse:3.96878\n",
            "[454]\ttest-rmse:3.96856\n",
            "[455]\ttest-rmse:3.96814\n",
            "[456]\ttest-rmse:3.96775\n",
            "[457]\ttest-rmse:3.96776\n",
            "[458]\ttest-rmse:3.96782\n",
            "[459]\ttest-rmse:3.96774\n",
            "[460]\ttest-rmse:3.96778\n",
            "[461]\ttest-rmse:3.96732\n",
            "[462]\ttest-rmse:3.96747\n",
            "[463]\ttest-rmse:3.96755\n",
            "[464]\ttest-rmse:3.9675\n",
            "[465]\ttest-rmse:3.96708\n",
            "[466]\ttest-rmse:3.96674\n",
            "[467]\ttest-rmse:3.96652\n",
            "[468]\ttest-rmse:3.96649\n",
            "[469]\ttest-rmse:3.96602\n",
            "[470]\ttest-rmse:3.96566\n",
            "[471]\ttest-rmse:3.96566\n",
            "[472]\ttest-rmse:3.96542\n",
            "[473]\ttest-rmse:3.96516\n",
            "[474]\ttest-rmse:3.96496\n",
            "[475]\ttest-rmse:3.96489\n",
            "[476]\ttest-rmse:3.96506\n",
            "[477]\ttest-rmse:3.96491\n",
            "[478]\ttest-rmse:3.96513\n",
            "[479]\ttest-rmse:3.96501\n",
            "[480]\ttest-rmse:3.96508\n",
            "[481]\ttest-rmse:3.96483\n",
            "[482]\ttest-rmse:3.96448\n",
            "[483]\ttest-rmse:3.96416\n",
            "[484]\ttest-rmse:3.96415\n",
            "[485]\ttest-rmse:3.96398\n",
            "[486]\ttest-rmse:3.96397\n",
            "[487]\ttest-rmse:3.9641\n",
            "[488]\ttest-rmse:3.96397\n",
            "[489]\ttest-rmse:3.9636\n",
            "[490]\ttest-rmse:3.96357\n",
            "[491]\ttest-rmse:3.9636\n",
            "[492]\ttest-rmse:3.96344\n",
            "[493]\ttest-rmse:3.96353\n",
            "[494]\ttest-rmse:3.96346\n",
            "[495]\ttest-rmse:3.96294\n",
            "[496]\ttest-rmse:3.96289\n",
            "[497]\ttest-rmse:3.96281\n",
            "[498]\ttest-rmse:3.96289\n",
            "[499]\ttest-rmse:3.9628\n",
            "[500]\ttest-rmse:3.96275\n",
            "[501]\ttest-rmse:3.96263\n",
            "[502]\ttest-rmse:3.96248\n",
            "[503]\ttest-rmse:3.96252\n",
            "[504]\ttest-rmse:3.96257\n",
            "[505]\ttest-rmse:3.96263\n",
            "[506]\ttest-rmse:3.96273\n",
            "[507]\ttest-rmse:3.96251\n",
            "[508]\ttest-rmse:3.96256\n",
            "[509]\ttest-rmse:3.96253\n",
            "[510]\ttest-rmse:3.96241\n",
            "[511]\ttest-rmse:3.96216\n",
            "[512]\ttest-rmse:3.96218\n",
            "[513]\ttest-rmse:3.96182\n",
            "[514]\ttest-rmse:3.96186\n",
            "[515]\ttest-rmse:3.96151\n",
            "[516]\ttest-rmse:3.96158\n",
            "[517]\ttest-rmse:3.96162\n",
            "[518]\ttest-rmse:3.96167\n",
            "[519]\ttest-rmse:3.96128\n",
            "[520]\ttest-rmse:3.96101\n",
            "[521]\ttest-rmse:3.96102\n",
            "[522]\ttest-rmse:3.96077\n",
            "[523]\ttest-rmse:3.96036\n",
            "[524]\ttest-rmse:3.96014\n",
            "[525]\ttest-rmse:3.96006\n",
            "[526]\ttest-rmse:3.9599\n",
            "[527]\ttest-rmse:3.95953\n",
            "[528]\ttest-rmse:3.95936\n",
            "[529]\ttest-rmse:3.95866\n",
            "[530]\ttest-rmse:3.9585\n",
            "[531]\ttest-rmse:3.95847\n",
            "[532]\ttest-rmse:3.95845\n",
            "[533]\ttest-rmse:3.95831\n",
            "[534]\ttest-rmse:3.95804\n",
            "[535]\ttest-rmse:3.958\n",
            "[536]\ttest-rmse:3.95775\n",
            "[537]\ttest-rmse:3.95797\n",
            "[538]\ttest-rmse:3.95759\n",
            "[539]\ttest-rmse:3.95743\n",
            "[540]\ttest-rmse:3.95748\n",
            "[541]\ttest-rmse:3.95722\n",
            "[542]\ttest-rmse:3.95699\n",
            "[543]\ttest-rmse:3.95689\n",
            "[544]\ttest-rmse:3.95681\n",
            "[545]\ttest-rmse:3.95655\n",
            "[546]\ttest-rmse:3.95643\n",
            "[547]\ttest-rmse:3.95639\n",
            "[548]\ttest-rmse:3.95624\n",
            "[549]\ttest-rmse:3.95618\n",
            "[550]\ttest-rmse:3.95596\n",
            "[551]\ttest-rmse:3.95589\n",
            "[552]\ttest-rmse:3.95552\n",
            "[553]\ttest-rmse:3.95561\n",
            "[554]\ttest-rmse:3.95556\n",
            "[555]\ttest-rmse:3.95562\n",
            "[556]\ttest-rmse:3.95559\n",
            "[557]\ttest-rmse:3.95561\n",
            "[558]\ttest-rmse:3.95563\n",
            "[559]\ttest-rmse:3.95527\n",
            "[560]\ttest-rmse:3.95524\n",
            "[561]\ttest-rmse:3.95521\n",
            "[562]\ttest-rmse:3.95503\n",
            "[563]\ttest-rmse:3.95512\n",
            "[564]\ttest-rmse:3.95477\n",
            "[565]\ttest-rmse:3.95474\n",
            "[566]\ttest-rmse:3.95457\n",
            "[567]\ttest-rmse:3.95444\n",
            "[568]\ttest-rmse:3.95433\n",
            "[569]\ttest-rmse:3.95423\n",
            "[570]\ttest-rmse:3.95427\n",
            "[571]\ttest-rmse:3.95406\n",
            "[572]\ttest-rmse:3.95376\n",
            "[573]\ttest-rmse:3.95373\n",
            "[574]\ttest-rmse:3.95367\n",
            "[575]\ttest-rmse:3.95364\n",
            "[576]\ttest-rmse:3.95364\n",
            "[577]\ttest-rmse:3.95371\n",
            "[578]\ttest-rmse:3.9535\n",
            "[579]\ttest-rmse:3.95302\n",
            "[580]\ttest-rmse:3.95293\n",
            "[581]\ttest-rmse:3.95227\n",
            "[582]\ttest-rmse:3.95239\n",
            "[583]\ttest-rmse:3.95218\n",
            "[584]\ttest-rmse:3.95206\n",
            "[585]\ttest-rmse:3.95199\n",
            "[586]\ttest-rmse:3.95168\n",
            "[587]\ttest-rmse:3.95109\n",
            "[588]\ttest-rmse:3.95103\n",
            "[589]\ttest-rmse:3.9509\n",
            "[590]\ttest-rmse:3.9509\n",
            "[591]\ttest-rmse:3.9506\n",
            "[592]\ttest-rmse:3.95067\n",
            "[593]\ttest-rmse:3.94997\n",
            "[594]\ttest-rmse:3.95002\n",
            "[595]\ttest-rmse:3.95022\n",
            "[596]\ttest-rmse:3.95014\n",
            "[597]\ttest-rmse:3.95\n",
            "[598]\ttest-rmse:3.94993\n",
            "[599]\ttest-rmse:3.95003\n",
            "[600]\ttest-rmse:3.9497\n",
            "[601]\ttest-rmse:3.94962\n",
            "[602]\ttest-rmse:3.94957\n",
            "[603]\ttest-rmse:3.94945\n",
            "[604]\ttest-rmse:3.94925\n",
            "[605]\ttest-rmse:3.9491\n",
            "[606]\ttest-rmse:3.94905\n",
            "[607]\ttest-rmse:3.94874\n",
            "[608]\ttest-rmse:3.94883\n",
            "[609]\ttest-rmse:3.94857\n",
            "[610]\ttest-rmse:3.94857\n",
            "[611]\ttest-rmse:3.94855\n",
            "[612]\ttest-rmse:3.94849\n",
            "[613]\ttest-rmse:3.94832\n",
            "[614]\ttest-rmse:3.94832\n",
            "[615]\ttest-rmse:3.94843\n",
            "[616]\ttest-rmse:3.94847\n",
            "[617]\ttest-rmse:3.94789\n",
            "[618]\ttest-rmse:3.94785\n",
            "[619]\ttest-rmse:3.94775\n",
            "[620]\ttest-rmse:3.94789\n",
            "[621]\ttest-rmse:3.94824\n",
            "[622]\ttest-rmse:3.94838\n",
            "[623]\ttest-rmse:3.94797\n",
            "[624]\ttest-rmse:3.94793\n",
            "[625]\ttest-rmse:3.94786\n",
            "[626]\ttest-rmse:3.9478\n",
            "[627]\ttest-rmse:3.94782\n",
            "[628]\ttest-rmse:3.94738\n",
            "[629]\ttest-rmse:3.94725\n",
            "[630]\ttest-rmse:3.94701\n",
            "[631]\ttest-rmse:3.947\n",
            "[632]\ttest-rmse:3.94682\n",
            "[633]\ttest-rmse:3.94657\n",
            "[634]\ttest-rmse:3.94673\n",
            "[635]\ttest-rmse:3.94659\n",
            "[636]\ttest-rmse:3.94668\n",
            "[637]\ttest-rmse:3.9466\n",
            "[638]\ttest-rmse:3.94674\n",
            "[639]\ttest-rmse:3.94677\n",
            "[640]\ttest-rmse:3.94675\n",
            "[641]\ttest-rmse:3.94673\n",
            "[642]\ttest-rmse:3.94652\n",
            "[643]\ttest-rmse:3.94647\n",
            "[644]\ttest-rmse:3.94632\n",
            "[645]\ttest-rmse:3.94603\n",
            "[646]\ttest-rmse:3.94609\n",
            "[647]\ttest-rmse:3.94619\n",
            "[648]\ttest-rmse:3.94581\n",
            "[649]\ttest-rmse:3.94572\n",
            "[650]\ttest-rmse:3.94548\n",
            "[651]\ttest-rmse:3.94533\n",
            "[652]\ttest-rmse:3.94518\n",
            "[653]\ttest-rmse:3.94483\n",
            "[654]\ttest-rmse:3.94469\n",
            "[655]\ttest-rmse:3.94478\n",
            "[656]\ttest-rmse:3.9447\n",
            "[657]\ttest-rmse:3.94473\n",
            "[658]\ttest-rmse:3.94479\n",
            "[659]\ttest-rmse:3.94423\n",
            "[660]\ttest-rmse:3.94446\n",
            "[661]\ttest-rmse:3.94407\n",
            "[662]\ttest-rmse:3.94392\n",
            "[663]\ttest-rmse:3.9441\n",
            "[664]\ttest-rmse:3.9441\n",
            "[665]\ttest-rmse:3.94422\n",
            "[666]\ttest-rmse:3.94437\n",
            "[667]\ttest-rmse:3.94411\n",
            "[668]\ttest-rmse:3.9441\n",
            "[669]\ttest-rmse:3.94408\n",
            "[670]\ttest-rmse:3.94403\n",
            "[671]\ttest-rmse:3.94415\n",
            "[672]\ttest-rmse:3.94401\n",
            "Stopping. Best iteration:\n",
            "[662]\ttest-rmse:3.94392\n",
            "\n"
          ],
          "name": "stdout"
        }
      ]
    },
    {
      "cell_type": "markdown",
      "metadata": {
        "id": "F13fwVB0Wfny"
      },
      "source": [
        "#Eval/Predictions"
      ]
    },
    {
      "cell_type": "code",
      "metadata": {
        "id": "rhYbDPaEVROk"
      },
      "source": [
        "prediction = model.predict(xgb.DMatrix(df_test), ntree_limit = model.best_ntree_limit).tolist()"
      ],
      "execution_count": 51,
      "outputs": []
    },
    {
      "cell_type": "code",
      "metadata": {
        "id": "yBHLTkTJVT69"
      },
      "source": [
        "test = pd.read_csv(\"/content/drive/My Drive/CMPE 258/Homework/HW5/test.csv\")\n",
        "holdout = pd.DataFrame({'key': test['key'], 'fare_amount': prediction})\n",
        "holdout.to_csv('xgb_4m_utc_with_cleaning.csv', index=False)"
      ],
      "execution_count": 52,
      "outputs": []
    },
    {
      "cell_type": "code",
      "metadata": {
        "colab": {
          "base_uri": "https://localhost:8080/",
          "height": 392
        },
        "id": "YrTxr6HEVWMp",
        "outputId": "7fbd1e16-3e91-4a60-bd93-dc6956d5fa61"
      },
      "source": [
        "import matplotlib.pyplot as plt\n",
        "fscores = pd.DataFrame({'X': list(model.get_fscore().keys()), 'Y': list(model.get_fscore().values())})\n",
        "fscores.sort_values(by='Y').plot.bar(x='X')"
      ],
      "execution_count": 53,
      "outputs": [
        {
          "output_type": "execute_result",
          "data": {
            "text/plain": [
              "<matplotlib.axes._subplots.AxesSubplot at 0x7f1ad5536a50>"
            ]
          },
          "metadata": {
            "tags": []
          },
          "execution_count": 53
        },
        {
          "output_type": "display_data",
          "data": {
            "image/png": "[encoded data removed]",
            "text/plain": [
              "<Figure size 432x288 with 1 Axes>"
            ]
          },
          "metadata": {
            "tags": [],
            "needs_background": "light"
          }
        }
      ]
    }
  ]
}